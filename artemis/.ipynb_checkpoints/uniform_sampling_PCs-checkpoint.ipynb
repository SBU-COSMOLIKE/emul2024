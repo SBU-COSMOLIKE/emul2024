{
 "cells": [
  {
   "cell_type": "code",
   "execution_count": 1,
   "id": "1ed50a3e-ee61-40a1-82ff-85048835289d",
   "metadata": {},
   "outputs": [],
   "source": [
    "import numpy as np \n",
    "import matplotlib.pyplot as pl\n",
    "from joblib import Parallel, delayed\n",
    "import matplotlib.pyplot as plt\n",
    "from scipy.interpolate import interp1d\n",
    "from scipy.stats import multivariate_normal\n",
    "import time \n",
    "#import corner\n",
    "import h5py\n",
    "#import ipdb\n",
    "from scipy import integrate \n",
    "#from tqdm import tqdm"
   ]
  },
  {
   "cell_type": "markdown",
   "id": "9ab1d176-b03a-477f-91e7-25eeff02ca9c",
   "metadata": {
    "tags": []
   },
   "source": [
    "# Basic definitions"
   ]
  },
  {
   "cell_type": "code",
   "execution_count": 2,
   "id": "f3d35d35-d1c7-4737-ad42-027439457a62",
   "metadata": {},
   "outputs": [],
   "source": [
    "# magnitude of speed of light\n",
    "cmag = 149896229 / 500"
   ]
  },
  {
   "cell_type": "code",
   "execution_count": 3,
   "id": "3399e06b-87b4-47ee-832e-55e1e8b41389",
   "metadata": {},
   "outputs": [],
   "source": [
    "# Redshifts for the bins that we chose when we did the eigevector analysis with Fisher.\n",
    "zzmin = 0.03\n",
    "zzmax = 1.7\n",
    "zbins = zzmin + np.linspace(zzmin, zzmax, 500)\n"
   ]
  },
  {
   "cell_type": "markdown",
   "id": "238349d1-c7d7-4ab3-8b8f-3135ce7db168",
   "metadata": {},
   "source": [
    "- Import the eigenfunctions from the mathematica output file."
   ]
  },
  {
   "cell_type": "code",
   "execution_count": 5,
   "id": "146f39c2-1d7e-40e7-982f-9fbc1571153b",
   "metadata": {},
   "outputs": [
    {
     "data": {
      "text/plain": [
       "(500, 500)"
      ]
     },
     "execution_count": 5,
     "metadata": {},
     "output_type": "execute_result"
    }
   ],
   "source": [
    "# ## Add code here to read of the e_i eigenvectors\n",
    "# eigenvectors = [[0] * 850 for _ in range(500)]\n",
    "# eigenvectors = np.array(eigenvectors)\n",
    "\n",
    "# eigenvectors = np.loadtxt(\"/gpfs/home/argiannakopo/cosmo_temp/eigenvectorsFisherTot.dat\")\n",
    "eigenvectors = np.loadtxt(\"/mnt/c/Users/asgia/Desktop/cosmo_stuff/eigenvectorsFisherTot.dat\")\n",
    "eigenvectors.shape"
   ]
  },
  {
   "cell_type": "code",
   "execution_count": 6,
   "id": "f534d9e5-20e1-4309-bf02-8ca4a966a588",
   "metadata": {},
   "outputs": [],
   "source": [
    "## Define DE equation of state as a sum over the eigenvectors times some coefficient alpha\n",
    "\n",
    "# This function returns an array [1, number of z bins] which corresponds DE EoS for each redshift in each bin.\n",
    "def w(alphas,eigenvectors):\n",
    "    \n",
    "    weighted_eigenvectors = alphas[:,np.newaxis] * eigenvectors\n",
    "\n",
    "    summed_vector = -1 + np.sum(weighted_eigenvectors, axis=0)\n",
    "\n",
    "    return -1 + summed_vector\n",
    "    \n",
    "    "
   ]
  },
  {
   "cell_type": "code",
   "execution_count": 7,
   "id": "a02ee10c-0a4c-47ee-b2c9-fde12a4e1357",
   "metadata": {},
   "outputs": [],
   "source": [
    "# # Test variables used to make sure things work. They have no meaning.\n",
    "# testbins = np.linspace(0.01,1,5)\n",
    "# testalp = np.linspace(0.01, 0.1, 5)\n",
    "# testvecs = np.array([[1] * 5 for _ in range(5)])\n",
    "# testsigma2 = np.linspace(0.1,0.2,5)"
   ]
  },
  {
   "cell_type": "code",
   "execution_count": 8,
   "id": "476dd140-641b-4f5c-9f96-2b8549775e73",
   "metadata": {},
   "outputs": [],
   "source": [
    "# def omegade(zbins, alphas, eigenvectors):\n",
    "\n",
    "#     base = (1 + zbins)\n",
    "#     power = 3 * ( 1 + w(alphas,eigenvectors))\n",
    "\n",
    "#     return base ** power\n",
    "\n",
    "## Different definition to avoid overflow errors\n",
    "def omegade(zbins, alphas, eigenvectors):\n",
    "    base = (1 + zbins)\n",
    "    power = 3 * (1 + w(alphas, eigenvectors))\n",
    "    \n",
    "    # Calculate the exponent using logarithm to avoid overflow\n",
    "    log_result = np.log(base) * power\n",
    "\n",
    "    # Take the exponent of the result to get the final value\n",
    "    return np.exp(log_result)\n",
    "    \n",
    "    "
   ]
  },
  {
   "cell_type": "code",
   "execution_count": 9,
   "id": "5593f9db-2dab-4c54-a43e-a1c9b54acfde",
   "metadata": {},
   "outputs": [],
   "source": [
    "# ## Different definition to avoid overflow errors\n",
    "# def omegade(zbins, alphas, eigenvectors):\n",
    "#     base = (1 + zbins)\n",
    "#     power = 3 * (1 + w(alphas, eigenvectors))\n",
    "    \n",
    "#     # Calculate the exponent using logarithm to avoid overflow\n",
    "#     log_result = np.log(base) * power\n",
    "\n",
    "#     # Take the exponent of the result to get the final value\n",
    "#     return np.exp(log_result)"
   ]
  },
  {
   "cell_type": "markdown",
   "id": "54f1f1d3-686d-4ef0-8c18-430fc5a414f0",
   "metadata": {},
   "source": [
    "- The way I defined things, I have an issue with luminosity distance $d_L$ since my bins from summing the eigenvectors go from $z_{min}$ to $z_{max}$ with $z_{min} \\neq 0$. However, in the definition of the luminosity distance I have an integral from 0 to z. To deal with this part of $z < z_{min}$, I will evaluate a constant factor with $w_{DE} = w_{fid} = -1$ and add this to each element of the array within the zbins that I care about.\n"
   ]
  },
  {
   "cell_type": "code",
   "execution_count": 10,
   "id": "8786e04a-157f-4eff-8f72-7d19ff3ed902",
   "metadata": {},
   "outputs": [],
   "source": [
    "## I need to figure out how to define angular distance \n",
    "\n",
    "def hubble(zbins, alphas, eigenvectors, H0, Om, Ok ):\n",
    "\n",
    "    x = 1 - Om - Ok \n",
    "    \n",
    "    if x < 0:\n",
    "        print(\"Error: Bad Input, Om, Ok\")\n",
    "    else:\n",
    "        return np.array( H0 * np.sqrt( Om * ( 1 + zbins) ** 3 + x * omegade(zbins, alphas, eigenvectors) + Ok * (1 + zbins)**2) )\n",
    "\n"
   ]
  },
  {
   "cell_type": "code",
   "execution_count": 11,
   "id": "731a5636-ee30-44ef-a2f0-97f7becb0255",
   "metadata": {},
   "outputs": [],
   "source": [
    "## Define the comoving distance. \n",
    "## Since the zbins start at zmin, I will break the integral in two pieces: [0,zmin) and [zmin,z]\n",
    "\n",
    "# ## This function return a numpy array that gives the comoving distance at each redshift bin. \n",
    "# def comov_dist(zbins, alphas, eigenvectors, H0, Om, Ok):\n",
    "#     x = 1 - Om - Ok\n",
    "#     if x < 0:\n",
    "#         return print('Comoving dist: Bad Input, Om, Ok')\n",
    "#     else:\n",
    "#         # Bin the [0, zmin] interval and do the integration\n",
    "#         x1, x2 = 0, zbins[0]\n",
    "#         Nx = 5 + 5 * int(abs(x2 - x1) * 100)\n",
    "#         dx = (x2 - x1) / Nx\n",
    "#         dz = zbins[1] - zbins[0]\n",
    "#         less_zmin_arr = Parallel(n_jobs=-1)(delayed(lambda i: dx / (H0 * np.sqrt(Om * (1 + x1 + dx * i)**3 + x * (1+ x1 + dx * i) + Ok * (1 + x1 + dx * i)**2)))(i) for i in range(0, Nx))\n",
    "#         less_zmin =  np.sum(less_zmin_arr)\n",
    "        \n",
    "#         return cmag * less_zmin +  cmag * np.cumsum( dz / hubble(zbins, alphas, eigenvectors, H0, Om, Ok))\n",
    "    \n",
    "## Define the comoving distance. \n",
    "## Since the zbins start at zmin, I will break the integral in two pieces: [0,zmin) and [zmin,z]\n",
    "\n",
    "## This function return a numpy array that gives the comoving distance at each redshift bin. \n",
    "def comov_dist(zbins, alphas, eigenvectors, H0, Om, Ok):\n",
    "    x = 1 - Om - Ok\n",
    "    if x < 0:\n",
    "        return print('Comoving dist: Bad Input, Om, Ok')\n",
    "    else:\n",
    "        # Write the comoving distance function for z < zmin where w_de = -1, so that I can use scipy to do the integration for that part\n",
    "        def f(x1,x, H0, Om, Ok):\n",
    "            return 1 / ( H0 * np.sqrt( Om * pow(1+x1 ,3 ) + x * (1 + x1) + Ok * pow(1+x1, 2)))\n",
    "            \n",
    "        less_zmin = integrate.quad(f, 0, zbins[0], args=(x, H0, Om, Ok))\n",
    "        # # Bin the [0, zmin] interval and do the integration\n",
    "        # x1, x2 = 0, zbins[0]\n",
    "        # Nx = 5 + 5 * int(abs(x2 - x1) * 100)\n",
    "        # dx = (x2 - x1) / Nx\n",
    "        dz = zbins[1] - zbins[0]\n",
    "        # less_zmin_arr = Parallel(n_jobs=-1)(delayed(lambda i: dx / (H0 * np.sqrt(Om * (1 + x1 + dx * i)**3 + x * (1+ x1 + dx * i) + Ok * (1 + x1 + dx * i)**2)))(i) for i in range(0, Nx))\n",
    "        # less_zmin =  np.sum(less_zmin_arr)\n",
    "       \n",
    "        return cmag * less_zmin[0] +  cmag * np.cumsum( dz / hubble(zbins, alphas, eigenvectors, H0, Om, Ok))\n",
    "    \n",
    "    "
   ]
  },
  {
   "cell_type": "code",
   "execution_count": 12,
   "id": "80315766-0dc5-4a93-81e9-1b47a0fcdeca",
   "metadata": {},
   "outputs": [],
   "source": [
    "## Returns an array of luminosity distances at each redshift z \n",
    "def lum_distance(zbins, alphas, eigenvectors, H0, Om, Ok):\n",
    "    z_shifted = 1 + zbins\n",
    "\n",
    "    return z_shifted * comov_dist(zbins, alphas, eigenvectors, H0, Om, Ok)\n",
    "    "
   ]
  },
  {
   "cell_type": "code",
   "execution_count": 12,
   "id": "e91a9ad8-8e09-4b7b-9f12-60936ecf8792",
   "metadata": {},
   "outputs": [],
   "source": [
    "# ## Testing\n",
    "# lum_distance(testbins, testalp, testvecs, 73, 0.24, 0.0)"
   ]
  },
  {
   "cell_type": "code",
   "execution_count": 13,
   "id": "015aabe7-6a21-483d-97c8-8b479d23a948",
   "metadata": {},
   "outputs": [],
   "source": [
    "# Define the logarithm of dL\n",
    "# Returns the logarithm of the array of luminosity distance for each redshift bin\n",
    "def log_h0dl(zbins, alphas, eigenvectors, H0, Om, Ok):\n",
    "    return np.log10( (H0 / cmag) * lum_distance(zbins, alphas, eigenvectors, H0, Om, Ok))\n",
    "    \n",
    "\n"
   ]
  },
  {
   "cell_type": "code",
   "execution_count": 47,
   "id": "1fb7599b-8c68-45fe-8ac0-5113a3f3c2b0",
   "metadata": {},
   "outputs": [],
   "source": [
    "# ## Testing\n",
    "# start_time = time.time()\n",
    "# x = log_h0dl(testbins, testalp, testvecs, 74, 0.24, 0.0)\n",
    "# end_time = time.time()\n",
    "# print(\"time it took:\", end_time - start_time)\n",
    "# x\n"
   ]
  },
  {
   "cell_type": "code",
   "execution_count": 52,
   "id": "be2c3e6d-3cbc-4274-9d5f-bf049ed1dd87",
   "metadata": {},
   "outputs": [
    {
     "data": {
      "image/png": "[encoded data removed]",
      "text/plain": [
       "<Figure size 800x600 with 1 Axes>"
      ]
     },
     "metadata": {},
     "output_type": "display_data"
    }
   ],
   "source": [
    "plt.figure(figsize=(8, 6))\n",
    "plt.plot(np.linspace(0.0334, 1.7, 500), eigenvectors[0][:], label='PC 1' )\n",
    "plt.plot(np.linspace(0.0334, 1.7, 500), 0.5 + eigenvectors[1][:], label='PC 2')\n",
    "plt.plot(np.linspace(0.0334, 1.7, 500), 1 + eigenvectors[2][:], label='PC 3')\n",
    "plt.plot(np.linspace(0.0334, 1.7, 500), 1.5 + eigenvectors[14][:], label='PC 15')\n",
    "plt.plot(np.linspace(0.0334, 1.7, 500), 2 + eigenvectors[15][:], label='PC 16')\n",
    "plt.plot(np.linspace(0.0334, 1.7, 500), 2.5 + eigenvectors[40][:], label='PC 41')\n",
    "plt.grid()\n",
    "plt.xlabel('z')\n",
    "plt.ylabel('PC amplidutdes')\n",
    "#plt.yscale('log')\n",
    "plt.title('PCs')\n",
    "plt.legend(loc='lower right',framealpha=1)\n",
    "plt.show()"
   ]
  },
  {
   "cell_type": "markdown",
   "id": "260c60df-7305-4caa-96bb-8a4d43fa19cc",
   "metadata": {
    "jp-MarkdownHeadingCollapsed": true,
    "tags": []
   },
   "source": [
    "# SN $\\sigma^2$ definition"
   ]
  },
  {
   "cell_type": "code",
   "execution_count": 48,
   "id": "f7386f49-3e58-464b-9482-ac4cf248ff21",
   "metadata": {},
   "outputs": [],
   "source": [
    "NSN = [0, 300, 35, 64, 95, 124, 150, 171, 183, 179, 170, 155, 142, 130, 119, 107, 94, 80, 0]\n",
    "zSN = [0.03, 0.05, 0.1, 0.2, 0.3, 0.4, 0.5, 0.6, 0.7, 0.8, 0.9, 1.0, 1.1, 1.2, 1.3, 1.4, 1.5, 1.6, 1.75]\n",
    "SNpoints = list(zip(zSN, NSN))\n"
   ]
  },
  {
   "cell_type": "code",
   "execution_count": 49,
   "id": "98301b7c-eddf-46f5-b81d-0550e8ebc9d2",
   "metadata": {},
   "outputs": [],
   "source": [
    "# Create an interpolation function for the number of SN \n",
    "\n",
    "fNSN = interp1d(zSN, NSN, kind='linear', fill_value='extrapolate')\n",
    "\n",
    "\n",
    "# # Generate new z values for interpolation\n",
    "# z_values_interpolated = np.linspace(min(zSN), max(zSN), 1000)\n",
    "\n",
    "# # Interpolate NSN values for the new z values\n",
    "# NSN_interpolated = fNSN(z_values_interpolated)\n"
   ]
  },
  {
   "cell_type": "code",
   "execution_count": 50,
   "id": "09e6d7b8-5ed9-4927-baa9-6916c402b862",
   "metadata": {},
   "outputs": [],
   "source": [
    "zBinsFisher = np.linspace(0.0334, 1.7, 500)\n",
    "\n",
    "# This function returns the sigma^2 error defined in equation (A2)\n",
    "\n",
    "def Sigma2SNFisher(i, Nz):        \n",
    "    zzmin = 0.0334\n",
    "    zzmax = 1.7\n",
    "    zBinsFisher = np.linspace(zzmin, zzmax, Nz + 1)\n",
    "\n",
    "    if i > len(zBinsFisher):\n",
    "        raise ValueError(\"Index 'i' is out of range.\")\n",
    "\n",
    "    dz1 = 0.1\n",
    "    dz2 = 0.07\n",
    "    tmp = zBinsFisher[1] - zBinsFisher[0]\n",
    "\n",
    "    z_i = zBinsFisher[i]  \n",
    "\n",
    "    if z_i < 0.1:\n",
    "        return dz2 / tmp * (0.15**2 / fNSN(z_i) + 0.02**2 * ((1 + z_i) / 2.7)**2)\n",
    "    else:\n",
    "        return dz1 / tmp * (0.15**2 / fNSN(z_i) + 0.02**2 * ((1 + z_i) / 2.7)**2)"
   ]
  },
  {
   "cell_type": "code",
   "execution_count": 51,
   "id": "49701e12-c2c2-4d8a-a206-972fd9005b2c",
   "metadata": {},
   "outputs": [
    {
     "data": {
      "image/png": "[encoded data removed]",
      "text/plain": [
       "<Figure size 400x300 with 1 Axes>"
      ]
     },
     "metadata": {},
     "output_type": "display_data"
    }
   ],
   "source": [
    "# Test plot to make sure everything works so far\n",
    "\n",
    "i_values = range(0, len(zBinsFisher))\n",
    "\n",
    "# Compute Sigma2SNFisher for each i value (each redshift bin of interest)\n",
    "sigma2_values = [Sigma2SNFisher(i,500) for i in i_values]\n",
    "sigma2_values = np.array(sigma2_values)\n",
    "\n",
    "# Plot\n",
    "plt.figure(figsize=(4, 3))\n",
    "plt.plot(i_values, sigma2_values, linestyle='-', color='b')\n",
    "plt.xlabel('i')\n",
    "plt.ylabel('Sigma2SNFisher')\n",
    "plt.grid(True)\n",
    "plt.show()"
   ]
  },
  {
   "cell_type": "markdown",
   "id": "64c0db3d-37ea-42ae-b360-4fea2679f7b7",
   "metadata": {
    "jp-MarkdownHeadingCollapsed": true,
    "tags": []
   },
   "source": [
    "# SN $\\chi^2$ definition"
   ]
  },
  {
   "cell_type": "code",
   "execution_count": 52,
   "id": "c1de2e42-f816-49ea-a21b-71bb2ea1dc3e",
   "metadata": {},
   "outputs": [],
   "source": [
    "#############################################\n",
    "### NOT SURE THIS IS NEEDED -- CHECK IT ####\n",
    "###########################################\n",
    "\n",
    "# # Interpolate the expressions of the eigenfunctions for the z range that I care about [0.03,1.7]\n",
    "# eigenvec_interp = [[0] * len(eigenvectors[0]) for _ in range(len(eigenvectors))]\n",
    "\n",
    "# for i in range(len(eigenvectors)):\n",
    "#     interp_fun = interp1d(zbins, eigenvectors[i], kind='linear')\n",
    "#     eigenvec_interp[i] = interp_fun(zBinsFisher)\n",
    "\n",
    "# eigenvec_interp = np.array(eigenvec_interp)\n",
    "# eigenvec_interp.shape"
   ]
  },
  {
   "cell_type": "markdown",
   "id": "1b43a70a-c192-473d-8c51-dedca64dfa1a",
   "metadata": {},
   "source": [
    "Now I have a table 500x500 that only includes the eigenvectors in the redshift range that I am interested in. For the rest I need to use zBinsFisher instead of zbins."
   ]
  },
  {
   "cell_type": "code",
   "execution_count": 53,
   "id": "8cdd2bc2-e4d6-4ed0-8864-785220c94b45",
   "metadata": {},
   "outputs": [],
   "source": [
    "# This function takes as input the zbins, amplitudes alpha, eigenvectors,  error values and cosmo parameters\n",
    "# and returns the chi^2 based on SN (equation A6 from ref)\n",
    "\n",
    "def chi_squared_sn(alphas, Om, Omh2, Ok, zBinsFisher, eigenvectors, sigma2_values):\n",
    "    \n",
    "    H0 = np.sqrt(Omh2/Om) * 100\n",
    "    # Difference between MCMC model and fiducial model\n",
    "    alphas_fid = np.array([0] * len(eigenvectors))\n",
    "    diff = log_h0dl(zBinsFisher, alphas, eigenvectors, H0, Om, Ok) - log_h0dl(zBinsFisher, alphas_fid, eigenvectors, 73, 0.24, 0.0)\n",
    "\n",
    "    return 5 * np.sum( diff**2 / sigma2_values) - 25 * np.sum(diff / sigma2_values) / np.sum(1 / sigma2_values)  \n",
    "    \n"
   ]
  },
  {
   "cell_type": "code",
   "execution_count": 54,
   "id": "325e300c-b57b-4f79-b5e1-3d55341a1cf2",
   "metadata": {},
   "outputs": [],
   "source": [
    "# ## Testing\n",
    "# chi_squared_sn(testbins, testalp, testvecs, testsigma2, 73, 0.24, 0.0 )"
   ]
  },
  {
   "cell_type": "markdown",
   "id": "ef2f9501-420c-4841-842f-e20eac55618a",
   "metadata": {
    "jp-MarkdownHeadingCollapsed": true,
    "tags": []
   },
   "source": [
    "# Definition of CMB part including radiation"
   ]
  },
  {
   "cell_type": "code",
   "execution_count": 55,
   "id": "8b91fa17-cf91-435b-823b-da06bdbad39f",
   "metadata": {},
   "outputs": [],
   "source": [
    "# Define some basic parameters following the PCA construnction\n",
    "\n",
    "NNU = 3.04\n",
    "TCMB = 2.725\n",
    "OGhh = 4.4856e-7 * TCMB ** 4\n",
    "ONhh = 1.0187e-7 * NNU * TCMB ** 4\n",
    "ORhh = ONhh + OGhh\n",
    "zrec = 1090"
   ]
  },
  {
   "cell_type": "code",
   "execution_count": 56,
   "id": "fadf66d8-b684-4f59-9c5f-458accb6eac4",
   "metadata": {},
   "outputs": [],
   "source": [
    "# covariance matrix\n",
    "CMBCov = np.array([[0.0018**2, -(0.0014)**2],[-(0.0014)**2, 0.0011**2]])\n",
    "invCMBCov = np.linalg.inv(CMBCov)"
   ]
  },
  {
   "cell_type": "markdown",
   "id": "9c544056-34bd-48b4-a428-94df403c7058",
   "metadata": {},
   "source": [
    "- In this case again I need to be careful how I define the distances because I care about $z_{rec}=1090$."
   ]
  },
  {
   "cell_type": "code",
   "execution_count": 57,
   "id": "5354c5ba-7d48-4cd3-9e90-2e51feadb000",
   "metadata": {},
   "outputs": [],
   "source": [
    "## I need to figure out how to define angular distance \n",
    "\n",
    "def hubble_rad(zbins, alphas, eigenvectors, Omh2, Om, Ok, ORhh):\n",
    "\n",
    "    h2 = Omh2 / Om\n",
    "    x = h2 - Omh2 - Ok * h2 - ORhh\n",
    "\n",
    "    if x < 0:\n",
    "        print(\"Error: Bad Input, x\")\n",
    "    else:\n",
    "        return np.array( 100 * np.sqrt( Omh2 * (1 + zbins) ** 3 + x * omegade(zbins, alphas, eigenvectors) + Ok * h2 * (1 + zbins)**3 + ORhh * (1+zbins)**4 ) )\n",
    "\n"
   ]
  },
  {
   "cell_type": "code",
   "execution_count": 58,
   "id": "4ccea149-b9ac-4b2c-8c33-86600c5b019e",
   "metadata": {},
   "outputs": [],
   "source": [
    "# ## Testing\n",
    "# hubble_rad(testbins, testalp, testvecs, 0.24*0.73**2, 0.24, 0.0, ORhh)"
   ]
  },
  {
   "cell_type": "markdown",
   "id": "0fbdd3f9-1f74-416e-8d94-6abae134f32f",
   "metadata": {},
   "source": [
    "- I need to redefine the comoving distance using the new Hubble function"
   ]
  },
  {
   "cell_type": "code",
   "execution_count": 59,
   "id": "680da832-e1f0-4993-a7e9-bc2d3b3fb828",
   "metadata": {},
   "outputs": [],
   "source": [
    "# ## This function return the comoving distance to redshift z. \n",
    "# ## Here I want to extend to redshifts that are zmax of the zbins. \n",
    "\n",
    "# def comov_dist_rad(z, zbins, alphas, eigenvectors, Omh2, Om, Ok, ORhh):\n",
    "    \n",
    "#     h2 = Omh2 / Om\n",
    "#     x = h2 - Omh2 - Ok * h2 - ORhh\n",
    "    \n",
    "#     if x < 0:\n",
    "#         return print('Comoving dist rad: Bad Input, Om, Ok')\n",
    "#     else:\n",
    "#         if z < zbins[0]:\n",
    "#             # Bin the [0, zmin] interval and do the integration\n",
    "#             x1, x2 = 0, z\n",
    "#             Nx = 5 + 5 * int(abs(x2 - x1) * 100)\n",
    "#             dx = (x2 - x1) / Nx\n",
    "#             less_zmin_arr = Parallel(n_jobs=-1)(delayed(lambda i: dx / (100 * np.sqrt(Omh2 * (1 + x1 + dx * i)**3 \n",
    "#                                                                                       + x * (1+ x1 + dx * i) + Ok * h2 * (1 + x1 + dx * i)**3 + ORhh * (1+ x1 + dx * i) ** 4)))(i) for i in range(0, Nx))\n",
    "#             less_zmin =  np.sum(less_zmin_arr)\n",
    "            \n",
    "#             return cmag * less_zmin \n",
    "            \n",
    "#         if z <= zbins[-1] and z >= zbins[0]:\n",
    "#             # Bin the [0, zmin] interval and do the integration\n",
    "#             x1, x2 = 0, zbins[0]\n",
    "#             Nx = 5 + 5 * int(abs(x2 - x1) * 100)\n",
    "#             dx = (x2 - x1) / Nx\n",
    "#             dz = zbins[1] - zbins[0]\n",
    "#             less_zmin_arr = Parallel(n_jobs=-1)(delayed(lambda i: dx / (100 * np.sqrt(Omh2 * (1 + x1 + dx * i)**3 \n",
    "#                                                                                       + x * (1+ x1 + dx * i) + Ok * h2 * (1 + x1 + dx * i)**3 + ORhh * (1+ x1 + dx * i) ** 4)))(i) for i in range(0, Nx))\n",
    "#             less_zmin =  np.sum(less_zmin_arr)\n",
    "#             # Use boolean mask to only sum up to z and not the rest of the bins. \n",
    "#             z_mask = zbins <= z \n",
    "            \n",
    "#             # Discard the z bins that exceed z\n",
    "#             zbins = zbins[z_mask]\n",
    "            \n",
    "#             # Discard the eigenvector bins that exceed z.\n",
    "#             eigenvectors = eigenvectors[:,:len(zbins)]\n",
    "            \n",
    "#             return cmag * less_zmin +  cmag * np.sum( dz / hubble_rad(zbins, alphas, eigenvectors, Omh2, Om, Ok, ORhh))\n",
    "    \n",
    "            \n",
    "#         else:\n",
    "#             # Bin the [0, zmin] interval and do the integration\n",
    "#             x1, x2 = 0, zbins[0]\n",
    "#             Nx = 5 + 5 * int(abs(x2 - x1) * 100)\n",
    "#             dx = (x2 - x1) / Nx\n",
    "#             dz = zbins[1] - zbins[0]\n",
    "#             less_zmin_arr = Parallel(n_jobs=-1)(delayed(lambda i: dx / (100 * np.sqrt(Omh2 * (1 + x1 + dx * i)**3 \n",
    "#                                                                                       + x * (1+ x1 + dx * i) + Ok * h2 * (1 + x1 + dx * i)**3 + ORhh * (1+ x1 + dx *i) ** 4)))(i) for i in range(0, Nx))\n",
    "#             less_zmin =  np.sum(less_zmin_arr)\n",
    "\n",
    "#             x3, x4 = zbins[-1], z\n",
    "#             Nx2 = 5 + 5 * int(abs(x4 - x3) * 100)\n",
    "#             dx2 =(x4 - x3 ) / Nx2\n",
    "#             larger_zmax_arr = Parallel(n_jobs=-1)(delayed(lambda i: dx2 / (100 * np.sqrt(Omh2 * (1 + x1 + dx * i)**3 \n",
    "#                                                                                       + x * (1+ x1 + dx * i) + Ok * h2 * (1 + x1 + dx * i)**3 + ORhh * (1+ x1 + dx * i) ** 4)))(i) for i in range(0, Nx2))\n",
    "#             larger_zmax = np.sum(larger_zmax_arr)\n",
    "            \n",
    "#             return cmag * less_zmin +  cmag * np.sum( dz / hubble_rad(zbins, alphas, eigenvectors, Omh2, Om, Ok, ORhh)) + cmag * larger_zmax\n",
    "            \n",
    "        "
   ]
  },
  {
   "cell_type": "code",
   "execution_count": 60,
   "id": "fe1e96a0-6a1b-4d35-930e-0d6f5a710c61",
   "metadata": {},
   "outputs": [],
   "source": [
    "# ## Test\n",
    "# start_time = time.time()\n",
    "# x = comov_dist_rad(0.5, testbins, testalp, testvecs, 0.24*0.73**2, 0.24, 0, ORhh)\n",
    "# end_time = time.time()\n",
    "# print(\"comp time:\", end_time - start_time)\n",
    "# x\n"
   ]
  },
  {
   "cell_type": "markdown",
   "id": "a7c54e37-17d6-4817-95ee-4388b958b795",
   "metadata": {},
   "source": [
    "- Faster version to compute comoving distance taking into account radiation. "
   ]
  },
  {
   "cell_type": "code",
   "execution_count": 61,
   "id": "15f861ab-a2e6-4da7-9973-26669e4e0eaf",
   "metadata": {},
   "outputs": [],
   "source": [
    "## This function return the comoving distance to redshift z. \n",
    "## I will try different integration methods to speed things up \n",
    "\n",
    "#################################################################\n",
    "##### Comoving distance using the scipy integrate function #####\n",
    "###############################################################\n",
    "\n",
    "def comov_dist_rad_fast(z, zbins, alphas, eigenvectors, Omh2, Om, Ok, ORhh):\n",
    "    \n",
    "    h2 = Omh2 / Om\n",
    "    x = h2 - Omh2 - Ok * h2 - ORhh\n",
    "    dz = zbins[1] - zbins[0]\n",
    "    \n",
    "    if x < 0:\n",
    "        return print('Comoving dist rad: Bad Input, Om, Ok')\n",
    "    else:\n",
    "        def f(x1,x, Ok, h2, ORhh):\n",
    "            return 1 / (100 * np.sqrt(Omh2 * (1 + x1)**3 + x * (1+ x1) + Ok * h2 * (1 + x1 )**3 + ORhh * (1+ x1 ) ** 4))\n",
    "    \n",
    "        if z < zbins[0]:\n",
    "            return cmag * integrate.quad(f,0, z, args=(x, Ok, h2, ORhh))[0]\n",
    "                \n",
    "        if z <= zbins[-1] and z >= zbins[0]:\n",
    "            z_less = integrate.quad(f,0,zbins[0], args=(x, Ok, h2, ORhh))\n",
    "            # Use boolean mask to only sum up to z and not the rest of the bins. \n",
    "            z_mask = zbins <= z \n",
    "            \n",
    "            # Discard the z bins that exceed z\n",
    "            zbins = zbins[z_mask]\n",
    "            \n",
    "            # Discard the eigenvector bins that exceed z.\n",
    "            eigenvectors = eigenvectors[:,:len(zbins)]\n",
    "            \n",
    "            return cmag * z_less[0] +  cmag * np.sum( dz / hubble_rad(zbins, alphas, eigenvectors, Omh2, Om, Ok, ORhh))\n",
    "        if z > zbins[-1]:\n",
    "            z_less = integrate.quad(f,0,zbins[0],args=(x, Ok, h2, ORhh))\n",
    "            z_more = integrate.quad(f, zbins[-1], z, args=(x, Ok, h2, ORhh))\n",
    "            \n",
    "            return cmag * z_less[0] +  cmag * np.sum( dz / hubble_rad(zbins, alphas, eigenvectors, Omh2, Om, Ok, ORhh)) + cmag * z_more[0]\n",
    "            \n",
    "        "
   ]
  },
  {
   "cell_type": "code",
   "execution_count": 62,
   "id": "436bd35d-dfc2-4619-af01-997a3737c3e4",
   "metadata": {},
   "outputs": [],
   "source": [
    "# ## Testing\n",
    "# start_time = time.time()\n",
    "# x = comov_dist_rad_fast(0.5, testbins, testalp, testvecs, 0.24*0.73**2, 0.24, 0, ORhh)\n",
    "# end_time = time.time()\n",
    "# print(\"compt time:\", end_time - start_time)\n",
    "# x"
   ]
  },
  {
   "cell_type": "markdown",
   "id": "1a4d2011-5204-45b4-89f3-8cb37e4e9898",
   "metadata": {},
   "source": [
    "- The $D_a$ function below works correctly only for redshift values z that are larger than the range covered by the SN measurements i.e. larger than $z_{max}$ in $z_{bins}$. However, since I only care about the $z_{rec}$ distance, this is not a problem."
   ]
  },
  {
   "cell_type": "code",
   "execution_count": 63,
   "id": "6ffbac25-c7b6-4cb5-8c47-751a7dc6ab5d",
   "metadata": {},
   "outputs": [],
   "source": [
    "## This function returns the angular distance for redshift z. \n",
    "## NOTE: This works for z > zbins interval, but since I am interested in zrec that is okay.\n",
    "def angular_dist(z, zbins, alphas, eigenvectors, Omh2, Om, Ok, ORhh):\n",
    "\n",
    "    h2 = Omh2 / Om\n",
    "    comov_dist = comov_dist_rad_fast(z,zbins, alphas, eigenvectors, Omh2, Om, Ok, ORhh)\n",
    "    \n",
    "    if Ok > 0 :\n",
    "        return  cmag / ((1 + z ) * 100 * h2 * np.sqrt(np.abs(Ok))) * np.sinh( (1/cmag) * np.sqrt(Ok) * 100 * h2 * comov_dist )   \n",
    "    \n",
    "    elif Ok < 0 :\n",
    "        return cmag / ((1 + z ) * 100 * h2 * np.sqrt(np.abs(Ok))) * np.sin((1/cmag) * np.sqrt(-Ok) * 100 * h2 * comov_dist )\n",
    "        \n",
    "    elif Ok == 0:\n",
    "        return comov_dist / ( 1 + z)\n",
    "        "
   ]
  },
  {
   "cell_type": "code",
   "execution_count": 64,
   "id": "385a157f-40ab-49f4-b4f7-3a12371fc1e9",
   "metadata": {},
   "outputs": [],
   "source": [
    "# ## Testing\n",
    "# start_time = time.time()\n",
    "# x = angular_dist(1090, testbins, testalp, testvecs, 0.24 * 0.73 **2, 0.24, 0, ORhh)\n",
    "# end_time = time.time()\n",
    "# print(\"compt time:\", end_time - start_time)\n",
    "# x"
   ]
  },
  {
   "cell_type": "code",
   "execution_count": 65,
   "id": "e8a3cb3b-e8ae-4278-91f6-0b835d9d4ee1",
   "metadata": {},
   "outputs": [],
   "source": [
    "def ln_angular_dist(z,zbins, alphas, eigenvectors, Omh2, Om, Ok, ORhh):\n",
    "    return np.log( angular_dist(z,zbins, alphas, eigenvectors, Omh2, Om, Ok, ORhh) )"
   ]
  },
  {
   "cell_type": "code",
   "execution_count": 66,
   "id": "acfaa2d1-5a5d-42ae-8f5d-037f23675b11",
   "metadata": {},
   "outputs": [],
   "source": [
    "# ## Testing\n",
    "# start_time = time.time()\n",
    "# x = ln_angular_dist(1090, testbins, testalp, testvecs, 0.24 * 0.73 **2, 0.24, 0, ORhh)\n",
    "# end_time = time.time()\n",
    "# print(\"compt time:\", end_time - start_time)\n",
    "# x"
   ]
  },
  {
   "cell_type": "markdown",
   "id": "ce9f0971-4cfa-4607-ad35-a5e9fdb15c99",
   "metadata": {
    "jp-MarkdownHeadingCollapsed": true,
    "tags": []
   },
   "source": [
    "# CMB $\\chi^2$ definition"
   ]
  },
  {
   "cell_type": "code",
   "execution_count": 67,
   "id": "5fa64f20-7eab-4b1e-b888-71935804ceca",
   "metadata": {
    "scrolled": true
   },
   "outputs": [],
   "source": [
    "## Fiducial model angluar distance to z_rec\n",
    "alphas_fid = np.array([0] * len(eigenvectors))\n",
    "lnd_angular_rec_fid = ln_angular_dist(zrec, zbins, alphas_fid, eigenvectors, 0.24 * 0.73**2, 0.24, 0.0, ORhh)"
   ]
  },
  {
   "cell_type": "code",
   "execution_count": 68,
   "id": "8a3ded34-25a1-4758-8521-057d320bb035",
   "metadata": {},
   "outputs": [],
   "source": [
    "# CMB contribution to χ^2\n",
    "\n",
    "def chi_squared_cmb(alphas, eigenvectors, invCMBCov, lnd_ang_rec_fid, Omh2, Om, Ok, ORhh):\n",
    "    zrec = 1090\n",
    "    Omh2_fid = 0.24 * 0.73 ** 2\n",
    "    diff1 = ln_angular_dist(zrec, zbins, alphas, eigenvectors, Omh2, Om, Ok, ORhh) - lnd_ang_rec_fid \n",
    "    diff2 = Omh2 - Omh2_fid\n",
    "    \n",
    "\n",
    "    vec = np.array([diff1, diff2])\n",
    "    return np.matmul( np.matmul(vec,invCMBCov), vec)   \n"
   ]
  },
  {
   "cell_type": "markdown",
   "id": "cd4a0352-7681-4faf-9e36-f934919762a3",
   "metadata": {
    "jp-MarkdownHeadingCollapsed": true,
    "tags": []
   },
   "source": [
    "# Priors"
   ]
  },
  {
   "cell_type": "markdown",
   "id": "3f110fa6-190d-4b7c-9654-d427c722325a",
   "metadata": {},
   "source": [
    "- Refer to equation (A8) from Mortonson et al 0810.1744\n",
    "- Each one of the priors is written as the logarithm of a Gaussian pdf with variance sigma and mean being the fiducial model. Note that in the definition of the following function I have used the fiducial model values directly, so if I need to redefine which is my fiducial model then I need to revise the definition in this function."
   ]
  },
  {
   "cell_type": "markdown",
   "id": "8c6c2335-0401-4d9e-a344-b5be1e172166",
   "metadata": {},
   "source": [
    "- **For the theoretical prior on the DE equation of state w(z)**\n",
    "  \n",
    "We first choose the class of models that we are interested in, i.e. $w_{min} \\leq w \\leq w_{max}$. Then we need to go through the projection stuff that they describe in the paper such that we extract the resulting constraints on the amplitudes $\\alpha_i$. If I want to use the result from the first method that they describe (eq. A(10) in 0810.1744) then I need to know the eigenvectors and I need to sum over all of them. On the other hand, I can be sneaky and use equation (A13) which combines the two methods that they quote. This way I completely avoid dealing with the eigenvectors.\n",
    "\n",
    "*Is it the case that I don't need to worry about which exactly $\\alpha_i$ I am technically sampling from since I can assume that their distributions will be the same? This would also come from the fact that there is a $\\mathcal{O}(N_{z,PC})$ symmetry in equation (A13)*"
   ]
  },
  {
   "cell_type": "code",
   "execution_count": 36,
   "id": "73683105-ea00-4f62-ad24-415f22fd47ea",
   "metadata": {},
   "outputs": [],
   "source": [
    "# Angular distance to z=0.35 in the fiducial model\n",
    "ln_angular_0p35_fid = ln_angular_dist(0.35, zbins, alphas_fid, eigenvectors, 0.24 * 0.73 ** 2, 0.24, 0.0, ORhh)\n"
   ]
  },
  {
   "cell_type": "markdown",
   "id": "7adf6dfe-c363-4bf2-81ff-fbcfbce7764e",
   "metadata": {},
   "source": [
    "For the theory prior below, I can rewrite equation (A10) as:\n",
    "\n",
    "$ \\alpha_i^{\\pm} = \\frac{1}{2N_{z,PC}} \\left[ \\left( w_{min} + w_{max} - 2 w_{fid} \\right) \\sum_{j=1}^{N_{z,PC}} e_i (z_j) \\pm \\left( w_{max} - w_{min} \\right) \\sum_{j=1}^{N_{z,PC}} \\lvert e_i (z_j) \\rvert \\right]$.\n",
    "\n",
    "Taking advangate of that, I first calculate the two sums, then weigh the arrays appropriately and sum/take the difference."
   ]
  },
  {
   "cell_type": "code",
   "execution_count": 37,
   "id": "818f5e45-1a01-46d7-9a46-17c4f8599edf",
   "metadata": {},
   "outputs": [],
   "source": [
    "## In order to define the correct prior for the PC amplitudes, I need to define the allowed min and max values for each alpha_i.\n",
    "## I can do that outside of the function that I will write below since these things do not change with each random step that the MCMC makes\n",
    "\n",
    "# Theoretical limits on DE\n",
    "wfid = -1\n",
    "# Quintessence\n",
    "wmin, wmax = -1, 1\n",
    "# Smooth DE\n",
    "# wmin, wmax = -5, 3\n",
    "weight1 = wmin + wmax - 2 * wfid\n",
    "weight2 = wmax - wmin \n",
    "\n",
    "# First I need to calculate each of the two relevant sums in the eq (A10)\n",
    "first_sum = np.sum(eigenvectors, axis=1)\n",
    "second_sum = np.sum(np.abs(eigenvectors), axis=1)\n",
    "\n",
    "## Nz is the number of z bins I used \n",
    "Nz = 500\n",
    "\n",
    "# alpha_max and alpha_min are two arrays that are storing the max and min value of the amplitudes alpha_i \n",
    "alpha_max = ( 1 / (2*Nz)) * ( weight1 * first_sum + weight2 * second_sum)\n",
    "alpha_min = ( 1 / (2*Nz)) * ( weight1 * first_sum - weight2 * second_sum)"
   ]
  },
  {
   "cell_type": "markdown",
   "id": "776f621c-2454-429c-9b56-eae1665e51df",
   "metadata": {},
   "source": [
    "- **I will first start by only using the prior on the PCs, not the other ones included in eq. A5 of 0810.1744.**"
   ]
  },
  {
   "cell_type": "code",
   "execution_count": 38,
   "id": "f92b4e5e-8432-4e6c-ac68-990142c9a85f",
   "metadata": {},
   "outputs": [],
   "source": [
    "def chi_squared_prior(alphas, alpha_max, alpha_min):\n",
    "    if np.any(alphas < alpha_min[:15]) or np.any(alphas > alpha_max[:15]):\n",
    "        return -np.inf\n",
    "    return 0 "
   ]
  },
  {
   "cell_type": "code",
   "execution_count": 39,
   "id": "8b3f2e45-5349-4a65-9a26-d3cf59d466d5",
   "metadata": {},
   "outputs": [],
   "source": [
    "# # prior \n",
    "\n",
    "# def chi_squared_prior(eigenvectors, eigenvectorsNc, alphas, alpha_max, alpha_min, zbins, Omh2, Om, Ok, ORhh, ln_angular_0p35_fid):\n",
    "\n",
    "# #     # Amplitudes prior \n",
    "# #     # Theoretical limits on DE\n",
    "# #     wfid = -1\n",
    "# #     # Quintessense \n",
    "# #     wmin, wmax = -1, 1\n",
    "# #     # Smooth DE\n",
    "# #     # wmin, wmax = -5, 3\n",
    "\n",
    "# #     weight1 = wmin + wmax - 2 * wfid\n",
    "# #     weight2 = wmax - wmin \n",
    "\n",
    "# #     # First I need to calculate each of the two relevant sums in the eq (A10)\n",
    "# #     first_sum = np.sum(eigenvectors, axis=1)\n",
    "# #     second_sum = np.sum(np.abs(eigenvectors), axis=1)\n",
    "    \n",
    "# #     # alpha_max and alpha_min are two arrays that are storing the max and min value of the amplitudes alpha_i \n",
    "# #     alpha_max = ( 1 / (2*Nz)) * ( weight1 * first_sum + weight2 * second_sum)\n",
    "# #     alpha_min = ( 1 / (2*Nz)) * ( weight1 * first_sum - weight2 * second_sum)\n",
    "\n",
    "#     # Top hat prior on the amplitudes.\n",
    "#     # Here I have assumed that I am only intrested in the first 15 alphas i.e. I only want to keep the first 15 eigenfunctions. \n",
    "#     # ## NOTE: Be very careful with the definition of the if not statement! \n",
    "#     # if  not (np.all(alphas < alpha_max[:2]) and not np.all(alphas > alpha_min[:2])):\n",
    "#     #     return - np.inf\n",
    "#     if np.any(alphas < alpha_min[:15]) or np.any(alphas > alpha_max[:15]):\n",
    "#         return -np.inf\n",
    "    \n",
    "#     # h prior\n",
    "#     sigma_h = 0.08\n",
    "#     h_prior = -0.5 * ( np.sqrt(Omh2 / Om) - 0.73) ** 2 / sigma_h ** 2\n",
    "    \n",
    "#     # BAO prior\n",
    "#     sigma_bao = 0.037\n",
    "#     bao_prior = -0.5 * ( ln_angular_dist(0.35, zbins, alphas, eigenvectorsNc, Omh2, Om, Ok, ORhh) - ln_angular_0p35_fid ) ** 2 / sigma_bao ** 2\n",
    "    \n",
    "#     # WMAP prior on DE\n",
    "#     sigma_de = 0.025\n",
    "#     de_prior = - 0.5 * ( (1 - Om - Ok) - (1 - 0.24)) ** 2 / sigma_de ** 2\n",
    "    \n",
    "#     # out = h_prior + bao_prior + de_prior\n",
    "#     # if (out < 0  and out > -0.05) or out > 10**5:\n",
    "#     #     print(h_prior, bao_prior, de_prior)\n",
    "    \n",
    "#     return h_prior + bao_prior + de_prior   \n",
    "    "
   ]
  },
  {
   "cell_type": "markdown",
   "id": "75aafa83-0f2a-4ad5-896b-5a5ef72ab079",
   "metadata": {
    "tags": []
   },
   "source": [
    "# Uniform Sampling"
   ]
  },
  {
   "cell_type": "code",
   "execution_count": 20,
   "id": "05392bba-f2d7-441b-966c-e23a54b9c0c7",
   "metadata": {},
   "outputs": [],
   "source": [
    "zBinsFisher = np.linspace(0.0334, 1.7, 500)\n",
    "## In order to define the correct prior for the PC amplitudes, I need to define the allowed min and max values for each alpha_i.\n",
    "## I can do that outside of the function that I will write below since these things do not change with each random step that the MCMC makes\n",
    "\n",
    "# Theoretical limits on DE\n",
    "wfid = -1\n",
    "# Quintessence\n",
    "wmin, wmax = -1, 1\n",
    "# Smooth DE\n",
    "# wmin, wmax = -5, 3\n",
    "weight1 = wmin + wmax - 2 * wfid\n",
    "weight2 = wmax - wmin \n",
    "\n",
    "# First I need to calculate each of the two relevant sums in the eq (A10)\n",
    "first_sum = np.sum(eigenvectors, axis=1)\n",
    "second_sum = np.sum(np.abs(eigenvectors), axis=1)\n",
    "\n",
    "## Nz is the number of z bins I used \n",
    "Nz = 500\n",
    "\n",
    "# alpha_max and alpha_min are two arrays that are storing the max and min value of the amplitudes alpha_i \n",
    "alpha_max = ( 1 / (2*Nz)) * ( weight1 * first_sum + weight2 * second_sum)\n",
    "alpha_min = ( 1 / (2*Nz)) * ( weight1 * first_sum - weight2 * second_sum)"
   ]
  },
  {
   "cell_type": "code",
   "execution_count": 21,
   "id": "9ed1cc32-0c6a-4bc1-bff2-5a2508d5155a",
   "metadata": {},
   "outputs": [
    {
     "data": {
      "text/plain": [
       "(0.0, -0.047973273494491604)"
      ]
     },
     "execution_count": 21,
     "metadata": {},
     "output_type": "execute_result"
    }
   ],
   "source": [
    "alpha_max[0], alpha_min[0]\n"
   ]
  },
  {
   "cell_type": "markdown",
   "id": "19a0da53-19cf-419f-80b2-e37e322bbc86",
   "metadata": {},
   "source": [
    "- I will sample only for $\\alpha_1$, $\\Omega_m$ and $\\Omega_m h^2$. I will set to zero the rest of the PCs. Also, note that based on the calculation in the previous cell, I know the min and max values that are allowed for $\\alpha_1$.\n",
    "- The following should create two .h5 files that contain the cosmological parameters and the respective values for logdL, so that I can use them for training my ResMLP."
   ]
  },
  {
   "cell_type": "code",
   "execution_count": 22,
   "id": "fda8de73-a6d6-4cf9-88e2-11a2c7e588d2",
   "metadata": {},
   "outputs": [],
   "source": [
    "## Define the limits of the sampling region -- ([alphas], Omega_m, Omega_mh^2) \n",
    "## The fiducial model that I am using has Omega_m = 0.24 and h = 0.73 -- Omega_m h^2 = 0.127896 \n",
    "low_lim = np.concatenate([alpha_min[:15],[0.14, 0.055566]])\n",
    "high_lim = np.concatenate([alpha_max[:15],[0.34, 0.234226]])\n",
    "# low_lim = [alpha_min[0], 0.14 , 0.055566]\n",
    "# high_lim = [alpha_max[0], 0.34, 0.234226]\n"
   ]
  },
  {
   "cell_type": "code",
   "execution_count": 35,
   "id": "3de13b4b-27e1-4d09-b048-f8b4882ff6f4",
   "metadata": {},
   "outputs": [
    {
     "data": {
      "text/plain": [
       "array([-0.01524948, -0.00636062, -0.00131656,  0.03456706,  0.02151446,\n",
       "        0.02757155,  0.00407498,  0.00541044,  0.02211085,  0.01949988,\n",
       "       -0.01388144, -0.01948615,  0.03066975,  0.03576192, -0.00527978,\n",
       "        0.31288681,  0.15547942])"
      ]
     },
     "execution_count": 35,
     "metadata": {},
     "output_type": "execute_result"
    }
   ],
   "source": [
    "test_vec = np.random.uniform(low=low_lim, high=high_lim, size=None)\n",
    "test_alps = np.concatenate([test_vec[:15], [0]*485]) \n",
    "test_vec"
   ]
  },
  {
   "cell_type": "code",
   "execution_count": 39,
   "id": "9766d685-1347-413d-81e1-28e92f795e5c",
   "metadata": {},
   "outputs": [],
   "source": [
    "from_alps = log_h0dl(np.linspace(0.0334, 1.7, 500), test_alps, eigenvectors, np.sqrt(test_vec[16]/test_vec[15])*100, test_vec[15],0)\n"
   ]
  },
  {
   "cell_type": "code",
   "execution_count": 40,
   "id": "d553bb08-e186-4177-9c22-2313c6b78865",
   "metadata": {},
   "outputs": [
    {
     "data": {
      "image/png": "[encoded data removed]",
      "text/plain": [
       "<Figure size 800x600 with 1 Axes>"
      ]
     },
     "metadata": {},
     "output_type": "display_data"
    }
   ],
   "source": [
    "plt.figure(figsize=(8, 6))\n",
    "plt.plot(np.linspace(0.0334, 1.7, 500), from_alps, label=r'$logH_0d_L$')\n",
    "\n",
    "plt.grid()\n",
    "plt.xlabel('z')\n",
    "plt.ylabel('Log of luminosity distance')\n",
    "#plt.yscale('log')\n",
    "plt.title(r'$logH_0d_L$')\n",
    "plt.legend()\n",
    "plt.show()"
   ]
  },
  {
   "cell_type": "code",
   "execution_count": 28,
   "id": "7ef6ba0f-b44c-4618-ab00-e3d17c5acbdd",
   "metadata": {},
   "outputs": [],
   "source": [
    "## Will save the uniform sampled cosmological parameters in an hdf5 file\n",
    "with h5py.File('/gpfs/scratch/argiannakopo/uniform_cosmo_data_15PC.h5', 'w') as f:\n",
    "    # Will save things in chunks so that it is easier to load and read later\n",
    "    dataset = f.create_dataset('data', shape=(0, 17), maxshape=(None, 17), dtype=np.float64, chunks=True)\n",
    "\n",
    "    chunk_size = 100000  # Number of rows per chunk\n",
    "    for start in range(0, 100000, chunk_size):\n",
    "        end = min(start + chunk_size, 100000)\n",
    "        chunk = np.random.uniform(low=low_lim, high=high_lim, size=(end - start, 17))\n",
    "        dataset.resize((dataset.shape[0] + chunk.shape[0]), axis=0)\n",
    "        dataset[-chunk.shape[0]:] = chunk\n"
   ]
  },
  {
   "cell_type": "code",
   "execution_count": 37,
   "id": "df2be119-5e5b-46cb-afd0-c8d0f5394c9b",
   "metadata": {},
   "outputs": [
    {
     "name": "stdout",
     "output_type": "stream",
     "text": [
      "Processing complete. Data saved to: /gpfs/scratch/argiannakopo/uniform_lodL_data_15PC.h5\n"
     ]
    }
   ],
   "source": [
    "# Input and output file names\n",
    "input_filename = '/gpfs/scratch/argiannakopo/uniform_cosmo_data_15PC.h5'\n",
    "output_filename = '/gpfs/scratch/argiannakopo/uniform_lodL_data_15PC.h5'\n",
    "zeros = [0] * (500 - 15)\n",
    "\n",
    "# Read the input file and process each row\n",
    "with h5py.File(input_filename, 'r') as f_in, h5py.File(output_filename, 'w') as f_out:\n",
    "    dataset_in = f_in['data']\n",
    "    num_rows, num_cols = dataset_in.shape\n",
    "    \n",
    "    \n",
    "    dataset_out = f_out.create_dataset('processed_data', shape=(num_rows, 500), dtype=np.float64, chunks=True)\n",
    "    \n",
    "    # Process each row and save the result\n",
    "    for i in range(num_rows):\n",
    "        row = dataset_in[i]\n",
    "        alps = np.concatenate([row[:15],zeros])  \n",
    "        processed_row = log_h0dl(zBinsFisher, alps, eigenvectors, np.sqrt(row[-1]/row[-2])*100, row[-2], 0)\n",
    "        dataset_out[i] = processed_row\n",
    "\n",
    "print(\"Processing complete. Data saved to:\", output_filename)\n"
   ]
  },
  {
   "cell_type": "markdown",
   "id": "0d5f68fb-8da8-4ed7-a7d5-c7b5445406bd",
   "metadata": {
    "jp-MarkdownHeadingCollapsed": true
   },
   "source": [
    "# Uniform Sampling for the Second PC"
   ]
  },
  {
   "cell_type": "code",
   "execution_count": 49,
   "id": "743bd6e3-9009-4db4-b38c-0ad9be25b1b2",
   "metadata": {},
   "outputs": [],
   "source": [
    "## Define the limits of the sampling region -- (alpha_1, Omega_m, Omega_mh^2) \n",
    "## The fiducial model that I am using has Omega_m = 0.24 and h = 0.73 -- Omega_m h^2 = 0.127896 \n",
    "low_lim = [alpha_min[1], 0.14 , 0.055566]\n",
    "high_lim = [alpha_max[1], 0.34, 0.234226]"
   ]
  },
  {
   "cell_type": "code",
   "execution_count": 50,
   "id": "c98ced73-2243-42a9-a1e1-2f7838f3221f",
   "metadata": {},
   "outputs": [
    {
     "name": "stderr",
     "output_type": "stream",
     "text": [
      "100%|█████████████████████████████████████████████████████████████████████████████████| 10/10 [00:00<00:00, 1117.23it/s]\n",
      "100%|████████████████████████████████████████████████████████████████████████████| 10000/10000 [00:27<00:00, 359.82it/s]"
     ]
    },
    {
     "name": "stdout",
     "output_type": "stream",
     "text": [
      "Processing complete. Data saved to: uniform_lodL_data_secondPC.h5\n"
     ]
    },
    {
     "name": "stderr",
     "output_type": "stream",
     "text": [
      "\n"
     ]
    }
   ],
   "source": [
    "## Will save the uniform sampled cosmological parameters in an hdf5 file\n",
    "with h5py.File('uniform_cosmo_data_secondPC.h5', 'w') as f:\n",
    "    # Will save things in chunks so that it is easier to load and read later\n",
    "    dataset = f.create_dataset('data', shape=(0, 3), maxshape=(None, 3), dtype=np.float64, chunks=True)\n",
    "\n",
    "    chunk_size = 1000  # Number of rows per chunk\n",
    "    for start in tqdm(range(0, 10000, chunk_size)):\n",
    "        end = min(start + chunk_size, 10000)\n",
    "        chunk = np.random.uniform(low=low_lim, high=high_lim, size=(end - start, 3))\n",
    "        dataset.resize((dataset.shape[0] + chunk.shape[0]), axis=0)\n",
    "        dataset[-chunk.shape[0]:] = chunk\n",
    "\n",
    "# Input and output file names\n",
    "input_filename = 'uniform_cosmo_data_secondPC.h5'\n",
    "output_filename = 'uniform_lodL_data_secondPC.h5'\n",
    "zeros = [0] * 499\n",
    "\n",
    "# Read the input file and process each row\n",
    "with h5py.File(input_filename, 'r') as f_in, h5py.File(output_filename, 'w') as f_out:\n",
    "    dataset_in = f_in['data']\n",
    "    num_rows, num_cols = dataset_in.shape\n",
    "    \n",
    "    \n",
    "    dataset_out = f_out.create_dataset('processed_data', shape=(num_rows, 500), dtype=np.float64, chunks=True)\n",
    "    \n",
    "    # Process each row and save the result\n",
    "    for i in tqdm(range(num_rows)):\n",
    "        row = dataset_in[i]\n",
    "        alps = np.insert(zeros, 1, row[0])                \n",
    "        processed_row = log_h0dl(zBinsFisher, alps, eigenvectors, np.sqrt(row[2]/row[1])*100, row[1], 0)\n",
    "        dataset_out[i] = processed_row\n",
    "\n",
    "print(\"Processing complete. Data saved to:\", output_filename)\n",
    "\n"
   ]
  },
  {
   "cell_type": "markdown",
   "id": "9de78de7-4c61-443a-aab6-6853e170eda9",
   "metadata": {
    "jp-MarkdownHeadingCollapsed": true,
    "tags": []
   },
   "source": [
    "# Uniform Sampling 2 PCs "
   ]
  },
  {
   "cell_type": "code",
   "execution_count": 40,
   "id": "7665f6c9-68e3-4464-9349-2274cb89639a",
   "metadata": {},
   "outputs": [],
   "source": [
    "## Define the limits of the sampling region -- (alpha_1, Omega_m, Omega_mh^2) \n",
    "## The fiducial model that I am using has Omega_m = 0.24 and h = 0.73 -- Omega_m h^2 = 0.127896 \n",
    "low_lim = [alpha_min[0], alpha_min[1], 0.14 , 0.055566]\n",
    "high_lim = [alpha_max[0], alpha_max[1], 0.34, 0.234226]"
   ]
  },
  {
   "cell_type": "code",
   "execution_count": 41,
   "id": "e57b63d6-e8bd-466b-840f-02d9c8594fd9",
   "metadata": {},
   "outputs": [
    {
     "name": "stderr",
     "output_type": "stream",
     "text": [
      "100%|█████████████████████████████████████████████████████████████████████████████████| 50/50 [00:00<00:00, 2224.55it/s]\n"
     ]
    }
   ],
   "source": [
    "## Will save the uniform sampled cosmological parameters in an hdf5 file\n",
    "with h5py.File('uniform_cosmo_data_2PC.h5', 'w') as f:\n",
    "    # Will save things in chunks so that it is easier to load and read later\n",
    "    dataset = f.create_dataset('data', shape=(0, 4), maxshape=(None, 4), dtype=np.float64, chunks=True)\n",
    "\n",
    "    chunk_size = 1000  # Number of rows per chunk\n",
    "    for start in tqdm(range(0, 50000, chunk_size)):\n",
    "        end = min(start + chunk_size, 50000)\n",
    "        chunk = np.random.uniform(low=low_lim, high=high_lim, size=(end - start, 4))\n",
    "        dataset.resize((dataset.shape[0] + chunk.shape[0]), axis=0)\n",
    "        dataset[-chunk.shape[0]:] = chunk\n"
   ]
  },
  {
   "cell_type": "code",
   "execution_count": 42,
   "id": "9c336490-fd0e-4928-893b-538e153681b8",
   "metadata": {},
   "outputs": [
    {
     "name": "stderr",
     "output_type": "stream",
     "text": [
      "100%|████████████████████████████████████████████████████████████████████████████| 50000/50000 [01:37<00:00, 513.69it/s]"
     ]
    },
    {
     "name": "stdout",
     "output_type": "stream",
     "text": [
      "Processing complete. Data saved to: uniform_lodL_data_2PC.h5\n"
     ]
    },
    {
     "name": "stderr",
     "output_type": "stream",
     "text": [
      "\n"
     ]
    }
   ],
   "source": [
    "# Input and output file names\n",
    "input_filename = 'uniform_cosmo_data_2PC.h5'\n",
    "output_filename = 'uniform_lodL_data_2PC.h5'\n",
    "zeros = [0] * 498\n",
    "\n",
    "# Read the input file and process each row\n",
    "with h5py.File(input_filename, 'r') as f_in, h5py.File(output_filename, 'w') as f_out:\n",
    "    dataset_in = f_in['data']\n",
    "    num_rows, num_cols = dataset_in.shape\n",
    "    \n",
    "    \n",
    "    dataset_out = f_out.create_dataset('processed_data', shape=(num_rows, 500), dtype=np.float64, chunks=True)\n",
    "    \n",
    "    # Process each row and save the result\n",
    "    for i in tqdm(range(num_rows)):\n",
    "        row = dataset_in[i]\n",
    "        alps = np.concatenate([[row[0],row[1]],zeros])                \n",
    "        processed_row = log_h0dl(zBinsFisher, alps, eigenvectors, np.sqrt(row[3]/row[2])*100, row[2], 0)\n",
    "        dataset_out[i] = processed_row\n",
    "\n",
    "print(\"Processing complete. Data saved to:\", output_filename)\n"
   ]
  },
  {
   "cell_type": "code",
   "execution_count": null,
   "id": "df0dbcaa-99df-4842-9dd0-3dd135b6190e",
   "metadata": {},
   "outputs": [],
   "source": []
  }
 ],
 "metadata": {
  "kernelspec": {
   "display_name": "Python (ssi2023)",
   "language": "python",
   "name": "ssi_torchvision"
  },
  "language_info": {
   "codemirror_mode": {
    "name": "ipython",
    "version": 3
   },
   "file_extension": ".py",
   "mimetype": "text/x-python",
   "name": "python",
   "nbconvert_exporter": "python",
   "pygments_lexer": "ipython3",
   "version": "3.11.6"
  }
 },
 "nbformat": 4,
 "nbformat_minor": 5
}
