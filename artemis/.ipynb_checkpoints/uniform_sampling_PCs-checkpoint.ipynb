{
 "cells": [
  {
   "cell_type": "code",
   "execution_count": 1,
   "id": "e07cbf1d-272d-481d-bf54-ad97e280d31e",
   "metadata": {},
   "outputs": [],
   "source": [
    "import numpy as np \n",
    "from joblib import Parallel, delayed\n",
    "import matplotlib.pyplot as plt\n",
    "from scipy.interpolate import interp1d\n",
    "#from scipy.interpolate import Akima1DInterpolator\n",
    "#from scipy.stats import multivariate_normal\n",
    "import time \n",
    "#import corner\n",
    "import h5py\n",
    "#import ipdb\n",
    "from scipy import integrate \n",
    "from tqdm import tqdm\n",
    "#import os\n",
    "import pandas as pd\n",
    "import camb \n",
    "from camb import model, initialpower\n",
    "from CosmologyCalculatorPC import CosmologyCalculatorPC"
   ]
  },
  {
   "cell_type": "markdown",
   "id": "74d3eff3-1ff2-4295-98a9-e9164adc03fd",
   "metadata": {},
   "source": [
    "# Import - define all necessary variables"
   ]
  },
  {
   "cell_type": "code",
   "execution_count": 2,
   "id": "3deb57ff-0daf-4254-92a6-52fe6f72fde3",
   "metadata": {},
   "outputs": [
    {
     "data": {
      "text/plain": [
       "(500, 500)"
      ]
     },
     "execution_count": 2,
     "metadata": {},
     "output_type": "execute_result"
    }
   ],
   "source": [
    "# Redshifts for the bins that we chose when we did the eigevector analysis with Fisher.\n",
    "\n",
    "Nx = 500\n",
    "zzmin = 0.03\n",
    "zzmax = 1.7\n",
    "zBinsFisher = np.array([zzmin + i * (zzmax - zzmin) / Nx for i in range(1, Nx + 1)])\n",
    "zbins = np.insert(zBinsFisher, 0, 0.03)\n",
    "\n",
    "alphasfid = np.array([0] * 500) # When all amplitudes are zero, I get back ΛCDM\n",
    "\n",
    "eigenvectors = np.loadtxt(\"/mnt/c/Users/asgia/Desktop/cosmo_stuff/eigenvectorsFisherTot_ver2_500PCs_0p03_to_1p7.dat\")\n",
    "#eigenvectors = np.loadtxt(\"/mnt/c/Users/asgia/Desktop/cosmo_stuff/eigenvectorsFisherTot_ver2.dat\")\n",
    "\n",
    "eigenvectors.shape"
   ]
  },
  {
   "cell_type": "code",
   "execution_count": 3,
   "id": "94f1984a-e175-4ce2-b196-63cce7c6b99c",
   "metadata": {},
   "outputs": [],
   "source": [
    "# Returns fiducial ΛCDM distances\n",
    "calculator = CosmologyCalculatorPC(73,0.24, 0, alphasfid, eigenvectors)"
   ]
  },
  {
   "cell_type": "markdown",
   "id": "e8de8f9b-6e67-4057-a370-ff9c7bb2c4b9",
   "metadata": {},
   "source": [
    "# Define the priors on the amplitudes $\\alpha_i$ following Mortonson et al (0810.1744)"
   ]
  },
  {
   "cell_type": "code",
   "execution_count": 4,
   "id": "afb9a805-6397-4bc5-8fb7-c99baf60d1fb",
   "metadata": {},
   "outputs": [],
   "source": [
    "## In order to define the correct prior for the PC amplitudes, I need to define the allowed min and max values for each alpha_i.\n",
    "## I can do that outside of the function that I will write below since these things do not change with each random step that the MCMC makes\n",
    "\n",
    "# Theoretical limits on DE\n",
    "wfid = -1\n",
    "# Quintessence\n",
    "wmin, wmax = -1, 1\n",
    "# Smooth DE\n",
    "# wmin, wmax = -5, 3\n",
    "weight1 = wmin + wmax - 2 * wfid\n",
    "weight2 = wmax - wmin \n",
    "\n",
    "# First I need to calculate each of the two relevant sums in the eq (A10)\n",
    "first_sum = np.sum(eigenvectors, axis=1)\n",
    "second_sum = np.sum(np.abs(eigenvectors), axis=1)\n",
    "\n",
    "## Nz is the number of z bins I used \n",
    "Nz = 500\n",
    "\n",
    "# alpha_max and alpha_min are two arrays that are storing the max and min value of the amplitudes alpha_i \n",
    "alpha_max = ( 1 / (2*Nz)) * ( weight1 * first_sum + weight2 * second_sum)\n",
    "alpha_min = ( 1 / (2*Nz)) * ( weight1 * first_sum - weight2 * second_sum)"
   ]
  },
  {
   "cell_type": "code",
   "execution_count": 5,
   "id": "b312912c-209e-4e6a-9cec-be7b6419b124",
   "metadata": {},
   "outputs": [
    {
     "data": {
      "text/plain": [
       "(0.0, -0.04848137963350209)"
      ]
     },
     "execution_count": 5,
     "metadata": {},
     "output_type": "execute_result"
    }
   ],
   "source": [
    "alpha_max[0], alpha_min[0]"
   ]
  },
  {
   "cell_type": "markdown",
   "id": "176384d4-d4c7-477e-ab29-8a9ddd702a7c",
   "metadata": {},
   "source": [
    "- Define the limits of the sampling region for the amplitudes $\\alpha_i$. At this point I also need to decide how many $\\alpha_i$ I will keep.\n",
    "- I will sample only for $\\alpha_1$, $\\Omega_m$ and $H_0$. I will set to zero the rest of the PCs. Also, note that based on the calculation in the previous cell, I know the min and max values that are allowed for $\\alpha_i$."
   ]
  },
  {
   "cell_type": "code",
   "execution_count": 6,
   "id": "e546693a-c57f-4788-a2e1-b5f33bde98fa",
   "metadata": {},
   "outputs": [],
   "source": [
    "##The fiducial model that I am using has Omega_m = 0.24 and h = 0.73 -- Omega_m h^2 = 0.127896 \n",
    "\n",
    "### Example case for 50 PCs\n",
    "low_lim = alpha_min[:50]\n",
    "high_lim = alpha_max[:50]\n",
    "\n",
    "low_lim = np.concatenate([alpha_min[:50],[69, 0.20 ]])\n",
    "high_lim = np.concatenate([alpha_max[:50],[77, 0.28]])"
   ]
  },
  {
   "cell_type": "code",
   "execution_count": 7,
   "id": "e8bd1802-e75b-4997-8bbd-75df5a4ea6d2",
   "metadata": {},
   "outputs": [
    {
     "data": {
      "text/plain": [
       "array([-1.95640092e-02,  5.85206683e-03,  1.57280008e-02,  2.74227913e-02,\n",
       "        4.88169847e-03, -5.64003222e-03,  3.11905847e-02,  1.97014527e-02,\n",
       "       -2.12351454e-02,  3.92108525e-02, -3.13021755e-02,  1.48569579e-02,\n",
       "        6.91937203e-04, -1.57274871e-02,  1.10507235e-02,  2.07759894e-02,\n",
       "        2.81199991e-02, -1.83153175e-02,  5.35965291e-04,  6.40526368e-03,\n",
       "       -3.35962921e-02,  2.81060806e-02,  2.31260227e-02, -3.48900212e-02,\n",
       "       -3.38464852e-02, -3.03115880e-02, -1.55265324e-02, -2.21245024e-02,\n",
       "        1.19374384e-02,  3.23916108e-02,  3.45293107e-03,  1.01384812e-02,\n",
       "       -2.91590606e-02, -2.74908379e-02,  2.86394872e-02,  1.68023843e-02,\n",
       "       -8.42628532e-03, -2.19410544e-02,  8.05764453e-03,  2.95762578e-03,\n",
       "        3.08140639e-02, -9.54529722e-03, -2.73772501e-03,  3.27178129e-02,\n",
       "        1.23699532e-02, -1.78790427e-02,  1.70100514e-04, -2.80490477e-02,\n",
       "        2.86926458e-02, -3.40399822e-02,  7.59676885e+01,  2.20834960e-01])"
      ]
     },
     "execution_count": 7,
     "metadata": {},
     "output_type": "execute_result"
    }
   ],
   "source": [
    "np.random.uniform(low=low_lim, high=high_lim, size=None)"
   ]
  },
  {
   "cell_type": "markdown",
   "id": "fb7e9729-a1f3-42ae-9a9e-2ff27bec206e",
   "metadata": {},
   "source": [
    "### Generate the cosmological parameters vectors "
   ]
  },
  {
   "cell_type": "code",
   "execution_count": 8,
   "id": "e223378e-3bce-4f9d-a870-cdadefa1ab56",
   "metadata": {},
   "outputs": [],
   "source": [
    "# Will save the uniform sampled cosmological parameters in an hdf5 file\n",
    "\n",
    "# with h5py.File('/gpfs/scratch/argiannakopo/uniform_cosmo_data_15PC.h5', 'w') as f:\n",
    "\n",
    "with h5py.File('/home/venus/cosmo_temp/uniform_sampling_res/uniform_cosmo_params_50PC.h5', 'w') as f:\n",
    "    # Will save things in chunks so that it is easier to load and read later\n",
    "    dataset = f.create_dataset('data', shape=(0, 52), maxshape=(None, 52), dtype=np.float64, chunks=True)\n",
    "\n",
    "    chunk_size = 10000  # Number of rows per chunk\n",
    "    for start in range(0, 100000, chunk_size):\n",
    "        end = min(start + chunk_size, 100000)\n",
    "        # Uniformly distributed values for the amplitudes α_i\n",
    "        chunk = np.random.uniform(low=low_lim, high=high_lim, size=(end - start, 52))\n",
    "        \n",
    "        dataset.resize((dataset.shape[0] + chunk.shape[0]), axis=0)\n",
    "        dataset[-chunk.shape[0]:] = chunk"
   ]
  },
  {
   "cell_type": "markdown",
   "id": "0741a5f6-54fd-400a-8b56-b14c7d501a9a",
   "metadata": {},
   "source": [
    "### Import the cosmological parameter vectors from file and calculate the equivalent luminosity distance"
   ]
  },
  {
   "cell_type": "code",
   "execution_count": 9,
   "id": "95c5bfd4-ae62-40da-95a9-65cc018a6f10",
   "metadata": {},
   "outputs": [
    {
     "name": "stderr",
     "output_type": "stream",
     "text": [
      "100%|██████████████████████████████████████████████████████████████████████████| 100000/100000 [05:35<00:00, 297.90it/s]\n"
     ]
    },
    {
     "name": "stdout",
     "output_type": "stream",
     "text": [
      "Processing complete. Data saved to: /home/venus/cosmo_temp/uniform_sampling_res/uniform_logdl_vals_50PC.h5\n"
     ]
    }
   ],
   "source": [
    "# Input and output file names\n",
    "# input_filename = '/gpfs/scratch/argiannakopo/uniform_cosmo_data_15PC.h5'\n",
    "# output_filename = '/gpfs/scratch/argiannakopo/uniform_lodL_data_15PC.h5'\n",
    "\n",
    "input_filename = '/home/venus/cosmo_temp/uniform_sampling_res/uniform_cosmo_params_50PC.h5'\n",
    "output_filename = '/home/venus/cosmo_temp/uniform_sampling_res/uniform_logdl_vals_50PC.h5'\n",
    "\n",
    "zeros = [0] * (500 - 50)\n",
    "\n",
    "# Read the input file and process each row\n",
    "with h5py.File(input_filename, 'r') as f_in, h5py.File(output_filename, 'w') as f_out:\n",
    "    dataset_in = f_in['data']\n",
    "    num_rows, num_cols = dataset_in.shape\n",
    "    \n",
    "    \n",
    "    dataset_out = f_out.create_dataset('processed_data', shape=(num_rows, 500), dtype=np.float64, chunks=True)\n",
    "    \n",
    "    # Process each row and save the result\n",
    "    for i in tqdm(range(num_rows)):\n",
    "        row = dataset_in[i]\n",
    "        alps = np.concatenate([row[:50],zeros])  \n",
    "        calculator50 = CosmologyCalculatorPC(row[-2], row[-1], 0, alps, eigenvectors)\n",
    "        processed_row = calculator50.lum_distance(zbins, zBinsFisher)\n",
    "        dataset_out[i] = np.log((row[-2] / 100) * processed_row)\n",
    "\n",
    "print(\"Processing complete. Data saved to:\", output_filename)\n"
   ]
  },
  {
   "cell_type": "code",
   "execution_count": null,
   "id": "062ec507-1d84-48e9-9c35-efb61624811a",
   "metadata": {},
   "outputs": [],
   "source": []
  }
 ],
 "metadata": {
  "kernelspec": {
   "display_name": "Python (ssi2023)",
   "language": "python",
   "name": "ssi_torchvision"
  },
  "language_info": {
   "codemirror_mode": {
    "name": "ipython",
    "version": 3
   },
   "file_extension": ".py",
   "mimetype": "text/x-python",
   "name": "python",
   "nbconvert_exporter": "python",
   "pygments_lexer": "ipython3",
   "version": "3.11.6"
  }
 },
 "nbformat": 4,
 "nbformat_minor": 5
}
