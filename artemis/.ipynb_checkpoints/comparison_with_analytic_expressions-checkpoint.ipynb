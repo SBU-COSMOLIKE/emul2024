{
 "cells": [
  {
   "cell_type": "code",
   "execution_count": 31,
   "id": "6636e553-f3e7-4076-8037-7de3aa0acfc1",
   "metadata": {},
   "outputs": [],
   "source": [
    "import numpy as np \n",
    "import pandas as pd\n",
    "# import os \n",
    "import csv\n",
    "import matplotlib\n",
    "import matplotlib.pyplot as plt\n",
    "from scipy.integrate import quad\n",
    "from CosmologyCalculatorPC import CosmologyCalculatorPC\n",
    "import time\n",
    "from joblib import Parallel, delayed"
   ]
  },
  {
   "cell_type": "code",
   "execution_count": 2,
   "id": "73252c29-66a1-407d-b30a-fd3a9835c2d3",
   "metadata": {},
   "outputs": [],
   "source": [
    "# GENERAL PLOT OPTIONS\n",
    "matplotlib.rcParams['mathtext.fontset'] = 'stix'\n",
    "matplotlib.rcParams['font.family'] = 'STIXGeneral'\n",
    "matplotlib.rcParams['mathtext.rm'] = 'Bitstream Vera Sans'\n",
    "matplotlib.rcParams['mathtext.it'] = 'Bitstream Vera Sans:italic'\n",
    "matplotlib.rcParams['mathtext.bf'] = 'Bitstream Vera Sans:bold'\n",
    "matplotlib.rcParams['xtick.bottom'] = True\n",
    "matplotlib.rcParams['xtick.top'] = False\n",
    "matplotlib.rcParams['ytick.right'] = False\n",
    "matplotlib.rcParams['axes.edgecolor'] = 'black'\n",
    "matplotlib.rcParams['axes.linewidth'] = '1.0'\n",
    "matplotlib.rcParams['axes.labelsize'] = 'medium'\n",
    "matplotlib.rcParams['axes.grid'] = True\n",
    "matplotlib.rcParams['grid.linewidth'] = '0.0'\n",
    "matplotlib.rcParams['grid.alpha'] = '0.18'\n",
    "matplotlib.rcParams['grid.color'] = 'lightgray'\n",
    "matplotlib.rcParams['legend.labelspacing'] = 0.77\n",
    "matplotlib.rcParams['savefig.bbox'] = 'tight'\n",
    "matplotlib.rcParams['savefig.format'] = 'pdf'\n",
    "\n",
    "#plt.figure(figsize = (3.5,3.5))"
   ]
  },
  {
   "cell_type": "code",
   "execution_count": 3,
   "id": "16df6e50-fc1f-49b1-8004-42b49f89f553",
   "metadata": {},
   "outputs": [],
   "source": [
    "cmag = 149896229/500"
   ]
  },
  {
   "cell_type": "code",
   "execution_count": 4,
   "id": "bcc89b92-dc91-44ef-a29e-f4d00d9da192",
   "metadata": {},
   "outputs": [],
   "source": [
    "def dyn_w(z, w0, wa):\n",
    "    return w0 + wa *( z / (1 + z))"
   ]
  },
  {
   "cell_type": "code",
   "execution_count": 5,
   "id": "4c052aed-129f-447d-8a6a-d1be791d00f8",
   "metadata": {},
   "outputs": [],
   "source": [
    "def integrand1(z, w0, wa):\n",
    "        return (1 + dyn_w(z, w0, wa)) / (1 + z)\n",
    "    \n",
    "def OmegaDE(z, w0, wa):\n",
    "    result, error = quad(integrand1, 0, z, args=(w0,wa))\n",
    "    return np.exp(3 * result)\n",
    "   \n",
    "    \n"
   ]
  },
  {
   "cell_type": "code",
   "execution_count": 6,
   "id": "21bb5432-e841-45d4-a055-0651ec306557",
   "metadata": {},
   "outputs": [],
   "source": [
    "NNU = 3.04\n",
    "TCMB = 2.725\n",
    "OGhh = 4.4856 * 1e-7 * pow(TCMB,4)\n",
    "ONhh = 1.0187 * 1e-7 * NNU * pow(TCMB,4)\n",
    "ORhh = ONhh + OGhh"
   ]
  },
  {
   "cell_type": "code",
   "execution_count": 7,
   "id": "9c5db506-6cdd-468f-a73c-c23e380c6a12",
   "metadata": {},
   "outputs": [],
   "source": [
    "def HubbleVer2(z, w0, wa, H0, Om, Ok):\n",
    "\n",
    "    # Calculate derived values as per the Mathematica code\n",
    "    h = H0 / 100\n",
    "    Omh2 = Om * (H0 / 100) ** 2\n",
    "    x = Omh2 / Om - Omh2 - Ok * Omh2 / Om - ORhh\n",
    "\n",
    "    # Handle potential bad input for Om or Ok\n",
    "    if x < 0:\n",
    "        raise ValueError(f\"Bad input: Om={Om}, Ok={Ok}\")\n",
    "\n",
    "    # Calculate Hubble parameter using OmegaDE\n",
    "    result = 100 * np.sqrt(Omh2 * (1 + z) ** 3 + x * OmegaDE(z,w0,wa) +\n",
    "                           Ok * h ** 2 * (1 + z) ** 2 + ORhh * (1 + z) ** 4)\n",
    "\n",
    "    return result"
   ]
  },
  {
   "cell_type": "code",
   "execution_count": 8,
   "id": "7c1c1a2c-e936-4da0-8eaa-1810db5bce6b",
   "metadata": {},
   "outputs": [],
   "source": [
    "def DL(z, w0, wa, H0, Om, Ok):\n",
    "    def integrand(z, w0, wa, H0, Om, Ok):\n",
    "        return 1 / HubbleVer2(z, w0, wa, H0, Om, Ok)\n",
    "        \n",
    "    result, error = quad( integrand, 0, z, args=(w0,wa, H0, Om, Ok))\n",
    "    # Return the luminosity distance\n",
    "    return cmag * result * (1 + z)\n"
   ]
  },
  {
   "cell_type": "code",
   "execution_count": 9,
   "id": "0c414c89-5493-4cb2-bf86-8f39fc3d3317",
   "metadata": {},
   "outputs": [],
   "source": [
    "def m(z, w0, wa, H0, Om, Ok, M):\n",
    "    return 5 * np.log10(H0 / cmag * DL(z, w0, wa, H0, Om, Ok)) + M\n"
   ]
  },
  {
   "cell_type": "markdown",
   "id": "fc778eac-a379-4323-b947-25dfb307a18c",
   "metadata": {},
   "source": [
    "## SN Fisher -- Definitions of errors"
   ]
  },
  {
   "cell_type": "code",
   "execution_count": 10,
   "id": "7e81d735-7c53-4678-87f6-55b18f6bbafc",
   "metadata": {},
   "outputs": [],
   "source": [
    "Nx = 1000\n",
    "zzmin = 0.03\n",
    "zzmax = 1.7\n",
    "zBinsFisher = np.array([zzmin + i * (zzmax - zzmin) / Nx for i in range(1, Nx + 1)])\n",
    "zbins = np.insert(zBinsFisher, 0, 0.03)\n",
    "\n",
    "NSN = [0, 300, 35, 64, 95, 124, 150, 171, 183, 179, 170, 155, 142, 130, 119, 107, 94, 80, 0 ]\n",
    "zSN = [0.03, 0.05, 0.15, 0.25, 0.35, 0.45, 0.55, 0.65, 0.75, 0.85, 0.95, 1.05, 1.15, 1.25, 1.35, 1.45, 1.55, 1.65, 1.75 ]\n",
    "\n",
    "dz1 = 0.1\n",
    "dz2 = 0.07\n",
    "tmp = zBinsFisher[1] - zBinsFisher[0]\n",
    "fnSN = np.interp(zBinsFisher, zSN, NSN)\n",
    "sigma2SNfisher = []\n",
    "\n",
    "for i, z in enumerate(zBinsFisher):\n",
    "    if z < 0.1:\n",
    "        dz = dz2\n",
    "    else:\n",
    "        dz = dz1\n",
    "    \n",
    "    sigma2SNfisher.append(\n",
    "        dz / tmp * (0.15**2 / fnSN[i] + 0.02**2 * ((1 + z) / 2.7)**2)\n",
    "    )\n",
    "\n",
    "sigma2SNfisher = np.array(sigma2SNfisher)"
   ]
  },
  {
   "cell_type": "markdown",
   "id": "19f43699-b99c-4b89-bbb6-c353eb6ae547",
   "metadata": {},
   "source": [
    "# Construct the $\\log d_L(z)$ using the PCs"
   ]
  },
  {
   "cell_type": "code",
   "execution_count": 11,
   "id": "c15a22e8-e135-4df5-bec4-2a2896ab9be9",
   "metadata": {},
   "outputs": [
    {
     "data": {
      "text/plain": [
       "(1000, 1000)"
      ]
     },
     "execution_count": 11,
     "metadata": {},
     "output_type": "execute_result"
    }
   ],
   "source": [
    "# Redshifts for the bins that we chose when we did the eigevector analysis with Fisher.\n",
    "\n",
    "Nx = 1000\n",
    "zzmin = 0.03\n",
    "zzmax = 1.7\n",
    "zBinsFisher = np.array([zzmin + i * (zzmax - zzmin) / Nx for i in range(1, Nx + 1)])\n",
    "zbins = np.insert(zBinsFisher, 0, 0.03)\n",
    "\n",
    "alphasfid = np.array([0] * Nx) # When all amplitudes are zero, I get back ΛCDM\n",
    "\n",
    "eigenvectors = np.loadtxt(\"/mnt/c/Users/asgia/Desktop/cosmo_stuff/eigenvectorsFisherTot_ver2_1000PCs_0p03_to_1p7.dat\")\n",
    "#eigenvectors = np.loadtxt(\"/mnt/c/Users/asgia/Desktop/cosmo_stuff/eigenvectorsFisherTot_ver2.dat\")\n",
    "\n",
    "eigenvectors.shape"
   ]
  },
  {
   "cell_type": "code",
   "execution_count": 12,
   "id": "d4a09494-e6a5-427f-93c7-98b3bc5cc322",
   "metadata": {},
   "outputs": [],
   "source": [
    "# Function that does the projection of the analytic result on to the PC basis.\n",
    "def calculate_alphasQ(dyn_w_array, eigenvectors, Nx):\n",
    "    alphasQ = []\n",
    "    for i in range(Nx):\n",
    "        a = np.sum((dyn_w_array + 1) * eigenvectors[i][:])\n",
    "        alphasQ.append(a)\n",
    "    return np.array(alphasQ)\n"
   ]
  },
  {
   "cell_type": "code",
   "execution_count": 22,
   "id": "64c767eb-a800-42c5-a4df-ea6ca85f0266",
   "metadata": {},
   "outputs": [],
   "source": [
    "Nx=1000\n",
    "dyn_w_list = [dyn_w(z, -0.827, -0.75) for z in zBinsFisher]\n",
    "dyn_w_array = np.array(dyn_w_list)\n",
    "alphasQ = calculate_alphasQ(dyn_w_array, eigenvectors, Nx)"
   ]
  },
  {
   "cell_type": "code",
   "execution_count": 14,
   "id": "aba82dcb-d460-4de9-b694-864c57cf6179",
   "metadata": {},
   "outputs": [],
   "source": [
    "calculatorNx = CosmologyCalculatorPC(73, 0.24, 0, alphasQ, eigenvectors)"
   ]
  },
  {
   "cell_type": "code",
   "execution_count": 19,
   "id": "05be0ec5-2636-450b-aaf1-f92929efb948",
   "metadata": {},
   "outputs": [],
   "source": [
    "analytic_m_array = [ m(z, -0.827, -0.75, 73, 0.24, 0, 25) for z in zBinsFisher]"
   ]
  },
  {
   "cell_type": "code",
   "execution_count": 20,
   "id": "6e123c3b-bbb7-4c1a-8bb5-d67cc3372b3b",
   "metadata": {},
   "outputs": [
    {
     "data": {
      "image/png": "[encoded data removed]",
      "text/plain": [
       "<Figure size 600x400 with 1 Axes>"
      ]
     },
     "metadata": {},
     "output_type": "display_data"
    }
   ],
   "source": [
    "plt.figure(figsize=(6, 4))\n",
    "plt.plot(zBinsFisher, 5*calculatorNx.logH0lum_distance(zbins, zBinsFisher) + 25, color='black', label=rf'{Nx} PCs')\n",
    "plt.plot(zBinsFisher, analytic_m_array, label=r'Analytic $5 \\log H_0 d_L(z) + M$', linestyle=':')\n",
    "plt.xlabel('Redshift (z)')\n",
    "plt.ylabel(r'm(z)')\n",
    "#plt.title(r'')\n",
    "# plt.xlim(1.5,1.7)\n",
    "# plt.ylim(10500,13000 )\n",
    "plt.legend()\n",
    "plt.grid(True)\n",
    "plt.show()"
   ]
  },
  {
   "cell_type": "markdown",
   "id": "db0a1095-6b9c-49af-a8e3-21734612bb7b",
   "metadata": {},
   "source": [
    "## Define $\\Delta \\chi^2$ and plot"
   ]
  },
  {
   "cell_type": "code",
   "execution_count": 17,
   "id": "ab9b9727-7046-4dbf-90a3-bfced548251b",
   "metadata": {},
   "outputs": [],
   "source": [
    "# This function will take as input the m(z) and will return the chi squared as defined in equation A6 of 0810.1744\n",
    "def criterion(f_pc, f_exp, sigma_sq):\n",
    "    ''' All the inputs are numpy arrays '''\n",
    "    return (f_exp - f_pc ) ** 2 / sigma_sq"
   ]
  },
  {
   "cell_type": "code",
   "execution_count": 18,
   "id": "0e0ffcb5-1380-4c72-b9b0-6810a4dbe7f3",
   "metadata": {},
   "outputs": [
    {
     "data": {
      "image/png": "[encoded data removed]",
      "text/plain": [
       "<Figure size 600x400 with 1 Axes>"
      ]
     },
     "metadata": {},
     "output_type": "display_data"
    }
   ],
   "source": [
    "plt.figure(figsize=(6, 4))\n",
    "plt.plot(zBinsFisher, criterion(5*calculatorNx.logH0lum_distance(zbins, zBinsFisher) + 20, analytic_m_array, sigma2SNfisher) , label=rf'{Nx} PCs')\n",
    "\n",
    "#plt.yscale('log')\n",
    "plt.xlabel('Redshift (z)')\n",
    "plt.ylabel(r'$\\Delta \\chi^2$')\n",
    "plt.title(r'$\\Delta\\chi^2$ for $(w_0, w_a)=(-0.827, -0.75)$ using the error from Mortonson et al ')\n",
    "plt.legend()\n",
    "plt.grid(True)\n",
    "plt.show()"
   ]
  },
  {
   "cell_type": "markdown",
   "id": "80ebbdc8-f7a5-450e-9092-c405ce3fcedd",
   "metadata": {},
   "source": [
    "## Completeness test"
   ]
  },
  {
   "cell_type": "code",
   "execution_count": 25,
   "id": "457f5e51-fed4-4292-8439-03942e571163",
   "metadata": {},
   "outputs": [],
   "source": [
    "analytic_m_array = [ m(z, -0.827, -0.75, 73, 0.24, 0, 25) for z in zBinsFisher]\n",
    "Nx=1000\n",
    "dyn_w_list = [dyn_w(z, -0.827, -0.75) for z in zBinsFisher]\n",
    "dyn_w_array = np.array(dyn_w_list)\n",
    "alphas_proj= calculate_alphasQ(dyn_w_array, eigenvectors, Nx)\n",
    "\n",
    "# ombh2 = 0.2 * cosmo_params[0] ** 2 * cosmo_params[1] / 10000\n",
    "# omch2 = 0.8 * cosmo_params[0] ** 2 * cosmo_params[1] / 10000\n",
    "\n",
    "def compute_chisq_dyn(w0, wa, cosmo_params, NPC):\n",
    "\n",
    "    # Run my method for the same cosmological parameters and the chosen number of PCs\n",
    "    if NPC == None:\n",
    "        calc = CosmologyCalculatorPC(cosmo_params[0], cosmo_params[1], 0, alphas_proj, eigenvectors)\n",
    "    else:\n",
    "        calc = CosmologyCalculatorPC(cosmo_params[0], cosmo_params[1], 0, alphas_proj[:NPC], eigenvectors[:NPC])\n",
    "    \n",
    "    # Calculate the luminosity distances for the two methods\n",
    "   \n",
    "    mym = 5 * calc.logH0lum_distance(zbins, zBinsFisher) + 25\n",
    "    \n",
    "    # Compare the distances and get a chi^2\n",
    "    chisq = np.sum(criterion(mym, analytic_m_array, sigma2SNfisher))\n",
    "    \n",
    "    return w0, wa, chisq"
   ]
  },
  {
   "cell_type": "code",
   "execution_count": 32,
   "id": "7d67dcf8-bc80-4500-9f6c-c784f2ff5161",
   "metadata": {},
   "outputs": [
    {
     "name": "stdout",
     "output_type": "stream",
     "text": [
      "Total execution time: 6.52 seconds\n"
     ]
    }
   ],
   "source": [
    "# Start the timer\n",
    "start_time = time.time()\n",
    "\n",
    "# Parallelize the loop using joblib\n",
    "n_jobs = -1  # Use all available CPU cores\n",
    "results = Parallel(n_jobs=n_jobs)(\n",
    "    delayed(lambda NPC: (*compute_chisq_dyn(-0.827, -0.75, [73, 0.24], NPC), NPC))(NPC) \n",
    "    for NPC in range(1,1001)\n",
    ")\n",
    "\n",
    "# Store results in a DataFrame, including NPC as a column\n",
    "chisq_compare_NPC = pd.DataFrame(results, columns=['w0', 'wa', 'chisq', 'NPC'])\n",
    "\n",
    "# End the timer\n",
    "end_time = time.time()\n",
    "\n",
    "# Print the total execution time\n",
    "total_time = end_time - start_time\n",
    "print(f\"Total execution time: {total_time:.2f} seconds\")\n",
    "\n"
   ]
  },
  {
   "cell_type": "code",
   "execution_count": 47,
   "id": "4e542541-f570-49ed-876b-5b649c27ab1c",
   "metadata": {},
   "outputs": [
    {
     "data": {
      "image/png": "[encoded data removed]",
      "text/plain": [
       "<Figure size 350x350 with 1 Axes>"
      ]
     },
     "metadata": {},
     "output_type": "display_data"
    }
   ],
   "source": [
    "# Plotting chi-squared vs NPC\n",
    "\n",
    "plt.figure(figsize=(3.5, 3.5))\n",
    "plt.scatter(chisq_compare_NPC['NPC'], chisq_compare_NPC['chisq'], s=5, color='blue')\n",
    "plt.xlabel('Number of Principal Components', fontsize=14)\n",
    "plt.ylabel(r'$\\Delta \\chi^2$', fontsize=14)\n",
    "plt.xscale('log')\n",
    "#plt.yscale('log') \n",
    "#plt.ylim(1.18,1.25)\n",
    "#plt.title(r'$\\chi^2$ vs Number of PC for $(w_0,w_a) = (-0.827, -0.75)$')\n",
    "plt.tick_params(axis='x', labelsize=16)\n",
    "plt.tick_params(axis='y', labelsize=16)\n",
    "plt.grid(True, linestyle='--', linewidth=0.5, alpha=0.7)\n",
    "plt.tight_layout()\n",
    "#plt.savefig(\"/home/venus/cosmo_stuff/emul2024/artemis/chiSq_vs_number_of_PCs.pdf\", format=\"pdf\", bbox_inches=\"tight\")\n",
    "plt.show()"
   ]
  },
  {
   "cell_type": "code",
   "execution_count": null,
   "id": "1c892cec-54b7-4bbe-ab29-91be8f9089f5",
   "metadata": {},
   "outputs": [],
   "source": []
  }
 ],
 "metadata": {
  "kernelspec": {
   "display_name": "Python (ssi2023)",
   "language": "python",
   "name": "ssi_torchvision"
  },
  "language_info": {
   "codemirror_mode": {
    "name": "ipython",
    "version": 3
   },
   "file_extension": ".py",
   "mimetype": "text/x-python",
   "name": "python",
   "nbconvert_exporter": "python",
   "pygments_lexer": "ipython3",
   "version": "3.11.6"
  }
 },
 "nbformat": 4,
 "nbformat_minor": 5
}
