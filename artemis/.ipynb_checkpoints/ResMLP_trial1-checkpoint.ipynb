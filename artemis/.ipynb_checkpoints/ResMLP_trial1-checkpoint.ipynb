{
 "cells": [
  {
   "cell_type": "code",
   "execution_count": 1,
   "id": "77dea0be-1626-4850-927f-adcf7ee4beae",
   "metadata": {},
   "outputs": [],
   "source": [
    "import torch\n",
    "import torch.nn as nn\n",
    "import torch.nn.functional as F"
   ]
  },
  {
   "cell_type": "markdown",
   "id": "9c130664-edd5-488d-98a5-7c64680b8557",
   "metadata": {},
   "source": [
    "- I want the ML to take as input 17 parameters corresponding to $[ \\{ \\alpha_i \\}, \\Omega_m, \\Omega_m h^2 ]$ and to output the luminosity distance of the SN as a function of z, i.e. $d_L(z)$.\n",
    "- In practice what I want is the ML to output an array of $d_L$, one of every bin in z. Therefore: $input = 1 \\times 17$ and $output=1 \\times N_{zbins}$."
   ]
  },
  {
   "cell_type": "code",
   "execution_count": 2,
   "id": "0dd8df65-a074-4bd2-a77f-7d906e249710",
   "metadata": {},
   "outputs": [],
   "source": [
    "device = torch.device(\"cuda\" if torch.cuda.is_available() else \"cpu\")"
   ]
  },
  {
   "cell_type": "code",
   "execution_count": 8,
   "id": "18314d38-eb2c-42f9-87f5-a6272a427b11",
   "metadata": {},
   "outputs": [],
   "source": [
    "## Here I define an affine layer which will take care of the data normalization. \n",
    "\n",
    "class Affine(nn.Module):\n",
    "    def __init__(self):\n",
    "        super(Affine,self).__init__\n",
    "        self.gain = nn.Parameter(torch.ones(1))\n",
    "        self.bias = nn.Parameter(torch.zeros(1))\n",
    "\n",
    "    def forward(self, x):\n",
    "        return self.gain * x + self.bias\n",
    "        "
   ]
  },
  {
   "cell_type": "code",
   "execution_count": 9,
   "id": "f6fe6a5c-5a64-47e2-8724-18f507e39426",
   "metadata": {},
   "outputs": [],
   "source": [
    "## Residual block - following the diagram in original ref: https://arxiv.org/pdf/1512.03385\n",
    "## Each block will have two linear layers.\n",
    "## The second activation is applied after I sum with the skip connection: ACT( F(x) + x )\n",
    "class ResBlock(nn.Module):\n",
    "    def __init__(self, in_size, out_size):\n",
    "        if in_size != out_size:\n",
    "            self.skip = nn.Linear(in_size, out_size, bias=False)\n",
    "        else:\n",
    "            self.skip = nn.Identity()\n",
    "            \n",
    "        self.linear1 = nn.Linear(in_size, out_size)\n",
    "        self.linear2 = nn.Linear(out_size, out_size)\n",
    "\n",
    "        self.norm1 = Affine()\n",
    "        self.norm2 = Affine()\n",
    "\n",
    "        self.act1 = nn.Relu()\n",
    "        self.act2 = nn.Relu()\n",
    "        \n",
    "    def forward(self,x):\n",
    "        xskip = self.skip(x)\n",
    "        x = self.act1(self.linear1(self.norm1(x)))\n",
    "        x = self.linear2(self.norm2(x))\n",
    "        out = self.act2(x + xskip)\n",
    "        return out\n",
    "        \n",
    "        "
   ]
  },
  {
   "cell_type": "code",
   "execution_count": null,
   "id": "7ba7a263-e6a3-434b-a73b-cda33d77b540",
   "metadata": {},
   "outputs": [],
   "source": [
    "class ResMLP(nn.Module):\n",
    "    def __init__(self, input_dim, output_dim, block_nums):\n",
    "        super(ResMLP,self).__init__()\n",
    "        \n",
    "        self.block = ResBlock()\n",
    "        # Pytorch list that saves the different layers. These layers are not connected in a NN yet.\n",
    "        self.modules = nn.ModuleList()\n",
    "        # Activation function to use\n",
    "        self.act = nn.Relu()\n",
    "        \n",
    "        # Write a for loop that controls how many ResBlocks I include in my full network\n",
    "        for i in range(block_nums):\n",
    "            self.modules.append(self.block(input_dim,input_dim))\n",
    "            \n",
    "        # The last layer I append in the nn.ModuleList is the fully connected linear layer (output layer of my NN)\n",
    "        self.modules.append(nn.Linear(input_dim, output_dim))\n",
    "        \n",
    "        def forward(x,output_dim):\n",
    "            ## I need to add one layer here to embed my input vector to the bigger internal space \n",
    "            # Connect the different blocks in the NN\n",
    "            for block in self.modules[:-1]:\n",
    "                x = self.act(block(x))\n",
    "            # Pass the output through the final fully connected linear layer\n",
    "            out = self.modules[-1](x)\n",
    "            \n",
    "            return out               \n",
    "        \n",
    "        \n",
    "        \n",
    "    \n",
    "    "
   ]
  },
  {
   "cell_type": "code",
   "execution_count": null,
   "id": "e7c8d84c-d2ae-4933-90c1-dd839d9bbbe9",
   "metadata": {},
   "outputs": [],
   "source": []
  }
 ],
 "metadata": {
  "kernelspec": {
   "display_name": "Python 3 (ipykernel)",
   "language": "python",
   "name": "python3"
  },
  "language_info": {
   "codemirror_mode": {
    "name": "ipython",
    "version": 3
   },
   "file_extension": ".py",
   "mimetype": "text/x-python",
   "name": "python",
   "nbconvert_exporter": "python",
   "pygments_lexer": "ipython3",
   "version": "3.10.8"
  }
 },
 "nbformat": 4,
 "nbformat_minor": 5
}
