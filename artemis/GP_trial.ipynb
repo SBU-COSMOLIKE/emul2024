{
 "cells": [
  {
   "cell_type": "code",
   "execution_count": 1,
   "id": "a06f087e-3a6d-4791-bc5e-015d3567577b",
   "metadata": {},
   "outputs": [],
   "source": [
    "import math\n",
    "import torch\n",
    "import gpytorch\n",
    "from matplotlib import pyplot as plt"
   ]
  },
  {
   "cell_type": "code",
   "execution_count": 2,
   "id": "4ed3080e-fd31-420a-80d3-13277d8ef629",
   "metadata": {},
   "outputs": [],
   "source": [
    "# Training data is 100 points in [0,1] inclusive regularly spaced\n",
    "train_x = torch.linspace(0, 1, 100)\n",
    "# True function is sin(2*pi*x) with Gaussian noise\n",
    "train_y = torch.sin(train_x * (2 * math.pi)) + torch.randn(train_x.size()) * math.sqrt(0.04)"
   ]
  },
  {
   "cell_type": "code",
   "execution_count": 3,
   "id": "2210384b-4ba4-408d-b9e1-909a53031436",
   "metadata": {},
   "outputs": [],
   "source": [
    "# We will use the simplest form of GP model, exact inference\n",
    "class ExactGPModel(gpytorch.models.ExactGP):\n",
    "    def __init__(self, train_x, train_y, likelihood):\n",
    "        super(ExactGPModel, self).__init__(train_x, train_y, likelihood)\n",
    "        self.mean_module = gpytorch.means.ConstantMean()\n",
    "        self.covar_module = gpytorch.kernels.ScaleKernel(gpytorch.kernels.RBFKernel())\n",
    "\n",
    "    def forward(self, x):\n",
    "        mean_x = self.mean_module(x)\n",
    "        covar_x = self.covar_module(x)\n",
    "        return gpytorch.distributions.MultivariateNormal(mean_x, covar_x)\n",
    "\n",
    "# initialize likelihood and model\n",
    "likelihood = gpytorch.likelihoods.GaussianLikelihood()\n",
    "model = ExactGPModel(train_x, train_y, likelihood)"
   ]
  },
  {
   "cell_type": "code",
   "execution_count": 4,
   "id": "8e54e1aa-332c-40da-949d-850b2d8ed69f",
   "metadata": {
    "scrolled": true
   },
   "outputs": [
    {
     "name": "stdout",
     "output_type": "stream",
     "text": [
      "Iter 1/50 - Loss: 0.932   lengthscale: 0.693   noise: 0.693\n",
      "Iter 2/50 - Loss: 0.900   lengthscale: 0.644   noise: 0.644\n",
      "Iter 3/50 - Loss: 0.866   lengthscale: 0.598   noise: 0.598\n",
      "Iter 4/50 - Loss: 0.829   lengthscale: 0.555   noise: 0.554\n",
      "Iter 5/50 - Loss: 0.787   lengthscale: 0.514   noise: 0.513\n",
      "Iter 6/50 - Loss: 0.741   lengthscale: 0.475   noise: 0.474\n",
      "Iter 7/50 - Loss: 0.692   lengthscale: 0.439   noise: 0.437\n",
      "Iter 8/50 - Loss: 0.642   lengthscale: 0.404   noise: 0.402\n",
      "Iter 9/50 - Loss: 0.595   lengthscale: 0.372   noise: 0.370\n",
      "Iter 10/50 - Loss: 0.551   lengthscale: 0.342   noise: 0.339\n",
      "Iter 11/50 - Loss: 0.512   lengthscale: 0.315   noise: 0.311\n",
      "Iter 12/50 - Loss: 0.476   lengthscale: 0.292   noise: 0.284\n",
      "Iter 13/50 - Loss: 0.442   lengthscale: 0.273   noise: 0.260\n",
      "Iter 14/50 - Loss: 0.409   lengthscale: 0.257   noise: 0.237\n",
      "Iter 15/50 - Loss: 0.376   lengthscale: 0.245   noise: 0.216\n",
      "Iter 16/50 - Loss: 0.344   lengthscale: 0.235   noise: 0.197\n",
      "Iter 17/50 - Loss: 0.313   lengthscale: 0.228   noise: 0.179\n",
      "Iter 18/50 - Loss: 0.281   lengthscale: 0.223   noise: 0.163\n",
      "Iter 19/50 - Loss: 0.251   lengthscale: 0.221   noise: 0.148\n",
      "Iter 20/50 - Loss: 0.220   lengthscale: 0.220   noise: 0.135\n",
      "Iter 21/50 - Loss: 0.191   lengthscale: 0.221   noise: 0.123\n",
      "Iter 22/50 - Loss: 0.163   lengthscale: 0.223   noise: 0.112\n",
      "Iter 23/50 - Loss: 0.137   lengthscale: 0.227   noise: 0.102\n",
      "Iter 24/50 - Loss: 0.112   lengthscale: 0.232   noise: 0.093\n",
      "Iter 25/50 - Loss: 0.089   lengthscale: 0.238   noise: 0.085\n",
      "Iter 26/50 - Loss: 0.068   lengthscale: 0.245   noise: 0.077\n",
      "Iter 27/50 - Loss: 0.050   lengthscale: 0.253   noise: 0.071\n",
      "Iter 28/50 - Loss: 0.035   lengthscale: 0.262   noise: 0.065\n",
      "Iter 29/50 - Loss: 0.023   lengthscale: 0.272   noise: 0.060\n",
      "Iter 30/50 - Loss: 0.014   lengthscale: 0.282   noise: 0.055\n",
      "Iter 31/50 - Loss: 0.009   lengthscale: 0.291   noise: 0.051\n",
      "Iter 32/50 - Loss: 0.006   lengthscale: 0.300   noise: 0.048\n",
      "Iter 33/50 - Loss: 0.007   lengthscale: 0.308   noise: 0.045\n",
      "Iter 34/50 - Loss: 0.009   lengthscale: 0.315   noise: 0.042\n",
      "Iter 35/50 - Loss: 0.013   lengthscale: 0.319   noise: 0.040\n",
      "Iter 36/50 - Loss: 0.017   lengthscale: 0.321   noise: 0.038\n",
      "Iter 37/50 - Loss: 0.020   lengthscale: 0.321   noise: 0.037\n",
      "Iter 38/50 - Loss: 0.023   lengthscale: 0.318   noise: 0.036\n",
      "Iter 39/50 - Loss: 0.025   lengthscale: 0.314   noise: 0.035\n",
      "Iter 40/50 - Loss: 0.027   lengthscale: 0.308   noise: 0.035\n",
      "Iter 41/50 - Loss: 0.027   lengthscale: 0.303   noise: 0.034\n",
      "Iter 42/50 - Loss: 0.027   lengthscale: 0.297   noise: 0.034\n",
      "Iter 43/50 - Loss: 0.026   lengthscale: 0.291   noise: 0.034\n",
      "Iter 44/50 - Loss: 0.025   lengthscale: 0.286   noise: 0.035\n",
      "Iter 45/50 - Loss: 0.022   lengthscale: 0.283   noise: 0.035\n",
      "Iter 46/50 - Loss: 0.020   lengthscale: 0.280   noise: 0.036\n",
      "Iter 47/50 - Loss: 0.018   lengthscale: 0.278   noise: 0.037\n",
      "Iter 48/50 - Loss: 0.015   lengthscale: 0.277   noise: 0.038\n",
      "Iter 49/50 - Loss: 0.013   lengthscale: 0.277   noise: 0.039\n",
      "Iter 50/50 - Loss: 0.010   lengthscale: 0.278   noise: 0.040\n"
     ]
    }
   ],
   "source": [
    "# this is for running the notebook in our testing framework\n",
    "import os\n",
    "smoke_test = ('CI' in os.environ)\n",
    "training_iter = 2 if smoke_test else 50\n",
    "\n",
    "\n",
    "# Find optimal model hyperparameters\n",
    "model.train()\n",
    "likelihood.train()\n",
    "\n",
    "# Use the adam optimizer\n",
    "optimizer = torch.optim.Adam(model.parameters(), lr=0.1)  # Includes GaussianLikelihood parameters\n",
    "\n",
    "# \"Loss\" for GPs - the marginal log likelihood\n",
    "mll = gpytorch.mlls.ExactMarginalLogLikelihood(likelihood, model)\n",
    "\n",
    "for i in range(training_iter):\n",
    "    # Zero gradients from previous iteration\n",
    "    optimizer.zero_grad()\n",
    "    # Output from model\n",
    "    output = model(train_x)\n",
    "    # Calc loss and backprop gradients\n",
    "    loss = -mll(output, train_y)\n",
    "    loss.backward()\n",
    "    print('Iter %d/%d - Loss: %.3f   lengthscale: %.3f   noise: %.3f' % (\n",
    "        i + 1, training_iter, loss.item(),\n",
    "        model.covar_module.base_kernel.lengthscale.item(),\n",
    "        model.likelihood.noise.item()\n",
    "    ))\n",
    "    optimizer.step()"
   ]
  },
  {
   "cell_type": "code",
   "execution_count": 6,
   "id": "60468178-775d-4d33-97ed-a71ade4be616",
   "metadata": {},
   "outputs": [],
   "source": [
    "# Get into evaluation (predictive posterior) mode\n",
    "model.eval()\n",
    "likelihood.eval()\n",
    "\n",
    "# Test points are regularly spaced along [0,1]\n",
    "# Make predictions by feeding model through likelihood\n",
    "with torch.no_grad(), gpytorch.settings.fast_pred_var():\n",
    "    test_x = torch.linspace(0, 1, 51)\n",
    "    observed_pred = likelihood(model(test_x))"
   ]
  },
  {
   "cell_type": "code",
   "execution_count": 8,
   "id": "237124e6-bd16-4c1b-a292-a9b0c4c8c34f",
   "metadata": {},
   "outputs": [
    {
     "data": {
      "image/png": "[encoded data removed]",
      "text/plain": [
       "<Figure size 500x400 with 1 Axes>"
      ]
     },
     "metadata": {},
     "output_type": "display_data"
    }
   ],
   "source": [
    "with torch.no_grad():\n",
    "    # Initialize plot\n",
    "    f, ax = plt.subplots(1, 1, figsize=(5, 4))\n",
    "\n",
    "    # Get upper and lower confidence bounds\n",
    "    lower, upper = observed_pred.confidence_region()\n",
    "    # Plot training data as black stars\n",
    "    ax.plot(train_x.numpy(), train_y.numpy(), 'k*')\n",
    "    # Plot predictive means as blue line\n",
    "    ax.plot(test_x.numpy(), observed_pred.mean.numpy(), 'b')\n",
    "    # Shade between the lower and upper confidence bounds\n",
    "    ax.fill_between(test_x.numpy(), lower.numpy(), upper.numpy(), alpha=0.5)\n",
    "    ax.set_ylim([-3, 3])\n",
    "    ax.legend(['Observed Data', 'Mean', 'Confidence'])"
   ]
  },
  {
   "cell_type": "code",
   "execution_count": null,
   "id": "88a9517d-482b-4d38-b927-5709cbac5527",
   "metadata": {},
   "outputs": [],
   "source": []
  }
 ],
 "metadata": {
  "kernelspec": {
   "display_name": "Python (ssi2023)",
   "language": "python",
   "name": "ssi_torchvision"
  },
  "language_info": {
   "codemirror_mode": {
    "name": "ipython",
    "version": 3
   },
   "file_extension": ".py",
   "mimetype": "text/x-python",
   "name": "python",
   "nbconvert_exporter": "python",
   "pygments_lexer": "ipython3",
   "version": "3.11.6"
  }
 },
 "nbformat": 4,
 "nbformat_minor": 5
}
