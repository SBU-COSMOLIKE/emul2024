{
 "cells": [
  {
   "cell_type": "code",
   "execution_count": 1,
   "id": "77dea0be-1626-4850-927f-adcf7ee4beae",
   "metadata": {},
   "outputs": [],
   "source": [
    "import torch\n",
    "import torch.nn as nn\n",
    "import torch.nn.functional as F\n",
    "import h5py\n",
    "import numpy as np \n",
    "from torch.utils.data import DataLoader, TensorDataset\n",
    "from torchvision import transforms\n",
    "from tqdm import tqdm\n",
    "import matplotlib.pyplot as plt\n"
   ]
  },
  {
   "cell_type": "markdown",
   "id": "9c130664-edd5-488d-98a5-7c64680b8557",
   "metadata": {},
   "source": [
    "- I want the ML to take as input 17 parameters corresponding to $[ \\{ \\alpha_i \\}, \\Omega_m, \\Omega_m h^2 ]$ and to output the luminosity distance of the SN as a function of z, i.e. $d_L(z)$.\n",
    "- In practice what I want is the ML to output an array of $d_L$, one of every bin in z. Therefore: $input = 1 \\times 17$ and $output=1 \\times N_{zbins}$."
   ]
  },
  {
   "cell_type": "code",
   "execution_count": 2,
   "id": "0dd8df65-a074-4bd2-a77f-7d906e249710",
   "metadata": {},
   "outputs": [
    {
     "data": {
      "text/plain": [
       "device(type='cuda')"
      ]
     },
     "execution_count": 2,
     "metadata": {},
     "output_type": "execute_result"
    }
   ],
   "source": [
    "device = torch.device(\"cuda\" if torch.cuda.is_available() else \"cpu\")\n",
    "device"
   ]
  },
  {
   "cell_type": "code",
   "execution_count": 3,
   "id": "8e1ce5b4-b00d-4f60-897f-7a70b61c83d7",
   "metadata": {},
   "outputs": [
    {
     "data": {
      "text/plain": [
       "<torch._C.Generator at 0x7f58614fb930>"
      ]
     },
     "execution_count": 3,
     "metadata": {},
     "output_type": "execute_result"
    }
   ],
   "source": [
    "torch.manual_seed(42)"
   ]
  },
  {
   "cell_type": "code",
   "execution_count": 4,
   "id": "bcbbc946-7541-49a8-a17a-14f5d51d0126",
   "metadata": {},
   "outputs": [],
   "source": [
    "def load_data_as_tensors(filename):\n",
    "    keys = []\n",
    "    values = []\n",
    "    with h5py.File(filename, 'r') as hf:\n",
    "        for group_name in hf.keys():\n",
    "            key = hf[group_name]['input_cosmo'][:]\n",
    "            value = hf[group_name]['LogdL'][:]\n",
    "            keys.append(key)\n",
    "            values.append(value)\n",
    "\n",
    "    keys = np.array(keys)\n",
    "    values = np.array(values)\n",
    "    \n",
    "    # Convert lists to PyTorch tensors\n",
    "    train_x = torch.tensor(keys, dtype=torch.float32)  # Assuming keys are numeric\n",
    "    train_y = torch.tensor(values, dtype=torch.float32)\n",
    "    \n",
    "    return train_x, train_y"
   ]
  },
  {
   "cell_type": "code",
   "execution_count": 5,
   "id": "51a57793-d225-457c-b608-dea3b295adba",
   "metadata": {},
   "outputs": [],
   "source": [
    "# data_x is a tensor that contains all the cosmo parameter input vectors\n",
    "# data_y is a tensor that contains all the output of logdL for each redshift bin and each combination of cosmo param input\n",
    "\n",
    "data_x, data_y = load_data_as_tensors('LogdL_trial.h5')\n",
    "dataset = TensorDataset(data_x, data_y)"
   ]
  },
  {
   "cell_type": "code",
   "execution_count": 6,
   "id": "f38f7964-fdf5-4125-94b8-d18fec5e4121",
   "metadata": {},
   "outputs": [],
   "source": [
    "## Split the data into training, validation and testing sets\n",
    "total_size = len(dataset)\n",
    "train_size = int(0.7 * total_size)  \n",
    "val_size = int(0.2 * total_size)    \n",
    "test_size = total_size - train_size - val_size  \n",
    "\n",
    "train_dataset, test_dataset, val_dataset = torch.utils.data.random_split(dataset, [train_size, test_size, val_size])"
   ]
  },
  {
   "cell_type": "code",
   "execution_count": 7,
   "id": "7fea45a0-be08-461b-88d5-921503efc4fb",
   "metadata": {},
   "outputs": [],
   "source": [
    "## Before I use the data for training, I need to normalize it.\n",
    "# Extract training data\n",
    "train_loader1 = torch.utils.data.DataLoader(train_dataset, batch_size=len(train_dataset), shuffle=False)\n",
    "train_data_x, train_data_y = next(iter(train_loader1))\n",
    "\n",
    "# Calculate mean and standard deviation\n",
    "# x corresponds to the cosmological parameters which is the input in my model\n",
    "# y corresponds to the \"labels/targets\" which is the logdL for each redshift bin\n",
    "train_mean_x = train_data_x.mean(dim=0)\n",
    "train_std_x = train_data_x.std(dim=0)\n",
    "\n",
    "train_mean_y = train_data_y.mean(dim=0)\n",
    "train_std_y = train_data_y.std(dim=0)\n",
    "\n",
    "# Define a function to normalize data using mean and std\n",
    "def normalize_data(data, mean, std):\n",
    "    return (data - mean) / std\n",
    "\n",
    "# Normalize the datasets\n",
    "train_data_x = normalize_data(train_data_x, train_mean_x, train_std_x)\n",
    "train_data_y = normalize_data(train_data_y, train_mean_y, train_std_y)\n",
    "\n",
    "# Repeat for validation and test datasets\n",
    "val_loader1 = DataLoader(val_dataset, batch_size=len(val_dataset), shuffle=False)\n",
    "val_data_x, val_data_y = next(iter(val_loader1))\n",
    "val_data_x = normalize_data(val_data_x, train_mean_x, train_std_x)\n",
    "val_data_y = normalize_data(val_data_y, train_mean_y, train_std_y)\n",
    "\n",
    "test_loader1 = DataLoader(test_dataset, batch_size=len(test_dataset), shuffle=False)\n",
    "test_data_x, test_data_y = next(iter(test_loader1))\n",
    "test_data_x = normalize_data(test_data_x, train_mean_x, train_std_x)\n",
    "test_data_y = normalize_data(test_data_y, train_mean_y, train_std_y)\n",
    "\n",
    "# Create new datasets with normalized data\n",
    "train_dataset_normalized = TensorDataset(train_data_x, train_data_y)\n",
    "val_dataset_normalized = TensorDataset(val_data_x, val_data_y)\n",
    "test_dataset_normalized = TensorDataset(test_data_x, test_data_y)\n",
    "\n",
    "# Create data loaders for each dataset\n",
    "## Split in batches\n",
    "batch_size = 32\n",
    "train_loader = DataLoader(train_dataset_normalized, batch_size=batch_size, shuffle=True)\n",
    "val_loader = DataLoader(val_dataset_normalized, batch_size=batch_size, shuffle=False)\n",
    "test_loader = DataLoader(test_dataset_normalized, batch_size=batch_size, shuffle=False)"
   ]
  },
  {
   "cell_type": "code",
   "execution_count": 8,
   "id": "18314d38-eb2c-42f9-87f5-a6272a427b11",
   "metadata": {},
   "outputs": [],
   "source": [
    "## Here I define an affine layer which will take care of the data normalization. \n",
    "\n",
    "class Affine(nn.Module):\n",
    "    def __init__(self):\n",
    "        super(Affine,self).__init__()\n",
    "        self.gain = nn.Parameter(torch.ones(1))\n",
    "        self.bias = nn.Parameter(torch.zeros(1))\n",
    "\n",
    "    def forward(self, x):\n",
    "        return self.gain * x + self.bias\n",
    "        "
   ]
  },
  {
   "cell_type": "code",
   "execution_count": 9,
   "id": "f6fe6a5c-5a64-47e2-8724-18f507e39426",
   "metadata": {},
   "outputs": [],
   "source": [
    "## Residual block - following the diagram in original ref: https://arxiv.org/pdf/1512.03385\n",
    "## Each block will have two linear layers.\n",
    "## The second activation is applied after I sum with the skip connection: ACT( F(x) + x )\n",
    "class ResBlock(nn.Module):\n",
    "    def __init__(self, in_size, out_size):\n",
    "        super(ResBlock,self).__init__()\n",
    "        if in_size != out_size:\n",
    "            self.skip = nn.Linear(in_size, out_size, bias=False)\n",
    "        else:\n",
    "            self.skip = nn.Identity()\n",
    "            \n",
    "        self.linear1 = nn.Linear(in_size, out_size)\n",
    "        self.linear2 = nn.Linear(out_size, out_size)\n",
    "\n",
    "        self.norm1 = Affine()\n",
    "        self.norm2 = Affine()\n",
    "\n",
    "        self.act1 = nn.ReLU()\n",
    "        self.act2 = nn.ReLU()\n",
    "        \n",
    "    def forward(self,x):\n",
    "        xskip = self.skip(x)\n",
    "        # x = self.act1(self.norm1(self.linear1(x)))\n",
    "        # x = self.norm2(self.linear2(x))\n",
    "        \n",
    "        x = self.act1(self.linear1(self.norm1(x)))\n",
    "        x = self.linear2(self.norm2(x))\n",
    "        \n",
    "        out = self.act2(x + xskip)\n",
    "        return out\n",
    "        \n",
    "        "
   ]
  },
  {
   "cell_type": "markdown",
   "id": "857943cf-b5c8-47a9-bc20-7f32c1c5ab27",
   "metadata": {},
   "source": [
    "- Be careful with the definition of ModuleList. .modules() is a function defined under the class nn.Module, so I cannot reuse that name for a different method in my class definition."
   ]
  },
  {
   "cell_type": "code",
   "execution_count": 10,
   "id": "7ba7a263-e6a3-434b-a73b-cda33d77b540",
   "metadata": {},
   "outputs": [],
   "source": [
    "class ResMLP(nn.Module):\n",
    "    def __init__(self, input_dim, output_dim, block_nums):\n",
    "        super(ResMLP,self).__init__()\n",
    "        \n",
    "        # Pytorch list that saves the different layers. These layers are not connected in a NN yet.\n",
    "        # self.modules = nn.ModuleList()\n",
    "        \n",
    "        # Activation function to use\n",
    "        self.act = nn.ReLU()\n",
    "        \n",
    "        # self.block = ResBlock(input_dim, input_dim)\n",
    "        # Write a for loop that controls how many ResBlocks I include in my full network\n",
    "        # for i in range(block_nums):\n",
    "        #     self.modules.append(self.block)\n",
    "        \n",
    "        self.mymodules = nn.ModuleList([ResBlock(input_dim, input_dim) for _ in range(block_nums)])   \n",
    "        \n",
    "        # The last layer I append in the nn.ModuleList is the fully connected linear layer (output layer of my NN)\n",
    "        self.mymodules.append(nn.Linear(input_dim, output_dim))\n",
    "        \n",
    "    def forward(self,x):\n",
    "        ## I need to add one layer here to embed my input vector to the bigger internal space \n",
    "        # Connect the different blocks in the NN\n",
    "        for block in self.mymodules[:-1]:\n",
    "            x = self.act(block(x))\n",
    "        # Pass the output through the final fully connected linear layer\n",
    "        out = self.mymodules[-1](x)\n",
    "        \n",
    "        return out                 \n"
   ]
  },
  {
   "cell_type": "code",
   "execution_count": 11,
   "id": "e185a254-9c27-4640-b551-e0c5dd76fcc7",
   "metadata": {},
   "outputs": [],
   "source": [
    "## Training \n",
    "model = ResMLP(4,500,2)\n",
    "model.to(device)\n",
    "epochs = 50\n",
    "train_losses = []\n",
    "val_losses = []\n",
    "criterion = nn.MSELoss()\n",
    "optimizer = torch.optim.SGD(model.parameters(),lr=1e-4)"
   ]
  },
  {
   "cell_type": "code",
   "execution_count": 12,
   "id": "b72f18cf-8a84-40ed-9c60-1fd23f142154",
   "metadata": {},
   "outputs": [
    {
     "name": "stdout",
     "output_type": "stream",
     "text": [
      "tensor(1.1824, device='cuda:0', grad_fn=<MseLossBackward0>)\n"
     ]
    }
   ],
   "source": [
    "for data, labels in train_loader:\n",
    "    data, labels = data.to(device), labels.to(device)\n",
    "    outputs = model(data)\n",
    "    print(criterion(outputs,labels))\n",
    "    break"
   ]
  },
  {
   "cell_type": "code",
   "execution_count": 13,
   "id": "74890007-a4f9-42d8-8ede-54a87a571bc3",
   "metadata": {},
   "outputs": [],
   "source": [
    "# ## Printing the initialization values of weights and biases\n",
    "# def print_initial_parameters(model):\n",
    "#     for name, param in model.named_parameters():\n",
    "#         if param.requires_grad:\n",
    "#             print(f\"Parameter: {name}, Initial value: {param.data}\")\n",
    "\n",
    "# print_initial_parameters(model)\n"
   ]
  },
  {
   "cell_type": "code",
   "execution_count": 14,
   "id": "2f01e862-8fc1-4263-8a49-6d64375776d5",
   "metadata": {},
   "outputs": [
    {
     "name": "stdout",
     "output_type": "stream",
     "text": [
      "Epoch [10/500], Train Loss: 1.2442, Val Loss: 1.2092\n",
      "Epoch [20/500], Train Loss: 1.2379, Val Loss: 1.2029\n",
      "Epoch [30/500], Train Loss: 1.2320, Val Loss: 1.1970\n",
      "Epoch [40/500], Train Loss: 1.2264, Val Loss: 1.1914\n",
      "Epoch [50/500], Train Loss: 1.2212, Val Loss: 1.1862\n",
      "Epoch [60/500], Train Loss: 1.2162, Val Loss: 1.1812\n",
      "Epoch [70/500], Train Loss: 1.2115, Val Loss: 1.1765\n",
      "Epoch [80/500], Train Loss: 1.2071, Val Loss: 1.1721\n",
      "Epoch [90/500], Train Loss: 1.2028, Val Loss: 1.1678\n",
      "Epoch [100/500], Train Loss: 1.1988, Val Loss: 1.1638\n",
      "Epoch [110/500], Train Loss: 1.1950, Val Loss: 1.1600\n",
      "Epoch [120/500], Train Loss: 1.1914, Val Loss: 1.1563\n",
      "Epoch [130/500], Train Loss: 1.1879, Val Loss: 1.1528\n",
      "Epoch [140/500], Train Loss: 1.1846, Val Loss: 1.1495\n",
      "Epoch [150/500], Train Loss: 1.1814, Val Loss: 1.1463\n",
      "Epoch [160/500], Train Loss: 1.1784, Val Loss: 1.1432\n",
      "Epoch [170/500], Train Loss: 1.1754, Val Loss: 1.1403\n",
      "Epoch [180/500], Train Loss: 1.1727, Val Loss: 1.1375\n",
      "Epoch [190/500], Train Loss: 1.1700, Val Loss: 1.1348\n",
      "Epoch [200/500], Train Loss: 1.1674, Val Loss: 1.1322\n",
      "Epoch [210/500], Train Loss: 1.1649, Val Loss: 1.1297\n",
      "Epoch [220/500], Train Loss: 1.1625, Val Loss: 1.1272\n",
      "Epoch [230/500], Train Loss: 1.1603, Val Loss: 1.1249\n",
      "Epoch [240/500], Train Loss: 1.1580, Val Loss: 1.1227\n",
      "Epoch [250/500], Train Loss: 1.1559, Val Loss: 1.1205\n",
      "Epoch [260/500], Train Loss: 1.1539, Val Loss: 1.1185\n",
      "Epoch [270/500], Train Loss: 1.1519, Val Loss: 1.1165\n",
      "Epoch [280/500], Train Loss: 1.1500, Val Loss: 1.1145\n",
      "Epoch [290/500], Train Loss: 1.1481, Val Loss: 1.1126\n",
      "Epoch [300/500], Train Loss: 1.1464, Val Loss: 1.1108\n",
      "Epoch [310/500], Train Loss: 1.1446, Val Loss: 1.1091\n",
      "Epoch [320/500], Train Loss: 1.1430, Val Loss: 1.1074\n",
      "Epoch [330/500], Train Loss: 1.1414, Val Loss: 1.1058\n",
      "Epoch [340/500], Train Loss: 1.1398, Val Loss: 1.1042\n",
      "Epoch [350/500], Train Loss: 1.1383, Val Loss: 1.1026\n",
      "Epoch [360/500], Train Loss: 1.1368, Val Loss: 1.1011\n",
      "Epoch [370/500], Train Loss: 1.1354, Val Loss: 1.0997\n",
      "Epoch [380/500], Train Loss: 1.1340, Val Loss: 1.0982\n",
      "Epoch [390/500], Train Loss: 1.1326, Val Loss: 1.0969\n",
      "Epoch [400/500], Train Loss: 1.1313, Val Loss: 1.0955\n",
      "Epoch [410/500], Train Loss: 1.1300, Val Loss: 1.0942\n",
      "Epoch [420/500], Train Loss: 1.1288, Val Loss: 1.0930\n",
      "Epoch [430/500], Train Loss: 1.1276, Val Loss: 1.0918\n",
      "Epoch [440/500], Train Loss: 1.1264, Val Loss: 1.0906\n",
      "Epoch [450/500], Train Loss: 1.1253, Val Loss: 1.0894\n",
      "Epoch [460/500], Train Loss: 1.1242, Val Loss: 1.0883\n",
      "Epoch [470/500], Train Loss: 1.1231, Val Loss: 1.0872\n",
      "Epoch [480/500], Train Loss: 1.1220, Val Loss: 1.0861\n",
      "Epoch [490/500], Train Loss: 1.1210, Val Loss: 1.0850\n",
      "Epoch [500/500], Train Loss: 1.1200, Val Loss: 1.0840\n"
     ]
    }
   ],
   "source": [
    "for epoch in range(epochs):\n",
    "    # Training\n",
    "    model.train()\n",
    "    train_loss = 0.0\n",
    "    for data, labels in train_loader:\n",
    "        data, labels = data.to(device), labels.to(device)\n",
    "        optimizer.zero_grad()\n",
    "        outputs = model(data)  \n",
    "        loss = criterion(outputs, labels)       \n",
    "        loss.backward()\n",
    "        optimizer.step()\n",
    "        train_loss += loss.item() * data.size(0)\n",
    "        \n",
    "        # Check gradients for NaNs\n",
    "        nan_found = False\n",
    "        for name, param in model.named_parameters():\n",
    "            if param.grad is not None:\n",
    "                if torch.isnan(param.grad).any():\n",
    "                    print(f\"NaNs found in gradients of {name} during training\")\n",
    "                    nan_found = True\n",
    "                    break\n",
    "        \n",
    "        if nan_found:\n",
    "            continue\n",
    "    train_loss /= len(train_dataset)\n",
    "    train_losses.append(train_loss)\n",
    "\n",
    "    # Validation\n",
    "    model.eval()\n",
    "    val_loss = 0.0\n",
    "    for data, labels in val_loader:\n",
    "        data, labels = data.to(device), labels.to(device)\n",
    "        outputs = model(data)\n",
    "        loss = criterion(outputs, labels)\n",
    "        val_loss += loss.item() * data.size(0)\n",
    "    val_loss /= len(val_dataset)\n",
    "    val_losses.append(val_loss)\n",
    "\n",
    "    if (epoch + 1) % 10 == 0:\n",
    "        print(f'Epoch [{epoch+1}/{epochs}], Train Loss: {train_loss:.4f}, Val Loss: {val_loss:.4f}')"
   ]
  },
  {
   "cell_type": "code",
   "execution_count": 15,
   "id": "ade10248-fc7c-4a3a-bc71-a0e27bc9f662",
   "metadata": {},
   "outputs": [
    {
     "data": {
      "image/png": "[encoded data removed]",
      "text/plain": [
       "<Figure size 800x600 with 1 Axes>"
      ]
     },
     "metadata": {},
     "output_type": "display_data"
    }
   ],
   "source": [
    "# Plot the training and validation losses\n",
    "plt.figure(figsize=(8, 6))\n",
    "plt.plot(range(1, len(train_losses) + 1), train_losses, label='Training Loss')\n",
    "plt.plot(range(1, len(val_losses) + 1), val_losses, label='Validation Loss')\n",
    "plt.xlabel('Epoch')\n",
    "plt.ylabel('Loss')\n",
    "plt.title('Training and Validation Loss')\n",
    "plt.legend()\n",
    "plt.show()"
   ]
  }
 ],
 "metadata": {
  "kernelspec": {
   "display_name": "Python (ssi2023)",
   "language": "python",
   "name": "ssi_torchvision"
  },
  "language_info": {
   "codemirror_mode": {
    "name": "ipython",
    "version": 3
   },
   "file_extension": ".py",
   "mimetype": "text/x-python",
   "name": "python",
   "nbconvert_exporter": "python",
   "pygments_lexer": "ipython3",
   "version": "3.11.6"
  }
 },
 "nbformat": 4,
 "nbformat_minor": 5
}
