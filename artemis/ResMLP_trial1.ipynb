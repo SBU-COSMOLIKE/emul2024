{
 "cells": [
  {
   "cell_type": "code",
   "execution_count": 27,
   "id": "77dea0be-1626-4850-927f-adcf7ee4beae",
   "metadata": {},
   "outputs": [],
   "source": [
    "import torch\n",
    "import torch.nn as nn\n",
    "import torch.nn.functional as F\n",
    "import h5py\n",
    "import numpy as np \n",
    "from torch.utils.data import DataLoader, TensorDataset\n",
    "from torchvision import transforms\n",
    "from tqdm import tqdm\n",
    "import matplotlib.pyplot as plt\n",
    "from scipy.stats import chi2"
   ]
  },
  {
   "cell_type": "markdown",
   "id": "9c130664-edd5-488d-98a5-7c64680b8557",
   "metadata": {},
   "source": [
    "- I want the ML to take as input 17 parameters corresponding to $[ \\{ \\alpha_i \\}, \\Omega_m, \\Omega_m h^2 ]$ and to output the luminosity distance of the SN as a function of z, i.e. $d_L(z)$.\n",
    "- In practice what I want is the ML to output an array of $d_L$, one of every bin in z. Therefore: $input = 1 \\times 17$ and $output=1 \\times N_{zbins}$."
   ]
  },
  {
   "cell_type": "code",
   "execution_count": 2,
   "id": "0dd8df65-a074-4bd2-a77f-7d906e249710",
   "metadata": {},
   "outputs": [
    {
     "data": {
      "text/plain": [
       "device(type='cuda')"
      ]
     },
     "execution_count": 2,
     "metadata": {},
     "output_type": "execute_result"
    }
   ],
   "source": [
    "device = torch.device(\"cuda\" if torch.cuda.is_available() else \"cpu\")\n",
    "device"
   ]
  },
  {
   "cell_type": "code",
   "execution_count": 3,
   "id": "8e1ce5b4-b00d-4f60-897f-7a70b61c83d7",
   "metadata": {},
   "outputs": [
    {
     "data": {
      "text/plain": [
       "<torch._C.Generator at 0x7f43400e78f0>"
      ]
     },
     "execution_count": 3,
     "metadata": {},
     "output_type": "execute_result"
    }
   ],
   "source": [
    "torch.manual_seed(13)"
   ]
  },
  {
   "cell_type": "markdown",
   "id": "193f9ad0-51be-40f5-9ff3-dc476854f1f2",
   "metadata": {},
   "source": [
    "# Load and normalize data"
   ]
  },
  {
   "cell_type": "code",
   "execution_count": 4,
   "id": "bcbbc946-7541-49a8-a17a-14f5d51d0126",
   "metadata": {},
   "outputs": [],
   "source": [
    "def load_data_as_tensors(filename):\n",
    "    keys = []\n",
    "    values = []\n",
    "    with h5py.File(filename, 'r') as hf:\n",
    "        for group_name in hf.keys():\n",
    "            key = hf[group_name]['input_cosmo'][:]\n",
    "            value = hf[group_name]['LogdL'][:]\n",
    "            keys.append(key)\n",
    "            values.append(value)\n",
    "\n",
    "    keys = np.array(keys)\n",
    "    values = np.array(values)\n",
    "    \n",
    "    # Convert lists to PyTorch tensors\n",
    "    train_x = torch.tensor(keys, dtype=torch.float32)  # Assuming keys are numeric\n",
    "    train_y = torch.tensor(values, dtype=torch.float32)\n",
    "    \n",
    "    return train_x, train_y"
   ]
  },
  {
   "cell_type": "markdown",
   "id": "79c6388c-4cf5-4f5e-aa94-01b567f6c793",
   "metadata": {},
   "source": [
    "- The Dataset is an abstraction to be able to load and process each sample of your dataset lazily, while the DataLoader takes care of shuffling/sampling/weigthed sampling, batching, using multiprocessing to load the data, use pinned memory etc.\n",
    "  \n",
    "  https://discuss.pytorch.org/t/what-do-tensordataset-and-dataloader-do/107017"
   ]
  },
  {
   "cell_type": "code",
   "execution_count": 5,
   "id": "51a57793-d225-457c-b608-dea3b295adba",
   "metadata": {},
   "outputs": [],
   "source": [
    "# data_x is a tensor that contains all the cosmo parameter input vectors\n",
    "# data_y is a tensor that contains all the output of logdL for each redshift bin and each combination of cosmo param input\n",
    "\n",
    "data_x, data_y = load_data_as_tensors('LogdL_trial.h5')\n",
    "dataset = TensorDataset(data_x, data_y)"
   ]
  },
  {
   "cell_type": "code",
   "execution_count": 6,
   "id": "f38f7964-fdf5-4125-94b8-d18fec5e4121",
   "metadata": {},
   "outputs": [],
   "source": [
    "## Split the data into training, validation and testing sets\n",
    "total_size = len(dataset)\n",
    "train_size = int(0.6 * total_size)  \n",
    "val_size = int(0.3 * total_size)    \n",
    "test_size = total_size - train_size - val_size  \n",
    "\n",
    "train_dataset, test_dataset, val_dataset = torch.utils.data.random_split(dataset, [train_size, test_size, val_size])"
   ]
  },
  {
   "cell_type": "markdown",
   "id": "5f37cfef-6806-4d0c-ab4a-9ef73c2fe218",
   "metadata": {},
   "source": [
    "- Before I use the data, i need to normalize it."
   ]
  },
  {
   "cell_type": "code",
   "execution_count": 7,
   "id": "ff742923-ab9b-45d8-8b41-fa16176cdc15",
   "metadata": {},
   "outputs": [],
   "source": [
    "# Extract training data from DataLoader object\n",
    "\n",
    "train_loader1 = torch.utils.data.DataLoader(train_dataset, batch_size=len(train_dataset), shuffle=False)\n",
    "\n",
    "for data, labels in train_loader1:\n",
    "    \n",
    "    train_x_mean = data.mean(dim=0)\n",
    "    train_x_std = data.std(dim=0)\n",
    "    \n",
    "    train_y_mean = labels.mean(dim=0)\n",
    "    train_y_std = labels.std(dim=0)\n",
    "\n",
    "# Define helper function that performs the data normalization\n",
    "def helper_normalizer(data, mean, std):\n",
    "    return (data - mean) / std\n",
    "    \n",
    "def normalize_data(dataset, mean_x, std_x, mean_y, std_y):\n",
    "    loader = torch.utils.data.DataLoader(dataset, batch_size=len(dataset), shuffle=False)\n",
    "    for data, labels in loader:\n",
    "        norm_data_x = helper_normalizer(data, mean_x, std_x)\n",
    "        norm_data_y = helper_normalizer(labels, mean_y, std_y)\n",
    "    return norm_data_x, norm_data_y\n",
    "\n",
    "# Normalize data tensors\n",
    "\n",
    "norm_train_x, norm_train_y = normalize_data(train_dataset, train_x_mean, train_x_std, train_y_mean, train_y_std)\n",
    "norm_val_x, norm_val_y = normalize_data(val_dataset, train_x_mean, train_x_std, train_y_mean, train_y_std)\n",
    "norm_test_x, norm_test_y = normalize_data(test_dataset, train_x_mean, train_x_std, train_y_mean, train_y_std)\n",
    "   \n",
    "# Create new datasets with normalized data\n",
    "train_dataset_normalized = TensorDataset(norm_train_x, norm_train_y)\n",
    "val_dataset_normalized = TensorDataset(norm_val_x, norm_val_y)\n",
    "test_dataset_normalized = TensorDataset(norm_test_x, norm_test_y)\n",
    "\n",
    "# Create data loaders for each of the new normalized datasets\n",
    "# Split in batches\n",
    "batch_size = 32\n",
    "train_loader = DataLoader(train_dataset_normalized, batch_size=batch_size, shuffle=True)\n",
    "val_loader = DataLoader(val_dataset_normalized, batch_size=batch_size, shuffle=False)\n",
    "test_loader = DataLoader(test_dataset_normalized, batch_size=batch_size, shuffle=False)\n",
    "\n",
    "\n",
    "    "
   ]
  },
  {
   "cell_type": "code",
   "execution_count": 8,
   "id": "6baad197-b6d2-4ac5-812f-d64931ecb6a3",
   "metadata": {},
   "outputs": [
    {
     "name": "stdout",
     "output_type": "stream",
     "text": [
      "data\n",
      "torch.Size([32, 4]) (tensor(0.9759), tensor(0.0822))\n",
      "labels\n",
      "torch.Size([32, 500]) (tensor(0.7996), tensor(-0.0718))\n"
     ]
    }
   ],
   "source": [
    "for data, label in train_loader:\n",
    "    print('data')\n",
    "    print(data.shape, torch.std_mean(data,dim = None) )\n",
    "    print('labels')\n",
    "    print(label.shape, torch.std_mean(label, dim=None))\n",
    "    break"
   ]
  },
  {
   "cell_type": "markdown",
   "id": "eca66823-2333-43d5-88a3-a276a5b9c1e6",
   "metadata": {},
   "source": [
    "# The NN"
   ]
  },
  {
   "cell_type": "code",
   "execution_count": 9,
   "id": "18314d38-eb2c-42f9-87f5-a6272a427b11",
   "metadata": {},
   "outputs": [],
   "source": [
    "## Here I define an affine layer which will take care of the data normalization. \n",
    "\n",
    "class Affine(nn.Module):\n",
    "    def __init__(self):\n",
    "        super(Affine,self).__init__()\n",
    "        self.gain = nn.Parameter(torch.ones(1))\n",
    "        self.bias = nn.Parameter(torch.zeros(1))\n",
    "\n",
    "    def forward(self, x):\n",
    "        return self.gain * x + self.bias\n",
    "        "
   ]
  },
  {
   "cell_type": "code",
   "execution_count": 10,
   "id": "f6fe6a5c-5a64-47e2-8724-18f507e39426",
   "metadata": {},
   "outputs": [],
   "source": [
    "## Residual block - following the diagram in original ref: https://arxiv.org/pdf/1512.03385\n",
    "## Each block will have two linear layers.\n",
    "## The second activation is applied after I sum with the skip connection: ACT( F(x) + x )\n",
    "class ResBlock(nn.Module):\n",
    "    def __init__(self, in_size, out_size):\n",
    "        super(ResBlock,self).__init__()\n",
    "        if in_size != out_size:\n",
    "            self.skip = nn.Linear(in_size, out_size, bias=False)\n",
    "        else:\n",
    "            self.skip = nn.Identity()\n",
    "            \n",
    "        self.linear1 = nn.Linear(in_size, out_size)\n",
    "        self.linear2 = nn.Linear(out_size, out_size)\n",
    "\n",
    "        self.norm1 = Affine()\n",
    "        self.norm2 = Affine()\n",
    "\n",
    "        self.act1 = nn.ReLU()\n",
    "        self.act2 = nn.ReLU()\n",
    "        \n",
    "    def forward(self,x):\n",
    "        xskip = self.skip(x)\n",
    "        # x = self.act1(self.norm1(self.linear1(x)))\n",
    "        # x = self.norm2(self.linear2(x))\n",
    "        \n",
    "        x = self.act1(self.linear1(self.norm1(x)))\n",
    "        x = self.linear2(self.norm2(x))\n",
    "        \n",
    "        out = self.act2(x + xskip)\n",
    "        return out\n",
    "        \n",
    "        "
   ]
  },
  {
   "cell_type": "markdown",
   "id": "857943cf-b5c8-47a9-bc20-7f32c1c5ab27",
   "metadata": {},
   "source": [
    "- Be careful with the definition of ModuleList. .modules() is a function defined under the class nn.Module, so I cannot reuse that name for a different method in my class definition."
   ]
  },
  {
   "cell_type": "code",
   "execution_count": 11,
   "id": "7ba7a263-e6a3-434b-a73b-cda33d77b540",
   "metadata": {},
   "outputs": [],
   "source": [
    "class ResMLP(nn.Module):\n",
    "    def __init__(self, input_dim, output_dim, block_nums):\n",
    "        super(ResMLP,self).__init__()\n",
    "        \n",
    "        # Pytorch list that saves the different layers. These layers are not connected in a NN yet.\n",
    "        # self.modules = nn.ModuleList()\n",
    "        \n",
    "        # Activation function to use\n",
    "        self.act = nn.ReLU()\n",
    "        \n",
    "        # self.block = ResBlock(input_dim, input_dim)\n",
    "        # Write a for loop that controls how many ResBlocks I include in my full network\n",
    "        # for i in range(block_nums):\n",
    "        #     self.modules.append(self.block)\n",
    "        \n",
    "        self.mymodules = nn.ModuleList([ResBlock(input_dim, input_dim) for _ in range(block_nums)])   \n",
    "        \n",
    "        # The last layer I append in the nn.ModuleList is the fully connected linear layer (output layer of my NN)\n",
    "        self.mymodules.append(nn.Linear(input_dim, output_dim))\n",
    "        \n",
    "    def forward(self,x):\n",
    "        ## I need to add one layer here to embed my input vector to the bigger internal space \n",
    "        # Connect the different blocks in the NN\n",
    "        for block in self.mymodules[:-1]:\n",
    "            x = self.act(block(x))\n",
    "        # Pass the output through the final fully connected linear layer\n",
    "        out = self.mymodules[-1](x)\n",
    "        \n",
    "        return out                 \n"
   ]
  },
  {
   "cell_type": "markdown",
   "id": "5b9ede7a-4a4d-4d1c-b6f3-df9ee2880f68",
   "metadata": {},
   "source": [
    "# Training"
   ]
  },
  {
   "cell_type": "code",
   "execution_count": 12,
   "id": "e185a254-9c27-4640-b551-e0c5dd76fcc7",
   "metadata": {},
   "outputs": [],
   "source": [
    "## Training \n",
    "model = ResMLP(4,500,1)\n",
    "model.to(device)\n",
    "epochs = 50\n",
    "train_losses = []\n",
    "val_losses = []\n",
    "criterion = nn.MSELoss()\n",
    "optimizer = torch.optim.SGD(model.parameters(),lr=1e-4)"
   ]
  },
  {
   "cell_type": "code",
   "execution_count": 13,
   "id": "5939ea87-5c3d-4133-833f-a3a9e91666c6",
   "metadata": {},
   "outputs": [
    {
     "data": {
      "text/plain": [
       "2544"
      ]
     },
     "execution_count": 13,
     "metadata": {},
     "output_type": "execute_result"
    }
   ],
   "source": [
    "model_parameters = filter(lambda p: p.requires_grad, model.parameters())\n",
    "params = sum([np.prod(p.size()) for p in model_parameters])\n",
    "params"
   ]
  },
  {
   "cell_type": "code",
   "execution_count": 14,
   "id": "b72f18cf-8a84-40ed-9c60-1fd23f142154",
   "metadata": {},
   "outputs": [
    {
     "name": "stdout",
     "output_type": "stream",
     "text": [
      "tensor(1.5469, device='cuda:0', grad_fn=<MseLossBackward0>)\n"
     ]
    }
   ],
   "source": [
    "for data, labels in train_loader:\n",
    "    data, labels = data.to(device), labels.to(device)\n",
    "    outputs = model(data)\n",
    "    print(criterion(outputs,labels))\n",
    "    break"
   ]
  },
  {
   "cell_type": "code",
   "execution_count": 15,
   "id": "74890007-a4f9-42d8-8ede-54a87a571bc3",
   "metadata": {},
   "outputs": [],
   "source": [
    "# ## Printing the initialization values of weights and biases\n",
    "# def print_initial_parameters(model):\n",
    "#     for name, param in model.named_parameters():\n",
    "#         if param.requires_grad:\n",
    "#             print(f\"Parameter: {name}, Initial value: {param.data}\")\n",
    "\n",
    "# print_initial_parameters(model)\n"
   ]
  },
  {
   "cell_type": "markdown",
   "id": "674a0c43-34f6-4bff-a64a-433205943aea",
   "metadata": {},
   "source": [
    "- Note: When I use the validation data during the training of my model, I want to set model.eval() such that the NN does not use this data to train the model. I also want to set torch.no_grad(), so that pytorch does not store the outputs of the activation functions -- therefore saving RAM."
   ]
  },
  {
   "cell_type": "code",
   "execution_count": 16,
   "id": "2f01e862-8fc1-4263-8a49-6d64375776d5",
   "metadata": {},
   "outputs": [
    {
     "name": "stdout",
     "output_type": "stream",
     "text": [
      "Epoch [10/50], Train Loss: 1.1641, Val Loss: 1.2380\n",
      "Epoch [20/50], Train Loss: 1.1614, Val Loss: 1.2352\n",
      "Epoch [30/50], Train Loss: 1.1588, Val Loss: 1.2324\n",
      "Epoch [40/50], Train Loss: 1.1562, Val Loss: 1.2297\n",
      "Epoch [50/50], Train Loss: 1.1537, Val Loss: 1.2271\n"
     ]
    }
   ],
   "source": [
    "for epoch in range(epochs):\n",
    "    # Training\n",
    "    model.train()\n",
    "    train_loss = 0.0\n",
    "    for data, labels in train_loader:\n",
    "        data, labels = data.to(device), labels.to(device)\n",
    "        optimizer.zero_grad()\n",
    "        outputs = model(data)  \n",
    "        loss = criterion(outputs, labels)       \n",
    "        loss.backward()\n",
    "        optimizer.step()\n",
    "        train_loss += loss.item() * data.size(0)\n",
    "        \n",
    "        # # Check gradients for NaNs\n",
    "        # nan_found = False\n",
    "        # for name, param in model.named_parameters():\n",
    "        #     if param.grad is not None:\n",
    "        #         if torch.isnan(param.grad).any():\n",
    "        #             print(f\"NaNs found in gradients of {name} during training\")\n",
    "        #             nan_found = True\n",
    "        #             break\n",
    "        \n",
    "        # if nan_found:\n",
    "        #     continue\n",
    "    train_loss /= len(train_dataset)\n",
    "    train_losses.append(train_loss)\n",
    "\n",
    "    # Validation\n",
    "    model.eval()\n",
    "    val_loss = 0.0\n",
    "    with torch.no_grad():\n",
    "        for data, labels in val_loader:\n",
    "            data, labels = data.to(device), labels.to(device)\n",
    "            outputs = model(data)\n",
    "            loss = criterion(outputs, labels)\n",
    "            val_loss += loss.item() * data.size(0)\n",
    "        val_loss /= len(val_dataset)\n",
    "        val_losses.append(val_loss)\n",
    "\n",
    "    if (epoch + 1) % 10 == 0:\n",
    "        print(f'Epoch [{epoch+1}/{epochs}], Train Loss: {train_loss:.4f}, Val Loss: {val_loss:.4f}')"
   ]
  },
  {
   "cell_type": "code",
   "execution_count": 17,
   "id": "ade10248-fc7c-4a3a-bc71-a0e27bc9f662",
   "metadata": {},
   "outputs": [
    {
     "data": {
      "image/png": "[encoded data removed]",
      "text/plain": [
       "<Figure size 800x600 with 1 Axes>"
      ]
     },
     "metadata": {},
     "output_type": "display_data"
    }
   ],
   "source": [
    "# Plot the training and validation losses\n",
    "plt.figure(figsize=(8, 6))\n",
    "plt.plot(np.linspace(0.5, len(train_losses) + 1), train_losses, marker='.', label='Training Loss Shifted')\n",
    "plt.plot(range(1, len(train_losses) + 1), train_losses, marker='.', label='Training Loss')\n",
    "plt.plot(range(1, len(val_losses) + 1), val_losses, marker='.', label='Validation Loss')\n",
    "plt.xlabel('Epoch')\n",
    "plt.ylabel('Loss')\n",
    "plt.title('Training and Validation Loss')\n",
    "plt.legend()\n",
    "plt.show()"
   ]
  },
  {
   "cell_type": "markdown",
   "id": "3a522102-30ef-471a-ab97-2d9817ef65ca",
   "metadata": {},
   "source": [
    "# Testing"
   ]
  },
  {
   "cell_type": "markdown",
   "id": "8729ddad-994b-4796-a07a-61b04392562e",
   "metadata": {},
   "source": [
    "- I can use MSE to assess the goodness of fit for the output of my model compared with the labels of the test data."
   ]
  },
  {
   "cell_type": "code",
   "execution_count": 18,
   "id": "60fb98a9-4354-4980-8c9c-e76a732af0da",
   "metadata": {},
   "outputs": [
    {
     "name": "stdout",
     "output_type": "stream",
     "text": [
      "Mean Squared Error: 0.0128\n"
     ]
    }
   ],
   "source": [
    "## Testing\n",
    "model.eval()\n",
    "test_loss = 0\n",
    "with torch.no_grad():\n",
    "    for data, labels in test_loader:\n",
    "        data, labels = data.to(device), labels.to(device)\n",
    "        predictions = model(data)\n",
    "        loss = nn.MSELoss()(predictions, labels)\n",
    "        test_loss += loss.item() \n",
    "        \n",
    "mse_loss = test_loss / len(val_dataset)\n",
    "print(f\"Mean Squared Error: {mse_loss:.4f}\")"
   ]
  },
  {
   "cell_type": "markdown",
   "id": "ea69d3cd-2366-4e5d-a62e-5eef51c62f5f",
   "metadata": {},
   "source": [
    "- I can use $\\chi^2$ test to check the goodness of fit for the outputs of my model. The problem with this is that some entries of my labels are zero.\n",
    "  \n",
    "  $\\chi^2 = \\sum \\frac{\\left( observed - expected \\right)^2}{expected}$"
   ]
  },
  {
   "cell_type": "code",
   "execution_count": 26,
   "id": "be308db5-876f-4e6e-a925-039807af2192",
   "metadata": {},
   "outputs": [
    {
     "name": "stdout",
     "output_type": "stream",
     "text": [
      "Chi-squared statistic: -2154.6802\n"
     ]
    }
   ],
   "source": [
    "model.eval()\n",
    "chi_sq = 0\n",
    "with torch.no_grad():\n",
    "    for data, labels in test_loader:\n",
    "        data, labels = data.to(device), labels.to(device)\n",
    "        pred = model(data)\n",
    "        res = pow((pred - labels), 2)\n",
    "        if torch.count_nonzero(labels) != labels.numel():\n",
    "            continue\n",
    "        \n",
    "        chi_sq += torch.sum(torch.div(res, labels))\n",
    "        #print(chi_sq.shape)\n",
    "     \n",
    "chi_sq = chi_sq.item()\n",
    "print(f\"Chi-squared statistic: {chi_sq:.4f}\")\n",
    "    \n"
   ]
  },
  {
   "cell_type": "code",
   "execution_count": 25,
   "id": "57a8e74b-120b-474d-ab36-562785dc2036",
   "metadata": {},
   "outputs": [
    {
     "name": "stdout",
     "output_type": "stream",
     "text": [
      "Chi-squared statistic: -2154.6802\n",
      "P-value: 1.0000\n",
      "The model's fit is considered good (fail to reject the null hypothesis).\n"
     ]
    }
   ],
   "source": [
    "model.eval()\n",
    "chi_sq = 0\n",
    "total_samples = 0\n",
    "\n",
    "with torch.no_grad():\n",
    "    for data, labels in test_loader:\n",
    "        data, labels = data.to(device), labels.to(device)\n",
    "        pred = model(data)\n",
    "        res = (pred - labels) ** 2\n",
    "        \n",
    "        # Check if any expected value (label) is zero and skip if true\n",
    "        if torch.count_nonzero(labels) != labels.numel():\n",
    "            continue\n",
    "        \n",
    "        chi_sq += torch.sum(res / labels)\n",
    "        total_samples += data.size(0)\n",
    "     \n",
    "chi_sq = chi_sq.item()\n",
    "\n",
    "# Degrees of freedom: number of elements per sample - 1, multiplied by the number of valid samples\n",
    "num_elements_per_sample = labels.size(1)\n",
    "df = (num_elements_per_sample - 1) * total_samples\n",
    "\n",
    "# Calculate p-value\n",
    "p_value = 1 - chi2.cdf(chi_sq, df)\n",
    "\n",
    "print(f\"Chi-squared statistic: {chi_sq:.4f}\")\n",
    "print(f\"P-value: {p_value:.4f}\")\n",
    "\n",
    "# Interpretation\n",
    "if p_value > 0.05:\n",
    "    print(\"The model's fit is considered good (fail to reject the null hypothesis).\")\n",
    "else:\n",
    "    print(\"The model's fit is considered poor (reject the null hypothesis).\")\n"
   ]
  }
 ],
 "metadata": {
  "kernelspec": {
   "display_name": "Python (ssi2023)",
   "language": "python",
   "name": "ssi_torchvision"
  },
  "language_info": {
   "codemirror_mode": {
    "name": "ipython",
    "version": 3
   },
   "file_extension": ".py",
   "mimetype": "text/x-python",
   "name": "python",
   "nbconvert_exporter": "python",
   "pygments_lexer": "ipython3",
   "version": "3.11.6"
  }
 },
 "nbformat": 4,
 "nbformat_minor": 5
}
