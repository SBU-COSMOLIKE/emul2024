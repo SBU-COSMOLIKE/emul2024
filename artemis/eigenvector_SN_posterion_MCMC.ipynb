{
 "cells": [
  {
   "cell_type": "code",
   "execution_count": 1,
   "id": "1ed50a3e-ee61-40a1-82ff-85048835289d",
   "metadata": {},
   "outputs": [],
   "source": [
    "import numpy as np \n",
    "import emcee\n",
    "import matplotlib.pyplot as pl\n",
    "from joblib import Parallel, delayed\n",
    "import matplotlib.pyplot as plt\n",
    "from scipy.interpolate import interp1d\n",
    "from scipy.stats import multivariate_normal\n",
    "import time \n",
    "import corner\n",
    "import h5py\n",
    "#import ipdb\n",
    "from scipy import integrate "
   ]
  },
  {
   "cell_type": "markdown",
   "id": "9ab1d176-b03a-477f-91e7-25eeff02ca9c",
   "metadata": {},
   "source": [
    "# Basic definitions"
   ]
  },
  {
   "cell_type": "code",
   "execution_count": 2,
   "id": "f3d35d35-d1c7-4737-ad42-027439457a62",
   "metadata": {},
   "outputs": [],
   "source": [
    "# magnitude of speed of light\n",
    "cmag = 149896229 / 500"
   ]
  },
  {
   "cell_type": "code",
   "execution_count": 3,
   "id": "3399e06b-87b4-47ee-832e-55e1e8b41389",
   "metadata": {},
   "outputs": [],
   "source": [
    "# Redshifts for the bins that we chose when we did the eigevector analysis with Fisher.\n",
    "zzmin = 0.03\n",
    "zzmax = 1.7\n",
    "zbins = zzmin + np.linspace(zzmin, zzmax, 500)\n"
   ]
  },
  {
   "cell_type": "markdown",
   "id": "238349d1-c7d7-4ab3-8b8f-3135ce7db168",
   "metadata": {},
   "source": [
    "- Import the eigenfunctions from the mathematica output file."
   ]
  },
  {
   "cell_type": "code",
   "execution_count": 4,
   "id": "146f39c2-1d7e-40e7-982f-9fbc1571153b",
   "metadata": {},
   "outputs": [
    {
     "data": {
      "text/plain": [
       "(500, 500)"
      ]
     },
     "execution_count": 4,
     "metadata": {},
     "output_type": "execute_result"
    }
   ],
   "source": [
    "# ## Add code here to read of the e_i eigenvectors\n",
    "# eigenvectors = [[0] * 850 for _ in range(500)]\n",
    "# eigenvectors = np.array(eigenvectors)\n",
    "\n",
    "eigenvectors = np.loadtxt(\"/gpfs/home/argiannakopo/cosmo_temp/eigenvectorsFisherTot.dat\")\n",
    "eigenvectors.shape"
   ]
  },
  {
   "cell_type": "code",
   "execution_count": 5,
   "id": "f534d9e5-20e1-4309-bf02-8ca4a966a588",
   "metadata": {},
   "outputs": [],
   "source": [
    "## Define DE equation of state as a sum over the eigenvectors times some coefficient alpha\n",
    "\n",
    "# This function returns an array [1, number of z bins] which corresponds DE EoS for each redshift in each bin.\n",
    "def w(alphas,eigenvectors):\n",
    "    \n",
    "    weighted_eigenvectors = alphas[:,np.newaxis] * eigenvectors\n",
    "\n",
    "    summed_vector = -1 + np.sum(weighted_eigenvectors, axis=0)\n",
    "\n",
    "    return -1 + summed_vector\n",
    "    \n",
    "    "
   ]
  },
  {
   "cell_type": "code",
   "execution_count": 6,
   "id": "a02ee10c-0a4c-47ee-b2c9-fde12a4e1357",
   "metadata": {},
   "outputs": [],
   "source": [
    "# # Test variables used to make sure things work. They have no meaning.\n",
    "# testbins = np.linspace(0.01,1,5)\n",
    "# testalp = np.linspace(0.01, 0.1, 5)\n",
    "# testvecs = np.array([[1] * 5 for _ in range(5)])\n",
    "# testsigma2 = np.linspace(0.1,0.2,5)"
   ]
  },
  {
   "cell_type": "code",
   "execution_count": 7,
   "id": "476dd140-641b-4f5c-9f96-2b8549775e73",
   "metadata": {},
   "outputs": [],
   "source": [
    "# def omegade(zbins, alphas, eigenvectors):\n",
    "\n",
    "#     base = (1 + zbins)\n",
    "#     power = 3 * ( 1 + w(alphas,eigenvectors))\n",
    "\n",
    "#     return base ** power\n",
    "\n",
    "## Different definition to avoid overflow errors\n",
    "def omegade(zbins, alphas, eigenvectors):\n",
    "    base = (1 + zbins)\n",
    "    power = 3 * (1 + w(alphas, eigenvectors))\n",
    "    \n",
    "    # Calculate the exponent using logarithm to avoid overflow\n",
    "    log_result = np.log(base) * power\n",
    "\n",
    "    # Take the exponent of the result to get the final value\n",
    "    return np.exp(log_result)\n",
    "    \n",
    "    "
   ]
  },
  {
   "cell_type": "code",
   "execution_count": 8,
   "id": "5593f9db-2dab-4c54-a43e-a1c9b54acfde",
   "metadata": {},
   "outputs": [],
   "source": [
    "# ## Different definition to avoid overflow errors\n",
    "# def omegade(zbins, alphas, eigenvectors):\n",
    "#     base = (1 + zbins)\n",
    "#     power = 3 * (1 + w(alphas, eigenvectors))\n",
    "    \n",
    "#     # Calculate the exponent using logarithm to avoid overflow\n",
    "#     log_result = np.log(base) * power\n",
    "\n",
    "#     # Take the exponent of the result to get the final value\n",
    "#     return np.exp(log_result)"
   ]
  },
  {
   "cell_type": "markdown",
   "id": "54f1f1d3-686d-4ef0-8c18-430fc5a414f0",
   "metadata": {},
   "source": [
    "- The way I defined things, I have an issue with luminosity distance $d_L$ since my bins from summing the eigenvectors go from $z_{min}$ to $z_{max}$ with $z_{min} \\neq 0$. However, in the definition of the luminosity distance I have an integral from 0 to z. To deal with this part of $z < z_{min}$, I will evaluate a constant factor with $w_{DE} = w_{fid} = -1$ and add this to each element of the array within the zbins that I care about.\n"
   ]
  },
  {
   "cell_type": "code",
   "execution_count": 9,
   "id": "8786e04a-157f-4eff-8f72-7d19ff3ed902",
   "metadata": {},
   "outputs": [],
   "source": [
    "## I need to figure out how to define angular distance \n",
    "\n",
    "def hubble(zbins, alphas, eigenvectors, H0, Om, Ok ):\n",
    "\n",
    "    x = 1 - Om - Ok \n",
    "    \n",
    "    if x < 0:\n",
    "        print(\"Error: Bad Input, Om, Ok\")\n",
    "    else:\n",
    "        return np.array( H0 * np.sqrt( Om * ( 1 + zbins) ** 3 + x * omegade(zbins, alphas, eigenvectors) + Ok * (1 + zbins)**2) )\n",
    "\n"
   ]
  },
  {
   "cell_type": "code",
   "execution_count": 10,
   "id": "731a5636-ee30-44ef-a2f0-97f7becb0255",
   "metadata": {},
   "outputs": [],
   "source": [
    "## Define the comoving distance. \n",
    "## Since the zbins start at zmin, I will break the integral in two pieces: [0,zmin) and [zmin,z]\n",
    "\n",
    "# ## This function return a numpy array that gives the comoving distance at each redshift bin. \n",
    "# def comov_dist(zbins, alphas, eigenvectors, H0, Om, Ok):\n",
    "#     x = 1 - Om - Ok\n",
    "#     if x < 0:\n",
    "#         return print('Comoving dist: Bad Input, Om, Ok')\n",
    "#     else:\n",
    "#         # Bin the [0, zmin] interval and do the integration\n",
    "#         x1, x2 = 0, zbins[0]\n",
    "#         Nx = 5 + 5 * int(abs(x2 - x1) * 100)\n",
    "#         dx = (x2 - x1) / Nx\n",
    "#         dz = zbins[1] - zbins[0]\n",
    "#         less_zmin_arr = Parallel(n_jobs=-1)(delayed(lambda i: dx / (H0 * np.sqrt(Om * (1 + x1 + dx * i)**3 + x * (1+ x1 + dx * i) + Ok * (1 + x1 + dx * i)**2)))(i) for i in range(0, Nx))\n",
    "#         less_zmin =  np.sum(less_zmin_arr)\n",
    "        \n",
    "#         return cmag * less_zmin +  cmag * np.cumsum( dz / hubble(zbins, alphas, eigenvectors, H0, Om, Ok))\n",
    "    \n",
    "## Define the comoving distance. \n",
    "## Since the zbins start at zmin, I will break the integral in two pieces: [0,zmin) and [zmin,z]\n",
    "\n",
    "## This function return a numpy array that gives the comoving distance at each redshift bin. \n",
    "def comov_dist(zbins, alphas, eigenvectors, H0, Om, Ok):\n",
    "    x = 1 - Om - Ok\n",
    "    if x < 0:\n",
    "        return print('Comoving dist: Bad Input, Om, Ok')\n",
    "    else:\n",
    "        # Write the comoving distance function for z < zmin where w_de = -1, so that I can use scipy to do the integration for that part\n",
    "        def f(x1,x, H0, Om, Ok):\n",
    "            return 1 / ( H0 * np.sqrt( Om * pow(1+x1 ,3 ) + x * (1 + x1) + Ok * pow(1+x1, 2)))\n",
    "            \n",
    "        less_zmin = integrate.quad(f, 0, zbins[0], args=(x, H0, Om, Ok))\n",
    "        # # Bin the [0, zmin] interval and do the integration\n",
    "        # x1, x2 = 0, zbins[0]\n",
    "        # Nx = 5 + 5 * int(abs(x2 - x1) * 100)\n",
    "        # dx = (x2 - x1) / Nx\n",
    "        dz = zbins[1] - zbins[0]\n",
    "        # less_zmin_arr = Parallel(n_jobs=-1)(delayed(lambda i: dx / (H0 * np.sqrt(Om * (1 + x1 + dx * i)**3 + x * (1+ x1 + dx * i) + Ok * (1 + x1 + dx * i)**2)))(i) for i in range(0, Nx))\n",
    "        # less_zmin =  np.sum(less_zmin_arr)\n",
    "       \n",
    "        return cmag * less_zmin[0] +  cmag * np.cumsum( dz / hubble(zbins, alphas, eigenvectors, H0, Om, Ok))\n",
    "    \n",
    "    "
   ]
  },
  {
   "cell_type": "code",
   "execution_count": 11,
   "id": "80315766-0dc5-4a93-81e9-1b47a0fcdeca",
   "metadata": {},
   "outputs": [],
   "source": [
    "## Returns an array of luminosity distances at each redshift z \n",
    "def lum_distance(zbins, alphas, eigenvectors, H0, Om, Ok):\n",
    "    z_shifted = 1 + zbins\n",
    "\n",
    "    return z_shifted * comov_dist(zbins, alphas, eigenvectors, H0, Om, Ok)\n",
    "    "
   ]
  },
  {
   "cell_type": "code",
   "execution_count": 12,
   "id": "e91a9ad8-8e09-4b7b-9f12-60936ecf8792",
   "metadata": {},
   "outputs": [],
   "source": [
    "# ## Testing\n",
    "# lum_distance(testbins, testalp, testvecs, 73, 0.24, 0.0)"
   ]
  },
  {
   "cell_type": "code",
   "execution_count": 13,
   "id": "015aabe7-6a21-483d-97c8-8b479d23a948",
   "metadata": {},
   "outputs": [],
   "source": [
    "# Define the logarithm of dL\n",
    "# Returns the logarithm of the array of luminosity distance for each redshift bin\n",
    "def log_h0dl(zbins, alphas, eigenvectors, H0, Om, Ok):\n",
    "    return np.log10( (H0 / cmag) * lum_distance(zbins, alphas, eigenvectors, H0, Om, Ok))\n",
    "    \n",
    "\n"
   ]
  },
  {
   "cell_type": "code",
   "execution_count": 14,
   "id": "1fb7599b-8c68-45fe-8ac0-5113a3f3c2b0",
   "metadata": {},
   "outputs": [],
   "source": [
    "# ## Testing\n",
    "# start_time = time.time()\n",
    "# x = log_h0dl(testbins, testalp, testvecs, 74, 0.24, 0.0)\n",
    "# end_time = time.time()\n",
    "# print(\"time it took:\", end_time - start_time)\n",
    "# x\n"
   ]
  },
  {
   "cell_type": "markdown",
   "id": "260c60df-7305-4caa-96bb-8a4d43fa19cc",
   "metadata": {},
   "source": [
    "# SN $\\sigma^2$ definition"
   ]
  },
  {
   "cell_type": "code",
   "execution_count": 15,
   "id": "f7386f49-3e58-464b-9482-ac4cf248ff21",
   "metadata": {},
   "outputs": [],
   "source": [
    "NSN = [0, 300, 35, 64, 95, 124, 150, 171, 183, 179, 170, 155, 142, 130, 119, 107, 94, 80, 0]\n",
    "zSN = [0.03, 0.05, 0.1, 0.2, 0.3, 0.4, 0.5, 0.6, 0.7, 0.8, 0.9, 1.0, 1.1, 1.2, 1.3, 1.4, 1.5, 1.6, 1.75]\n",
    "SNpoints = list(zip(zSN, NSN))\n"
   ]
  },
  {
   "cell_type": "code",
   "execution_count": 16,
   "id": "98301b7c-eddf-46f5-b81d-0550e8ebc9d2",
   "metadata": {},
   "outputs": [],
   "source": [
    "# Create an interpolation function for the number of SN \n",
    "\n",
    "fNSN = interp1d(zSN, NSN, kind='linear', fill_value='extrapolate')\n",
    "\n",
    "\n",
    "# # Generate new z values for interpolation\n",
    "# z_values_interpolated = np.linspace(min(zSN), max(zSN), 1000)\n",
    "\n",
    "# # Interpolate NSN values for the new z values\n",
    "# NSN_interpolated = fNSN(z_values_interpolated)\n"
   ]
  },
  {
   "cell_type": "code",
   "execution_count": 17,
   "id": "09e6d7b8-5ed9-4927-baa9-6916c402b862",
   "metadata": {},
   "outputs": [],
   "source": [
    "zBinsFisher = np.linspace(0.0334, 1.7, 500)\n",
    "\n",
    "# This function returns the sigma^2 error defined in equation (A2)\n",
    "\n",
    "def Sigma2SNFisher(i, Nz):        \n",
    "    zzmin = 0.0334\n",
    "    zzmax = 1.7\n",
    "    zBinsFisher = np.linspace(zzmin, zzmax, Nz + 1)\n",
    "\n",
    "    if i > len(zBinsFisher):\n",
    "        raise ValueError(\"Index 'i' is out of range.\")\n",
    "\n",
    "    dz1 = 0.1\n",
    "    dz2 = 0.07\n",
    "    tmp = zBinsFisher[1] - zBinsFisher[0]\n",
    "\n",
    "    z_i = zBinsFisher[i]  \n",
    "\n",
    "    if z_i < 0.1:\n",
    "        return dz2 / tmp * (0.15**2 / fNSN(z_i) + 0.02**2 * ((1 + z_i) / 2.7)**2)\n",
    "    else:\n",
    "        return dz1 / tmp * (0.15**2 / fNSN(z_i) + 0.02**2 * ((1 + z_i) / 2.7)**2)"
   ]
  },
  {
   "cell_type": "code",
   "execution_count": 18,
   "id": "49701e12-c2c2-4d8a-a206-972fd9005b2c",
   "metadata": {},
   "outputs": [
    {
     "data": {
      "image/png": "[encoded data removed]",
      "text/plain": [
       "<Figure size 400x300 with 1 Axes>"
      ]
     },
     "metadata": {},
     "output_type": "display_data"
    }
   ],
   "source": [
    "# Test plot to make sure everything works so far\n",
    "\n",
    "i_values = range(0, len(zBinsFisher))\n",
    "\n",
    "# Compute Sigma2SNFisher for each i value (each redshift bin of interest)\n",
    "sigma2_values = [Sigma2SNFisher(i,500) for i in i_values]\n",
    "sigma2_values = np.array(sigma2_values)\n",
    "\n",
    "# Plot\n",
    "plt.figure(figsize=(4, 3))\n",
    "plt.plot(i_values, sigma2_values, linestyle='-', color='b')\n",
    "plt.xlabel('i')\n",
    "plt.ylabel('Sigma2SNFisher')\n",
    "plt.grid(True)\n",
    "plt.show()"
   ]
  },
  {
   "cell_type": "markdown",
   "id": "64c0db3d-37ea-42ae-b360-4fea2679f7b7",
   "metadata": {},
   "source": [
    "# SN $\\chi^2$ definition"
   ]
  },
  {
   "cell_type": "code",
   "execution_count": 19,
   "id": "c1de2e42-f816-49ea-a21b-71bb2ea1dc3e",
   "metadata": {},
   "outputs": [],
   "source": [
    "#############################################\n",
    "### NOT SURE THIS IS NEEDED -- CHECK IT ####\n",
    "###########################################\n",
    "\n",
    "# # Interpolate the expressions of the eigenfunctions for the z range that I care about [0.03,1.7]\n",
    "# eigenvec_interp = [[0] * len(eigenvectors[0]) for _ in range(len(eigenvectors))]\n",
    "\n",
    "# for i in range(len(eigenvectors)):\n",
    "#     interp_fun = interp1d(zbins, eigenvectors[i], kind='linear')\n",
    "#     eigenvec_interp[i] = interp_fun(zBinsFisher)\n",
    "\n",
    "# eigenvec_interp = np.array(eigenvec_interp)\n",
    "# eigenvec_interp.shape"
   ]
  },
  {
   "cell_type": "markdown",
   "id": "1b43a70a-c192-473d-8c51-dedca64dfa1a",
   "metadata": {},
   "source": [
    "Now I have a table 500x500 that only includes the eigenvectors in the redshift range that I am interested in. For the rest I need to use zBinsFisher instead of zbins."
   ]
  },
  {
   "cell_type": "code",
   "execution_count": 20,
   "id": "8cdd2bc2-e4d6-4ed0-8864-785220c94b45",
   "metadata": {},
   "outputs": [],
   "source": [
    "# This function takes as input the zbins, amplitudes alpha, eigenvectors,  error values and cosmo parameters\n",
    "# and returns the chi^2 based on SN (equation A6 from ref)\n",
    "\n",
    "def chi_squared_sn(alphas, Om, Omh2, Ok, zBinsFisher, eigenvectors, sigma2_values):\n",
    "    \n",
    "    H0 = np.sqrt(Omh2/Om) * 100\n",
    "    # Difference between MCMC model and fiducial model\n",
    "    alphas_fid = np.array([0] * len(eigenvectors))\n",
    "    diff = log_h0dl(zBinsFisher, alphas, eigenvectors, H0, Om, Ok) - log_h0dl(zBinsFisher, alphas_fid, eigenvectors, 73, 0.24, 0.0)\n",
    "\n",
    "    return 5 * np.sum( diff**2 / sigma2_values) - 25 * np.sum(diff / sigma2_values) / np.sum(1 / sigma2_values)  \n",
    "    \n"
   ]
  },
  {
   "cell_type": "code",
   "execution_count": 21,
   "id": "325e300c-b57b-4f79-b5e1-3d55341a1cf2",
   "metadata": {},
   "outputs": [],
   "source": [
    "# ## Testing\n",
    "# chi_squared_sn(testbins, testalp, testvecs, testsigma2, 73, 0.24, 0.0 )"
   ]
  },
  {
   "cell_type": "markdown",
   "id": "ef2f9501-420c-4841-842f-e20eac55618a",
   "metadata": {},
   "source": [
    "# Definition of CMB part including radiation"
   ]
  },
  {
   "cell_type": "code",
   "execution_count": 22,
   "id": "8b91fa17-cf91-435b-823b-da06bdbad39f",
   "metadata": {},
   "outputs": [],
   "source": [
    "# Define some basic parameters following the PCA construnction\n",
    "\n",
    "NNU = 3.04\n",
    "TCMB = 2.725\n",
    "OGhh = 4.4856e-7 * TCMB ** 4\n",
    "ONhh = 1.0187e-7 * NNU * TCMB ** 4\n",
    "ORhh = ONhh + OGhh\n",
    "zrec = 1090"
   ]
  },
  {
   "cell_type": "code",
   "execution_count": 23,
   "id": "fadf66d8-b684-4f59-9c5f-458accb6eac4",
   "metadata": {},
   "outputs": [],
   "source": [
    "# covariance matrix\n",
    "CMBCov = np.array([[0.0018**2, -(0.0014)**2],[-(0.0014)**2, 0.0011**2]])\n",
    "invCMBCov = np.linalg.inv(CMBCov)"
   ]
  },
  {
   "cell_type": "markdown",
   "id": "9c544056-34bd-48b4-a428-94df403c7058",
   "metadata": {},
   "source": [
    "- In this case again I need to be careful how I define the distances because I care about $z_{rec}=1090$."
   ]
  },
  {
   "cell_type": "code",
   "execution_count": 24,
   "id": "5354c5ba-7d48-4cd3-9e90-2e51feadb000",
   "metadata": {},
   "outputs": [],
   "source": [
    "## I need to figure out how to define angular distance \n",
    "\n",
    "def hubble_rad(zbins, alphas, eigenvectors, Omh2, Om, Ok, ORhh):\n",
    "\n",
    "    h2 = Omh2 / Om\n",
    "    x = h2 - Omh2 - Ok * h2 - ORhh\n",
    "\n",
    "    if x < 0:\n",
    "        print(\"Error: Bad Input, x\")\n",
    "    else:\n",
    "        return np.array( 100 * np.sqrt( Omh2 * (1 + zbins) ** 3 + x * omegade(zbins, alphas, eigenvectors) + Ok * h2 * (1 + zbins)**3 + ORhh * (1+zbins)**4 ) )\n",
    "\n"
   ]
  },
  {
   "cell_type": "code",
   "execution_count": 25,
   "id": "4ccea149-b9ac-4b2c-8c33-86600c5b019e",
   "metadata": {},
   "outputs": [],
   "source": [
    "# ## Testing\n",
    "# hubble_rad(testbins, testalp, testvecs, 0.24*0.73**2, 0.24, 0.0, ORhh)"
   ]
  },
  {
   "cell_type": "markdown",
   "id": "0fbdd3f9-1f74-416e-8d94-6abae134f32f",
   "metadata": {},
   "source": [
    "- I need to redefine the comoving distance using the new Hubble function"
   ]
  },
  {
   "cell_type": "code",
   "execution_count": 26,
   "id": "680da832-e1f0-4993-a7e9-bc2d3b3fb828",
   "metadata": {},
   "outputs": [],
   "source": [
    "# ## This function return the comoving distance to redshift z. \n",
    "# ## Here I want to extend to redshifts that are zmax of the zbins. \n",
    "\n",
    "# def comov_dist_rad(z, zbins, alphas, eigenvectors, Omh2, Om, Ok, ORhh):\n",
    "    \n",
    "#     h2 = Omh2 / Om\n",
    "#     x = h2 - Omh2 - Ok * h2 - ORhh\n",
    "    \n",
    "#     if x < 0:\n",
    "#         return print('Comoving dist rad: Bad Input, Om, Ok')\n",
    "#     else:\n",
    "#         if z < zbins[0]:\n",
    "#             # Bin the [0, zmin] interval and do the integration\n",
    "#             x1, x2 = 0, z\n",
    "#             Nx = 5 + 5 * int(abs(x2 - x1) * 100)\n",
    "#             dx = (x2 - x1) / Nx\n",
    "#             less_zmin_arr = Parallel(n_jobs=-1)(delayed(lambda i: dx / (100 * np.sqrt(Omh2 * (1 + x1 + dx * i)**3 \n",
    "#                                                                                       + x * (1+ x1 + dx * i) + Ok * h2 * (1 + x1 + dx * i)**3 + ORhh * (1+ x1 + dx * i) ** 4)))(i) for i in range(0, Nx))\n",
    "#             less_zmin =  np.sum(less_zmin_arr)\n",
    "            \n",
    "#             return cmag * less_zmin \n",
    "            \n",
    "#         if z <= zbins[-1] and z >= zbins[0]:\n",
    "#             # Bin the [0, zmin] interval and do the integration\n",
    "#             x1, x2 = 0, zbins[0]\n",
    "#             Nx = 5 + 5 * int(abs(x2 - x1) * 100)\n",
    "#             dx = (x2 - x1) / Nx\n",
    "#             dz = zbins[1] - zbins[0]\n",
    "#             less_zmin_arr = Parallel(n_jobs=-1)(delayed(lambda i: dx / (100 * np.sqrt(Omh2 * (1 + x1 + dx * i)**3 \n",
    "#                                                                                       + x * (1+ x1 + dx * i) + Ok * h2 * (1 + x1 + dx * i)**3 + ORhh * (1+ x1 + dx * i) ** 4)))(i) for i in range(0, Nx))\n",
    "#             less_zmin =  np.sum(less_zmin_arr)\n",
    "#             # Use boolean mask to only sum up to z and not the rest of the bins. \n",
    "#             z_mask = zbins <= z \n",
    "            \n",
    "#             # Discard the z bins that exceed z\n",
    "#             zbins = zbins[z_mask]\n",
    "            \n",
    "#             # Discard the eigenvector bins that exceed z.\n",
    "#             eigenvectors = eigenvectors[:,:len(zbins)]\n",
    "            \n",
    "#             return cmag * less_zmin +  cmag * np.sum( dz / hubble_rad(zbins, alphas, eigenvectors, Omh2, Om, Ok, ORhh))\n",
    "    \n",
    "            \n",
    "#         else:\n",
    "#             # Bin the [0, zmin] interval and do the integration\n",
    "#             x1, x2 = 0, zbins[0]\n",
    "#             Nx = 5 + 5 * int(abs(x2 - x1) * 100)\n",
    "#             dx = (x2 - x1) / Nx\n",
    "#             dz = zbins[1] - zbins[0]\n",
    "#             less_zmin_arr = Parallel(n_jobs=-1)(delayed(lambda i: dx / (100 * np.sqrt(Omh2 * (1 + x1 + dx * i)**3 \n",
    "#                                                                                       + x * (1+ x1 + dx * i) + Ok * h2 * (1 + x1 + dx * i)**3 + ORhh * (1+ x1 + dx *i) ** 4)))(i) for i in range(0, Nx))\n",
    "#             less_zmin =  np.sum(less_zmin_arr)\n",
    "\n",
    "#             x3, x4 = zbins[-1], z\n",
    "#             Nx2 = 5 + 5 * int(abs(x4 - x3) * 100)\n",
    "#             dx2 =(x4 - x3 ) / Nx2\n",
    "#             larger_zmax_arr = Parallel(n_jobs=-1)(delayed(lambda i: dx2 / (100 * np.sqrt(Omh2 * (1 + x1 + dx * i)**3 \n",
    "#                                                                                       + x * (1+ x1 + dx * i) + Ok * h2 * (1 + x1 + dx * i)**3 + ORhh * (1+ x1 + dx * i) ** 4)))(i) for i in range(0, Nx2))\n",
    "#             larger_zmax = np.sum(larger_zmax_arr)\n",
    "            \n",
    "#             return cmag * less_zmin +  cmag * np.sum( dz / hubble_rad(zbins, alphas, eigenvectors, Omh2, Om, Ok, ORhh)) + cmag * larger_zmax\n",
    "            \n",
    "        "
   ]
  },
  {
   "cell_type": "code",
   "execution_count": 27,
   "id": "fe1e96a0-6a1b-4d35-930e-0d6f5a710c61",
   "metadata": {},
   "outputs": [],
   "source": [
    "# ## Test\n",
    "# start_time = time.time()\n",
    "# x = comov_dist_rad(0.5, testbins, testalp, testvecs, 0.24*0.73**2, 0.24, 0, ORhh)\n",
    "# end_time = time.time()\n",
    "# print(\"comp time:\", end_time - start_time)\n",
    "# x\n"
   ]
  },
  {
   "cell_type": "markdown",
   "id": "a7c54e37-17d6-4817-95ee-4388b958b795",
   "metadata": {},
   "source": [
    "- Faster version to compute comoving distance taking into account radiation. "
   ]
  },
  {
   "cell_type": "code",
   "execution_count": 25,
   "id": "15f861ab-a2e6-4da7-9973-26669e4e0eaf",
   "metadata": {},
   "outputs": [],
   "source": [
    "## This function return the comoving distance to redshift z. \n",
    "## I will try different integration methods to speed things up \n",
    "\n",
    "#################################################################\n",
    "##### Comoving distance using the scipy integrate function #####\n",
    "###############################################################\n",
    "\n",
    "def comov_dist_rad_fast(z, zbins, alphas, eigenvectors, Omh2, Om, Ok, ORhh):\n",
    "    \n",
    "    h2 = Omh2 / Om\n",
    "    x = h2 - Omh2 - Ok * h2 - ORhh\n",
    "    dz = zbins[1] - zbins[0]\n",
    "    \n",
    "    if x < 0:\n",
    "        return print('Comoving dist rad: Bad Input, Om, Ok')\n",
    "    else:\n",
    "        def f(x1,x, Ok, h2, ORhh):\n",
    "            return 1 / (100 * np.sqrt(Omh2 * (1 + x1)**3 + x * (1+ x1) + Ok * h2 * (1 + x1 )**3 + ORhh * (1+ x1 ) ** 4))\n",
    "    \n",
    "        if z < zbins[0]:\n",
    "            return cmag * integrate.quad(f,0, z, args=(x, Ok, h2, ORhh))[0]\n",
    "                \n",
    "        if z <= zbins[-1] and z >= zbins[0]:\n",
    "            z_less = integrate.quad(f,0,zbins[0], args=(x, Ok, h2, ORhh))\n",
    "            # Use boolean mask to only sum up to z and not the rest of the bins. \n",
    "            z_mask = zbins <= z \n",
    "            \n",
    "            # Discard the z bins that exceed z\n",
    "            zbins = zbins[z_mask]\n",
    "            \n",
    "            # Discard the eigenvector bins that exceed z.\n",
    "            eigenvectors = eigenvectors[:,:len(zbins)]\n",
    "            \n",
    "            return cmag * z_less[0] +  cmag * np.sum( dz / hubble_rad(zbins, alphas, eigenvectors, Omh2, Om, Ok, ORhh))\n",
    "        if z > zbins[-1]:\n",
    "            z_less = integrate.quad(f,0,zbins[0],args=(x, Ok, h2, ORhh))\n",
    "            z_more = integrate.quad(f, zbins[-1], z, args=(x, Ok, h2, ORhh))\n",
    "            \n",
    "            return cmag * z_less[0] +  cmag * np.sum( dz / hubble_rad(zbins, alphas, eigenvectors, Omh2, Om, Ok, ORhh)) + cmag * z_more[0]\n",
    "            \n",
    "        "
   ]
  },
  {
   "cell_type": "code",
   "execution_count": 29,
   "id": "436bd35d-dfc2-4619-af01-997a3737c3e4",
   "metadata": {},
   "outputs": [],
   "source": [
    "# ## Testing\n",
    "# start_time = time.time()\n",
    "# x = comov_dist_rad_fast(0.5, testbins, testalp, testvecs, 0.24*0.73**2, 0.24, 0, ORhh)\n",
    "# end_time = time.time()\n",
    "# print(\"compt time:\", end_time - start_time)\n",
    "# x"
   ]
  },
  {
   "cell_type": "markdown",
   "id": "1a4d2011-5204-45b4-89f3-8cb37e4e9898",
   "metadata": {},
   "source": [
    "- The $D_a$ function below works correctly only for redshift values z that are larger than the range covered by the SN measurements i.e. larger than $z_{max}$ in $z_{bins}$. However, since I only care about the $z_{rec}$ distance, this is not a problem."
   ]
  },
  {
   "cell_type": "code",
   "execution_count": 26,
   "id": "6ffbac25-c7b6-4cb5-8c47-751a7dc6ab5d",
   "metadata": {},
   "outputs": [],
   "source": [
    "## This function returns the angular distance for redshift z. \n",
    "## NOTE: This works for z > zbins interval, but since I am interested in zrec that is okay.\n",
    "def angular_dist(z, zbins, alphas, eigenvectors, Omh2, Om, Ok, ORhh):\n",
    "\n",
    "    h2 = Omh2 / Om\n",
    "    comov_dist = comov_dist_rad_fast(z,zbins, alphas, eigenvectors, Omh2, Om, Ok, ORhh)\n",
    "    \n",
    "    if Ok > 0 :\n",
    "        return  cmag / ((1 + z ) * 100 * h2 * np.sqrt(np.abs(Ok))) * np.sinh( (1/cmag) * np.sqrt(Ok) * 100 * h2 * comov_dist )   \n",
    "    \n",
    "    elif Ok < 0 :\n",
    "        return cmag / ((1 + z ) * 100 * h2 * np.sqrt(np.abs(Ok))) * np.sin((1/cmag) * np.sqrt(-Ok) * 100 * h2 * comov_dist )\n",
    "        \n",
    "    elif Ok == 0:\n",
    "        return comov_dist / ( 1 + z)\n",
    "        "
   ]
  },
  {
   "cell_type": "code",
   "execution_count": 31,
   "id": "385a157f-40ab-49f4-b4f7-3a12371fc1e9",
   "metadata": {},
   "outputs": [],
   "source": [
    "# ## Testing\n",
    "# start_time = time.time()\n",
    "# x = angular_dist(1090, testbins, testalp, testvecs, 0.24 * 0.73 **2, 0.24, 0, ORhh)\n",
    "# end_time = time.time()\n",
    "# print(\"compt time:\", end_time - start_time)\n",
    "# x"
   ]
  },
  {
   "cell_type": "code",
   "execution_count": 27,
   "id": "e8a3cb3b-e8ae-4278-91f6-0b835d9d4ee1",
   "metadata": {},
   "outputs": [],
   "source": [
    "def ln_angular_dist(z,zbins, alphas, eigenvectors, Omh2, Om, Ok, ORhh):\n",
    "    return np.log( angular_dist(z,zbins, alphas, eigenvectors, Omh2, Om, Ok, ORhh) )"
   ]
  },
  {
   "cell_type": "code",
   "execution_count": 33,
   "id": "acfaa2d1-5a5d-42ae-8f5d-037f23675b11",
   "metadata": {},
   "outputs": [],
   "source": [
    "# ## Testing\n",
    "# start_time = time.time()\n",
    "# x = ln_angular_dist(1090, testbins, testalp, testvecs, 0.24 * 0.73 **2, 0.24, 0, ORhh)\n",
    "# end_time = time.time()\n",
    "# print(\"compt time:\", end_time - start_time)\n",
    "# x"
   ]
  },
  {
   "cell_type": "markdown",
   "id": "ce9f0971-4cfa-4607-ad35-a5e9fdb15c99",
   "metadata": {},
   "source": [
    "# CMB $\\chi^2$ definition"
   ]
  },
  {
   "cell_type": "code",
   "execution_count": 28,
   "id": "5fa64f20-7eab-4b1e-b888-71935804ceca",
   "metadata": {
    "scrolled": true
   },
   "outputs": [],
   "source": [
    "## Fiducial model angluar distance to z_rec\n",
    "alphas_fid = np.array([0] * len(eigenvectors))\n",
    "lnd_angular_rec_fid = ln_angular_dist(zrec, zbins, alphas_fid, eigenvectors, 0.24 * 0.73**2, 0.24, 0.0, ORhh)"
   ]
  },
  {
   "cell_type": "code",
   "execution_count": 29,
   "id": "8a3ded34-25a1-4758-8521-057d320bb035",
   "metadata": {},
   "outputs": [],
   "source": [
    "# CMB contribution to χ^2\n",
    "\n",
    "def chi_squared_cmb(alphas, eigenvectors, invCMBCov, lnd_ang_rec_fid, Omh2, Om, Ok, ORhh):\n",
    "    zrec = 1090\n",
    "    Omh2_fid = 0.24 * 0.73 ** 2\n",
    "    diff1 = ln_angular_dist(zrec, zbins, alphas, eigenvectors, Omh2, Om, Ok, ORhh) - lnd_ang_rec_fid \n",
    "    diff2 = Omh2 - Omh2_fid\n",
    "    \n",
    "\n",
    "    vec = np.array([diff1, diff2])\n",
    "    return np.matmul( np.matmul(vec,invCMBCov), vec)   \n"
   ]
  },
  {
   "cell_type": "markdown",
   "id": "cd4a0352-7681-4faf-9e36-f934919762a3",
   "metadata": {},
   "source": [
    "# Priors"
   ]
  },
  {
   "cell_type": "markdown",
   "id": "3f110fa6-190d-4b7c-9654-d427c722325a",
   "metadata": {},
   "source": [
    "- Refer to equation (A8) from Mortonson et al 0810.1744"
   ]
  },
  {
   "cell_type": "code",
   "execution_count": 30,
   "id": "73683105-ea00-4f62-ad24-415f22fd47ea",
   "metadata": {},
   "outputs": [],
   "source": [
    "# Angular distance to z=0.35 in the fiducial model\n",
    "ln_angular_0p35_fid = ln_angular_dist(0.35, zbins, alphas_fid, eigenvectors, 0.24 * 0.73 ** 2, 0.24, 0.0, ORhh)\n"
   ]
  },
  {
   "cell_type": "markdown",
   "id": "7adf6dfe-c363-4bf2-81ff-fbcfbce7764e",
   "metadata": {},
   "source": [
    "For the theory prior below, I can rewrite equation (A10) as:\n",
    "\n",
    "$ \\alpha_i^{\\pm} = \\frac{1}{2N_{z,PC}} \\left[ \\left( w_{min} + w_{max} - 2 w_{fid} \\right) \\sum_{j=1}^{N_{z,PC}} e_i (z_j) \\pm \\left( w_{max} - w_{min} \\right) \\sum_{j=1}^{N_{z,PC}} \\lvert e_i (z_j) \\rvert \\right]$.\n",
    "\n",
    "Taking advangate of that, I first calculate the two sums, then weigh the arrays appropriately and sum/take the difference."
   ]
  },
  {
   "cell_type": "code",
   "execution_count": 31,
   "id": "818f5e45-1a01-46d7-9a46-17c4f8599edf",
   "metadata": {},
   "outputs": [],
   "source": [
    "## In order to define the correct prior for the PC amplitudes, I need to define the allowed min and max values for each alpha_i.\n",
    "## I can do that outside of the function that I will write below since these things do not change with each random step that the MCMC makes\n",
    "\n",
    "# Theoretical limits on DE\n",
    "wfid = -1\n",
    "# Quintessence\n",
    "wmin, wmax = -1, 1\n",
    "# Smooth DE\n",
    "# wmin, wmax = -5, 3\n",
    "weight1 = wmin + wmax - 2 * wfid\n",
    "weight2 = wmax - wmin \n",
    "\n",
    "# First I need to calculate each of the two relevant sums in the eq (A10)\n",
    "first_sum = np.sum(eigenvectors, axis=1)\n",
    "second_sum = np.sum(np.abs(eigenvectors), axis=1)\n",
    "\n",
    "## Nz is the number of z bins I used \n",
    "Nz = 500\n",
    "\n",
    "# alpha_max and alpha_min are two arrays that are storing the max and min value of the amplitudes alpha_i \n",
    "alpha_max = ( 1 / (2*Nz)) * ( weight1 * first_sum + weight2 * second_sum)\n",
    "alpha_min = ( 1 / (2*Nz)) * ( weight1 * first_sum - weight2 * second_sum)"
   ]
  },
  {
   "cell_type": "code",
   "execution_count": 32,
   "id": "8b3f2e45-5349-4a65-9a26-d3cf59d466d5",
   "metadata": {},
   "outputs": [],
   "source": [
    "# prior \n",
    "\n",
    "def chi_squared_prior(eigenvectors, eigenvectorsNc, alphas, alpha_max, alpha_min, zbins, Omh2, Om, Ok, ORhh, ln_angular_0p35_fid):\n",
    "\n",
    "#     # Amplitudes prior \n",
    "#     # Theoretical limits on DE\n",
    "#     wfid = -1\n",
    "#     # Quintessense \n",
    "#     wmin, wmax = -1, 1\n",
    "#     # Smooth DE\n",
    "#     # wmin, wmax = -5, 3\n",
    "\n",
    "#     weight1 = wmin + wmax - 2 * wfid\n",
    "#     weight2 = wmax - wmin \n",
    "\n",
    "#     # First I need to calculate each of the two relevant sums in the eq (A10)\n",
    "#     first_sum = np.sum(eigenvectors, axis=1)\n",
    "#     second_sum = np.sum(np.abs(eigenvectors), axis=1)\n",
    "    \n",
    "#     # alpha_max and alpha_min are two arrays that are storing the max and min value of the amplitudes alpha_i \n",
    "#     alpha_max = ( 1 / (2*Nz)) * ( weight1 * first_sum + weight2 * second_sum)\n",
    "#     alpha_min = ( 1 / (2*Nz)) * ( weight1 * first_sum - weight2 * second_sum)\n",
    "\n",
    "    # Top hat prior on the amplitudes.\n",
    "    # Here I have assumed that I am only intrested in the first 15 alphas i.e. I only want to keep the first 15 eigenfunctions. \n",
    "    # ## NOTE: Be very careful with the definition of the if not statement! \n",
    "    # if  not (np.all(alphas < alpha_max[:2]) and not np.all(alphas > alpha_min[:2])):\n",
    "    #     return - np.inf\n",
    "    if np.any(alphas < alpha_min[:15]) or np.any(alphas > alpha_max[:15]):\n",
    "        return -np.inf\n",
    "    \n",
    "    # h prior\n",
    "    sigma_h = 0.08\n",
    "    h_prior = -0.5 * ( np.sqrt(Omh2 / Om) - 0.73) ** 2 / sigma_h ** 2\n",
    "    \n",
    "    # BAO prior\n",
    "    sigma_bao = 0.037\n",
    "    bao_prior = -0.5 * ( ln_angular_dist(0.35, zbins, alphas, eigenvectorsNc, Omh2, Om, Ok, ORhh) - ln_angular_0p35_fid ) ** 2 / sigma_bao ** 2\n",
    "    \n",
    "    # WMAP prior on DE\n",
    "    sigma_de = 0.025\n",
    "    de_prior = - 0.5 * ( (1 - Om - Ok) - (1 - 0.24)) ** 2 / sigma_de ** 2\n",
    "    \n",
    "    # out = h_prior + bao_prior + de_prior\n",
    "    # if (out < 0  and out > -0.05) or out > 10**5:\n",
    "    #     print(h_prior, bao_prior, de_prior)\n",
    "    \n",
    "    return h_prior + bao_prior + de_prior   \n",
    "    "
   ]
  },
  {
   "cell_type": "markdown",
   "id": "75aafa83-0f2a-4ad5-896b-5a5ef72ab079",
   "metadata": {
    "tags": []
   },
   "source": [
    "# Function to Sample "
   ]
  },
  {
   "cell_type": "markdown",
   "id": "223a4c6e-e1a8-43fc-95c4-35f94b9a5d9a",
   "metadata": {},
   "source": [
    "- In order to calculate the $\\chi^2$ for SN I interpolate the eigenfunctions based on the finer z binning (N=850) and then I truncate it between the redshift values that I am interested in i.e. $z \\in [0.03,1.7]$. On the other hand, when I calculate the $\\chi^2$ for CMB I use all the available bins (no interpolation) plus the extra parts for $z < z_{bin}^{min}$ and $ z > z_{bin}^{max}$, since I am interested in the specific distance from recombination i.e. $z_{rec} \\simeq 1090$. Based on this, I think I can sum the two $\\chi^2$ and be correct."
   ]
  },
  {
   "cell_type": "markdown",
   "id": "bf9a126b-a7f8-4be0-84aa-d95641e4dd3a",
   "metadata": {},
   "source": [
    "- The parameters that are relevant and will sample from are (eq4 in ref): $\\theta_{base} = \\{ \\alpha_1, ..., \\alpha_{N_c}, \\Omega_m, \\Omega_m h^2 \\}$ with $N_c =15$."
   ]
  },
  {
   "cell_type": "code",
   "execution_count": 33,
   "id": "4c901fab-47d4-4947-bd04-2e8ae0fe09a3",
   "metadata": {},
   "outputs": [],
   "source": [
    "# In this function I need to define all the parameters I dont want to sample and leave inside \"theta\" the parameters I want to sample with my MCMC\n",
    "\n",
    "def lnprob(theta, Ok, zBinsFisher, eigenvectors, eigenvectorsNc, sigma_values, invCMBCov, lnd_ang_rec_fid,  ln_angular_0p35_fid):\n",
    "    alphaNc = theta[:15]  # Take first 15 variables in theta as alphaNc\n",
    "    Om, Omh2 = theta[15], theta[16]  # Remaining parameters\n",
    "    NNU = 3.04\n",
    "    TCMB = 2.725\n",
    "    OGhh = 4.4856e-7 * TCMB ** 4\n",
    "    ONhh = 1.0187e-7 * NNU * TCMB ** 4\n",
    "    ORhh = ONhh + OGhh\n",
    "    \n",
    "    if Om < 0 or Om > 0.4 or Omh2 < (ORhh * Om) / (1 - Om) :\n",
    "        return -np.inf\n",
    "    \n",
    "    H0 = np.sqrt( Omh2 / Om )\n",
    "    \n",
    "    return - 0.5 * ( chi_squared_sn(alphaNc, Om, Omh2, Ok, zBinsFisher, eigenvectorsNc, sigma2_values) +  \n",
    "                    chi_squared_cmb(alphaNc, eigenvectorsNc, invCMBCov, lnd_ang_rec_fid, Omh2, Om, Ok, ORhh)) + chi_squared_prior(eigenvectors, eigenvectorsNc,  alphaNc, alpha_max, alpha_min, zBinsFisher, Omh2, Om, Ok, ORhh, ln_angular_0p35_fid) \n"
   ]
  },
  {
   "cell_type": "markdown",
   "id": "0781127b-8f0d-49e0-a207-b3cb9c929f64",
   "metadata": {
    "tags": []
   },
   "source": [
    "# MCMC set up "
   ]
  },
  {
   "cell_type": "markdown",
   "id": "445208bd-aaa8-46d3-8b64-1126dd459e1e",
   "metadata": {},
   "source": [
    "- Make sure that the initial positions of my walkers are actually inside the allowed region that I am trying to sample. Be carefull, given the prior I have defined above for my PCs, $\\{\\alpha_i\\}$ will also have constraints."
   ]
  },
  {
   "cell_type": "code",
   "execution_count": 40,
   "id": "32c7e87f-0675-47f7-b075-0874c55668bd",
   "metadata": {},
   "outputs": [],
   "source": [
    "# nwalkers = 64\n",
    "# ndim = 17\n",
    "# # fiducial model = [{amp}, Om, Omh2]\n",
    "# amps_fid = np.array([0]*15)\n",
    "# fiducial = np.concatenate([amps_fid, [0.24, 0.24*0.73**2]])\n",
    "# p0 = [fiducial + 1e-3 * np.random.randn(ndim) for i in range(nwalkers)]\n",
    "# #p0 = [fiducial + np.concatenate((1e-1 * np.random.randn(2), 1e-3 * np.random.randn(2))) for i in range(nwalkers)]"
   ]
  },
  {
   "cell_type": "code",
   "execution_count": 34,
   "id": "d94fdb6d-0d4b-40d3-9509-4affe3042b24",
   "metadata": {},
   "outputs": [],
   "source": [
    "## Make sure that the initial positions p0 are generated inside the allowed area for the parameters\n",
    "nwalkers = 64\n",
    "ndim = 17\n",
    "# fiducial model = [{amp}, Om, Omh2]\n",
    "amps_fid = np.array([0]*15)\n",
    "fiducial = np.concatenate([amps_fid, [0.24, 0.24*0.73**2]])\n",
    "\n",
    "# # Define the min and max allowed values for each parameter\n",
    "# # Theoretical limits on DE\n",
    "# wfid = -1\n",
    "# # Quintessense \n",
    "# wmin, wmax = -1, 1\n",
    "# # Smooth DE\n",
    "# # wmin, wmax = -5, 3\n",
    "# Nz = 500\n",
    "# weight1 = wmin + wmax - 2 * wfid\n",
    "# weight2 = wmax - wmin \n",
    "\n",
    "# # First I need to calculate each of the two relevant sums in the eq (A10)\n",
    "# first_sum = np.sum(eigenvectors, axis=1)\n",
    "# second_sum = np.sum(np.abs(eigenvectors), axis=1)\n",
    "\n",
    "# # alpha_max and alpha_min are two arrays that are storing the max and min value of the amplitudes alpha_i \n",
    "# alpha_max = ( 1 / (2*Nz)) * ( weight1 * first_sum + weight2 * second_sum)\n",
    "# alpha_min = ( 1 / (2*Nz)) * ( weight1 * first_sum - weight2 * second_sum)\n",
    "\n",
    "# Generate the initial guesses in a ball around the fiducial model\n",
    "# Add noise using random numbers from  0.1 * (-1,1)\n",
    "p0 = [ fiducial + np.concatenate(((alpha_min[:15] * 1e-2 * np.abs(2*np.random.rand(15) - 1)), 0.1*(2*np.random.rand(2) - 1))) for i in range(nwalkers)]\n"
   ]
  },
  {
   "cell_type": "markdown",
   "id": "539285e6-88da-4474-8281-a9fdb2b276cc",
   "metadata": {},
   "source": [
    "- Set up the backend so that I can save the chains\n",
    "- Don't forget to clear the file in case it already exists"
   ]
  },
  {
   "cell_type": "code",
   "execution_count": 42,
   "id": "a4ea87c6-45ff-40a0-9411-2d140f3216a9",
   "metadata": {},
   "outputs": [],
   "source": [
    "#filename = \"/gpfs/scratch/argiannakopo/PCA_MCMC.h5\"\n",
    "filename = \"/gpfs/scratch/argiannakopo/PCA_optim_MCMC.h5\"\n",
    "backend = emcee.backends.HDFBackend(filename)\n",
    "backend.reset(nwalkers, ndim)\n"
   ]
  },
  {
   "cell_type": "code",
   "execution_count": 35,
   "id": "863e8eb3-d883-447b-a804-a814b4b5b873",
   "metadata": {},
   "outputs": [],
   "source": [
    "## I will only use the 15 first eigenvectors\n",
    "\n",
    "eigenvectors15 = eigenvectors[:15, ::]"
   ]
  },
  {
   "cell_type": "code",
   "execution_count": 44,
   "id": "ff5d234b-5c22-4568-a295-b11dc9b44325",
   "metadata": {},
   "outputs": [],
   "source": [
    "# Initialize the sampler\n",
    "sampler = emcee.EnsembleSampler(nwalkers, ndim, lnprob, args=[0.0, zBinsFisher, eigenvectors, eigenvectors15, sigma2_values, \n",
    "                                                              invCMBCov, lnd_angular_rec_fid , ln_angular_0p35_fid], backend=backend)\n"
   ]
  },
  {
   "cell_type": "code",
   "execution_count": 45,
   "id": "2e2e3de8-069e-4cc2-8e2e-c6351c344fe2",
   "metadata": {
    "collapsed": true,
    "jupyter": {
     "outputs_hidden": true
    },
    "tags": []
   },
   "outputs": [
    {
     "name": "stderr",
     "output_type": "stream",
     "text": [
      "You must install the tqdm library to use progress indicators with emcee\n"
     ]
    },
    {
     "name": "stdout",
     "output_type": "stream",
     "text": [
      "emcee: Exception while calling your likelihood function:\n",
      "  params: [-1.66228949e-04 -2.94245694e-04 -5.29367521e-05 -2.32766697e-05\n",
      " -1.38022142e-04 -2.25121194e-04 -1.47504591e-04 -1.14507397e-04\n",
      " -3.24050549e-04 -9.11361237e-05  8.27244495e-05 -2.03699100e-04\n",
      " -1.12298809e-04 -2.84711007e-04 -9.51572187e-05  2.23323301e-01\n",
      "  1.25287352e-01]\n",
      "  args: [0.0, array([0.0334    , 0.03673988, 0.04007976, 0.04341964, 0.04675952,\n",
      "       0.0500994 , 0.05343928, 0.05677916, 0.06011904, 0.06345892,\n",
      "       0.0667988 , 0.07013868, 0.07347856, 0.07681844, 0.08015832,\n",
      "       0.0834982 , 0.08683808, 0.09017796, 0.09351784, 0.09685772,\n",
      "       0.1001976 , 0.10353747, 0.10687735, 0.11021723, 0.11355711,\n",
      "       0.11689699, 0.12023687, 0.12357675, 0.12691663, 0.13025651,\n",
      "       0.13359639, 0.13693627, 0.14027615, 0.14361603, 0.14695591,\n",
      "       0.15029579, 0.15363567, 0.15697555, 0.16031543, 0.16365531,\n",
      "       0.16699519, 0.17033507, 0.17367495, 0.17701483, 0.18035471,\n",
      "       0.18369459, 0.18703447, 0.19037435, 0.19371423, 0.19705411,\n",
      "       0.20039399, 0.20373387, 0.20707375, 0.21041363, 0.21375351,\n",
      "       0.21709339, 0.22043327, 0.22377315, 0.22711303, 0.23045291,\n",
      "       0.23379279, 0.23713267, 0.24047255, 0.24381242, 0.2471523 ,\n",
      "       0.25049218, 0.25383206, 0.25717194, 0.26051182, 0.2638517 ,\n",
      "       0.26719158, 0.27053146, 0.27387134, 0.27721122, 0.2805511 ,\n",
      "       0.28389098, 0.28723086, 0.29057074, 0.29391062, 0.2972505 ,\n",
      "       0.30059038, 0.30393026, 0.30727014, 0.31061002, 0.3139499 ,\n",
      "       0.31728978, 0.32062966, 0.32396954, 0.32730942, 0.3306493 ,\n",
      "       0.33398918, 0.33732906, 0.34066894, 0.34400882, 0.3473487 ,\n",
      "       0.35068858, 0.35402846, 0.35736834, 0.36070822, 0.3640481 ,\n",
      "       0.36738798, 0.37072786, 0.37406774, 0.37740762, 0.38074749,\n",
      "       0.38408737, 0.38742725, 0.39076713, 0.39410701, 0.39744689,\n",
      "       0.40078677, 0.40412665, 0.40746653, 0.41080641, 0.41414629,\n",
      "       0.41748617, 0.42082605, 0.42416593, 0.42750581, 0.43084569,\n",
      "       0.43418557, 0.43752545, 0.44086533, 0.44420521, 0.44754509,\n",
      "       0.45088497, 0.45422485, 0.45756473, 0.46090461, 0.46424449,\n",
      "       0.46758437, 0.47092425, 0.47426413, 0.47760401, 0.48094389,\n",
      "       0.48428377, 0.48762365, 0.49096353, 0.49430341, 0.49764329,\n",
      "       0.50098317, 0.50432305, 0.50766293, 0.51100281, 0.51434269,\n",
      "       0.51768257, 0.52102244, 0.52436232, 0.5277022 , 0.53104208,\n",
      "       0.53438196, 0.53772184, 0.54106172, 0.5444016 , 0.54774148,\n",
      "       0.55108136, 0.55442124, 0.55776112, 0.561101  , 0.56444088,\n",
      "       0.56778076, 0.57112064, 0.57446052, 0.5778004 , 0.58114028,\n",
      "       0.58448016, 0.58782004, 0.59115992, 0.5944998 , 0.59783968,\n",
      "       0.60117956, 0.60451944, 0.60785932, 0.6111992 , 0.61453908,\n",
      "       0.61787896, 0.62121884, 0.62455872, 0.6278986 , 0.63123848,\n",
      "       0.63457836, 0.63791824, 0.64125812, 0.644598  , 0.64793788,\n",
      "       0.65127776, 0.65461764, 0.65795752, 0.66129739, 0.66463727,\n",
      "       0.66797715, 0.67131703, 0.67465691, 0.67799679, 0.68133667,\n",
      "       0.68467655, 0.68801643, 0.69135631, 0.69469619, 0.69803607,\n",
      "       0.70137595, 0.70471583, 0.70805571, 0.71139559, 0.71473547,\n",
      "       0.71807535, 0.72141523, 0.72475511, 0.72809499, 0.73143487,\n",
      "       0.73477475, 0.73811463, 0.74145451, 0.74479439, 0.74813427,\n",
      "       0.75147415, 0.75481403, 0.75815391, 0.76149379, 0.76483367,\n",
      "       0.76817355, 0.77151343, 0.77485331, 0.77819319, 0.78153307,\n",
      "       0.78487295, 0.78821283, 0.79155271, 0.79489259, 0.79823246,\n",
      "       0.80157234, 0.80491222, 0.8082521 , 0.81159198, 0.81493186,\n",
      "       0.81827174, 0.82161162, 0.8249515 , 0.82829138, 0.83163126,\n",
      "       0.83497114, 0.83831102, 0.8416509 , 0.84499078, 0.84833066,\n",
      "       0.85167054, 0.85501042, 0.8583503 , 0.86169018, 0.86503006,\n",
      "       0.86836994, 0.87170982, 0.8750497 , 0.87838958, 0.88172946,\n",
      "       0.88506934, 0.88840922, 0.8917491 , 0.89508898, 0.89842886,\n",
      "       0.90176874, 0.90510862, 0.9084485 , 0.91178838, 0.91512826,\n",
      "       0.91846814, 0.92180802, 0.9251479 , 0.92848778, 0.93182766,\n",
      "       0.93516754, 0.93850741, 0.94184729, 0.94518717, 0.94852705,\n",
      "       0.95186693, 0.95520681, 0.95854669, 0.96188657, 0.96522645,\n",
      "       0.96856633, 0.97190621, 0.97524609, 0.97858597, 0.98192585,\n",
      "       0.98526573, 0.98860561, 0.99194549, 0.99528537, 0.99862525,\n",
      "       1.00196513, 1.00530501, 1.00864489, 1.01198477, 1.01532465,\n",
      "       1.01866453, 1.02200441, 1.02534429, 1.02868417, 1.03202405,\n",
      "       1.03536393, 1.03870381, 1.04204369, 1.04538357, 1.04872345,\n",
      "       1.05206333, 1.05540321, 1.05874309, 1.06208297, 1.06542285,\n",
      "       1.06876273, 1.07210261, 1.07544248, 1.07878236, 1.08212224,\n",
      "       1.08546212, 1.088802  , 1.09214188, 1.09548176, 1.09882164,\n",
      "       1.10216152, 1.1055014 , 1.10884128, 1.11218116, 1.11552104,\n",
      "       1.11886092, 1.1222008 , 1.12554068, 1.12888056, 1.13222044,\n",
      "       1.13556032, 1.1389002 , 1.14224008, 1.14557996, 1.14891984,\n",
      "       1.15225972, 1.1555996 , 1.15893948, 1.16227936, 1.16561924,\n",
      "       1.16895912, 1.172299  , 1.17563888, 1.17897876, 1.18231864,\n",
      "       1.18565852, 1.1889984 , 1.19233828, 1.19567816, 1.19901804,\n",
      "       1.20235792, 1.2056978 , 1.20903768, 1.21237756, 1.21571743,\n",
      "       1.21905731, 1.22239719, 1.22573707, 1.22907695, 1.23241683,\n",
      "       1.23575671, 1.23909659, 1.24243647, 1.24577635, 1.24911623,\n",
      "       1.25245611, 1.25579599, 1.25913587, 1.26247575, 1.26581563,\n",
      "       1.26915551, 1.27249539, 1.27583527, 1.27917515, 1.28251503,\n",
      "       1.28585491, 1.28919479, 1.29253467, 1.29587455, 1.29921443,\n",
      "       1.30255431, 1.30589419, 1.30923407, 1.31257395, 1.31591383,\n",
      "       1.31925371, 1.32259359, 1.32593347, 1.32927335, 1.33261323,\n",
      "       1.33595311, 1.33929299, 1.34263287, 1.34597275, 1.34931263,\n",
      "       1.35265251, 1.35599238, 1.35933226, 1.36267214, 1.36601202,\n",
      "       1.3693519 , 1.37269178, 1.37603166, 1.37937154, 1.38271142,\n",
      "       1.3860513 , 1.38939118, 1.39273106, 1.39607094, 1.39941082,\n",
      "       1.4027507 , 1.40609058, 1.40943046, 1.41277034, 1.41611022,\n",
      "       1.4194501 , 1.42278998, 1.42612986, 1.42946974, 1.43280962,\n",
      "       1.4361495 , 1.43948938, 1.44282926, 1.44616914, 1.44950902,\n",
      "       1.4528489 , 1.45618878, 1.45952866, 1.46286854, 1.46620842,\n",
      "       1.4695483 , 1.47288818, 1.47622806, 1.47956794, 1.48290782,\n",
      "       1.4862477 , 1.48958758, 1.49292745, 1.49626733, 1.49960721,\n",
      "       1.50294709, 1.50628697, 1.50962685, 1.51296673, 1.51630661,\n",
      "       1.51964649, 1.52298637, 1.52632625, 1.52966613, 1.53300601,\n",
      "       1.53634589, 1.53968577, 1.54302565, 1.54636553, 1.54970541,\n",
      "       1.55304529, 1.55638517, 1.55972505, 1.56306493, 1.56640481,\n",
      "       1.56974469, 1.57308457, 1.57642445, 1.57976433, 1.58310421,\n",
      "       1.58644409, 1.58978397, 1.59312385, 1.59646373, 1.59980361,\n",
      "       1.60314349, 1.60648337, 1.60982325, 1.61316313, 1.61650301,\n",
      "       1.61984289, 1.62318277, 1.62652265, 1.62986253, 1.6332024 ,\n",
      "       1.63654228, 1.63988216, 1.64322204, 1.64656192, 1.6499018 ,\n",
      "       1.65324168, 1.65658156, 1.65992144, 1.66326132, 1.6666012 ,\n",
      "       1.66994108, 1.67328096, 1.67662084, 1.67996072, 1.6833006 ,\n",
      "       1.68664048, 1.68998036, 1.69332024, 1.69666012, 1.7       ]), array([[-8.43081869e-02, -1.66618618e-01, -1.64035564e-01, ...,\n",
      "        -4.48082141e-04, -4.45781647e-04, -2.22028648e-04],\n",
      "       [ 1.59897720e-01,  3.02612600e-01,  2.79953942e-01, ...,\n",
      "        -1.93849223e-03, -1.92853984e-03, -9.60539975e-04],\n",
      "       [ 1.43652425e-01,  2.62543170e-01,  2.29481625e-01, ...,\n",
      "         4.02312800e-03,  4.00247290e-03,  1.99349536e-03],\n",
      "       ...,\n",
      "       [-1.43306493e-03, -5.70002824e-04,  4.32720640e-03, ...,\n",
      "         1.61023083e-01,  2.22590693e-03,  2.06559446e-01],\n",
      "       [-1.43266399e-03, -9.48732351e-05,  2.92471202e-03, ...,\n",
      "         3.49240011e-02, -3.16584888e-03,  0.00000000e+00],\n",
      "       [-1.55863607e-04, -5.67216787e-05,  4.55102625e-04, ...,\n",
      "         1.51489824e-02,  1.24844003e-03,  9.29151426e-01]]), array([[-8.43081869e-02, -1.66618618e-01, -1.64035564e-01, ...,\n",
      "        -4.48082141e-04, -4.45781647e-04, -2.22028648e-04],\n",
      "       [ 1.59897720e-01,  3.02612600e-01,  2.79953942e-01, ...,\n",
      "        -1.93849223e-03, -1.92853984e-03, -9.60539975e-04],\n",
      "       [ 1.43652425e-01,  2.62543170e-01,  2.29481625e-01, ...,\n",
      "         4.02312800e-03,  4.00247290e-03,  1.99349536e-03],\n",
      "       ...,\n",
      "       [ 9.11036343e-02,  1.23274739e-01,  4.64561173e-02, ...,\n",
      "         1.91699385e-02,  1.90715183e-02,  9.49887338e-03],\n",
      "       [-6.49829709e-02, -8.64386423e-02, -2.89573897e-02, ...,\n",
      "         2.26621049e-02,  2.25457556e-02,  1.12292726e-02],\n",
      "       [ 7.27308696e-02,  9.46708797e-02,  2.71375766e-02, ...,\n",
      "         2.10781079e-02,  2.09698910e-02,  1.04443881e-02]]), array([0.01049565, 0.00591702, 0.00437584, 0.00360541, 0.00314513,\n",
      "       0.00284748, 0.00295435, 0.00307445, 0.00321062, 0.00336658,\n",
      "       0.00354726, 0.00375945, 0.00401261, 0.00432046, 0.0047036 ,\n",
      "       0.00519444, 0.00584717, 0.00675966, 0.00812858, 0.01041618,\n",
      "       0.02126834, 0.02076264, 0.02028406, 0.01983054, 0.0194002 ,\n",
      "       0.01899137, 0.01860252, 0.01823227, 0.01787935, 0.01754262,\n",
      "       0.01722103, 0.01691362, 0.01661951, 0.0163379 , 0.01606804,\n",
      "       0.01580923, 0.01556086, 0.01532233, 0.01509311, 0.01487268,\n",
      "       0.01466058, 0.01445638, 0.01425967, 0.01407007, 0.01388723,\n",
      "       0.01371083, 0.01354055, 0.0133761 , 0.01321721, 0.01306364,\n",
      "       0.01291493, 0.01276064, 0.01261161, 0.01246762, 0.01232843,\n",
      "       0.01219384, 0.01206363, 0.01193763, 0.01181565, 0.01169752,\n",
      "       0.01158308, 0.01147219, 0.01136471, 0.01126049, 0.01115941,\n",
      "       0.01106134, 0.01096619, 0.01087382, 0.01078415, 0.01069707,\n",
      "       0.01061249, 0.01053032, 0.01045048, 0.01037288, 0.01029745,\n",
      "       0.01022411, 0.0101528 , 0.01008345, 0.01001598, 0.00995035,\n",
      "       0.00988658, 0.00982932, 0.00977352, 0.00971914, 0.00966614,\n",
      "       0.00961449, 0.00956414, 0.00951505, 0.0094672 , 0.00942055,\n",
      "       0.00937507, 0.00933072, 0.00928748, 0.00924531, 0.0092042 ,\n",
      "       0.00916411, 0.00912501, 0.00908689, 0.00904972, 0.00901347,\n",
      "       0.00897812, 0.00894365, 0.00891005, 0.00887728, 0.00884533,\n",
      "       0.00881418, 0.00878381, 0.00875421, 0.00872535, 0.00869722,\n",
      "       0.00866988, 0.00864749, 0.00862565, 0.00860436, 0.00858361,\n",
      "       0.00856339, 0.00854368, 0.00852448, 0.00850577, 0.00848755,\n",
      "       0.00846981, 0.00845255, 0.00843574, 0.00841939, 0.00840349,\n",
      "       0.00838802, 0.00837298, 0.00835837, 0.00834418, 0.00833039,\n",
      "       0.008317  , 0.00830402, 0.00829142, 0.0082792 , 0.00826736,\n",
      "       0.00825589, 0.00824478, 0.00823404, 0.00822364, 0.0082136 ,\n",
      "       0.00820397, 0.00819955, 0.00819536, 0.00819139, 0.00818766,\n",
      "       0.00818414, 0.00818084, 0.00817776, 0.0081749 , 0.00817224,\n",
      "       0.0081698 , 0.00816756, 0.00816553, 0.0081637 , 0.00816208,\n",
      "       0.00816065, 0.00815942, 0.00815838, 0.00815753, 0.00815688,\n",
      "       0.00815641, 0.00815613, 0.00815604, 0.00815613, 0.00815639,\n",
      "       0.00815684, 0.00815747, 0.00815827, 0.00815924, 0.00816039,\n",
      "       0.0081618 , 0.00817016, 0.00817861, 0.00818713, 0.00819573,\n",
      "       0.00820442, 0.00821318, 0.00822201, 0.00823093, 0.00823992,\n",
      "       0.00824899, 0.00825814, 0.00826736, 0.00827666, 0.00828604,\n",
      "       0.00829549, 0.00830502, 0.00831462, 0.0083243 , 0.00833405,\n",
      "       0.00834388, 0.00835378, 0.00836376, 0.0083738 , 0.00838393,\n",
      "       0.00839412, 0.00840439, 0.00841473, 0.00842515, 0.00843563,\n",
      "       0.00844632, 0.00846768, 0.00848909, 0.00851053, 0.00853202,\n",
      "       0.00855354, 0.00857511, 0.00859672, 0.00861837, 0.00864005,\n",
      "       0.00866178, 0.00868355, 0.00870536, 0.00872721, 0.0087491 ,\n",
      "       0.00877104, 0.00879301, 0.00881502, 0.00883707, 0.00885917,\n",
      "       0.0088813 , 0.00890348, 0.0089257 , 0.00894795, 0.00897025,\n",
      "       0.00899259, 0.00901497, 0.00903739, 0.00905985, 0.00908235,\n",
      "       0.00910493, 0.00913103, 0.00915719, 0.00918341, 0.00920969,\n",
      "       0.00923602, 0.00926241, 0.00928887, 0.00931538, 0.00934195,\n",
      "       0.00936857, 0.00939526, 0.009422  , 0.00944881, 0.00947567,\n",
      "       0.00950259, 0.00952958, 0.00955662, 0.00958372, 0.00961088,\n",
      "       0.0096381 , 0.00966538, 0.00969273, 0.00972013, 0.00974759,\n",
      "       0.00977511, 0.0098027 , 0.00983034, 0.00985805, 0.00988581,\n",
      "       0.00991368, 0.00994627, 0.00997895, 0.01001175, 0.01004465,\n",
      "       0.01007766, 0.01011078, 0.01014401, 0.01017734, 0.01021079,\n",
      "       0.01024435, 0.01027802, 0.0103118 , 0.0103457 , 0.01037971,\n",
      "       0.01041383, 0.01044807, 0.01048242, 0.0105169 , 0.01055148,\n",
      "       0.01058619, 0.01062102, 0.01065596, 0.01069103, 0.01072622,\n",
      "       0.01076153, 0.01079696, 0.01083252, 0.0108682 , 0.01090401,\n",
      "       0.01093993, 0.0109741 , 0.01100838, 0.01104277, 0.01107726,\n",
      "       0.01111186, 0.01114657, 0.01118139, 0.01121631, 0.01125135,\n",
      "       0.01128649, 0.01132175, 0.01135711, 0.01139259, 0.01142818,\n",
      "       0.01146389, 0.01149971, 0.01153564, 0.01157169, 0.01160785,\n",
      "       0.01164413, 0.01168053, 0.01171705, 0.01175369, 0.01179044,\n",
      "       0.01182732, 0.01186431, 0.01190143, 0.01193868, 0.01197604,\n",
      "       0.01201352, 0.01205002, 0.01208662, 0.01212334, 0.01216017,\n",
      "       0.01219712, 0.01223418, 0.01227136, 0.01230865, 0.01234607,\n",
      "       0.0123836 , 0.01242125, 0.01245901, 0.0124969 , 0.01253491,\n",
      "       0.01257304, 0.0126113 , 0.01264967, 0.01268818, 0.0127268 ,\n",
      "       0.01276555, 0.01280443, 0.01284344, 0.01288257, 0.01292183,\n",
      "       0.01296122, 0.01300074, 0.0130404 , 0.01308018, 0.0131201 ,\n",
      "       0.01316015, 0.01319899, 0.01323796, 0.01327705, 0.01331626,\n",
      "       0.01335559, 0.01339505, 0.01343462, 0.01347433, 0.01351415,\n",
      "       0.01355411, 0.01359419, 0.0136344 , 0.01367473, 0.0137152 ,\n",
      "       0.01375579, 0.01379651, 0.01383737, 0.01387836, 0.01391948,\n",
      "       0.01396074, 0.01400213, 0.01404366, 0.01408532, 0.01412712,\n",
      "       0.01416906, 0.01421114, 0.01425336, 0.01429572, 0.01433822,\n",
      "       0.01438088, 0.01442527, 0.01446982, 0.01451454, 0.01455944,\n",
      "       0.0146045 , 0.01464973, 0.01469514, 0.01474072, 0.01478648,\n",
      "       0.01483241, 0.01487852, 0.01492481, 0.01497129, 0.01501794,\n",
      "       0.01506479, 0.01511181, 0.01515903, 0.01520643, 0.01525403,\n",
      "       0.01530182, 0.0153498 , 0.01539798, 0.01544636, 0.01549494,\n",
      "       0.01554372, 0.0155927 , 0.01564189, 0.01569129, 0.01574089,\n",
      "       0.01579071, 0.01584272, 0.01589497, 0.01594748, 0.01600023,\n",
      "       0.01605324, 0.01610651, 0.01616003, 0.01621382, 0.01626787,\n",
      "       0.01632219, 0.01637678, 0.01643164, 0.01648678, 0.0165422 ,\n",
      "       0.01659791, 0.0166539 , 0.01671018, 0.01676675, 0.01682362,\n",
      "       0.01688079, 0.01693826, 0.01699604, 0.01705413, 0.01711253,\n",
      "       0.01717125, 0.0172303 , 0.01728966, 0.01734936, 0.01740939,\n",
      "       0.01746977, 0.01753305, 0.01759673, 0.0176608 , 0.01772529,\n",
      "       0.01779019, 0.0178555 , 0.01792125, 0.01798742, 0.01805402,\n",
      "       0.01812107, 0.01818857, 0.01825653, 0.01832494, 0.01839383,\n",
      "       0.01846319, 0.01853303, 0.01860337, 0.0186742 , 0.01874554,\n",
      "       0.01881739, 0.01888976, 0.01896266, 0.0190361 , 0.01911008,\n",
      "       0.01918462, 0.01925972, 0.0193354 , 0.01941165, 0.0194885 ,\n",
      "       0.01956611, 0.01978644, 0.02001571, 0.02025459, 0.02050375,\n",
      "       0.02076397, 0.02103611, 0.02132109, 0.02161996, 0.02193387,\n",
      "       0.0222641 , 0.0226121 , 0.02297947, 0.02336802, 0.02377981,\n",
      "       0.02421716, 0.0246827 , 0.02517945, 0.02571087, 0.02628096,\n",
      "       0.02689436, 0.02755648, 0.02827366, 0.0290534 , 0.02990465,\n",
      "       0.03083811, 0.03186677, 0.03300649, 0.03427685, 0.03570235]), array([[15355329.94923843, 24873096.44670026],\n",
      "       [24873096.44670026, 41116751.26903512]]), 2.604684095646748, 7.026746873521614]\n",
      "  kwargs: {}\n",
      "  exception:\n"
     ]
    },
    {
     "name": "stderr",
     "output_type": "stream",
     "text": [
      "Traceback (most recent call last):\n",
      "  File \"/gpfs/home/argiannakopo/.conda/envs/Jupyter/lib/python3.10/site-packages/emcee/ensemble.py\", line 640, in __call__\n",
      "    return self.f(x, *self.args, **self.kwargs)\n",
      "  File \"/tmp/ipykernel_4186/2450674156.py\", line 18, in lnprob\n",
      "    chi_squared_cmb(alphaNc, eigenvectorsNc, invCMBCov, lnd_ang_rec_fid, Omh2, Om, Ok, ORhh)) + chi_squared_prior(eigenvectors, eigenvectorsNc,  alphaNc, alpha_max, alpha_min, zBinsFisher, Omh2, Om, Ok, ORhh, ln_angular_0p35_fid)\n",
      "  File \"/tmp/ipykernel_4186/3689629809.py\", line 6, in chi_squared_cmb\n",
      "    diff1 = ln_angular_dist(zrec, zbins, alphas, eigenvectors, Omh2, Om, Ok, ORhh) - lnd_ang_rec_fid\n",
      "  File \"/tmp/ipykernel_4186/706323974.py\", line 2, in ln_angular_dist\n",
      "    return np.log( angular_dist(z,zbins, alphas, eigenvectors, Omh2, Om, Ok, ORhh) )\n",
      "  File \"/tmp/ipykernel_4186/2578424640.py\", line 6, in angular_dist\n",
      "    comov_dist = comov_dist_rad_fast(z,zbins, alphas, eigenvectors, Omh2, Om, Ok, ORhh)\n",
      "  File \"/tmp/ipykernel_4186/210980314.py\", line 37, in comov_dist_rad_fast\n",
      "    z_more = integrate.quad(f, zbins[-1], z, args=(x, Ok, h2, ORhh))\n",
      "  File \"/gpfs/home/argiannakopo/.conda/envs/Jupyter/lib/python3.10/site-packages/scipy/integrate/_quadpack_py.py\", line 463, in quad\n",
      "    retval = _quad(func, a, b, args, full_output, epsabs, epsrel, limit,\n",
      "  File \"/gpfs/home/argiannakopo/.conda/envs/Jupyter/lib/python3.10/site-packages/scipy/integrate/_quadpack_py.py\", line 575, in _quad\n",
      "    return _quadpack._qagse(func,a,b,args,full_output,epsabs,epsrel,limit)\n",
      "  File \"/tmp/ipykernel_4186/210980314.py\", line 18, in f\n",
      "    return 1 / (100 * np.sqrt(Omh2 * (1 + x1)**3 + x * (1+ x1) + Ok * h2 * (1 + x1 )**3 + ORhh * (1+ x1 ) ** 4))\n",
      "KeyboardInterrupt\n"
     ]
    },
    {
     "ename": "KeyboardInterrupt",
     "evalue": "",
     "output_type": "error",
     "traceback": [
      "\u001b[0;31m---------------------------------------------------------------------------\u001b[0m",
      "\u001b[0;31mKeyboardInterrupt\u001b[0m                         Traceback (most recent call last)",
      "Cell \u001b[0;32mIn[45], line 11\u001b[0m\n\u001b[1;32m      8\u001b[0m old_tau \u001b[38;5;241m=\u001b[39m np\u001b[38;5;241m.\u001b[39minf\n\u001b[1;32m     10\u001b[0m \u001b[38;5;66;03m# Now we'll sample for up to max_n steps\u001b[39;00m\n\u001b[0;32m---> 11\u001b[0m \u001b[38;5;28;01mfor\u001b[39;00m sample \u001b[38;5;129;01min\u001b[39;00m sampler\u001b[38;5;241m.\u001b[39msample(p0, iterations\u001b[38;5;241m=\u001b[39mmax_n, progress\u001b[38;5;241m=\u001b[39m\u001b[38;5;28;01mTrue\u001b[39;00m):\n\u001b[1;32m     12\u001b[0m     \u001b[38;5;66;03m# Only check convergence every 100 steps\u001b[39;00m\n\u001b[1;32m     13\u001b[0m     \u001b[38;5;28;01mif\u001b[39;00m sampler\u001b[38;5;241m.\u001b[39miteration \u001b[38;5;241m%\u001b[39m \u001b[38;5;241m100\u001b[39m:\n\u001b[1;32m     14\u001b[0m         \u001b[38;5;28;01mcontinue\u001b[39;00m\n",
      "File \u001b[0;32m~/.conda/envs/Jupyter/lib/python3.10/site-packages/emcee/ensemble.py:409\u001b[0m, in \u001b[0;36mEnsembleSampler.sample\u001b[0;34m(self, initial_state, log_prob0, rstate0, blobs0, iterations, tune, skip_initial_state_check, thin_by, thin, store, progress, progress_kwargs)\u001b[0m\n\u001b[1;32m    406\u001b[0m move \u001b[38;5;241m=\u001b[39m \u001b[38;5;28mself\u001b[39m\u001b[38;5;241m.\u001b[39m_random\u001b[38;5;241m.\u001b[39mchoice(\u001b[38;5;28mself\u001b[39m\u001b[38;5;241m.\u001b[39m_moves, p\u001b[38;5;241m=\u001b[39m\u001b[38;5;28mself\u001b[39m\u001b[38;5;241m.\u001b[39m_weights)\n\u001b[1;32m    408\u001b[0m \u001b[38;5;66;03m# Propose\u001b[39;00m\n\u001b[0;32m--> 409\u001b[0m state, accepted \u001b[38;5;241m=\u001b[39m \u001b[43mmove\u001b[49m\u001b[38;5;241;43m.\u001b[39;49m\u001b[43mpropose\u001b[49m\u001b[43m(\u001b[49m\u001b[43mmodel\u001b[49m\u001b[43m,\u001b[49m\u001b[43m \u001b[49m\u001b[43mstate\u001b[49m\u001b[43m)\u001b[49m\n\u001b[1;32m    410\u001b[0m state\u001b[38;5;241m.\u001b[39mrandom_state \u001b[38;5;241m=\u001b[39m \u001b[38;5;28mself\u001b[39m\u001b[38;5;241m.\u001b[39mrandom_state\n\u001b[1;32m    412\u001b[0m \u001b[38;5;28;01mif\u001b[39;00m tune:\n",
      "File \u001b[0;32m~/.conda/envs/Jupyter/lib/python3.10/site-packages/emcee/moves/red_blue.py:93\u001b[0m, in \u001b[0;36mRedBlueMove.propose\u001b[0;34m(self, model, state)\u001b[0m\n\u001b[1;32m     90\u001b[0m q, factors \u001b[38;5;241m=\u001b[39m \u001b[38;5;28mself\u001b[39m\u001b[38;5;241m.\u001b[39mget_proposal(s, c, model\u001b[38;5;241m.\u001b[39mrandom)\n\u001b[1;32m     92\u001b[0m \u001b[38;5;66;03m# Compute the lnprobs of the proposed position.\u001b[39;00m\n\u001b[0;32m---> 93\u001b[0m new_log_probs, new_blobs \u001b[38;5;241m=\u001b[39m \u001b[43mmodel\u001b[49m\u001b[38;5;241;43m.\u001b[39;49m\u001b[43mcompute_log_prob_fn\u001b[49m\u001b[43m(\u001b[49m\u001b[43mq\u001b[49m\u001b[43m)\u001b[49m\n\u001b[1;32m     95\u001b[0m \u001b[38;5;66;03m# Loop over the walkers and update them accordingly.\u001b[39;00m\n\u001b[1;32m     96\u001b[0m \u001b[38;5;28;01mfor\u001b[39;00m i, (j, f, nlp) \u001b[38;5;129;01min\u001b[39;00m \u001b[38;5;28menumerate\u001b[39m(\n\u001b[1;32m     97\u001b[0m     \u001b[38;5;28mzip\u001b[39m(all_inds[S1], factors, new_log_probs)\n\u001b[1;32m     98\u001b[0m ):\n",
      "File \u001b[0;32m~/.conda/envs/Jupyter/lib/python3.10/site-packages/emcee/ensemble.py:496\u001b[0m, in \u001b[0;36mEnsembleSampler.compute_log_prob\u001b[0;34m(self, coords)\u001b[0m\n\u001b[1;32m    494\u001b[0m     \u001b[38;5;28;01melse\u001b[39;00m:\n\u001b[1;32m    495\u001b[0m         map_func \u001b[38;5;241m=\u001b[39m \u001b[38;5;28mmap\u001b[39m\n\u001b[0;32m--> 496\u001b[0m     results \u001b[38;5;241m=\u001b[39m \u001b[38;5;28;43mlist\u001b[39;49m\u001b[43m(\u001b[49m\u001b[43mmap_func\u001b[49m\u001b[43m(\u001b[49m\u001b[38;5;28;43mself\u001b[39;49m\u001b[38;5;241;43m.\u001b[39;49m\u001b[43mlog_prob_fn\u001b[49m\u001b[43m,\u001b[49m\u001b[43m \u001b[49m\u001b[43mp\u001b[49m\u001b[43m)\u001b[49m\u001b[43m)\u001b[49m\n\u001b[1;32m    498\u001b[0m \u001b[38;5;28;01mtry\u001b[39;00m:\n\u001b[1;32m    499\u001b[0m     \u001b[38;5;66;03m# perhaps log_prob_fn returns blobs?\u001b[39;00m\n\u001b[1;32m    500\u001b[0m \n\u001b[0;32m   (...)\u001b[0m\n\u001b[1;32m    504\u001b[0m     \u001b[38;5;66;03m# l is a length-1 array, np.array([1.234]). In that case blob\u001b[39;00m\n\u001b[1;32m    505\u001b[0m     \u001b[38;5;66;03m# will become an empty list.\u001b[39;00m\n\u001b[1;32m    506\u001b[0m     blob \u001b[38;5;241m=\u001b[39m [l[\u001b[38;5;241m1\u001b[39m:] \u001b[38;5;28;01mfor\u001b[39;00m l \u001b[38;5;129;01min\u001b[39;00m results \u001b[38;5;28;01mif\u001b[39;00m \u001b[38;5;28mlen\u001b[39m(l) \u001b[38;5;241m>\u001b[39m \u001b[38;5;241m1\u001b[39m]\n",
      "File \u001b[0;32m~/.conda/envs/Jupyter/lib/python3.10/site-packages/emcee/ensemble.py:640\u001b[0m, in \u001b[0;36m_FunctionWrapper.__call__\u001b[0;34m(self, x)\u001b[0m\n\u001b[1;32m    638\u001b[0m \u001b[38;5;28;01mdef\u001b[39;00m \u001b[38;5;21m__call__\u001b[39m(\u001b[38;5;28mself\u001b[39m, x):\n\u001b[1;32m    639\u001b[0m     \u001b[38;5;28;01mtry\u001b[39;00m:\n\u001b[0;32m--> 640\u001b[0m         \u001b[38;5;28;01mreturn\u001b[39;00m \u001b[38;5;28;43mself\u001b[39;49m\u001b[38;5;241;43m.\u001b[39;49m\u001b[43mf\u001b[49m\u001b[43m(\u001b[49m\u001b[43mx\u001b[49m\u001b[43m,\u001b[49m\u001b[43m \u001b[49m\u001b[38;5;241;43m*\u001b[39;49m\u001b[38;5;28;43mself\u001b[39;49m\u001b[38;5;241;43m.\u001b[39;49m\u001b[43margs\u001b[49m\u001b[43m,\u001b[49m\u001b[43m \u001b[49m\u001b[38;5;241;43m*\u001b[39;49m\u001b[38;5;241;43m*\u001b[39;49m\u001b[38;5;28;43mself\u001b[39;49m\u001b[38;5;241;43m.\u001b[39;49m\u001b[43mkwargs\u001b[49m\u001b[43m)\u001b[49m\n\u001b[1;32m    641\u001b[0m     \u001b[38;5;28;01mexcept\u001b[39;00m:  \u001b[38;5;66;03m# pragma: no cover\u001b[39;00m\n\u001b[1;32m    642\u001b[0m         \u001b[38;5;28;01mimport\u001b[39;00m \u001b[38;5;21;01mtraceback\u001b[39;00m\n",
      "Cell \u001b[0;32mIn[39], line 18\u001b[0m, in \u001b[0;36mlnprob\u001b[0;34m(theta, Ok, zBinsFisher, eigenvectors, eigenvectorsNc, sigma_values, invCMBCov, lnd_ang_rec_fid, ln_angular_0p35_fid)\u001b[0m\n\u001b[1;32m     13\u001b[0m     \u001b[38;5;28;01mreturn\u001b[39;00m \u001b[38;5;241m-\u001b[39mnp\u001b[38;5;241m.\u001b[39minf\n\u001b[1;32m     15\u001b[0m H0 \u001b[38;5;241m=\u001b[39m np\u001b[38;5;241m.\u001b[39msqrt( Omh2 \u001b[38;5;241m/\u001b[39m Om )\n\u001b[1;32m     17\u001b[0m \u001b[38;5;28;01mreturn\u001b[39;00m \u001b[38;5;241m-\u001b[39m \u001b[38;5;241m0.5\u001b[39m \u001b[38;5;241m*\u001b[39m ( chi_squared_sn(alphaNc, Om, Omh2, Ok, zBinsFisher, eigenvectorsNc, sigma2_values) \u001b[38;5;241m+\u001b[39m  \n\u001b[0;32m---> 18\u001b[0m                 \u001b[43mchi_squared_cmb\u001b[49m\u001b[43m(\u001b[49m\u001b[43malphaNc\u001b[49m\u001b[43m,\u001b[49m\u001b[43m \u001b[49m\u001b[43meigenvectorsNc\u001b[49m\u001b[43m,\u001b[49m\u001b[43m \u001b[49m\u001b[43minvCMBCov\u001b[49m\u001b[43m,\u001b[49m\u001b[43m \u001b[49m\u001b[43mlnd_ang_rec_fid\u001b[49m\u001b[43m,\u001b[49m\u001b[43m \u001b[49m\u001b[43mOmh2\u001b[49m\u001b[43m,\u001b[49m\u001b[43m \u001b[49m\u001b[43mOm\u001b[49m\u001b[43m,\u001b[49m\u001b[43m \u001b[49m\u001b[43mOk\u001b[49m\u001b[43m,\u001b[49m\u001b[43m \u001b[49m\u001b[43mORhh\u001b[49m\u001b[43m)\u001b[49m) \u001b[38;5;241m+\u001b[39m chi_squared_prior(eigenvectors, eigenvectorsNc,  alphaNc, alpha_max, alpha_min, zBinsFisher, Omh2, Om, Ok, ORhh, ln_angular_0p35_fid)\n",
      "Cell \u001b[0;32mIn[35], line 6\u001b[0m, in \u001b[0;36mchi_squared_cmb\u001b[0;34m(alphas, eigenvectors, invCMBCov, lnd_ang_rec_fid, Omh2, Om, Ok, ORhh)\u001b[0m\n\u001b[1;32m      4\u001b[0m zrec \u001b[38;5;241m=\u001b[39m \u001b[38;5;241m1090\u001b[39m\n\u001b[1;32m      5\u001b[0m Omh2_fid \u001b[38;5;241m=\u001b[39m \u001b[38;5;241m0.24\u001b[39m \u001b[38;5;241m*\u001b[39m \u001b[38;5;241m0.73\u001b[39m \u001b[38;5;241m*\u001b[39m\u001b[38;5;241m*\u001b[39m \u001b[38;5;241m2\u001b[39m\n\u001b[0;32m----> 6\u001b[0m diff1 \u001b[38;5;241m=\u001b[39m \u001b[43mln_angular_dist\u001b[49m\u001b[43m(\u001b[49m\u001b[43mzrec\u001b[49m\u001b[43m,\u001b[49m\u001b[43m \u001b[49m\u001b[43mzbins\u001b[49m\u001b[43m,\u001b[49m\u001b[43m \u001b[49m\u001b[43malphas\u001b[49m\u001b[43m,\u001b[49m\u001b[43m \u001b[49m\u001b[43meigenvectors\u001b[49m\u001b[43m,\u001b[49m\u001b[43m \u001b[49m\u001b[43mOmh2\u001b[49m\u001b[43m,\u001b[49m\u001b[43m \u001b[49m\u001b[43mOm\u001b[49m\u001b[43m,\u001b[49m\u001b[43m \u001b[49m\u001b[43mOk\u001b[49m\u001b[43m,\u001b[49m\u001b[43m \u001b[49m\u001b[43mORhh\u001b[49m\u001b[43m)\u001b[49m \u001b[38;5;241m-\u001b[39m lnd_ang_rec_fid \n\u001b[1;32m      7\u001b[0m diff2 \u001b[38;5;241m=\u001b[39m Omh2 \u001b[38;5;241m-\u001b[39m Omh2_fid\n\u001b[1;32m     10\u001b[0m vec \u001b[38;5;241m=\u001b[39m np\u001b[38;5;241m.\u001b[39marray([diff1, diff2])\n",
      "Cell \u001b[0;32mIn[32], line 2\u001b[0m, in \u001b[0;36mln_angular_dist\u001b[0;34m(z, zbins, alphas, eigenvectors, Omh2, Om, Ok, ORhh)\u001b[0m\n\u001b[1;32m      1\u001b[0m \u001b[38;5;28;01mdef\u001b[39;00m \u001b[38;5;21mln_angular_dist\u001b[39m(z,zbins, alphas, eigenvectors, Omh2, Om, Ok, ORhh):\n\u001b[0;32m----> 2\u001b[0m     \u001b[38;5;28;01mreturn\u001b[39;00m np\u001b[38;5;241m.\u001b[39mlog( \u001b[43mangular_dist\u001b[49m\u001b[43m(\u001b[49m\u001b[43mz\u001b[49m\u001b[43m,\u001b[49m\u001b[43mzbins\u001b[49m\u001b[43m,\u001b[49m\u001b[43m \u001b[49m\u001b[43malphas\u001b[49m\u001b[43m,\u001b[49m\u001b[43m \u001b[49m\u001b[43meigenvectors\u001b[49m\u001b[43m,\u001b[49m\u001b[43m \u001b[49m\u001b[43mOmh2\u001b[49m\u001b[43m,\u001b[49m\u001b[43m \u001b[49m\u001b[43mOm\u001b[49m\u001b[43m,\u001b[49m\u001b[43m \u001b[49m\u001b[43mOk\u001b[49m\u001b[43m,\u001b[49m\u001b[43m \u001b[49m\u001b[43mORhh\u001b[49m\u001b[43m)\u001b[49m )\n",
      "Cell \u001b[0;32mIn[30], line 6\u001b[0m, in \u001b[0;36mangular_dist\u001b[0;34m(z, zbins, alphas, eigenvectors, Omh2, Om, Ok, ORhh)\u001b[0m\n\u001b[1;32m      3\u001b[0m \u001b[38;5;28;01mdef\u001b[39;00m \u001b[38;5;21mangular_dist\u001b[39m(z, zbins, alphas, eigenvectors, Omh2, Om, Ok, ORhh):\n\u001b[1;32m      5\u001b[0m     h2 \u001b[38;5;241m=\u001b[39m Omh2 \u001b[38;5;241m/\u001b[39m Om\n\u001b[0;32m----> 6\u001b[0m     comov_dist \u001b[38;5;241m=\u001b[39m \u001b[43mcomov_dist_rad_fast\u001b[49m\u001b[43m(\u001b[49m\u001b[43mz\u001b[49m\u001b[43m,\u001b[49m\u001b[43mzbins\u001b[49m\u001b[43m,\u001b[49m\u001b[43m \u001b[49m\u001b[43malphas\u001b[49m\u001b[43m,\u001b[49m\u001b[43m \u001b[49m\u001b[43meigenvectors\u001b[49m\u001b[43m,\u001b[49m\u001b[43m \u001b[49m\u001b[43mOmh2\u001b[49m\u001b[43m,\u001b[49m\u001b[43m \u001b[49m\u001b[43mOm\u001b[49m\u001b[43m,\u001b[49m\u001b[43m \u001b[49m\u001b[43mOk\u001b[49m\u001b[43m,\u001b[49m\u001b[43m \u001b[49m\u001b[43mORhh\u001b[49m\u001b[43m)\u001b[49m\n\u001b[1;32m      8\u001b[0m     \u001b[38;5;28;01mif\u001b[39;00m Ok \u001b[38;5;241m>\u001b[39m \u001b[38;5;241m0\u001b[39m :\n\u001b[1;32m      9\u001b[0m         \u001b[38;5;28;01mreturn\u001b[39;00m  cmag \u001b[38;5;241m/\u001b[39m ((\u001b[38;5;241m1\u001b[39m \u001b[38;5;241m+\u001b[39m z ) \u001b[38;5;241m*\u001b[39m \u001b[38;5;241m100\u001b[39m \u001b[38;5;241m*\u001b[39m h2 \u001b[38;5;241m*\u001b[39m np\u001b[38;5;241m.\u001b[39msqrt(np\u001b[38;5;241m.\u001b[39mabs(Ok))) \u001b[38;5;241m*\u001b[39m np\u001b[38;5;241m.\u001b[39msinh( (\u001b[38;5;241m1\u001b[39m\u001b[38;5;241m/\u001b[39mcmag) \u001b[38;5;241m*\u001b[39m np\u001b[38;5;241m.\u001b[39msqrt(Ok) \u001b[38;5;241m*\u001b[39m \u001b[38;5;241m100\u001b[39m \u001b[38;5;241m*\u001b[39m h2 \u001b[38;5;241m*\u001b[39m comov_dist )   \n",
      "Cell \u001b[0;32mIn[28], line 37\u001b[0m, in \u001b[0;36mcomov_dist_rad_fast\u001b[0;34m(z, zbins, alphas, eigenvectors, Omh2, Om, Ok, ORhh)\u001b[0m\n\u001b[1;32m     35\u001b[0m \u001b[38;5;28;01mif\u001b[39;00m z \u001b[38;5;241m>\u001b[39m zbins[\u001b[38;5;241m-\u001b[39m\u001b[38;5;241m1\u001b[39m]:\n\u001b[1;32m     36\u001b[0m     z_less \u001b[38;5;241m=\u001b[39m integrate\u001b[38;5;241m.\u001b[39mquad(f,\u001b[38;5;241m0\u001b[39m,zbins[\u001b[38;5;241m0\u001b[39m],args\u001b[38;5;241m=\u001b[39m(x, Ok, h2, ORhh))\n\u001b[0;32m---> 37\u001b[0m     z_more \u001b[38;5;241m=\u001b[39m \u001b[43mintegrate\u001b[49m\u001b[38;5;241;43m.\u001b[39;49m\u001b[43mquad\u001b[49m\u001b[43m(\u001b[49m\u001b[43mf\u001b[49m\u001b[43m,\u001b[49m\u001b[43m \u001b[49m\u001b[43mzbins\u001b[49m\u001b[43m[\u001b[49m\u001b[38;5;241;43m-\u001b[39;49m\u001b[38;5;241;43m1\u001b[39;49m\u001b[43m]\u001b[49m\u001b[43m,\u001b[49m\u001b[43m \u001b[49m\u001b[43mz\u001b[49m\u001b[43m,\u001b[49m\u001b[43m \u001b[49m\u001b[43margs\u001b[49m\u001b[38;5;241;43m=\u001b[39;49m\u001b[43m(\u001b[49m\u001b[43mx\u001b[49m\u001b[43m,\u001b[49m\u001b[43m \u001b[49m\u001b[43mOk\u001b[49m\u001b[43m,\u001b[49m\u001b[43m \u001b[49m\u001b[43mh2\u001b[49m\u001b[43m,\u001b[49m\u001b[43m \u001b[49m\u001b[43mORhh\u001b[49m\u001b[43m)\u001b[49m\u001b[43m)\u001b[49m\n\u001b[1;32m     39\u001b[0m     \u001b[38;5;28;01mreturn\u001b[39;00m cmag \u001b[38;5;241m*\u001b[39m z_less[\u001b[38;5;241m0\u001b[39m] \u001b[38;5;241m+\u001b[39m  cmag \u001b[38;5;241m*\u001b[39m np\u001b[38;5;241m.\u001b[39msum( dz \u001b[38;5;241m/\u001b[39m hubble_rad(zbins, alphas, eigenvectors, Omh2, Om, Ok, ORhh)) \u001b[38;5;241m+\u001b[39m cmag \u001b[38;5;241m*\u001b[39m z_more[\u001b[38;5;241m0\u001b[39m]\n",
      "File \u001b[0;32m~/.conda/envs/Jupyter/lib/python3.10/site-packages/scipy/integrate/_quadpack_py.py:463\u001b[0m, in \u001b[0;36mquad\u001b[0;34m(func, a, b, args, full_output, epsabs, epsrel, limit, points, weight, wvar, wopts, maxp1, limlst, complex_func)\u001b[0m\n\u001b[1;32m    460\u001b[0m     \u001b[38;5;28;01mreturn\u001b[39;00m retval\n\u001b[1;32m    462\u001b[0m \u001b[38;5;28;01mif\u001b[39;00m weight \u001b[38;5;129;01mis\u001b[39;00m \u001b[38;5;28;01mNone\u001b[39;00m:\n\u001b[0;32m--> 463\u001b[0m     retval \u001b[38;5;241m=\u001b[39m \u001b[43m_quad\u001b[49m\u001b[43m(\u001b[49m\u001b[43mfunc\u001b[49m\u001b[43m,\u001b[49m\u001b[43m \u001b[49m\u001b[43ma\u001b[49m\u001b[43m,\u001b[49m\u001b[43m \u001b[49m\u001b[43mb\u001b[49m\u001b[43m,\u001b[49m\u001b[43m \u001b[49m\u001b[43margs\u001b[49m\u001b[43m,\u001b[49m\u001b[43m \u001b[49m\u001b[43mfull_output\u001b[49m\u001b[43m,\u001b[49m\u001b[43m \u001b[49m\u001b[43mepsabs\u001b[49m\u001b[43m,\u001b[49m\u001b[43m \u001b[49m\u001b[43mepsrel\u001b[49m\u001b[43m,\u001b[49m\u001b[43m \u001b[49m\u001b[43mlimit\u001b[49m\u001b[43m,\u001b[49m\n\u001b[1;32m    464\u001b[0m \u001b[43m                   \u001b[49m\u001b[43mpoints\u001b[49m\u001b[43m)\u001b[49m\n\u001b[1;32m    465\u001b[0m \u001b[38;5;28;01melse\u001b[39;00m:\n\u001b[1;32m    466\u001b[0m     \u001b[38;5;28;01mif\u001b[39;00m points \u001b[38;5;129;01mis\u001b[39;00m \u001b[38;5;129;01mnot\u001b[39;00m \u001b[38;5;28;01mNone\u001b[39;00m:\n",
      "File \u001b[0;32m~/.conda/envs/Jupyter/lib/python3.10/site-packages/scipy/integrate/_quadpack_py.py:575\u001b[0m, in \u001b[0;36m_quad\u001b[0;34m(func, a, b, args, full_output, epsabs, epsrel, limit, points)\u001b[0m\n\u001b[1;32m    573\u001b[0m \u001b[38;5;28;01mif\u001b[39;00m points \u001b[38;5;129;01mis\u001b[39;00m \u001b[38;5;28;01mNone\u001b[39;00m:\n\u001b[1;32m    574\u001b[0m     \u001b[38;5;28;01mif\u001b[39;00m infbounds \u001b[38;5;241m==\u001b[39m \u001b[38;5;241m0\u001b[39m:\n\u001b[0;32m--> 575\u001b[0m         \u001b[38;5;28;01mreturn\u001b[39;00m \u001b[43m_quadpack\u001b[49m\u001b[38;5;241;43m.\u001b[39;49m\u001b[43m_qagse\u001b[49m\u001b[43m(\u001b[49m\u001b[43mfunc\u001b[49m\u001b[43m,\u001b[49m\u001b[43ma\u001b[49m\u001b[43m,\u001b[49m\u001b[43mb\u001b[49m\u001b[43m,\u001b[49m\u001b[43margs\u001b[49m\u001b[43m,\u001b[49m\u001b[43mfull_output\u001b[49m\u001b[43m,\u001b[49m\u001b[43mepsabs\u001b[49m\u001b[43m,\u001b[49m\u001b[43mepsrel\u001b[49m\u001b[43m,\u001b[49m\u001b[43mlimit\u001b[49m\u001b[43m)\u001b[49m\n\u001b[1;32m    576\u001b[0m     \u001b[38;5;28;01melse\u001b[39;00m:\n\u001b[1;32m    577\u001b[0m         \u001b[38;5;28;01mreturn\u001b[39;00m _quadpack\u001b[38;5;241m.\u001b[39m_qagie(func,bound,infbounds,args,full_output,epsabs,epsrel,limit)\n",
      "Cell \u001b[0;32mIn[28], line 18\u001b[0m, in \u001b[0;36mcomov_dist_rad_fast.<locals>.f\u001b[0;34m(x1, x, Ok, h2, ORhh)\u001b[0m\n\u001b[1;32m     17\u001b[0m \u001b[38;5;28;01mdef\u001b[39;00m \u001b[38;5;21mf\u001b[39m(x1,x, Ok, h2, ORhh):\n\u001b[0;32m---> 18\u001b[0m     \u001b[38;5;28;01mreturn\u001b[39;00m \u001b[38;5;241m1\u001b[39m \u001b[38;5;241m/\u001b[39m (\u001b[38;5;241m100\u001b[39m \u001b[38;5;241m*\u001b[39m \u001b[43mnp\u001b[49m\u001b[38;5;241;43m.\u001b[39;49m\u001b[43msqrt\u001b[49m\u001b[43m(\u001b[49m\u001b[43mOmh2\u001b[49m\u001b[43m \u001b[49m\u001b[38;5;241;43m*\u001b[39;49m\u001b[43m \u001b[49m\u001b[43m(\u001b[49m\u001b[38;5;241;43m1\u001b[39;49m\u001b[43m \u001b[49m\u001b[38;5;241;43m+\u001b[39;49m\u001b[43m \u001b[49m\u001b[43mx1\u001b[49m\u001b[43m)\u001b[49m\u001b[38;5;241;43m*\u001b[39;49m\u001b[38;5;241;43m*\u001b[39;49m\u001b[38;5;241;43m3\u001b[39;49m\u001b[43m \u001b[49m\u001b[38;5;241;43m+\u001b[39;49m\u001b[43m \u001b[49m\u001b[43mx\u001b[49m\u001b[43m \u001b[49m\u001b[38;5;241;43m*\u001b[39;49m\u001b[43m \u001b[49m\u001b[43m(\u001b[49m\u001b[38;5;241;43m1\u001b[39;49m\u001b[38;5;241;43m+\u001b[39;49m\u001b[43m \u001b[49m\u001b[43mx1\u001b[49m\u001b[43m)\u001b[49m\u001b[43m \u001b[49m\u001b[38;5;241;43m+\u001b[39;49m\u001b[43m \u001b[49m\u001b[43mOk\u001b[49m\u001b[43m \u001b[49m\u001b[38;5;241;43m*\u001b[39;49m\u001b[43m \u001b[49m\u001b[43mh2\u001b[49m\u001b[43m \u001b[49m\u001b[38;5;241;43m*\u001b[39;49m\u001b[43m \u001b[49m\u001b[43m(\u001b[49m\u001b[38;5;241;43m1\u001b[39;49m\u001b[43m \u001b[49m\u001b[38;5;241;43m+\u001b[39;49m\u001b[43m \u001b[49m\u001b[43mx1\u001b[49m\u001b[43m \u001b[49m\u001b[43m)\u001b[49m\u001b[38;5;241;43m*\u001b[39;49m\u001b[38;5;241;43m*\u001b[39;49m\u001b[38;5;241;43m3\u001b[39;49m\u001b[43m \u001b[49m\u001b[38;5;241;43m+\u001b[39;49m\u001b[43m \u001b[49m\u001b[43mORhh\u001b[49m\u001b[43m \u001b[49m\u001b[38;5;241;43m*\u001b[39;49m\u001b[43m \u001b[49m\u001b[43m(\u001b[49m\u001b[38;5;241;43m1\u001b[39;49m\u001b[38;5;241;43m+\u001b[39;49m\u001b[43m \u001b[49m\u001b[43mx1\u001b[49m\u001b[43m \u001b[49m\u001b[43m)\u001b[49m\u001b[43m \u001b[49m\u001b[38;5;241;43m*\u001b[39;49m\u001b[38;5;241;43m*\u001b[39;49m\u001b[43m \u001b[49m\u001b[38;5;241;43m4\u001b[39;49m\u001b[43m)\u001b[49m)\n",
      "\u001b[0;31mKeyboardInterrupt\u001b[0m: "
     ]
    }
   ],
   "source": [
    "max_n = 100000\n",
    "\n",
    "# We'll track how the average autocorrelation time estimate changes\n",
    "index = 0\n",
    "autocorr = np.empty(max_n)\n",
    "\n",
    "# This will be useful to testing convergence\n",
    "old_tau = np.inf\n",
    "\n",
    "# Now we'll sample for up to max_n steps\n",
    "for sample in sampler.sample(p0, iterations=max_n, progress=True):\n",
    "    # Only check convergence every 100 steps\n",
    "    if sampler.iteration % 100:\n",
    "        continue\n",
    "\n",
    "    # Compute the autocorrelation time so far\n",
    "    # Using tol=0 means that we'll always get an estimate even\n",
    "    # if it isn't trustworthy\n",
    "    tau = sampler.get_autocorr_time(tol=0)\n",
    "    autocorr[index] = np.mean(tau)\n",
    "    index += 1\n",
    "\n",
    "    # Check convergence\n",
    "    # If the chain is longer than 100 times the estimated autocorrelation time and \n",
    "    # if this estimate changed by less than 1%, we’ll consider things converged.\n",
    "    converged = np.all(tau * 100 < sampler.iteration)\n",
    "    converged &= np.all(np.abs(old_tau - tau) / tau < 0.01)\n",
    "    if converged:\n",
    "        break\n",
    "    old_tau = tau"
   ]
  },
  {
   "cell_type": "code",
   "execution_count": null,
   "id": "60b4cf35-a85b-4338-863c-e1ca0b929398",
   "metadata": {},
   "outputs": [],
   "source": []
  },
  {
   "cell_type": "markdown",
   "id": "175381a6-4464-4a8d-9bba-0ba731b18781",
   "metadata": {
    "tags": []
   },
   "source": [
    "# Read from file MCMC chain "
   ]
  },
  {
   "cell_type": "code",
   "execution_count": 36,
   "id": "5b190a2f-3a39-4ff1-9ca4-6a6833aad858",
   "metadata": {
    "tags": []
   },
   "outputs": [
    {
     "ename": "AutocorrError",
     "evalue": "The chain is shorter than 50 times the integrated autocorrelation time for 17 parameter(s). Use this estimate with caution and run a longer chain!\nN/50 = 2000;\ntau: [3691.72282534 3194.60226353 3516.90387862 3674.10266409 3680.90283746\n 3308.14868922 3687.57026612 3403.9502163  3655.54088014 3444.53213286\n 3553.36362001 3649.94187241 3193.31872044 3552.65128833 3477.92708144\n 3003.71077187 2570.59119628]",
     "output_type": "error",
     "traceback": [
      "\u001b[0;31m---------------------------------------------------------------------------\u001b[0m",
      "\u001b[0;31mAutocorrError\u001b[0m                             Traceback (most recent call last)",
      "Cell \u001b[0;32mIn[36], line 7\u001b[0m\n\u001b[1;32m      4\u001b[0m filename \u001b[38;5;241m=\u001b[39m \u001b[38;5;124m\"\u001b[39m\u001b[38;5;124m/gpfs/scratch/argiannakopo/PCA_optim_MCMC.h5\u001b[39m\u001b[38;5;124m\"\u001b[39m\n\u001b[1;32m      5\u001b[0m reader \u001b[38;5;241m=\u001b[39m emcee\u001b[38;5;241m.\u001b[39mbackends\u001b[38;5;241m.\u001b[39mHDFBackend(filename)\n\u001b[0;32m----> 7\u001b[0m tau \u001b[38;5;241m=\u001b[39m \u001b[43mreader\u001b[49m\u001b[38;5;241;43m.\u001b[39;49m\u001b[43mget_autocorr_time\u001b[49m\u001b[43m(\u001b[49m\u001b[43m)\u001b[49m\n\u001b[1;32m      8\u001b[0m burnin \u001b[38;5;241m=\u001b[39m \u001b[38;5;28mint\u001b[39m(\u001b[38;5;241m2\u001b[39m \u001b[38;5;241m*\u001b[39m np\u001b[38;5;241m.\u001b[39mmax(tau))\n\u001b[1;32m      9\u001b[0m thin \u001b[38;5;241m=\u001b[39m \u001b[38;5;28mint\u001b[39m(\u001b[38;5;241m0.5\u001b[39m \u001b[38;5;241m*\u001b[39m np\u001b[38;5;241m.\u001b[39mmin(tau))\n",
      "File \u001b[0;32m~/.conda/envs/Jupyter/lib/python3.10/site-packages/emcee/backends/backend.py:150\u001b[0m, in \u001b[0;36mBackend.get_autocorr_time\u001b[0;34m(self, discard, thin, **kwargs)\u001b[0m\n\u001b[1;32m    131\u001b[0m \u001b[38;5;250m\u001b[39m\u001b[38;5;124;03m\"\"\"Compute an estimate of the autocorrelation time for each parameter\u001b[39;00m\n\u001b[1;32m    132\u001b[0m \n\u001b[1;32m    133\u001b[0m \u001b[38;5;124;03mArgs:\u001b[39;00m\n\u001b[0;32m   (...)\u001b[0m\n\u001b[1;32m    147\u001b[0m \n\u001b[1;32m    148\u001b[0m \u001b[38;5;124;03m\"\"\"\u001b[39;00m\n\u001b[1;32m    149\u001b[0m x \u001b[38;5;241m=\u001b[39m \u001b[38;5;28mself\u001b[39m\u001b[38;5;241m.\u001b[39mget_chain(discard\u001b[38;5;241m=\u001b[39mdiscard, thin\u001b[38;5;241m=\u001b[39mthin)\n\u001b[0;32m--> 150\u001b[0m \u001b[38;5;28;01mreturn\u001b[39;00m thin \u001b[38;5;241m*\u001b[39m \u001b[43mautocorr\u001b[49m\u001b[38;5;241;43m.\u001b[39;49m\u001b[43mintegrated_time\u001b[49m\u001b[43m(\u001b[49m\u001b[43mx\u001b[49m\u001b[43m,\u001b[49m\u001b[43m \u001b[49m\u001b[38;5;241;43m*\u001b[39;49m\u001b[38;5;241;43m*\u001b[39;49m\u001b[43mkwargs\u001b[49m\u001b[43m)\u001b[49m\n",
      "File \u001b[0;32m~/.conda/envs/Jupyter/lib/python3.10/site-packages/emcee/autocorr.py:120\u001b[0m, in \u001b[0;36mintegrated_time\u001b[0;34m(x, c, tol, quiet, has_walkers)\u001b[0m\n\u001b[1;32m    118\u001b[0m     msg \u001b[38;5;241m+\u001b[39m\u001b[38;5;241m=\u001b[39m \u001b[38;5;124m\"\u001b[39m\u001b[38;5;124mN/\u001b[39m\u001b[38;5;132;01m{0}\u001b[39;00m\u001b[38;5;124m = \u001b[39m\u001b[38;5;132;01m{1:.0f}\u001b[39;00m\u001b[38;5;124m;\u001b[39m\u001b[38;5;130;01m\\n\u001b[39;00m\u001b[38;5;124mtau: \u001b[39m\u001b[38;5;132;01m{2}\u001b[39;00m\u001b[38;5;124m\"\u001b[39m\u001b[38;5;241m.\u001b[39mformat(tol, n_t \u001b[38;5;241m/\u001b[39m tol, tau_est)\n\u001b[1;32m    119\u001b[0m     \u001b[38;5;28;01mif\u001b[39;00m \u001b[38;5;129;01mnot\u001b[39;00m quiet:\n\u001b[0;32m--> 120\u001b[0m         \u001b[38;5;28;01mraise\u001b[39;00m AutocorrError(tau_est, msg)\n\u001b[1;32m    121\u001b[0m     logger\u001b[38;5;241m.\u001b[39mwarning(msg)\n\u001b[1;32m    123\u001b[0m \u001b[38;5;28;01mreturn\u001b[39;00m tau_est\n",
      "\u001b[0;31mAutocorrError\u001b[0m: The chain is shorter than 50 times the integrated autocorrelation time for 17 parameter(s). Use this estimate with caution and run a longer chain!\nN/50 = 2000;\ntau: [3691.72282534 3194.60226353 3516.90387862 3674.10266409 3680.90283746\n 3308.14868922 3687.57026612 3403.9502163  3655.54088014 3444.53213286\n 3553.36362001 3649.94187241 3193.31872044 3552.65128833 3477.92708144\n 3003.71077187 2570.59119628]"
     ]
    }
   ],
   "source": [
    "# Read the sampler results from the save file\n",
    "\n",
    "# filename = \"/gpfs/scratch/argiannakopo/PCA_MCMC.h5\"\n",
    "filename = \"/gpfs/scratch/argiannakopo/PCA_optim_MCMC.h5\"\n",
    "reader = emcee.backends.HDFBackend(filename)\n",
    "\n",
    "tau = reader.get_autocorr_time()\n",
    "burnin = int(2 * np.max(tau))\n",
    "thin = int(0.5 * np.min(tau))\n",
    "samples = reader.get_chain(discard=burnin, flat=True, thin=thin)\n",
    "#log_prob_samples = reader.get_log_prob(discard=burnin, flat=True, thin=thin)\n",
    "#log_prior_samples = reader.get_blobs(discard=burnin, flat=True, thin=thin)\n",
    "\n",
    "print(\"burn-in: {0}\".format(burnin))\n",
    "print(\"thin: {0}\".format(thin))\n",
    "print(\"flat chain shape: {0}\".format(samples.shape))\n",
    "#print(\"flat log prob shape: {0}\".format(log_prob_samples.shape))\n",
    "#print(\"flat log prior shape: {0}\".format(log_prior_samples.shape))"
   ]
  },
  {
   "cell_type": "code",
   "execution_count": 37,
   "id": "a3315155-1ac3-428c-94a3-2f3727e0a0e9",
   "metadata": {},
   "outputs": [
    {
     "ename": "NameError",
     "evalue": "name 'tau' is not defined",
     "output_type": "error",
     "traceback": [
      "\u001b[0;31m---------------------------------------------------------------------------\u001b[0m",
      "\u001b[0;31mNameError\u001b[0m                                 Traceback (most recent call last)",
      "Cell \u001b[0;32mIn[37], line 1\u001b[0m\n\u001b[0;32m----> 1\u001b[0m \u001b[38;5;28mprint\u001b[39m(\u001b[43mtau\u001b[49m)\n",
      "\u001b[0;31mNameError\u001b[0m: name 'tau' is not defined"
     ]
    }
   ],
   "source": [
    "print(tau)"
   ]
  },
  {
   "cell_type": "code",
   "execution_count": 38,
   "id": "81727feb-adb5-4887-9807-360dde0a4f35",
   "metadata": {},
   "outputs": [
    {
     "data": {
      "text/plain": [
       "(100000, 64, 17)"
      ]
     },
     "execution_count": 38,
     "metadata": {},
     "output_type": "execute_result"
    }
   ],
   "source": [
    "reader.get_chain().shape"
   ]
  },
  {
   "cell_type": "code",
   "execution_count": 39,
   "id": "1a2556f9-e258-4844-bf31-5946838e1d7c",
   "metadata": {
    "collapsed": true,
    "jupyter": {
     "outputs_hidden": true
    },
    "tags": []
   },
   "outputs": [
    {
     "ename": "KeyboardInterrupt",
     "evalue": "",
     "output_type": "error",
     "traceback": [
      "\u001b[0;31m---------------------------------------------------------------------------\u001b[0m",
      "\u001b[0;31mKeyboardInterrupt\u001b[0m                         Traceback (most recent call last)",
      "Cell \u001b[0;32mIn[39], line 23\u001b[0m\n\u001b[1;32m     20\u001b[0m labels \u001b[38;5;241m=\u001b[39m \u001b[38;5;28mlist\u001b[39m(\u001b[38;5;28mmap\u001b[39m(\u001b[38;5;124mr\u001b[39m\u001b[38;5;124m\"\u001b[39m\u001b[38;5;124m$\u001b[39m\u001b[38;5;124m\\\u001b[39m\u001b[38;5;124mtheta_\u001b[39m\u001b[38;5;124m{{\u001b[39m\u001b[38;5;132;01m{0}\u001b[39;00m\u001b[38;5;124m}}$\u001b[39m\u001b[38;5;124m\"\u001b[39m\u001b[38;5;241m.\u001b[39mformat, \u001b[38;5;28mrange\u001b[39m(\u001b[38;5;241m1\u001b[39m, ndim \u001b[38;5;241m+\u001b[39m \u001b[38;5;241m1\u001b[39m)))\n\u001b[1;32m     21\u001b[0m \u001b[38;5;66;03m#labels += [\"log prob\", \"log prior\"]\u001b[39;00m\n\u001b[0;32m---> 23\u001b[0m \u001b[43mcorner\u001b[49m\u001b[38;5;241;43m.\u001b[39;49m\u001b[43mcorner\u001b[49m\u001b[43m(\u001b[49m\u001b[43msamples\u001b[49m\u001b[43m,\u001b[49m\u001b[43m \u001b[49m\u001b[43mlabels\u001b[49m\u001b[38;5;241;43m=\u001b[39;49m\u001b[43mlabels\u001b[49m\u001b[43m)\u001b[49m;\n",
      "File \u001b[0;32m~/.conda/envs/Jupyter/lib/python3.10/site-packages/corner/corner.py:248\u001b[0m, in \u001b[0;36mcorner\u001b[0;34m(data, bins, range, axes_scale, weights, color, hist_bin_factor, smooth, smooth1d, labels, label_kwargs, titles, show_titles, title_quantiles, title_fmt, title_kwargs, truths, truth_color, scale_hist, quantiles, verbose, fig, max_n_ticks, top_ticks, use_math_text, reverse, labelpad, hist_kwargs, group, var_names, filter_vars, coords, divergences, divergences_kwargs, labeller, **hist2d_kwargs)\u001b[0m\n\u001b[1;32m    236\u001b[0m     \u001b[38;5;28;01mif\u001b[39;00m (\n\u001b[1;32m    237\u001b[0m         var_names \u001b[38;5;129;01mis\u001b[39;00m \u001b[38;5;129;01mnot\u001b[39;00m \u001b[38;5;28;01mNone\u001b[39;00m\n\u001b[1;32m    238\u001b[0m         \u001b[38;5;129;01mor\u001b[39;00m filter_vars \u001b[38;5;129;01mis\u001b[39;00m \u001b[38;5;129;01mnot\u001b[39;00m \u001b[38;5;28;01mNone\u001b[39;00m\n\u001b[0;32m   (...)\u001b[0m\n\u001b[1;32m    242\u001b[0m         \u001b[38;5;129;01mor\u001b[39;00m labeller \u001b[38;5;129;01mis\u001b[39;00m \u001b[38;5;129;01mnot\u001b[39;00m \u001b[38;5;28;01mNone\u001b[39;00m\n\u001b[1;32m    243\u001b[0m     ):\n\u001b[1;32m    244\u001b[0m         logging\u001b[38;5;241m.\u001b[39mwarning(\n\u001b[1;32m    245\u001b[0m             \u001b[38;5;124m\"\u001b[39m\u001b[38;5;124mPlease install arviz to use the advanced features of corner\u001b[39m\u001b[38;5;124m\"\u001b[39m\n\u001b[1;32m    246\u001b[0m         )\n\u001b[0;32m--> 248\u001b[0m     \u001b[38;5;28;01mreturn\u001b[39;00m \u001b[43mcorner_impl\u001b[49m\u001b[43m(\u001b[49m\n\u001b[1;32m    249\u001b[0m \u001b[43m        \u001b[49m\u001b[43mdata\u001b[49m\u001b[43m,\u001b[49m\n\u001b[1;32m    250\u001b[0m \u001b[43m        \u001b[49m\u001b[43mbins\u001b[49m\u001b[38;5;241;43m=\u001b[39;49m\u001b[43mbins\u001b[49m\u001b[43m,\u001b[49m\n\u001b[1;32m    251\u001b[0m \u001b[43m        \u001b[49m\u001b[38;5;28;43mrange\u001b[39;49m\u001b[38;5;241;43m=\u001b[39;49m\u001b[38;5;28;43mrange\u001b[39;49m\u001b[43m,\u001b[49m\n\u001b[1;32m    252\u001b[0m \u001b[43m        \u001b[49m\u001b[43maxes_scale\u001b[49m\u001b[38;5;241;43m=\u001b[39;49m\u001b[43maxes_scale\u001b[49m\u001b[43m,\u001b[49m\n\u001b[1;32m    253\u001b[0m \u001b[43m        \u001b[49m\u001b[43mweights\u001b[49m\u001b[38;5;241;43m=\u001b[39;49m\u001b[43mweights\u001b[49m\u001b[43m,\u001b[49m\n\u001b[1;32m    254\u001b[0m \u001b[43m        \u001b[49m\u001b[43mcolor\u001b[49m\u001b[38;5;241;43m=\u001b[39;49m\u001b[43mcolor\u001b[49m\u001b[43m,\u001b[49m\n\u001b[1;32m    255\u001b[0m \u001b[43m        \u001b[49m\u001b[43mhist_bin_factor\u001b[49m\u001b[38;5;241;43m=\u001b[39;49m\u001b[43mhist_bin_factor\u001b[49m\u001b[43m,\u001b[49m\n\u001b[1;32m    256\u001b[0m \u001b[43m        \u001b[49m\u001b[43msmooth\u001b[49m\u001b[38;5;241;43m=\u001b[39;49m\u001b[43msmooth\u001b[49m\u001b[43m,\u001b[49m\n\u001b[1;32m    257\u001b[0m \u001b[43m        \u001b[49m\u001b[43msmooth1d\u001b[49m\u001b[38;5;241;43m=\u001b[39;49m\u001b[43msmooth1d\u001b[49m\u001b[43m,\u001b[49m\n\u001b[1;32m    258\u001b[0m \u001b[43m        \u001b[49m\u001b[43mlabels\u001b[49m\u001b[38;5;241;43m=\u001b[39;49m\u001b[43mlabels\u001b[49m\u001b[43m,\u001b[49m\n\u001b[1;32m    259\u001b[0m \u001b[43m        \u001b[49m\u001b[43mlabel_kwargs\u001b[49m\u001b[38;5;241;43m=\u001b[39;49m\u001b[43mlabel_kwargs\u001b[49m\u001b[43m,\u001b[49m\n\u001b[1;32m    260\u001b[0m \u001b[43m        \u001b[49m\u001b[43mtitles\u001b[49m\u001b[38;5;241;43m=\u001b[39;49m\u001b[43mtitles\u001b[49m\u001b[43m,\u001b[49m\n\u001b[1;32m    261\u001b[0m \u001b[43m        \u001b[49m\u001b[43mshow_titles\u001b[49m\u001b[38;5;241;43m=\u001b[39;49m\u001b[43mshow_titles\u001b[49m\u001b[43m,\u001b[49m\n\u001b[1;32m    262\u001b[0m \u001b[43m        \u001b[49m\u001b[43mtitle_quantiles\u001b[49m\u001b[38;5;241;43m=\u001b[39;49m\u001b[43mtitle_quantiles\u001b[49m\u001b[43m,\u001b[49m\n\u001b[1;32m    263\u001b[0m \u001b[43m        \u001b[49m\u001b[43mtitle_fmt\u001b[49m\u001b[38;5;241;43m=\u001b[39;49m\u001b[43mtitle_fmt\u001b[49m\u001b[43m,\u001b[49m\n\u001b[1;32m    264\u001b[0m \u001b[43m        \u001b[49m\u001b[43mtitle_kwargs\u001b[49m\u001b[38;5;241;43m=\u001b[39;49m\u001b[43mtitle_kwargs\u001b[49m\u001b[43m,\u001b[49m\n\u001b[1;32m    265\u001b[0m \u001b[43m        \u001b[49m\u001b[43mtruths\u001b[49m\u001b[38;5;241;43m=\u001b[39;49m\u001b[43mtruths\u001b[49m\u001b[43m,\u001b[49m\n\u001b[1;32m    266\u001b[0m \u001b[43m        \u001b[49m\u001b[43mtruth_color\u001b[49m\u001b[38;5;241;43m=\u001b[39;49m\u001b[43mtruth_color\u001b[49m\u001b[43m,\u001b[49m\n\u001b[1;32m    267\u001b[0m \u001b[43m        \u001b[49m\u001b[43mscale_hist\u001b[49m\u001b[38;5;241;43m=\u001b[39;49m\u001b[43mscale_hist\u001b[49m\u001b[43m,\u001b[49m\n\u001b[1;32m    268\u001b[0m \u001b[43m        \u001b[49m\u001b[43mquantiles\u001b[49m\u001b[38;5;241;43m=\u001b[39;49m\u001b[43mquantiles\u001b[49m\u001b[43m,\u001b[49m\n\u001b[1;32m    269\u001b[0m \u001b[43m        \u001b[49m\u001b[43mverbose\u001b[49m\u001b[38;5;241;43m=\u001b[39;49m\u001b[43mverbose\u001b[49m\u001b[43m,\u001b[49m\n\u001b[1;32m    270\u001b[0m \u001b[43m        \u001b[49m\u001b[43mfig\u001b[49m\u001b[38;5;241;43m=\u001b[39;49m\u001b[43mfig\u001b[49m\u001b[43m,\u001b[49m\n\u001b[1;32m    271\u001b[0m \u001b[43m        \u001b[49m\u001b[43mmax_n_ticks\u001b[49m\u001b[38;5;241;43m=\u001b[39;49m\u001b[43mmax_n_ticks\u001b[49m\u001b[43m,\u001b[49m\n\u001b[1;32m    272\u001b[0m \u001b[43m        \u001b[49m\u001b[43mtop_ticks\u001b[49m\u001b[38;5;241;43m=\u001b[39;49m\u001b[43mtop_ticks\u001b[49m\u001b[43m,\u001b[49m\n\u001b[1;32m    273\u001b[0m \u001b[43m        \u001b[49m\u001b[43muse_math_text\u001b[49m\u001b[38;5;241;43m=\u001b[39;49m\u001b[43muse_math_text\u001b[49m\u001b[43m,\u001b[49m\n\u001b[1;32m    274\u001b[0m \u001b[43m        \u001b[49m\u001b[43mreverse\u001b[49m\u001b[38;5;241;43m=\u001b[39;49m\u001b[43mreverse\u001b[49m\u001b[43m,\u001b[49m\n\u001b[1;32m    275\u001b[0m \u001b[43m        \u001b[49m\u001b[43mlabelpad\u001b[49m\u001b[38;5;241;43m=\u001b[39;49m\u001b[43mlabelpad\u001b[49m\u001b[43m,\u001b[49m\n\u001b[1;32m    276\u001b[0m \u001b[43m        \u001b[49m\u001b[43mhist_kwargs\u001b[49m\u001b[38;5;241;43m=\u001b[39;49m\u001b[43mhist_kwargs\u001b[49m\u001b[43m,\u001b[49m\n\u001b[1;32m    277\u001b[0m \u001b[43m        \u001b[49m\u001b[38;5;241;43m*\u001b[39;49m\u001b[38;5;241;43m*\u001b[39;49m\u001b[43mhist2d_kwargs\u001b[49m\u001b[43m,\u001b[49m\n\u001b[1;32m    278\u001b[0m \u001b[43m    \u001b[49m\u001b[43m)\u001b[49m\n\u001b[1;32m    280\u001b[0m \u001b[38;5;28;01mreturn\u001b[39;00m arviz_corner(\n\u001b[1;32m    281\u001b[0m     data,\n\u001b[1;32m    282\u001b[0m     bins\u001b[38;5;241m=\u001b[39mbins,\n\u001b[0;32m   (...)\u001b[0m\n\u001b[1;32m    316\u001b[0m     \u001b[38;5;241m*\u001b[39m\u001b[38;5;241m*\u001b[39mhist2d_kwargs,\n\u001b[1;32m    317\u001b[0m )\n",
      "File \u001b[0;32m~/.conda/envs/Jupyter/lib/python3.10/site-packages/corner/core.py:370\u001b[0m, in \u001b[0;36mcorner_impl\u001b[0;34m(xs, bins, range, axes_scale, weights, color, hist_bin_factor, smooth, smooth1d, labels, label_kwargs, titles, show_titles, title_fmt, title_kwargs, truths, truth_color, scale_hist, quantiles, title_quantiles, verbose, fig, max_n_ticks, top_ticks, use_math_text, reverse, labelpad, hist_kwargs, **hist2d_kwargs)\u001b[0m\n\u001b[1;32m    367\u001b[0m \u001b[38;5;28;01mif\u001b[39;00m \u001b[38;5;28mhasattr\u001b[39m(y, \u001b[38;5;124m\"\u001b[39m\u001b[38;5;124mcompressed\u001b[39m\u001b[38;5;124m\"\u001b[39m):\n\u001b[1;32m    368\u001b[0m     y \u001b[38;5;241m=\u001b[39m y\u001b[38;5;241m.\u001b[39mcompressed()\n\u001b[0;32m--> 370\u001b[0m \u001b[43mhist2d\u001b[49m\u001b[43m(\u001b[49m\n\u001b[1;32m    371\u001b[0m \u001b[43m    \u001b[49m\u001b[43my\u001b[49m\u001b[43m,\u001b[49m\n\u001b[1;32m    372\u001b[0m \u001b[43m    \u001b[49m\u001b[43mx\u001b[49m\u001b[43m,\u001b[49m\n\u001b[1;32m    373\u001b[0m \u001b[43m    \u001b[49m\u001b[43max\u001b[49m\u001b[38;5;241;43m=\u001b[39;49m\u001b[43max\u001b[49m\u001b[43m,\u001b[49m\n\u001b[1;32m    374\u001b[0m \u001b[43m    \u001b[49m\u001b[38;5;28;43mrange\u001b[39;49m\u001b[38;5;241;43m=\u001b[39;49m\u001b[43m[\u001b[49m\u001b[38;5;28;43mrange\u001b[39;49m\u001b[43m[\u001b[49m\u001b[43mj\u001b[49m\u001b[43m]\u001b[49m\u001b[43m,\u001b[49m\u001b[43m \u001b[49m\u001b[38;5;28;43mrange\u001b[39;49m\u001b[43m[\u001b[49m\u001b[43mi\u001b[49m\u001b[43m]\u001b[49m\u001b[43m]\u001b[49m\u001b[43m,\u001b[49m\n\u001b[1;32m    375\u001b[0m \u001b[43m    \u001b[49m\u001b[43maxes_scale\u001b[49m\u001b[38;5;241;43m=\u001b[39;49m\u001b[43m[\u001b[49m\u001b[43maxes_scale\u001b[49m\u001b[43m[\u001b[49m\u001b[43mj\u001b[49m\u001b[43m]\u001b[49m\u001b[43m,\u001b[49m\u001b[43m \u001b[49m\u001b[43maxes_scale\u001b[49m\u001b[43m[\u001b[49m\u001b[43mi\u001b[49m\u001b[43m]\u001b[49m\u001b[43m]\u001b[49m\u001b[43m,\u001b[49m\n\u001b[1;32m    376\u001b[0m \u001b[43m    \u001b[49m\u001b[43mweights\u001b[49m\u001b[38;5;241;43m=\u001b[39;49m\u001b[43mweights\u001b[49m\u001b[43m,\u001b[49m\n\u001b[1;32m    377\u001b[0m \u001b[43m    \u001b[49m\u001b[43mcolor\u001b[49m\u001b[38;5;241;43m=\u001b[39;49m\u001b[43mcolor\u001b[49m\u001b[43m,\u001b[49m\n\u001b[1;32m    378\u001b[0m \u001b[43m    \u001b[49m\u001b[43msmooth\u001b[49m\u001b[38;5;241;43m=\u001b[39;49m\u001b[43msmooth\u001b[49m\u001b[43m,\u001b[49m\n\u001b[1;32m    379\u001b[0m \u001b[43m    \u001b[49m\u001b[43mbins\u001b[49m\u001b[38;5;241;43m=\u001b[39;49m\u001b[43m[\u001b[49m\u001b[43mbins\u001b[49m\u001b[43m[\u001b[49m\u001b[43mj\u001b[49m\u001b[43m]\u001b[49m\u001b[43m,\u001b[49m\u001b[43m \u001b[49m\u001b[43mbins\u001b[49m\u001b[43m[\u001b[49m\u001b[43mi\u001b[49m\u001b[43m]\u001b[49m\u001b[43m]\u001b[49m\u001b[43m,\u001b[49m\n\u001b[1;32m    380\u001b[0m \u001b[43m    \u001b[49m\u001b[43mnew_fig\u001b[49m\u001b[38;5;241;43m=\u001b[39;49m\u001b[43mnew_fig\u001b[49m\u001b[43m,\u001b[49m\n\u001b[1;32m    381\u001b[0m \u001b[43m    \u001b[49m\u001b[43mforce_range\u001b[49m\u001b[38;5;241;43m=\u001b[39;49m\u001b[43mforce_range\u001b[49m\u001b[43m,\u001b[49m\n\u001b[1;32m    382\u001b[0m \u001b[43m    \u001b[49m\u001b[38;5;241;43m*\u001b[39;49m\u001b[38;5;241;43m*\u001b[39;49m\u001b[43mhist2d_kwargs\u001b[49m\u001b[43m,\u001b[49m\n\u001b[1;32m    383\u001b[0m \u001b[43m\u001b[49m\u001b[43m)\u001b[49m\n\u001b[1;32m    385\u001b[0m \u001b[38;5;28;01mif\u001b[39;00m max_n_ticks \u001b[38;5;241m==\u001b[39m \u001b[38;5;241m0\u001b[39m:\n\u001b[1;32m    386\u001b[0m     ax\u001b[38;5;241m.\u001b[39mxaxis\u001b[38;5;241m.\u001b[39mset_major_locator(NullLocator())\n",
      "File \u001b[0;32m~/.conda/envs/Jupyter/lib/python3.10/site-packages/corner/core.py:755\u001b[0m, in \u001b[0;36mhist2d\u001b[0;34m(x, y, bins, range, axes_scale, weights, levels, smooth, ax, color, quiet, plot_datapoints, plot_density, plot_contours, no_fill_contours, fill_contours, contour_kwargs, contourf_kwargs, data_kwargs, pcolor_kwargs, new_fig, force_range, **kwargs)\u001b[0m\n\u001b[1;32m    753\u001b[0m     data_kwargs[\u001b[38;5;124m\"\u001b[39m\u001b[38;5;124mmec\u001b[39m\u001b[38;5;124m\"\u001b[39m] \u001b[38;5;241m=\u001b[39m data_kwargs\u001b[38;5;241m.\u001b[39mget(\u001b[38;5;124m\"\u001b[39m\u001b[38;5;124mmec\u001b[39m\u001b[38;5;124m\"\u001b[39m, \u001b[38;5;124m\"\u001b[39m\u001b[38;5;124mnone\u001b[39m\u001b[38;5;124m\"\u001b[39m)\n\u001b[1;32m    754\u001b[0m     data_kwargs[\u001b[38;5;124m\"\u001b[39m\u001b[38;5;124malpha\u001b[39m\u001b[38;5;124m\"\u001b[39m] \u001b[38;5;241m=\u001b[39m data_kwargs\u001b[38;5;241m.\u001b[39mget(\u001b[38;5;124m\"\u001b[39m\u001b[38;5;124malpha\u001b[39m\u001b[38;5;124m\"\u001b[39m, \u001b[38;5;241m0.1\u001b[39m)\n\u001b[0;32m--> 755\u001b[0m     \u001b[43max\u001b[49m\u001b[38;5;241;43m.\u001b[39;49m\u001b[43mplot\u001b[49m\u001b[43m(\u001b[49m\u001b[43mx\u001b[49m\u001b[43m,\u001b[49m\u001b[43m \u001b[49m\u001b[43my\u001b[49m\u001b[43m,\u001b[49m\u001b[43m \u001b[49m\u001b[38;5;124;43m\"\u001b[39;49m\u001b[38;5;124;43mo\u001b[39;49m\u001b[38;5;124;43m\"\u001b[39;49m\u001b[43m,\u001b[49m\u001b[43m \u001b[49m\u001b[43mzorder\u001b[49m\u001b[38;5;241;43m=\u001b[39;49m\u001b[38;5;241;43m-\u001b[39;49m\u001b[38;5;241;43m1\u001b[39;49m\u001b[43m,\u001b[49m\u001b[43m \u001b[49m\u001b[43mrasterized\u001b[49m\u001b[38;5;241;43m=\u001b[39;49m\u001b[38;5;28;43;01mTrue\u001b[39;49;00m\u001b[43m,\u001b[49m\u001b[43m \u001b[49m\u001b[38;5;241;43m*\u001b[39;49m\u001b[38;5;241;43m*\u001b[39;49m\u001b[43mdata_kwargs\u001b[49m\u001b[43m)\u001b[49m\n\u001b[1;32m    757\u001b[0m \u001b[38;5;66;03m# Plot the base fill to hide the densest data points.\u001b[39;00m\n\u001b[1;32m    758\u001b[0m \u001b[38;5;28;01mif\u001b[39;00m (plot_contours \u001b[38;5;129;01mor\u001b[39;00m plot_density) \u001b[38;5;129;01mand\u001b[39;00m \u001b[38;5;129;01mnot\u001b[39;00m no_fill_contours:\n",
      "File \u001b[0;32m~/.conda/envs/Jupyter/lib/python3.10/site-packages/matplotlib/axes/_axes.py:1690\u001b[0m, in \u001b[0;36mAxes.plot\u001b[0;34m(self, scalex, scaley, data, *args, **kwargs)\u001b[0m\n\u001b[1;32m   1688\u001b[0m lines \u001b[38;5;241m=\u001b[39m [\u001b[38;5;241m*\u001b[39m\u001b[38;5;28mself\u001b[39m\u001b[38;5;241m.\u001b[39m_get_lines(\u001b[38;5;241m*\u001b[39margs, data\u001b[38;5;241m=\u001b[39mdata, \u001b[38;5;241m*\u001b[39m\u001b[38;5;241m*\u001b[39mkwargs)]\n\u001b[1;32m   1689\u001b[0m \u001b[38;5;28;01mfor\u001b[39;00m line \u001b[38;5;129;01min\u001b[39;00m lines:\n\u001b[0;32m-> 1690\u001b[0m     \u001b[38;5;28;43mself\u001b[39;49m\u001b[38;5;241;43m.\u001b[39;49m\u001b[43madd_line\u001b[49m\u001b[43m(\u001b[49m\u001b[43mline\u001b[49m\u001b[43m)\u001b[49m\n\u001b[1;32m   1691\u001b[0m \u001b[38;5;28;01mif\u001b[39;00m scalex:\n\u001b[1;32m   1692\u001b[0m     \u001b[38;5;28mself\u001b[39m\u001b[38;5;241m.\u001b[39m_request_autoscale_view(\u001b[38;5;124m\"\u001b[39m\u001b[38;5;124mx\u001b[39m\u001b[38;5;124m\"\u001b[39m)\n",
      "File \u001b[0;32m~/.conda/envs/Jupyter/lib/python3.10/site-packages/matplotlib/axes/_base.py:2304\u001b[0m, in \u001b[0;36m_AxesBase.add_line\u001b[0;34m(self, line)\u001b[0m\n\u001b[1;32m   2301\u001b[0m \u001b[38;5;28;01mif\u001b[39;00m line\u001b[38;5;241m.\u001b[39mget_clip_path() \u001b[38;5;129;01mis\u001b[39;00m \u001b[38;5;28;01mNone\u001b[39;00m:\n\u001b[1;32m   2302\u001b[0m     line\u001b[38;5;241m.\u001b[39mset_clip_path(\u001b[38;5;28mself\u001b[39m\u001b[38;5;241m.\u001b[39mpatch)\n\u001b[0;32m-> 2304\u001b[0m \u001b[38;5;28;43mself\u001b[39;49m\u001b[38;5;241;43m.\u001b[39;49m\u001b[43m_update_line_limits\u001b[49m\u001b[43m(\u001b[49m\u001b[43mline\u001b[49m\u001b[43m)\u001b[49m\n\u001b[1;32m   2305\u001b[0m \u001b[38;5;28;01mif\u001b[39;00m \u001b[38;5;129;01mnot\u001b[39;00m line\u001b[38;5;241m.\u001b[39mget_label():\n\u001b[1;32m   2306\u001b[0m     line\u001b[38;5;241m.\u001b[39mset_label(\u001b[38;5;124mf\u001b[39m\u001b[38;5;124m'\u001b[39m\u001b[38;5;124m_child\u001b[39m\u001b[38;5;132;01m{\u001b[39;00m\u001b[38;5;28mlen\u001b[39m(\u001b[38;5;28mself\u001b[39m\u001b[38;5;241m.\u001b[39m_children)\u001b[38;5;132;01m}\u001b[39;00m\u001b[38;5;124m'\u001b[39m)\n",
      "File \u001b[0;32m~/.conda/envs/Jupyter/lib/python3.10/site-packages/matplotlib/axes/_base.py:2366\u001b[0m, in \u001b[0;36m_AxesBase._update_line_limits\u001b[0;34m(self, line)\u001b[0m\n\u001b[1;32m   2364\u001b[0m     \u001b[38;5;28;01mif\u001b[39;00m updatey \u001b[38;5;129;01mand\u001b[39;00m line_trf \u001b[38;5;241m==\u001b[39m \u001b[38;5;28mself\u001b[39m\u001b[38;5;241m.\u001b[39mget_xaxis_transform():\n\u001b[1;32m   2365\u001b[0m         updatey \u001b[38;5;241m=\u001b[39m \u001b[38;5;28;01mFalse\u001b[39;00m\n\u001b[0;32m-> 2366\u001b[0m \u001b[38;5;28;43mself\u001b[39;49m\u001b[38;5;241;43m.\u001b[39;49m\u001b[43mdataLim\u001b[49m\u001b[38;5;241;43m.\u001b[39;49m\u001b[43mupdate_from_path\u001b[49m\u001b[43m(\u001b[49m\u001b[43mdata_path\u001b[49m\u001b[43m,\u001b[49m\n\u001b[1;32m   2367\u001b[0m \u001b[43m                              \u001b[49m\u001b[38;5;28;43mself\u001b[39;49m\u001b[38;5;241;43m.\u001b[39;49m\u001b[43mignore_existing_data_limits\u001b[49m\u001b[43m,\u001b[49m\n\u001b[1;32m   2368\u001b[0m \u001b[43m                              \u001b[49m\u001b[43mupdatex\u001b[49m\u001b[38;5;241;43m=\u001b[39;49m\u001b[43mupdatex\u001b[49m\u001b[43m,\u001b[49m\u001b[43m \u001b[49m\u001b[43mupdatey\u001b[49m\u001b[38;5;241;43m=\u001b[39;49m\u001b[43mupdatey\u001b[49m\u001b[43m)\u001b[49m\n\u001b[1;32m   2369\u001b[0m \u001b[38;5;28mself\u001b[39m\u001b[38;5;241m.\u001b[39mignore_existing_data_limits \u001b[38;5;241m=\u001b[39m \u001b[38;5;28;01mFalse\u001b[39;00m\n",
      "File \u001b[0;32m~/.conda/envs/Jupyter/lib/python3.10/site-packages/matplotlib/transforms.py:880\u001b[0m, in \u001b[0;36mBbox.update_from_path\u001b[0;34m(self, path, ignore, updatex, updatey)\u001b[0m\n\u001b[1;32m    877\u001b[0m \u001b[38;5;28;01mif\u001b[39;00m path\u001b[38;5;241m.\u001b[39mvertices\u001b[38;5;241m.\u001b[39msize \u001b[38;5;241m==\u001b[39m \u001b[38;5;241m0\u001b[39m:\n\u001b[1;32m    878\u001b[0m     \u001b[38;5;28;01mreturn\u001b[39;00m\n\u001b[0;32m--> 880\u001b[0m points, minpos, changed \u001b[38;5;241m=\u001b[39m \u001b[43mupdate_path_extents\u001b[49m\u001b[43m(\u001b[49m\n\u001b[1;32m    881\u001b[0m \u001b[43m    \u001b[49m\u001b[43mpath\u001b[49m\u001b[43m,\u001b[49m\u001b[43m \u001b[49m\u001b[38;5;28;43;01mNone\u001b[39;49;00m\u001b[43m,\u001b[49m\u001b[43m \u001b[49m\u001b[38;5;28;43mself\u001b[39;49m\u001b[38;5;241;43m.\u001b[39;49m\u001b[43m_points\u001b[49m\u001b[43m,\u001b[49m\u001b[43m \u001b[49m\u001b[38;5;28;43mself\u001b[39;49m\u001b[38;5;241;43m.\u001b[39;49m\u001b[43m_minpos\u001b[49m\u001b[43m,\u001b[49m\u001b[43m \u001b[49m\u001b[43mignore\u001b[49m\u001b[43m)\u001b[49m\n\u001b[1;32m    883\u001b[0m \u001b[38;5;28;01mif\u001b[39;00m changed:\n\u001b[1;32m    884\u001b[0m     \u001b[38;5;28mself\u001b[39m\u001b[38;5;241m.\u001b[39minvalidate()\n",
      "\u001b[0;31mKeyboardInterrupt\u001b[0m: "
     ]
    },
    {
     "name": "stdout",
     "output_type": "stream",
     "text": [
      "Error in callback <function _draw_all_if_interactive at 0x2aac1ee7a050> (for post_execute):\n"
     ]
    },
    {
     "ename": "KeyboardInterrupt",
     "evalue": "",
     "output_type": "error",
     "traceback": [
      "\u001b[0;31m---------------------------------------------------------------------------\u001b[0m",
      "\u001b[0;31mKeyboardInterrupt\u001b[0m                         Traceback (most recent call last)",
      "File \u001b[0;32m~/.conda/envs/Jupyter/lib/python3.10/site-packages/matplotlib/pyplot.py:120\u001b[0m, in \u001b[0;36m_draw_all_if_interactive\u001b[0;34m()\u001b[0m\n\u001b[1;32m    118\u001b[0m \u001b[38;5;28;01mdef\u001b[39;00m \u001b[38;5;21m_draw_all_if_interactive\u001b[39m():\n\u001b[1;32m    119\u001b[0m     \u001b[38;5;28;01mif\u001b[39;00m matplotlib\u001b[38;5;241m.\u001b[39mis_interactive():\n\u001b[0;32m--> 120\u001b[0m         \u001b[43mdraw_all\u001b[49m\u001b[43m(\u001b[49m\u001b[43m)\u001b[49m\n",
      "File \u001b[0;32m~/.conda/envs/Jupyter/lib/python3.10/site-packages/matplotlib/_pylab_helpers.py:132\u001b[0m, in \u001b[0;36mGcf.draw_all\u001b[0;34m(cls, force)\u001b[0m\n\u001b[1;32m    130\u001b[0m \u001b[38;5;28;01mfor\u001b[39;00m manager \u001b[38;5;129;01min\u001b[39;00m \u001b[38;5;28mcls\u001b[39m\u001b[38;5;241m.\u001b[39mget_all_fig_managers():\n\u001b[1;32m    131\u001b[0m     \u001b[38;5;28;01mif\u001b[39;00m force \u001b[38;5;129;01mor\u001b[39;00m manager\u001b[38;5;241m.\u001b[39mcanvas\u001b[38;5;241m.\u001b[39mfigure\u001b[38;5;241m.\u001b[39mstale:\n\u001b[0;32m--> 132\u001b[0m         \u001b[43mmanager\u001b[49m\u001b[38;5;241;43m.\u001b[39;49m\u001b[43mcanvas\u001b[49m\u001b[38;5;241;43m.\u001b[39;49m\u001b[43mdraw_idle\u001b[49m\u001b[43m(\u001b[49m\u001b[43m)\u001b[49m\n",
      "File \u001b[0;32m~/.conda/envs/Jupyter/lib/python3.10/site-packages/matplotlib/backend_bases.py:2078\u001b[0m, in \u001b[0;36mFigureCanvasBase.draw_idle\u001b[0;34m(self, *args, **kwargs)\u001b[0m\n\u001b[1;32m   2076\u001b[0m \u001b[38;5;28;01mif\u001b[39;00m \u001b[38;5;129;01mnot\u001b[39;00m \u001b[38;5;28mself\u001b[39m\u001b[38;5;241m.\u001b[39m_is_idle_drawing:\n\u001b[1;32m   2077\u001b[0m     \u001b[38;5;28;01mwith\u001b[39;00m \u001b[38;5;28mself\u001b[39m\u001b[38;5;241m.\u001b[39m_idle_draw_cntx():\n\u001b[0;32m-> 2078\u001b[0m         \u001b[38;5;28;43mself\u001b[39;49m\u001b[38;5;241;43m.\u001b[39;49m\u001b[43mdraw\u001b[49m\u001b[43m(\u001b[49m\u001b[38;5;241;43m*\u001b[39;49m\u001b[43margs\u001b[49m\u001b[43m,\u001b[49m\u001b[43m \u001b[49m\u001b[38;5;241;43m*\u001b[39;49m\u001b[38;5;241;43m*\u001b[39;49m\u001b[43mkwargs\u001b[49m\u001b[43m)\u001b[49m\n",
      "File \u001b[0;32m~/.conda/envs/Jupyter/lib/python3.10/site-packages/matplotlib/backends/backend_agg.py:400\u001b[0m, in \u001b[0;36mFigureCanvasAgg.draw\u001b[0;34m(self)\u001b[0m\n\u001b[1;32m    396\u001b[0m \u001b[38;5;66;03m# Acquire a lock on the shared font cache.\u001b[39;00m\n\u001b[1;32m    397\u001b[0m \u001b[38;5;28;01mwith\u001b[39;00m RendererAgg\u001b[38;5;241m.\u001b[39mlock, \\\n\u001b[1;32m    398\u001b[0m      (\u001b[38;5;28mself\u001b[39m\u001b[38;5;241m.\u001b[39mtoolbar\u001b[38;5;241m.\u001b[39m_wait_cursor_for_draw_cm() \u001b[38;5;28;01mif\u001b[39;00m \u001b[38;5;28mself\u001b[39m\u001b[38;5;241m.\u001b[39mtoolbar\n\u001b[1;32m    399\u001b[0m       \u001b[38;5;28;01melse\u001b[39;00m nullcontext()):\n\u001b[0;32m--> 400\u001b[0m     \u001b[38;5;28;43mself\u001b[39;49m\u001b[38;5;241;43m.\u001b[39;49m\u001b[43mfigure\u001b[49m\u001b[38;5;241;43m.\u001b[39;49m\u001b[43mdraw\u001b[49m\u001b[43m(\u001b[49m\u001b[38;5;28;43mself\u001b[39;49m\u001b[38;5;241;43m.\u001b[39;49m\u001b[43mrenderer\u001b[49m\u001b[43m)\u001b[49m\n\u001b[1;32m    401\u001b[0m     \u001b[38;5;66;03m# A GUI class may be need to update a window using this draw, so\u001b[39;00m\n\u001b[1;32m    402\u001b[0m     \u001b[38;5;66;03m# don't forget to call the superclass.\u001b[39;00m\n\u001b[1;32m    403\u001b[0m     \u001b[38;5;28msuper\u001b[39m()\u001b[38;5;241m.\u001b[39mdraw()\n",
      "File \u001b[0;32m~/.conda/envs/Jupyter/lib/python3.10/site-packages/matplotlib/artist.py:95\u001b[0m, in \u001b[0;36m_finalize_rasterization.<locals>.draw_wrapper\u001b[0;34m(artist, renderer, *args, **kwargs)\u001b[0m\n\u001b[1;32m     93\u001b[0m \u001b[38;5;129m@wraps\u001b[39m(draw)\n\u001b[1;32m     94\u001b[0m \u001b[38;5;28;01mdef\u001b[39;00m \u001b[38;5;21mdraw_wrapper\u001b[39m(artist, renderer, \u001b[38;5;241m*\u001b[39margs, \u001b[38;5;241m*\u001b[39m\u001b[38;5;241m*\u001b[39mkwargs):\n\u001b[0;32m---> 95\u001b[0m     result \u001b[38;5;241m=\u001b[39m \u001b[43mdraw\u001b[49m\u001b[43m(\u001b[49m\u001b[43martist\u001b[49m\u001b[43m,\u001b[49m\u001b[43m \u001b[49m\u001b[43mrenderer\u001b[49m\u001b[43m,\u001b[49m\u001b[43m \u001b[49m\u001b[38;5;241;43m*\u001b[39;49m\u001b[43margs\u001b[49m\u001b[43m,\u001b[49m\u001b[43m \u001b[49m\u001b[38;5;241;43m*\u001b[39;49m\u001b[38;5;241;43m*\u001b[39;49m\u001b[43mkwargs\u001b[49m\u001b[43m)\u001b[49m\n\u001b[1;32m     96\u001b[0m     \u001b[38;5;28;01mif\u001b[39;00m renderer\u001b[38;5;241m.\u001b[39m_rasterizing:\n\u001b[1;32m     97\u001b[0m         renderer\u001b[38;5;241m.\u001b[39mstop_rasterizing()\n",
      "File \u001b[0;32m~/.conda/envs/Jupyter/lib/python3.10/site-packages/matplotlib/artist.py:72\u001b[0m, in \u001b[0;36mallow_rasterization.<locals>.draw_wrapper\u001b[0;34m(artist, renderer)\u001b[0m\n\u001b[1;32m     69\u001b[0m     \u001b[38;5;28;01mif\u001b[39;00m artist\u001b[38;5;241m.\u001b[39mget_agg_filter() \u001b[38;5;129;01mis\u001b[39;00m \u001b[38;5;129;01mnot\u001b[39;00m \u001b[38;5;28;01mNone\u001b[39;00m:\n\u001b[1;32m     70\u001b[0m         renderer\u001b[38;5;241m.\u001b[39mstart_filter()\n\u001b[0;32m---> 72\u001b[0m     \u001b[38;5;28;01mreturn\u001b[39;00m \u001b[43mdraw\u001b[49m\u001b[43m(\u001b[49m\u001b[43martist\u001b[49m\u001b[43m,\u001b[49m\u001b[43m \u001b[49m\u001b[43mrenderer\u001b[49m\u001b[43m)\u001b[49m\n\u001b[1;32m     73\u001b[0m \u001b[38;5;28;01mfinally\u001b[39;00m:\n\u001b[1;32m     74\u001b[0m     \u001b[38;5;28;01mif\u001b[39;00m artist\u001b[38;5;241m.\u001b[39mget_agg_filter() \u001b[38;5;129;01mis\u001b[39;00m \u001b[38;5;129;01mnot\u001b[39;00m \u001b[38;5;28;01mNone\u001b[39;00m:\n",
      "File \u001b[0;32m~/.conda/envs/Jupyter/lib/python3.10/site-packages/matplotlib/figure.py:3125\u001b[0m, in \u001b[0;36mFigure.draw\u001b[0;34m(self, renderer)\u001b[0m\n\u001b[1;32m   3122\u001b[0m         \u001b[38;5;66;03m# ValueError can occur when resizing a window.\u001b[39;00m\n\u001b[1;32m   3124\u001b[0m \u001b[38;5;28mself\u001b[39m\u001b[38;5;241m.\u001b[39mpatch\u001b[38;5;241m.\u001b[39mdraw(renderer)\n\u001b[0;32m-> 3125\u001b[0m \u001b[43mmimage\u001b[49m\u001b[38;5;241;43m.\u001b[39;49m\u001b[43m_draw_list_compositing_images\u001b[49m\u001b[43m(\u001b[49m\n\u001b[1;32m   3126\u001b[0m \u001b[43m    \u001b[49m\u001b[43mrenderer\u001b[49m\u001b[43m,\u001b[49m\u001b[43m \u001b[49m\u001b[38;5;28;43mself\u001b[39;49m\u001b[43m,\u001b[49m\u001b[43m \u001b[49m\u001b[43martists\u001b[49m\u001b[43m,\u001b[49m\u001b[43m \u001b[49m\u001b[38;5;28;43mself\u001b[39;49m\u001b[38;5;241;43m.\u001b[39;49m\u001b[43msuppressComposite\u001b[49m\u001b[43m)\u001b[49m\n\u001b[1;32m   3128\u001b[0m \u001b[38;5;28;01mfor\u001b[39;00m sfig \u001b[38;5;129;01min\u001b[39;00m \u001b[38;5;28mself\u001b[39m\u001b[38;5;241m.\u001b[39msubfigs:\n\u001b[1;32m   3129\u001b[0m     sfig\u001b[38;5;241m.\u001b[39mdraw(renderer)\n",
      "File \u001b[0;32m~/.conda/envs/Jupyter/lib/python3.10/site-packages/matplotlib/image.py:131\u001b[0m, in \u001b[0;36m_draw_list_compositing_images\u001b[0;34m(renderer, parent, artists, suppress_composite)\u001b[0m\n\u001b[1;32m    129\u001b[0m \u001b[38;5;28;01mif\u001b[39;00m not_composite \u001b[38;5;129;01mor\u001b[39;00m \u001b[38;5;129;01mnot\u001b[39;00m has_images:\n\u001b[1;32m    130\u001b[0m     \u001b[38;5;28;01mfor\u001b[39;00m a \u001b[38;5;129;01min\u001b[39;00m artists:\n\u001b[0;32m--> 131\u001b[0m         \u001b[43ma\u001b[49m\u001b[38;5;241;43m.\u001b[39;49m\u001b[43mdraw\u001b[49m\u001b[43m(\u001b[49m\u001b[43mrenderer\u001b[49m\u001b[43m)\u001b[49m\n\u001b[1;32m    132\u001b[0m \u001b[38;5;28;01melse\u001b[39;00m:\n\u001b[1;32m    133\u001b[0m     \u001b[38;5;66;03m# Composite any adjacent images together\u001b[39;00m\n\u001b[1;32m    134\u001b[0m     image_group \u001b[38;5;241m=\u001b[39m []\n",
      "File \u001b[0;32m~/.conda/envs/Jupyter/lib/python3.10/site-packages/matplotlib/artist.py:72\u001b[0m, in \u001b[0;36mallow_rasterization.<locals>.draw_wrapper\u001b[0;34m(artist, renderer)\u001b[0m\n\u001b[1;32m     69\u001b[0m     \u001b[38;5;28;01mif\u001b[39;00m artist\u001b[38;5;241m.\u001b[39mget_agg_filter() \u001b[38;5;129;01mis\u001b[39;00m \u001b[38;5;129;01mnot\u001b[39;00m \u001b[38;5;28;01mNone\u001b[39;00m:\n\u001b[1;32m     70\u001b[0m         renderer\u001b[38;5;241m.\u001b[39mstart_filter()\n\u001b[0;32m---> 72\u001b[0m     \u001b[38;5;28;01mreturn\u001b[39;00m \u001b[43mdraw\u001b[49m\u001b[43m(\u001b[49m\u001b[43martist\u001b[49m\u001b[43m,\u001b[49m\u001b[43m \u001b[49m\u001b[43mrenderer\u001b[49m\u001b[43m)\u001b[49m\n\u001b[1;32m     73\u001b[0m \u001b[38;5;28;01mfinally\u001b[39;00m:\n\u001b[1;32m     74\u001b[0m     \u001b[38;5;28;01mif\u001b[39;00m artist\u001b[38;5;241m.\u001b[39mget_agg_filter() \u001b[38;5;129;01mis\u001b[39;00m \u001b[38;5;129;01mnot\u001b[39;00m \u001b[38;5;28;01mNone\u001b[39;00m:\n",
      "File \u001b[0;32m~/.conda/envs/Jupyter/lib/python3.10/site-packages/matplotlib/axes/_base.py:3066\u001b[0m, in \u001b[0;36m_AxesBase.draw\u001b[0;34m(self, renderer)\u001b[0m\n\u001b[1;32m   3063\u001b[0m \u001b[38;5;28;01mif\u001b[39;00m artists_rasterized:\n\u001b[1;32m   3064\u001b[0m     _draw_rasterized(\u001b[38;5;28mself\u001b[39m\u001b[38;5;241m.\u001b[39mfigure, artists_rasterized, renderer)\n\u001b[0;32m-> 3066\u001b[0m \u001b[43mmimage\u001b[49m\u001b[38;5;241;43m.\u001b[39;49m\u001b[43m_draw_list_compositing_images\u001b[49m\u001b[43m(\u001b[49m\n\u001b[1;32m   3067\u001b[0m \u001b[43m    \u001b[49m\u001b[43mrenderer\u001b[49m\u001b[43m,\u001b[49m\u001b[43m \u001b[49m\u001b[38;5;28;43mself\u001b[39;49m\u001b[43m,\u001b[49m\u001b[43m \u001b[49m\u001b[43martists\u001b[49m\u001b[43m,\u001b[49m\u001b[43m \u001b[49m\u001b[38;5;28;43mself\u001b[39;49m\u001b[38;5;241;43m.\u001b[39;49m\u001b[43mfigure\u001b[49m\u001b[38;5;241;43m.\u001b[39;49m\u001b[43msuppressComposite\u001b[49m\u001b[43m)\u001b[49m\n\u001b[1;32m   3069\u001b[0m renderer\u001b[38;5;241m.\u001b[39mclose_group(\u001b[38;5;124m'\u001b[39m\u001b[38;5;124maxes\u001b[39m\u001b[38;5;124m'\u001b[39m)\n\u001b[1;32m   3070\u001b[0m \u001b[38;5;28mself\u001b[39m\u001b[38;5;241m.\u001b[39mstale \u001b[38;5;241m=\u001b[39m \u001b[38;5;28;01mFalse\u001b[39;00m\n",
      "File \u001b[0;32m~/.conda/envs/Jupyter/lib/python3.10/site-packages/matplotlib/image.py:131\u001b[0m, in \u001b[0;36m_draw_list_compositing_images\u001b[0;34m(renderer, parent, artists, suppress_composite)\u001b[0m\n\u001b[1;32m    129\u001b[0m \u001b[38;5;28;01mif\u001b[39;00m not_composite \u001b[38;5;129;01mor\u001b[39;00m \u001b[38;5;129;01mnot\u001b[39;00m has_images:\n\u001b[1;32m    130\u001b[0m     \u001b[38;5;28;01mfor\u001b[39;00m a \u001b[38;5;129;01min\u001b[39;00m artists:\n\u001b[0;32m--> 131\u001b[0m         \u001b[43ma\u001b[49m\u001b[38;5;241;43m.\u001b[39;49m\u001b[43mdraw\u001b[49m\u001b[43m(\u001b[49m\u001b[43mrenderer\u001b[49m\u001b[43m)\u001b[49m\n\u001b[1;32m    132\u001b[0m \u001b[38;5;28;01melse\u001b[39;00m:\n\u001b[1;32m    133\u001b[0m     \u001b[38;5;66;03m# Composite any adjacent images together\u001b[39;00m\n\u001b[1;32m    134\u001b[0m     image_group \u001b[38;5;241m=\u001b[39m []\n",
      "File \u001b[0;32m~/.conda/envs/Jupyter/lib/python3.10/site-packages/matplotlib/artist.py:72\u001b[0m, in \u001b[0;36mallow_rasterization.<locals>.draw_wrapper\u001b[0;34m(artist, renderer)\u001b[0m\n\u001b[1;32m     69\u001b[0m     \u001b[38;5;28;01mif\u001b[39;00m artist\u001b[38;5;241m.\u001b[39mget_agg_filter() \u001b[38;5;129;01mis\u001b[39;00m \u001b[38;5;129;01mnot\u001b[39;00m \u001b[38;5;28;01mNone\u001b[39;00m:\n\u001b[1;32m     70\u001b[0m         renderer\u001b[38;5;241m.\u001b[39mstart_filter()\n\u001b[0;32m---> 72\u001b[0m     \u001b[38;5;28;01mreturn\u001b[39;00m \u001b[43mdraw\u001b[49m\u001b[43m(\u001b[49m\u001b[43martist\u001b[49m\u001b[43m,\u001b[49m\u001b[43m \u001b[49m\u001b[43mrenderer\u001b[49m\u001b[43m)\u001b[49m\n\u001b[1;32m     73\u001b[0m \u001b[38;5;28;01mfinally\u001b[39;00m:\n\u001b[1;32m     74\u001b[0m     \u001b[38;5;28;01mif\u001b[39;00m artist\u001b[38;5;241m.\u001b[39mget_agg_filter() \u001b[38;5;129;01mis\u001b[39;00m \u001b[38;5;129;01mnot\u001b[39;00m \u001b[38;5;28;01mNone\u001b[39;00m:\n",
      "File \u001b[0;32m~/.conda/envs/Jupyter/lib/python3.10/site-packages/matplotlib/lines.py:864\u001b[0m, in \u001b[0;36mLine2D.draw\u001b[0;34m(self, renderer)\u001b[0m\n\u001b[1;32m    861\u001b[0m \u001b[38;5;28;01melse\u001b[39;00m:\n\u001b[1;32m    862\u001b[0m     \u001b[38;5;66;03m# Don't scale for pixels, and don't stroke them\u001b[39;00m\n\u001b[1;32m    863\u001b[0m     marker_trans \u001b[38;5;241m=\u001b[39m marker_trans\u001b[38;5;241m.\u001b[39mscale(w)\n\u001b[0;32m--> 864\u001b[0m \u001b[43mrenderer\u001b[49m\u001b[38;5;241;43m.\u001b[39;49m\u001b[43mdraw_markers\u001b[49m\u001b[43m(\u001b[49m\u001b[43mgc\u001b[49m\u001b[43m,\u001b[49m\u001b[43m \u001b[49m\u001b[43mmarker_path\u001b[49m\u001b[43m,\u001b[49m\u001b[43m \u001b[49m\u001b[43mmarker_trans\u001b[49m\u001b[43m,\u001b[49m\n\u001b[1;32m    865\u001b[0m \u001b[43m                      \u001b[49m\u001b[43msubsampled\u001b[49m\u001b[43m,\u001b[49m\u001b[43m \u001b[49m\u001b[43maffine\u001b[49m\u001b[38;5;241;43m.\u001b[39;49m\u001b[43mfrozen\u001b[49m\u001b[43m(\u001b[49m\u001b[43m)\u001b[49m\u001b[43m,\u001b[49m\n\u001b[1;32m    866\u001b[0m \u001b[43m                      \u001b[49m\u001b[43mfc_rgba\u001b[49m\u001b[43m)\u001b[49m\n\u001b[1;32m    868\u001b[0m alt_marker_path \u001b[38;5;241m=\u001b[39m marker\u001b[38;5;241m.\u001b[39mget_alt_path()\n\u001b[1;32m    869\u001b[0m \u001b[38;5;28;01mif\u001b[39;00m alt_marker_path:\n",
      "\u001b[0;31mKeyboardInterrupt\u001b[0m: "
     ]
    },
    {
     "name": "stdout",
     "output_type": "stream",
     "text": [
      "Error in callback <function flush_figures at 0x2aac1f010ee0> (for post_execute):\n"
     ]
    },
    {
     "ename": "KeyboardInterrupt",
     "evalue": "",
     "output_type": "error",
     "traceback": [
      "\u001b[0;31m---------------------------------------------------------------------------\u001b[0m",
      "\u001b[0;31mKeyboardInterrupt\u001b[0m                         Traceback (most recent call last)",
      "File \u001b[0;32m~/.conda/envs/Jupyter/lib/python3.10/site-packages/matplotlib_inline/backend_inline.py:126\u001b[0m, in \u001b[0;36mflush_figures\u001b[0;34m()\u001b[0m\n\u001b[1;32m    123\u001b[0m \u001b[38;5;28;01mif\u001b[39;00m InlineBackend\u001b[38;5;241m.\u001b[39minstance()\u001b[38;5;241m.\u001b[39mclose_figures:\n\u001b[1;32m    124\u001b[0m     \u001b[38;5;66;03m# ignore the tracking, just draw and close all figures\u001b[39;00m\n\u001b[1;32m    125\u001b[0m     \u001b[38;5;28;01mtry\u001b[39;00m:\n\u001b[0;32m--> 126\u001b[0m         \u001b[38;5;28;01mreturn\u001b[39;00m \u001b[43mshow\u001b[49m\u001b[43m(\u001b[49m\u001b[38;5;28;43;01mTrue\u001b[39;49;00m\u001b[43m)\u001b[49m\n\u001b[1;32m    127\u001b[0m     \u001b[38;5;28;01mexcept\u001b[39;00m \u001b[38;5;167;01mException\u001b[39;00m \u001b[38;5;28;01mas\u001b[39;00m e:\n\u001b[1;32m    128\u001b[0m         \u001b[38;5;66;03m# safely show traceback if in IPython, else raise\u001b[39;00m\n\u001b[1;32m    129\u001b[0m         ip \u001b[38;5;241m=\u001b[39m get_ipython()\n",
      "File \u001b[0;32m~/.conda/envs/Jupyter/lib/python3.10/site-packages/matplotlib_inline/backend_inline.py:90\u001b[0m, in \u001b[0;36mshow\u001b[0;34m(close, block)\u001b[0m\n\u001b[1;32m     88\u001b[0m \u001b[38;5;28;01mtry\u001b[39;00m:\n\u001b[1;32m     89\u001b[0m     \u001b[38;5;28;01mfor\u001b[39;00m figure_manager \u001b[38;5;129;01min\u001b[39;00m Gcf\u001b[38;5;241m.\u001b[39mget_all_fig_managers():\n\u001b[0;32m---> 90\u001b[0m         \u001b[43mdisplay\u001b[49m\u001b[43m(\u001b[49m\n\u001b[1;32m     91\u001b[0m \u001b[43m            \u001b[49m\u001b[43mfigure_manager\u001b[49m\u001b[38;5;241;43m.\u001b[39;49m\u001b[43mcanvas\u001b[49m\u001b[38;5;241;43m.\u001b[39;49m\u001b[43mfigure\u001b[49m\u001b[43m,\u001b[49m\n\u001b[1;32m     92\u001b[0m \u001b[43m            \u001b[49m\u001b[43mmetadata\u001b[49m\u001b[38;5;241;43m=\u001b[39;49m\u001b[43m_fetch_figure_metadata\u001b[49m\u001b[43m(\u001b[49m\u001b[43mfigure_manager\u001b[49m\u001b[38;5;241;43m.\u001b[39;49m\u001b[43mcanvas\u001b[49m\u001b[38;5;241;43m.\u001b[39;49m\u001b[43mfigure\u001b[49m\u001b[43m)\u001b[49m\n\u001b[1;32m     93\u001b[0m \u001b[43m        \u001b[49m\u001b[43m)\u001b[49m\n\u001b[1;32m     94\u001b[0m \u001b[38;5;28;01mfinally\u001b[39;00m:\n\u001b[1;32m     95\u001b[0m     show\u001b[38;5;241m.\u001b[39m_to_draw \u001b[38;5;241m=\u001b[39m []\n",
      "File \u001b[0;32m~/.conda/envs/Jupyter/lib/python3.10/site-packages/IPython/core/display_functions.py:298\u001b[0m, in \u001b[0;36mdisplay\u001b[0;34m(include, exclude, metadata, transient, display_id, raw, clear, *objs, **kwargs)\u001b[0m\n\u001b[1;32m    296\u001b[0m     publish_display_data(data\u001b[38;5;241m=\u001b[39mobj, metadata\u001b[38;5;241m=\u001b[39mmetadata, \u001b[38;5;241m*\u001b[39m\u001b[38;5;241m*\u001b[39mkwargs)\n\u001b[1;32m    297\u001b[0m \u001b[38;5;28;01melse\u001b[39;00m:\n\u001b[0;32m--> 298\u001b[0m     format_dict, md_dict \u001b[38;5;241m=\u001b[39m \u001b[38;5;28;43mformat\u001b[39;49m\u001b[43m(\u001b[49m\u001b[43mobj\u001b[49m\u001b[43m,\u001b[49m\u001b[43m \u001b[49m\u001b[43minclude\u001b[49m\u001b[38;5;241;43m=\u001b[39;49m\u001b[43minclude\u001b[49m\u001b[43m,\u001b[49m\u001b[43m \u001b[49m\u001b[43mexclude\u001b[49m\u001b[38;5;241;43m=\u001b[39;49m\u001b[43mexclude\u001b[49m\u001b[43m)\u001b[49m\n\u001b[1;32m    299\u001b[0m     \u001b[38;5;28;01mif\u001b[39;00m \u001b[38;5;129;01mnot\u001b[39;00m format_dict:\n\u001b[1;32m    300\u001b[0m         \u001b[38;5;66;03m# nothing to display (e.g. _ipython_display_ took over)\u001b[39;00m\n\u001b[1;32m    301\u001b[0m         \u001b[38;5;28;01mcontinue\u001b[39;00m\n",
      "File \u001b[0;32m~/.conda/envs/Jupyter/lib/python3.10/site-packages/IPython/core/formatters.py:177\u001b[0m, in \u001b[0;36mDisplayFormatter.format\u001b[0;34m(self, obj, include, exclude)\u001b[0m\n\u001b[1;32m    175\u001b[0m md \u001b[38;5;241m=\u001b[39m \u001b[38;5;28;01mNone\u001b[39;00m\n\u001b[1;32m    176\u001b[0m \u001b[38;5;28;01mtry\u001b[39;00m:\n\u001b[0;32m--> 177\u001b[0m     data \u001b[38;5;241m=\u001b[39m \u001b[43mformatter\u001b[49m\u001b[43m(\u001b[49m\u001b[43mobj\u001b[49m\u001b[43m)\u001b[49m\n\u001b[1;32m    178\u001b[0m \u001b[38;5;28;01mexcept\u001b[39;00m:\n\u001b[1;32m    179\u001b[0m     \u001b[38;5;66;03m# FIXME: log the exception\u001b[39;00m\n\u001b[1;32m    180\u001b[0m     \u001b[38;5;28;01mraise\u001b[39;00m\n",
      "File \u001b[0;32m~/.conda/envs/Jupyter/lib/python3.10/site-packages/decorator.py:232\u001b[0m, in \u001b[0;36mdecorate.<locals>.fun\u001b[0;34m(*args, **kw)\u001b[0m\n\u001b[1;32m    230\u001b[0m \u001b[38;5;28;01mif\u001b[39;00m \u001b[38;5;129;01mnot\u001b[39;00m kwsyntax:\n\u001b[1;32m    231\u001b[0m     args, kw \u001b[38;5;241m=\u001b[39m fix(args, kw, sig)\n\u001b[0;32m--> 232\u001b[0m \u001b[38;5;28;01mreturn\u001b[39;00m \u001b[43mcaller\u001b[49m\u001b[43m(\u001b[49m\u001b[43mfunc\u001b[49m\u001b[43m,\u001b[49m\u001b[43m \u001b[49m\u001b[38;5;241;43m*\u001b[39;49m\u001b[43m(\u001b[49m\u001b[43mextras\u001b[49m\u001b[43m \u001b[49m\u001b[38;5;241;43m+\u001b[39;49m\u001b[43m \u001b[49m\u001b[43margs\u001b[49m\u001b[43m)\u001b[49m\u001b[43m,\u001b[49m\u001b[43m \u001b[49m\u001b[38;5;241;43m*\u001b[39;49m\u001b[38;5;241;43m*\u001b[39;49m\u001b[43mkw\u001b[49m\u001b[43m)\u001b[49m\n",
      "File \u001b[0;32m~/.conda/envs/Jupyter/lib/python3.10/site-packages/IPython/core/formatters.py:221\u001b[0m, in \u001b[0;36mcatch_format_error\u001b[0;34m(method, self, *args, **kwargs)\u001b[0m\n\u001b[1;32m    219\u001b[0m \u001b[38;5;250m\u001b[39m\u001b[38;5;124;03m\"\"\"show traceback on failed format call\"\"\"\u001b[39;00m\n\u001b[1;32m    220\u001b[0m \u001b[38;5;28;01mtry\u001b[39;00m:\n\u001b[0;32m--> 221\u001b[0m     r \u001b[38;5;241m=\u001b[39m \u001b[43mmethod\u001b[49m\u001b[43m(\u001b[49m\u001b[38;5;28;43mself\u001b[39;49m\u001b[43m,\u001b[49m\u001b[43m \u001b[49m\u001b[38;5;241;43m*\u001b[39;49m\u001b[43margs\u001b[49m\u001b[43m,\u001b[49m\u001b[43m \u001b[49m\u001b[38;5;241;43m*\u001b[39;49m\u001b[38;5;241;43m*\u001b[39;49m\u001b[43mkwargs\u001b[49m\u001b[43m)\u001b[49m\n\u001b[1;32m    222\u001b[0m \u001b[38;5;28;01mexcept\u001b[39;00m \u001b[38;5;167;01mNotImplementedError\u001b[39;00m:\n\u001b[1;32m    223\u001b[0m     \u001b[38;5;66;03m# don't warn on NotImplementedErrors\u001b[39;00m\n\u001b[1;32m    224\u001b[0m     \u001b[38;5;28;01mreturn\u001b[39;00m \u001b[38;5;28mself\u001b[39m\u001b[38;5;241m.\u001b[39m_check_return(\u001b[38;5;28;01mNone\u001b[39;00m, args[\u001b[38;5;241m0\u001b[39m])\n",
      "File \u001b[0;32m~/.conda/envs/Jupyter/lib/python3.10/site-packages/IPython/core/formatters.py:338\u001b[0m, in \u001b[0;36mBaseFormatter.__call__\u001b[0;34m(self, obj)\u001b[0m\n\u001b[1;32m    336\u001b[0m     \u001b[38;5;28;01mpass\u001b[39;00m\n\u001b[1;32m    337\u001b[0m \u001b[38;5;28;01melse\u001b[39;00m:\n\u001b[0;32m--> 338\u001b[0m     \u001b[38;5;28;01mreturn\u001b[39;00m \u001b[43mprinter\u001b[49m\u001b[43m(\u001b[49m\u001b[43mobj\u001b[49m\u001b[43m)\u001b[49m\n\u001b[1;32m    339\u001b[0m \u001b[38;5;66;03m# Finally look for special method names\u001b[39;00m\n\u001b[1;32m    340\u001b[0m method \u001b[38;5;241m=\u001b[39m get_real_method(obj, \u001b[38;5;28mself\u001b[39m\u001b[38;5;241m.\u001b[39mprint_method)\n",
      "File \u001b[0;32m~/.conda/envs/Jupyter/lib/python3.10/site-packages/IPython/core/pylabtools.py:152\u001b[0m, in \u001b[0;36mprint_figure\u001b[0;34m(fig, fmt, bbox_inches, base64, **kwargs)\u001b[0m\n\u001b[1;32m    149\u001b[0m     \u001b[38;5;28;01mfrom\u001b[39;00m \u001b[38;5;21;01mmatplotlib\u001b[39;00m\u001b[38;5;21;01m.\u001b[39;00m\u001b[38;5;21;01mbackend_bases\u001b[39;00m \u001b[38;5;28;01mimport\u001b[39;00m FigureCanvasBase\n\u001b[1;32m    150\u001b[0m     FigureCanvasBase(fig)\n\u001b[0;32m--> 152\u001b[0m \u001b[43mfig\u001b[49m\u001b[38;5;241;43m.\u001b[39;49m\u001b[43mcanvas\u001b[49m\u001b[38;5;241;43m.\u001b[39;49m\u001b[43mprint_figure\u001b[49m\u001b[43m(\u001b[49m\u001b[43mbytes_io\u001b[49m\u001b[43m,\u001b[49m\u001b[43m \u001b[49m\u001b[38;5;241;43m*\u001b[39;49m\u001b[38;5;241;43m*\u001b[39;49m\u001b[43mkw\u001b[49m\u001b[43m)\u001b[49m\n\u001b[1;32m    153\u001b[0m data \u001b[38;5;241m=\u001b[39m bytes_io\u001b[38;5;241m.\u001b[39mgetvalue()\n\u001b[1;32m    154\u001b[0m \u001b[38;5;28;01mif\u001b[39;00m fmt \u001b[38;5;241m==\u001b[39m \u001b[38;5;124m'\u001b[39m\u001b[38;5;124msvg\u001b[39m\u001b[38;5;124m'\u001b[39m:\n",
      "File \u001b[0;32m~/.conda/envs/Jupyter/lib/python3.10/site-packages/matplotlib/backend_bases.py:2338\u001b[0m, in \u001b[0;36mFigureCanvasBase.print_figure\u001b[0;34m(self, filename, dpi, facecolor, edgecolor, orientation, format, bbox_inches, pad_inches, bbox_extra_artists, backend, **kwargs)\u001b[0m\n\u001b[1;32m   2332\u001b[0m     renderer \u001b[38;5;241m=\u001b[39m _get_renderer(\n\u001b[1;32m   2333\u001b[0m         \u001b[38;5;28mself\u001b[39m\u001b[38;5;241m.\u001b[39mfigure,\n\u001b[1;32m   2334\u001b[0m         functools\u001b[38;5;241m.\u001b[39mpartial(\n\u001b[1;32m   2335\u001b[0m             print_method, orientation\u001b[38;5;241m=\u001b[39morientation)\n\u001b[1;32m   2336\u001b[0m     )\n\u001b[1;32m   2337\u001b[0m     \u001b[38;5;28;01mwith\u001b[39;00m \u001b[38;5;28mgetattr\u001b[39m(renderer, \u001b[38;5;124m\"\u001b[39m\u001b[38;5;124m_draw_disabled\u001b[39m\u001b[38;5;124m\"\u001b[39m, nullcontext)():\n\u001b[0;32m-> 2338\u001b[0m         \u001b[38;5;28;43mself\u001b[39;49m\u001b[38;5;241;43m.\u001b[39;49m\u001b[43mfigure\u001b[49m\u001b[38;5;241;43m.\u001b[39;49m\u001b[43mdraw\u001b[49m\u001b[43m(\u001b[49m\u001b[43mrenderer\u001b[49m\u001b[43m)\u001b[49m\n\u001b[1;32m   2340\u001b[0m \u001b[38;5;28;01mif\u001b[39;00m bbox_inches:\n\u001b[1;32m   2341\u001b[0m     \u001b[38;5;28;01mif\u001b[39;00m bbox_inches \u001b[38;5;241m==\u001b[39m \u001b[38;5;124m\"\u001b[39m\u001b[38;5;124mtight\u001b[39m\u001b[38;5;124m\"\u001b[39m:\n",
      "File \u001b[0;32m~/.conda/envs/Jupyter/lib/python3.10/site-packages/matplotlib/artist.py:95\u001b[0m, in \u001b[0;36m_finalize_rasterization.<locals>.draw_wrapper\u001b[0;34m(artist, renderer, *args, **kwargs)\u001b[0m\n\u001b[1;32m     93\u001b[0m \u001b[38;5;129m@wraps\u001b[39m(draw)\n\u001b[1;32m     94\u001b[0m \u001b[38;5;28;01mdef\u001b[39;00m \u001b[38;5;21mdraw_wrapper\u001b[39m(artist, renderer, \u001b[38;5;241m*\u001b[39margs, \u001b[38;5;241m*\u001b[39m\u001b[38;5;241m*\u001b[39mkwargs):\n\u001b[0;32m---> 95\u001b[0m     result \u001b[38;5;241m=\u001b[39m \u001b[43mdraw\u001b[49m\u001b[43m(\u001b[49m\u001b[43martist\u001b[49m\u001b[43m,\u001b[49m\u001b[43m \u001b[49m\u001b[43mrenderer\u001b[49m\u001b[43m,\u001b[49m\u001b[43m \u001b[49m\u001b[38;5;241;43m*\u001b[39;49m\u001b[43margs\u001b[49m\u001b[43m,\u001b[49m\u001b[43m \u001b[49m\u001b[38;5;241;43m*\u001b[39;49m\u001b[38;5;241;43m*\u001b[39;49m\u001b[43mkwargs\u001b[49m\u001b[43m)\u001b[49m\n\u001b[1;32m     96\u001b[0m     \u001b[38;5;28;01mif\u001b[39;00m renderer\u001b[38;5;241m.\u001b[39m_rasterizing:\n\u001b[1;32m     97\u001b[0m         renderer\u001b[38;5;241m.\u001b[39mstop_rasterizing()\n",
      "File \u001b[0;32m~/.conda/envs/Jupyter/lib/python3.10/site-packages/matplotlib/artist.py:72\u001b[0m, in \u001b[0;36mallow_rasterization.<locals>.draw_wrapper\u001b[0;34m(artist, renderer)\u001b[0m\n\u001b[1;32m     69\u001b[0m     \u001b[38;5;28;01mif\u001b[39;00m artist\u001b[38;5;241m.\u001b[39mget_agg_filter() \u001b[38;5;129;01mis\u001b[39;00m \u001b[38;5;129;01mnot\u001b[39;00m \u001b[38;5;28;01mNone\u001b[39;00m:\n\u001b[1;32m     70\u001b[0m         renderer\u001b[38;5;241m.\u001b[39mstart_filter()\n\u001b[0;32m---> 72\u001b[0m     \u001b[38;5;28;01mreturn\u001b[39;00m \u001b[43mdraw\u001b[49m\u001b[43m(\u001b[49m\u001b[43martist\u001b[49m\u001b[43m,\u001b[49m\u001b[43m \u001b[49m\u001b[43mrenderer\u001b[49m\u001b[43m)\u001b[49m\n\u001b[1;32m     73\u001b[0m \u001b[38;5;28;01mfinally\u001b[39;00m:\n\u001b[1;32m     74\u001b[0m     \u001b[38;5;28;01mif\u001b[39;00m artist\u001b[38;5;241m.\u001b[39mget_agg_filter() \u001b[38;5;129;01mis\u001b[39;00m \u001b[38;5;129;01mnot\u001b[39;00m \u001b[38;5;28;01mNone\u001b[39;00m:\n",
      "File \u001b[0;32m~/.conda/envs/Jupyter/lib/python3.10/site-packages/matplotlib/figure.py:3125\u001b[0m, in \u001b[0;36mFigure.draw\u001b[0;34m(self, renderer)\u001b[0m\n\u001b[1;32m   3122\u001b[0m         \u001b[38;5;66;03m# ValueError can occur when resizing a window.\u001b[39;00m\n\u001b[1;32m   3124\u001b[0m \u001b[38;5;28mself\u001b[39m\u001b[38;5;241m.\u001b[39mpatch\u001b[38;5;241m.\u001b[39mdraw(renderer)\n\u001b[0;32m-> 3125\u001b[0m \u001b[43mmimage\u001b[49m\u001b[38;5;241;43m.\u001b[39;49m\u001b[43m_draw_list_compositing_images\u001b[49m\u001b[43m(\u001b[49m\n\u001b[1;32m   3126\u001b[0m \u001b[43m    \u001b[49m\u001b[43mrenderer\u001b[49m\u001b[43m,\u001b[49m\u001b[43m \u001b[49m\u001b[38;5;28;43mself\u001b[39;49m\u001b[43m,\u001b[49m\u001b[43m \u001b[49m\u001b[43martists\u001b[49m\u001b[43m,\u001b[49m\u001b[43m \u001b[49m\u001b[38;5;28;43mself\u001b[39;49m\u001b[38;5;241;43m.\u001b[39;49m\u001b[43msuppressComposite\u001b[49m\u001b[43m)\u001b[49m\n\u001b[1;32m   3128\u001b[0m \u001b[38;5;28;01mfor\u001b[39;00m sfig \u001b[38;5;129;01min\u001b[39;00m \u001b[38;5;28mself\u001b[39m\u001b[38;5;241m.\u001b[39msubfigs:\n\u001b[1;32m   3129\u001b[0m     sfig\u001b[38;5;241m.\u001b[39mdraw(renderer)\n",
      "File \u001b[0;32m~/.conda/envs/Jupyter/lib/python3.10/site-packages/matplotlib/image.py:131\u001b[0m, in \u001b[0;36m_draw_list_compositing_images\u001b[0;34m(renderer, parent, artists, suppress_composite)\u001b[0m\n\u001b[1;32m    129\u001b[0m \u001b[38;5;28;01mif\u001b[39;00m not_composite \u001b[38;5;129;01mor\u001b[39;00m \u001b[38;5;129;01mnot\u001b[39;00m has_images:\n\u001b[1;32m    130\u001b[0m     \u001b[38;5;28;01mfor\u001b[39;00m a \u001b[38;5;129;01min\u001b[39;00m artists:\n\u001b[0;32m--> 131\u001b[0m         \u001b[43ma\u001b[49m\u001b[38;5;241;43m.\u001b[39;49m\u001b[43mdraw\u001b[49m\u001b[43m(\u001b[49m\u001b[43mrenderer\u001b[49m\u001b[43m)\u001b[49m\n\u001b[1;32m    132\u001b[0m \u001b[38;5;28;01melse\u001b[39;00m:\n\u001b[1;32m    133\u001b[0m     \u001b[38;5;66;03m# Composite any adjacent images together\u001b[39;00m\n\u001b[1;32m    134\u001b[0m     image_group \u001b[38;5;241m=\u001b[39m []\n",
      "File \u001b[0;32m~/.conda/envs/Jupyter/lib/python3.10/site-packages/matplotlib/artist.py:72\u001b[0m, in \u001b[0;36mallow_rasterization.<locals>.draw_wrapper\u001b[0;34m(artist, renderer)\u001b[0m\n\u001b[1;32m     69\u001b[0m     \u001b[38;5;28;01mif\u001b[39;00m artist\u001b[38;5;241m.\u001b[39mget_agg_filter() \u001b[38;5;129;01mis\u001b[39;00m \u001b[38;5;129;01mnot\u001b[39;00m \u001b[38;5;28;01mNone\u001b[39;00m:\n\u001b[1;32m     70\u001b[0m         renderer\u001b[38;5;241m.\u001b[39mstart_filter()\n\u001b[0;32m---> 72\u001b[0m     \u001b[38;5;28;01mreturn\u001b[39;00m \u001b[43mdraw\u001b[49m\u001b[43m(\u001b[49m\u001b[43martist\u001b[49m\u001b[43m,\u001b[49m\u001b[43m \u001b[49m\u001b[43mrenderer\u001b[49m\u001b[43m)\u001b[49m\n\u001b[1;32m     73\u001b[0m \u001b[38;5;28;01mfinally\u001b[39;00m:\n\u001b[1;32m     74\u001b[0m     \u001b[38;5;28;01mif\u001b[39;00m artist\u001b[38;5;241m.\u001b[39mget_agg_filter() \u001b[38;5;129;01mis\u001b[39;00m \u001b[38;5;129;01mnot\u001b[39;00m \u001b[38;5;28;01mNone\u001b[39;00m:\n",
      "File \u001b[0;32m~/.conda/envs/Jupyter/lib/python3.10/site-packages/matplotlib/axes/_base.py:3066\u001b[0m, in \u001b[0;36m_AxesBase.draw\u001b[0;34m(self, renderer)\u001b[0m\n\u001b[1;32m   3063\u001b[0m \u001b[38;5;28;01mif\u001b[39;00m artists_rasterized:\n\u001b[1;32m   3064\u001b[0m     _draw_rasterized(\u001b[38;5;28mself\u001b[39m\u001b[38;5;241m.\u001b[39mfigure, artists_rasterized, renderer)\n\u001b[0;32m-> 3066\u001b[0m \u001b[43mmimage\u001b[49m\u001b[38;5;241;43m.\u001b[39;49m\u001b[43m_draw_list_compositing_images\u001b[49m\u001b[43m(\u001b[49m\n\u001b[1;32m   3067\u001b[0m \u001b[43m    \u001b[49m\u001b[43mrenderer\u001b[49m\u001b[43m,\u001b[49m\u001b[43m \u001b[49m\u001b[38;5;28;43mself\u001b[39;49m\u001b[43m,\u001b[49m\u001b[43m \u001b[49m\u001b[43martists\u001b[49m\u001b[43m,\u001b[49m\u001b[43m \u001b[49m\u001b[38;5;28;43mself\u001b[39;49m\u001b[38;5;241;43m.\u001b[39;49m\u001b[43mfigure\u001b[49m\u001b[38;5;241;43m.\u001b[39;49m\u001b[43msuppressComposite\u001b[49m\u001b[43m)\u001b[49m\n\u001b[1;32m   3069\u001b[0m renderer\u001b[38;5;241m.\u001b[39mclose_group(\u001b[38;5;124m'\u001b[39m\u001b[38;5;124maxes\u001b[39m\u001b[38;5;124m'\u001b[39m)\n\u001b[1;32m   3070\u001b[0m \u001b[38;5;28mself\u001b[39m\u001b[38;5;241m.\u001b[39mstale \u001b[38;5;241m=\u001b[39m \u001b[38;5;28;01mFalse\u001b[39;00m\n",
      "File \u001b[0;32m~/.conda/envs/Jupyter/lib/python3.10/site-packages/matplotlib/image.py:131\u001b[0m, in \u001b[0;36m_draw_list_compositing_images\u001b[0;34m(renderer, parent, artists, suppress_composite)\u001b[0m\n\u001b[1;32m    129\u001b[0m \u001b[38;5;28;01mif\u001b[39;00m not_composite \u001b[38;5;129;01mor\u001b[39;00m \u001b[38;5;129;01mnot\u001b[39;00m has_images:\n\u001b[1;32m    130\u001b[0m     \u001b[38;5;28;01mfor\u001b[39;00m a \u001b[38;5;129;01min\u001b[39;00m artists:\n\u001b[0;32m--> 131\u001b[0m         \u001b[43ma\u001b[49m\u001b[38;5;241;43m.\u001b[39;49m\u001b[43mdraw\u001b[49m\u001b[43m(\u001b[49m\u001b[43mrenderer\u001b[49m\u001b[43m)\u001b[49m\n\u001b[1;32m    132\u001b[0m \u001b[38;5;28;01melse\u001b[39;00m:\n\u001b[1;32m    133\u001b[0m     \u001b[38;5;66;03m# Composite any adjacent images together\u001b[39;00m\n\u001b[1;32m    134\u001b[0m     image_group \u001b[38;5;241m=\u001b[39m []\n",
      "File \u001b[0;32m~/.conda/envs/Jupyter/lib/python3.10/site-packages/matplotlib/artist.py:72\u001b[0m, in \u001b[0;36mallow_rasterization.<locals>.draw_wrapper\u001b[0;34m(artist, renderer)\u001b[0m\n\u001b[1;32m     69\u001b[0m     \u001b[38;5;28;01mif\u001b[39;00m artist\u001b[38;5;241m.\u001b[39mget_agg_filter() \u001b[38;5;129;01mis\u001b[39;00m \u001b[38;5;129;01mnot\u001b[39;00m \u001b[38;5;28;01mNone\u001b[39;00m:\n\u001b[1;32m     70\u001b[0m         renderer\u001b[38;5;241m.\u001b[39mstart_filter()\n\u001b[0;32m---> 72\u001b[0m     \u001b[38;5;28;01mreturn\u001b[39;00m \u001b[43mdraw\u001b[49m\u001b[43m(\u001b[49m\u001b[43martist\u001b[49m\u001b[43m,\u001b[49m\u001b[43m \u001b[49m\u001b[43mrenderer\u001b[49m\u001b[43m)\u001b[49m\n\u001b[1;32m     73\u001b[0m \u001b[38;5;28;01mfinally\u001b[39;00m:\n\u001b[1;32m     74\u001b[0m     \u001b[38;5;28;01mif\u001b[39;00m artist\u001b[38;5;241m.\u001b[39mget_agg_filter() \u001b[38;5;129;01mis\u001b[39;00m \u001b[38;5;129;01mnot\u001b[39;00m \u001b[38;5;28;01mNone\u001b[39;00m:\n",
      "File \u001b[0;32m~/.conda/envs/Jupyter/lib/python3.10/site-packages/matplotlib/axis.py:1371\u001b[0m, in \u001b[0;36mAxis.draw\u001b[0;34m(self, renderer, *args, **kwargs)\u001b[0m\n\u001b[1;32m   1368\u001b[0m     \u001b[38;5;28;01mreturn\u001b[39;00m\n\u001b[1;32m   1369\u001b[0m renderer\u001b[38;5;241m.\u001b[39mopen_group(\u001b[38;5;18m__name__\u001b[39m, gid\u001b[38;5;241m=\u001b[39m\u001b[38;5;28mself\u001b[39m\u001b[38;5;241m.\u001b[39mget_gid())\n\u001b[0;32m-> 1371\u001b[0m ticks_to_draw \u001b[38;5;241m=\u001b[39m \u001b[38;5;28;43mself\u001b[39;49m\u001b[38;5;241;43m.\u001b[39;49m\u001b[43m_update_ticks\u001b[49m\u001b[43m(\u001b[49m\u001b[43m)\u001b[49m\n\u001b[1;32m   1372\u001b[0m tlb1, tlb2 \u001b[38;5;241m=\u001b[39m \u001b[38;5;28mself\u001b[39m\u001b[38;5;241m.\u001b[39m_get_ticklabel_bboxes(ticks_to_draw, renderer)\n\u001b[1;32m   1374\u001b[0m \u001b[38;5;28;01mfor\u001b[39;00m tick \u001b[38;5;129;01min\u001b[39;00m ticks_to_draw:\n",
      "File \u001b[0;32m~/.conda/envs/Jupyter/lib/python3.10/site-packages/matplotlib/axis.py:1275\u001b[0m, in \u001b[0;36mAxis._update_ticks\u001b[0;34m(self)\u001b[0m\n\u001b[1;32m   1272\u001b[0m     tick\u001b[38;5;241m.\u001b[39mset_label2(label)\n\u001b[1;32m   1273\u001b[0m ticks \u001b[38;5;241m=\u001b[39m [\u001b[38;5;241m*\u001b[39mmajor_ticks, \u001b[38;5;241m*\u001b[39mminor_ticks]\n\u001b[0;32m-> 1275\u001b[0m view_low, view_high \u001b[38;5;241m=\u001b[39m \u001b[38;5;28;43mself\u001b[39;49m\u001b[38;5;241;43m.\u001b[39;49m\u001b[43mget_view_interval\u001b[49m\u001b[43m(\u001b[49m\u001b[43m)\u001b[49m\n\u001b[1;32m   1276\u001b[0m \u001b[38;5;28;01mif\u001b[39;00m view_low \u001b[38;5;241m>\u001b[39m view_high:\n\u001b[1;32m   1277\u001b[0m     view_low, view_high \u001b[38;5;241m=\u001b[39m view_high, view_low\n",
      "File \u001b[0;32m~/.conda/envs/Jupyter/lib/python3.10/site-packages/matplotlib/axis.py:2210\u001b[0m, in \u001b[0;36m_make_getset_interval.<locals>.getter\u001b[0;34m(self)\u001b[0m\n\u001b[1;32m   2208\u001b[0m \u001b[38;5;28;01mdef\u001b[39;00m \u001b[38;5;21mgetter\u001b[39m(\u001b[38;5;28mself\u001b[39m):\n\u001b[1;32m   2209\u001b[0m     \u001b[38;5;66;03m# docstring inherited.\u001b[39;00m\n\u001b[0;32m-> 2210\u001b[0m     \u001b[38;5;28;01mreturn\u001b[39;00m \u001b[38;5;28;43mgetattr\u001b[39;49m\u001b[43m(\u001b[49m\u001b[38;5;28;43mgetattr\u001b[39;49m\u001b[43m(\u001b[49m\u001b[38;5;28;43mself\u001b[39;49m\u001b[38;5;241;43m.\u001b[39;49m\u001b[43maxes\u001b[49m\u001b[43m,\u001b[49m\u001b[43m \u001b[49m\u001b[43mlim_name\u001b[49m\u001b[43m)\u001b[49m\u001b[43m,\u001b[49m\u001b[43m \u001b[49m\u001b[43mattr_name\u001b[49m\u001b[43m)\u001b[49m\n",
      "\u001b[0;31mKeyboardInterrupt\u001b[0m: "
     ]
    }
   ],
   "source": [
    "import corner\n",
    "\n",
    "#tau = reader.get_autocorr_time()\n",
    "# burnin = int(2 * np.max(tau))\n",
    "# thin = int(0.5 * np.min(tau))\n",
    "samples = reader.get_chain(flat=True)\n",
    "log_prob_samples = reader.get_log_prob(flat=True)\n",
    "log_prior_samples = reader.get_blobs(flat=True)\n",
    "\n",
    "# print(\"burn-in: {0}\".format(burnin))\n",
    "# print(\"thin: {0}\".format(thin))\n",
    "# print(\"flat chain shape: {0}\".format(samples.shape))\n",
    "# #print(\"flat log prob shape: {0}\".format(log_prob_samples.shape))\n",
    "# #print(\"flat log prior shape: {0}\".format(log_prior_samples.shape))\n",
    "\n",
    "# # all_samples = np.concatenate(\n",
    "# #     (samples, log_prob_samples[:, None], log_prior_samples[:, None]), axis=1\n",
    "# )\n",
    "ndim = 17\n",
    "labels = list(map(r\"$\\theta_{{{0}}}$\".format, range(1, ndim + 1)))\n",
    "#labels += [\"log prob\", \"log prior\"]\n",
    "\n",
    "corner.corner(samples, labels=labels);"
   ]
  },
  {
   "cell_type": "code",
   "execution_count": 40,
   "id": "12d08e9f-a89f-49c0-a5ca-e2c170de34d6",
   "metadata": {},
   "outputs": [
    {
     "name": "stderr",
     "output_type": "stream",
     "text": [
      "WARNING:root:Too few points to create valid contours\n"
     ]
    },
    {
     "data": {
      "image/png": "[encoded data removed]",
      "text/plain": [
       "<Figure size 760x760 with 9 Axes>"
      ]
     },
     "metadata": {},
     "output_type": "display_data"
    }
   ],
   "source": [
    "import corner\n",
    "\n",
    "# Get the samples for the first 3 parameters\n",
    "first_three_params_samples = samples[:, 14:17]\n",
    "\n",
    "# Define labels for the first 3 parameters\n",
    "labels = list(map(r\"$\\theta_{{{0}}}$\".format, range(14, 17)))\n",
    "\n",
    "# Plot the corner plot\n",
    "corner.corner(first_three_params_samples, labels=labels);\n"
   ]
  },
  {
   "cell_type": "code",
   "execution_count": null,
   "id": "f287192e-71fb-4da8-87fb-dae19158abfc",
   "metadata": {},
   "outputs": [],
   "source": []
  }
 ],
 "metadata": {
  "kernelspec": {
   "display_name": "Python 3 (ipykernel)",
   "language": "python",
   "name": "python3"
  },
  "language_info": {
   "codemirror_mode": {
    "name": "ipython",
    "version": 3
   },
   "file_extension": ".py",
   "mimetype": "text/x-python",
   "name": "python",
   "nbconvert_exporter": "python",
   "pygments_lexer": "ipython3",
   "version": "3.10.8"
  }
 },
 "nbformat": 4,
 "nbformat_minor": 5
}
