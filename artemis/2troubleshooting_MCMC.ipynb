{
 "cells": [
  {
   "cell_type": "code",
   "execution_count": 2,
   "id": "1ed50a3e-ee61-40a1-82ff-85048835289d",
   "metadata": {},
   "outputs": [],
   "source": [
    "import numpy as np \n",
    "import emcee\n",
    "import matplotlib.pyplot as pl\n",
    "from joblib import Parallel, delayed\n",
    "import matplotlib.pyplot as plt\n",
    "from scipy.interpolate import interp1d\n",
    "from scipy.stats import multivariate_normal\n",
    "import time \n",
    "from tqdm import tqdm\n",
    "import corner\n",
    "import h5py\n",
    "#import ipdb\n",
    "from scipy import integrate \n",
    "import cProfile"
   ]
  },
  {
   "cell_type": "markdown",
   "id": "9ab1d176-b03a-477f-91e7-25eeff02ca9c",
   "metadata": {},
   "source": [
    "# Basic definitions"
   ]
  },
  {
   "cell_type": "code",
   "execution_count": 3,
   "id": "f3d35d35-d1c7-4737-ad42-027439457a62",
   "metadata": {},
   "outputs": [],
   "source": [
    "# magnitude of speed of light\n",
    "cmag = 149896229 / 500\n"
   ]
  },
  {
   "cell_type": "code",
   "execution_count": 4,
   "id": "3399e06b-87b4-47ee-832e-55e1e8b41389",
   "metadata": {},
   "outputs": [],
   "source": [
    "# Redshifts for the bins that we chose when we did the eigevector analysis with Fisher.\n",
    "zzmin = 0.03\n",
    "zzmax = 1.7\n",
    "zbins = zzmin + np.linspace(zzmin, zzmax, 500)\n"
   ]
  },
  {
   "cell_type": "markdown",
   "id": "238349d1-c7d7-4ab3-8b8f-3135ce7db168",
   "metadata": {},
   "source": [
    "- Import the eigenfunctions from the mathematica output file."
   ]
  },
  {
   "cell_type": "code",
   "execution_count": 4,
   "id": "146f39c2-1d7e-40e7-982f-9fbc1571153b",
   "metadata": {},
   "outputs": [
    {
     "data": {
      "text/plain": [
       "(500, 500)"
      ]
     },
     "execution_count": 4,
     "metadata": {},
     "output_type": "execute_result"
    }
   ],
   "source": [
    "# ## Add code here to read of the e_i eigenvectors\n",
    "# eigenvectors = [[0] * 850 for _ in range(500)]\n",
    "# eigenvectors = np.array(eigenvectors)\n",
    "\n",
    "eigenvectors = np.loadtxt(\"/mnt/c/Users/asgia/Desktop/cosmo_stuff/eigenvectorsFisherTot.dat\")\n",
    "eigenvectors.shape"
   ]
  },
  {
   "cell_type": "code",
   "execution_count": 5,
   "id": "f534d9e5-20e1-4309-bf02-8ca4a966a588",
   "metadata": {},
   "outputs": [],
   "source": [
    "## Define DE equation of state as a sum over the eigenvectors times some coefficient alpha\n",
    "\n",
    "# This function returns an array [1, number of z bins] which corresponds DE EoS for each redshift in each bin.\n",
    "def w(alphas,eigenvectors):\n",
    "    \n",
    "    weighted_eigenvectors = alphas[:,np.newaxis] * eigenvectors\n",
    "\n",
    "    summed_vector = -1 + np.sum(weighted_eigenvectors, axis=0)\n",
    "    \n",
    "    return -1 + summed_vector\n",
    "    \n",
    "    "
   ]
  },
  {
   "cell_type": "code",
   "execution_count": 6,
   "id": "a02ee10c-0a4c-47ee-b2c9-fde12a4e1357",
   "metadata": {},
   "outputs": [],
   "source": [
    "# Test variables used to make sure things work. They have no meaning.\n",
    "testbins = np.linspace(0.01,1,5)\n",
    "testalp = np.linspace(0.01, 0.1, 5)\n",
    "testvecs = np.array([[1] * 5 for _ in range(5)])\n",
    "testsigma2 = np.linspace(0.1,0.2,5)"
   ]
  },
  {
   "cell_type": "code",
   "execution_count": 7,
   "id": "d3973652-859c-47a5-9795-9f140087ecdc",
   "metadata": {},
   "outputs": [
    {
     "name": "stdout",
     "output_type": "stream",
     "text": [
      "time it took: 0.0001862049102783203\n"
     ]
    },
    {
     "data": {
      "text/plain": [
       "array([-1.725, -1.725, -1.725, -1.725, -1.725])"
      ]
     },
     "execution_count": 7,
     "metadata": {},
     "output_type": "execute_result"
    }
   ],
   "source": [
    "## Testing\n",
    "start_time = time.time()\n",
    "x = w(testalp,testvecs)\n",
    "end_time = time.time()\n",
    "print(\"time it took:\", end_time - start_time)\n",
    "x\n"
   ]
  },
  {
   "cell_type": "code",
   "execution_count": 8,
   "id": "476dd140-641b-4f5c-9f96-2b8549775e73",
   "metadata": {},
   "outputs": [],
   "source": [
    "# def omegade(zbins, alphas, eigenvectors):\n",
    "\n",
    "#     base = (1 + zbins)\n",
    "#     power = 3 * ( 1 + w(alphas,eigenvectors))\n",
    "\n",
    "#     return base ** power\n",
    "    \n",
    "    \n",
    "    "
   ]
  },
  {
   "cell_type": "code",
   "execution_count": 9,
   "id": "3a9f028a-37ad-488e-afe1-96696fa59415",
   "metadata": {},
   "outputs": [],
   "source": [
    "## Different definition to avoid overflow errors\n",
    "def omegade(zbins, alphas, eigenvectors):\n",
    "    base = (1 + zbins)\n",
    "    power = 3 * (1 + w(alphas, eigenvectors))\n",
    "    \n",
    "    # Calculate the exponent using logarithm to avoid overflow\n",
    "    log_result = np.log(base) * power\n",
    "\n",
    "    # Take the exponent of the result to get the final value\n",
    "    return np.exp(log_result)\n"
   ]
  },
  {
   "cell_type": "code",
   "execution_count": 10,
   "id": "38fee60e-88d3-46e2-8d53-b95958bc2168",
   "metadata": {},
   "outputs": [
    {
     "name": "stdout",
     "output_type": "stream",
     "text": [
      "time it took: 0.0001914501190185547\n"
     ]
    },
    {
     "data": {
      "text/plain": [
       "array([0.97859054, 0.60753334, 0.41101542, 0.29515068, 0.22144188])"
      ]
     },
     "execution_count": 10,
     "metadata": {},
     "output_type": "execute_result"
    }
   ],
   "source": [
    "## Testing\n",
    "start_time = time.time()\n",
    "x = omegade(testbins, testalp, testvecs)\n",
    "end_time = time.time()\n",
    "print(\"time it took:\", end_time - start_time)\n",
    "x\n"
   ]
  },
  {
   "cell_type": "markdown",
   "id": "54f1f1d3-686d-4ef0-8c18-430fc5a414f0",
   "metadata": {},
   "source": [
    "- The way I defined things, I have an issue with luminosity distance $d_L$ since my bins from summing the eigenvectors go from $z_{min}$ to $z_{max}$ with $z_{min} \\neq 0$. However, in the definition of the luminosity distance I have an integral from 0 to z. To deal with this part of $z < z_{min}$, I will evaluate a constant factor with $w_{DE} = w_{fid} = -1$ and add this to each element of the array within the zbins that I care about.\n"
   ]
  },
  {
   "cell_type": "code",
   "execution_count": 11,
   "id": "8786e04a-157f-4eff-8f72-7d19ff3ed902",
   "metadata": {},
   "outputs": [],
   "source": [
    "## I need to figure out how to define angular distance \n",
    "\n",
    "def hubble(zbins, alphas, eigenvectors, H0, Om, Ok ):\n",
    "\n",
    "    x = 1 - Om - Ok \n",
    "    \n",
    "    if x < 0:\n",
    "        print(\"Error: Bad Input, Om, Ok\")\n",
    "    else:\n",
    "        return np.array( H0 * np.sqrt( Om * ( 1 + zbins) ** 3 + x * omegade(zbins, alphas, eigenvectors) + Ok * (1 + zbins)**2) )\n",
    "\n"
   ]
  },
  {
   "cell_type": "code",
   "execution_count": 12,
   "id": "8e9e51af-692c-4282-96d1-e5e0f738ec83",
   "metadata": {},
   "outputs": [
    {
     "name": "stdout",
     "output_type": "stream",
     "text": [
      "time it took: 0.0003285408020019531\n"
     ]
    },
    {
     "data": {
      "text/plain": [
       "array([ 72.67079597,  70.73709651,  77.61718768,  89.8844615 ,\n",
       "       105.49184078])"
      ]
     },
     "execution_count": 12,
     "metadata": {},
     "output_type": "execute_result"
    }
   ],
   "source": [
    "## Testing\n",
    "start_time = time.time()\n",
    "x = hubble(testbins, testalp, testvecs, 73, 0.24, 0 ) \n",
    "end_time = time.time()\n",
    "print(\"time it took:\", end_time - start_time)\n",
    "x\n"
   ]
  },
  {
   "cell_type": "code",
   "execution_count": 39,
   "id": "731a5636-ee30-44ef-a2f0-97f7becb0255",
   "metadata": {},
   "outputs": [],
   "source": [
    "## Define the comoving distance. \n",
    "## Since the zbins start at zmin, I will break the integral in two pieces: [0,zmin) and [zmin,z]\n",
    "\n",
    "## This function return a numpy array that gives the comoving distance at each redshift bin. \n",
    "def comov_dist(zbins, alphas, eigenvectors, H0, Om, Ok):\n",
    "    x = 1 - Om - Ok\n",
    "    if x < 0:\n",
    "        return print('Comoving dist: Bad Input, Om, Ok')\n",
    "    else:\n",
    "        # Write the comoving distance function for z < zmin where w_de = -1, so that I can use scipy to do the integration for that part\n",
    "        def f(x1,x, H0, Om, Ok):\n",
    "            return 1 / ( H0 * np.sqrt( Om * pow(1+x1 ,3 ) + x * (1 + x1) + Ok * pow(1+x1, 2)))\n",
    "            \n",
    "        less_zmin = integrate.quad(f, 0, zbins[0], args=(x, H0, Om, Ok))\n",
    "        # # Bin the [0, zmin] interval and do the integration\n",
    "        # x1, x2 = 0, zbins[0]\n",
    "        # Nx = 5 + 5 * int(abs(x2 - x1) * 100)\n",
    "        # dx = (x2 - x1) / Nx\n",
    "        dz = zbins[1] - zbins[0]\n",
    "        # less_zmin_arr = Parallel(n_jobs=-1)(delayed(lambda i: dx / (H0 * np.sqrt(Om * (1 + x1 + dx * i)**3 + x * (1+ x1 + dx * i) + Ok * (1 + x1 + dx * i)**2)))(i) for i in range(0, Nx))\n",
    "        # less_zmin =  np.sum(less_zmin_arr)\n",
    "       \n",
    "        return cmag * less_zmin[0] +  cmag * np.cumsum( dz / hubble(zbins, alphas, eigenvectors, H0, Om, Ok))\n",
    "    \n",
    "    "
   ]
  },
  {
   "cell_type": "code",
   "execution_count": 40,
   "id": "43ed6d7f-39bb-4805-855c-82edf73836e1",
   "metadata": {},
   "outputs": [
    {
     "data": {
      "text/plain": [
       "array([1061.94022898, 2110.87546968, 3066.83168985, 3892.32068001,\n",
       "       4595.67965837])"
      ]
     },
     "execution_count": 40,
     "metadata": {},
     "output_type": "execute_result"
    }
   ],
   "source": [
    "comov_dist(testbins, testalp, testvecs, 73, 0.24, 0)"
   ]
  },
  {
   "cell_type": "code",
   "execution_count": 41,
   "id": "80315766-0dc5-4a93-81e9-1b47a0fcdeca",
   "metadata": {},
   "outputs": [],
   "source": [
    "## Returns an array of luminosity distances at each redshift z \n",
    "def lum_distance(zbins, alphas, eigenvectors, H0, Om, Ok):\n",
    "    z_shifted = 1 + zbins\n",
    "\n",
    "    return z_shifted * comov_dist(zbins, alphas, eigenvectors, H0, Om, Ok)\n",
    "    "
   ]
  },
  {
   "cell_type": "code",
   "execution_count": 42,
   "id": "e91a9ad8-8e09-4b7b-9f12-60936ecf8792",
   "metadata": {},
   "outputs": [
    {
     "name": "stdout",
     "output_type": "stream",
     "text": [
      "time it took: 0.00036644935607910156\n"
     ]
    },
    {
     "data": {
      "text/plain": [
       "array([1072.55963127, 2654.42590312, 4615.58169322, 6821.29199171,\n",
       "       9191.35931673])"
      ]
     },
     "execution_count": 42,
     "metadata": {},
     "output_type": "execute_result"
    }
   ],
   "source": [
    "## Testing\n",
    "start_time = time.time()\n",
    "x = lum_distance(testbins, testalp, testvecs, 73, 0.24, 0.0)\n",
    "end_time = time.time()\n",
    "print(\"time it took:\", end_time - start_time)\n",
    "x"
   ]
  },
  {
   "cell_type": "code",
   "execution_count": 43,
   "id": "015aabe7-6a21-483d-97c8-8b479d23a948",
   "metadata": {},
   "outputs": [],
   "source": [
    "# Define the logarithm of dL\n",
    "# Returns the logarithm of the array of luminosity distance for each redshift bin\n",
    "def log_h0dl(zbins, alphas, eigenvectors, H0, Om, Ok):\n",
    "    return np.log10( (H0 / cmag) * lum_distance(zbins, alphas, eigenvectors, H0, Om, Ok))\n",
    "    \n",
    "\n"
   ]
  },
  {
   "cell_type": "code",
   "execution_count": 44,
   "id": "1fb7599b-8c68-45fe-8ac0-5113a3f3c2b0",
   "metadata": {},
   "outputs": [
    {
     "name": "stdout",
     "output_type": "stream",
     "text": [
      "time it took: 0.00024580955505371094\n"
     ]
    },
    {
     "data": {
      "text/plain": [
       "array([-0.5830764 , -0.18952724,  0.0507286 ,  0.2203688 ,  0.3498819 ])"
      ]
     },
     "execution_count": 44,
     "metadata": {},
     "output_type": "execute_result"
    }
   ],
   "source": [
    "## Testing\n",
    "start_time = time.time()\n",
    "x = log_h0dl(testbins, testalp, testvecs, 74, 0.24, 0.0)\n",
    "end_time = time.time()\n",
    "print(\"time it took:\", end_time - start_time)\n",
    "x\n"
   ]
  },
  {
   "cell_type": "markdown",
   "id": "260c60df-7305-4caa-96bb-8a4d43fa19cc",
   "metadata": {},
   "source": [
    "# SN $\\sigma^2$ definition"
   ]
  },
  {
   "cell_type": "code",
   "execution_count": 45,
   "id": "f7386f49-3e58-464b-9482-ac4cf248ff21",
   "metadata": {},
   "outputs": [],
   "source": [
    "NSN = [0, 300, 35, 64, 95, 124, 150, 171, 183, 179, 170, 155, 142, 130, 119, 107, 94, 80, 0]\n",
    "zSN = [0.03, 0.05, 0.1, 0.2, 0.3, 0.4, 0.5, 0.6, 0.7, 0.8, 0.9, 1.0, 1.1, 1.2, 1.3, 1.4, 1.5, 1.6, 1.75]\n",
    "SNpoints = list(zip(zSN, NSN))\n"
   ]
  },
  {
   "cell_type": "code",
   "execution_count": 46,
   "id": "98301b7c-eddf-46f5-b81d-0550e8ebc9d2",
   "metadata": {},
   "outputs": [],
   "source": [
    "# Create an interpolation function for the number of SN \n",
    "\n",
    "fNSN = interp1d(zSN, NSN, kind='linear', fill_value='extrapolate')\n",
    "\n",
    "\n",
    "# # Generate new z values for interpolation\n",
    "# z_values_interpolated = np.linspace(min(zSN), max(zSN), 1000)\n",
    "\n",
    "# # Interpolate NSN values for the new z values\n",
    "# NSN_interpolated = fNSN(z_values_interpolated)\n"
   ]
  },
  {
   "cell_type": "code",
   "execution_count": 47,
   "id": "09e6d7b8-5ed9-4927-baa9-6916c402b862",
   "metadata": {},
   "outputs": [],
   "source": [
    "zBinsFisher = np.linspace(0.0334, 1.7, 500)\n",
    "\n",
    "# This function returns the sigma^2 error defined in equation (A2)\n",
    "\n",
    "def Sigma2SNFisher(i, Nz):        \n",
    "    zzmin = 0.0334\n",
    "    zzmax = 1.7\n",
    "    zBinsFisher = np.linspace(zzmin, zzmax, Nz + 1)\n",
    "\n",
    "    if i > len(zBinsFisher):\n",
    "        raise ValueError(\"Index 'i' is out of range.\")\n",
    "\n",
    "    dz1 = 0.1\n",
    "    dz2 = 0.07\n",
    "    tmp = zBinsFisher[1] - zBinsFisher[0]\n",
    "\n",
    "    z_i = zBinsFisher[i]  \n",
    "\n",
    "    if z_i < 0.1:\n",
    "        return dz2 / tmp * (0.15**2 / fNSN(z_i) + 0.02**2 * ((1 + z_i) / 2.7)**2)\n",
    "    else:\n",
    "        return dz1 / tmp * (0.15**2 / fNSN(z_i) + 0.02**2 * ((1 + z_i) / 2.7)**2)"
   ]
  },
  {
   "cell_type": "code",
   "execution_count": 48,
   "id": "49701e12-c2c2-4d8a-a206-972fd9005b2c",
   "metadata": {},
   "outputs": [
    {
     "data": {
      "image/png": "[encoded data removed]",
      "text/plain": [
       "<Figure size 400x300 with 1 Axes>"
      ]
     },
     "metadata": {},
     "output_type": "display_data"
    }
   ],
   "source": [
    "# Test plot to make sure everything works so far\n",
    "\n",
    "i_values = range(0, len(zBinsFisher))\n",
    "\n",
    "# Compute Sigma2SNFisher for each i value (each redshift bin of interest)\n",
    "sigma2_values = [Sigma2SNFisher(i,500) for i in i_values]\n",
    "sigma2_values = np.array(sigma2_values)\n",
    "\n",
    "# Plot\n",
    "plt.figure(figsize=(4, 3))\n",
    "plt.plot(i_values, sigma2_values, linestyle='-', color='b')\n",
    "plt.xlabel('i')\n",
    "plt.ylabel('Sigma2SNFisher')\n",
    "plt.grid(True)\n",
    "plt.show()"
   ]
  },
  {
   "cell_type": "markdown",
   "id": "64c0db3d-37ea-42ae-b360-4fea2679f7b7",
   "metadata": {},
   "source": [
    "# SN $\\chi^2$ definition"
   ]
  },
  {
   "cell_type": "code",
   "execution_count": 31,
   "id": "c1de2e42-f816-49ea-a21b-71bb2ea1dc3e",
   "metadata": {},
   "outputs": [],
   "source": [
    "#############################################\n",
    "### NOT SURE THIS IS NEEDED -- CHECK IT ####\n",
    "###########################################\n",
    "\n",
    "# # Interpolate the expressions of the eigenfunctions for the z range that I care about [0.03,1.7]\n",
    "# eigenvec_interp = [[0] * len(eigenvectors[0]) for _ in range(len(eigenvectors))]\n",
    "\n",
    "# for i in range(len(eigenvectors)):\n",
    "#     interp_fun = interp1d(zbins, eigenvectors[i], kind='linear')\n",
    "#     eigenvec_interp[i] = interp_fun(zBinsFisher)\n",
    "\n",
    "# eigenvec_interp = np.array(eigenvec_interp)\n",
    "# eigenvec_interp.shape"
   ]
  },
  {
   "cell_type": "markdown",
   "id": "1b43a70a-c192-473d-8c51-dedca64dfa1a",
   "metadata": {},
   "source": [
    "Now I have a table 500x500 that only includes the eigenvectors in the redshift range that I am interested in. For the rest I need to use zBinsFisher instead of zbins."
   ]
  },
  {
   "cell_type": "code",
   "execution_count": 49,
   "id": "8cdd2bc2-e4d6-4ed0-8864-785220c94b45",
   "metadata": {},
   "outputs": [],
   "source": [
    "# This function takes as input the zbins, amplitudes alpha, eigenvectors,  error values and cosmo parameters\n",
    "# and returns the chi^2 based on SN (equation A6 from ref)\n",
    "\n",
    "def chi_squared_sn(alphas, Om, Omh2, Ok, zBinsFisher, eigenvectors, sigma2_values):\n",
    "    \n",
    "    H0 = np.sqrt(Omh2/Om) * 100\n",
    "    # Difference between MCMC model and fiducial model\n",
    "    alphas_fid = np.array([0] * len(eigenvectors))\n",
    "    diff = log_h0dl(zBinsFisher, alphas, eigenvectors, H0, Om, Ok) - log_h0dl(zBinsFisher, alphas_fid, eigenvectors, 73, 0.24, 0.0)\n",
    "\n",
    "    return 5 * np.sum( diff**2 / sigma2_values) - 25 * np.sum(diff / sigma2_values) / np.sum(1 / sigma2_values)  \n",
    "    \n"
   ]
  },
  {
   "cell_type": "code",
   "execution_count": 50,
   "id": "325e300c-b57b-4f79-b5e1-3d55341a1cf2",
   "metadata": {},
   "outputs": [
    {
     "name": "stdout",
     "output_type": "stream",
     "text": [
      "time it took: 0.00044035911560058594\n"
     ]
    },
    {
     "data": {
      "text/plain": [
       "0.23730015906774313"
      ]
     },
     "execution_count": 50,
     "metadata": {},
     "output_type": "execute_result"
    }
   ],
   "source": [
    "## Testing\n",
    "start_time1 = time.time()\n",
    "x1 = chi_squared_sn(testalp, 0.24, 0.24 * 0.73 * 0.73, 0.0, testbins, testvecs, testsigma2)\n",
    "end_time1 = time.time()\n",
    "print(\"time it took:\", end_time1 - start_time1)\n",
    "x1\n"
   ]
  },
  {
   "cell_type": "markdown",
   "id": "ef2f9501-420c-4841-842f-e20eac55618a",
   "metadata": {},
   "source": [
    "# Definition of CMB part including radiation"
   ]
  },
  {
   "cell_type": "code",
   "execution_count": 51,
   "id": "8b91fa17-cf91-435b-823b-da06bdbad39f",
   "metadata": {},
   "outputs": [],
   "source": [
    "# Define some basic parameters following the PCA construnction\n",
    "\n",
    "NNU = 3.04\n",
    "TCMB = 2.725\n",
    "OGhh = 4.4856e-7 * TCMB ** 4\n",
    "ONhh = 1.0187e-7 * NNU * TCMB ** 4\n",
    "ORhh = ONhh + OGhh\n",
    "zrec = 1090"
   ]
  },
  {
   "cell_type": "code",
   "execution_count": 52,
   "id": "fadf66d8-b684-4f59-9c5f-458accb6eac4",
   "metadata": {},
   "outputs": [],
   "source": [
    "# covariance matrix\n",
    "CMBCov = np.array([[0.0018**2, -(0.0014)**2],[-(0.0014)**2, 0.0011**2]])\n",
    "invCMBCov = np.linalg.inv(CMBCov)"
   ]
  },
  {
   "cell_type": "markdown",
   "id": "9c544056-34bd-48b4-a428-94df403c7058",
   "metadata": {},
   "source": [
    "- In this case again I need to be careful how I define the distances because I care about $z_{rec}=1090$."
   ]
  },
  {
   "cell_type": "code",
   "execution_count": 53,
   "id": "5354c5ba-7d48-4cd3-9e90-2e51feadb000",
   "metadata": {},
   "outputs": [],
   "source": [
    "## I need to figure out how to define angular distance \n",
    "\n",
    "def hubble_rad(zbins, alphas, eigenvectors, Omh2, Om, Ok, ORhh):\n",
    "\n",
    "    h2 = Omh2 / Om\n",
    "    x = h2 - Omh2 - Ok * h2 - ORhh\n",
    "\n",
    "    if x < 0:\n",
    "        print(\"Error: Bad Input, x\")\n",
    "    else:\n",
    "        return np.array( 100 * np.sqrt( Omh2 * ( 1 + zbins) ** 3 + x * omegade(zbins, alphas, eigenvectors) + Ok * h2 * (1 + zbins)**3 + ORhh * (1+zbins)**4 ) )\n",
    "\n"
   ]
  },
  {
   "cell_type": "code",
   "execution_count": 54,
   "id": "4ccea149-b9ac-4b2c-8c33-86600c5b019e",
   "metadata": {},
   "outputs": [
    {
     "name": "stdout",
     "output_type": "stream",
     "text": [
      "time it took 0.0001995563507080078\n"
     ]
    },
    {
     "data": {
      "text/plain": [
       "array([ 72.67097436,  70.74269062,  77.62989728,  89.90571034,\n",
       "       105.5231037 ])"
      ]
     },
     "execution_count": 54,
     "metadata": {},
     "output_type": "execute_result"
    }
   ],
   "source": [
    "## Testing\n",
    "start_time2 = time.time()\n",
    "x2 = hubble_rad(testbins, testalp, testvecs, 0.24*0.73**2, 0.24, 0.0, ORhh)\n",
    "end_time2 = time.time()\n",
    "print('time it took', end_time2-start_time2)\n",
    "x2"
   ]
  },
  {
   "cell_type": "markdown",
   "id": "0fbdd3f9-1f74-416e-8d94-6abae134f32f",
   "metadata": {},
   "source": [
    "- I need to redefine the comoving distance using the new Hubble function"
   ]
  },
  {
   "cell_type": "code",
   "execution_count": 55,
   "id": "680da832-e1f0-4993-a7e9-bc2d3b3fb828",
   "metadata": {},
   "outputs": [],
   "source": [
    "\n",
    "# ## This function return the comoving distance to redshift z. \n",
    "# ## Here I want to extend to redshifts that are zmax of the zbins. \n",
    "\n",
    "# def comov_dist_rad(z, zbins, alphas, eigenvectors, Omh2, Om, Ok, ORhh):\n",
    "    \n",
    "#     h2 = Omh2 / Om\n",
    "#     x = h2 - Omh2 - Ok * h2 - ORhh\n",
    "    \n",
    "#     if x < 0:\n",
    "#         return print('Comoving dist rad: Bad Input, Om, Ok')\n",
    "#     else:\n",
    "#         if z < zbins[0]:\n",
    "#             # Bin the [0, zmin] interval and do the integration\n",
    "#             x1, x2 = 0, z\n",
    "#             Nx = 5 + 5 * int(abs(x2 - x1) * 100)\n",
    "#             dx = (x2 - x1) / Nx\n",
    "#             less_zmin_arr = Parallel(n_jobs=-1)(delayed(lambda i: dx / (100 * np.sqrt(Omh2 * (1 + x1 + dx * i)**3 \n",
    "#                                                                                       + x * (1+ x1 + dx * i) + Ok * h2 * (1 + x1 + dx * i)**3 + ORhh * (1+ x1 + dx * i) ** 4)))(i) for i in range(0, Nx))\n",
    "#             less_zmin =  np.sum(less_zmin_arr)\n",
    "            \n",
    "#             return cmag * less_zmin \n",
    "            \n",
    "#         if z <= zbins[-1] and z >= zbins[0]:\n",
    "#             # Bin the [0, zmin] interval and do the integration\n",
    "#             x1, x2 = 0, zbins[0]\n",
    "#             Nx = 5 + 5 * int(abs(x2 - x1) * 100)\n",
    "#             dx = (x2 - x1) / Nx\n",
    "#             dz = zbins[1] - zbins[0]\n",
    "#             less_zmin_arr = Parallel(n_jobs=-1)(delayed(lambda i: dx / (100 * np.sqrt(Omh2 * (1 + x1 + dx * i)**3 \n",
    "#                                                                                       + x * (1+ x1 + dx * i) + Ok * h2 * (1 + x1 + dx * i)**3 + ORhh * (1+ x1 + dx * i) ** 4)))(i) for i in range(0, Nx))\n",
    "#             less_zmin =  np.sum(less_zmin_arr)\n",
    "#             # Use boolean mask to only sum up to z and not the rest of the bins. \n",
    "#             z_mask = zbins <= z \n",
    "            \n",
    "#             # Discard the z bins that exceed z\n",
    "#             zbins = zbins[z_mask]\n",
    "            \n",
    "#             # Discard the eigenvector bins that exceed z.\n",
    "#             eigenvectors = eigenvectors[:,:len(zbins)]\n",
    "            \n",
    "#             return cmag * less_zmin +  cmag * np.sum( dz / hubble_rad(zbins, alphas, eigenvectors, Omh2, Om, Ok, ORhh))\n",
    "    \n",
    "            \n",
    "#         else:\n",
    "#             # Bin the [0, zmin] interval and do the integration\n",
    "#             x1, x2 = 0, zbins[0]\n",
    "#             Nx = 5 + 5 * int(abs(x2 - x1) * 100)\n",
    "#             dx = (x2 - x1) / Nx\n",
    "#             dz = zbins[1] - zbins[0]\n",
    "#             less_zmin_arr = Parallel(n_jobs=-1)(delayed(lambda i: dx / (100 * np.sqrt(Omh2 * (1 + x1 + dx * i)**3 \n",
    "#                                                                                       + x * (1+ x1 + dx * i) + Ok * h2 * (1 + x1 + dx * i)**3 + ORhh * (1+ x1 + dx *i) ** 4)))(i) for i in range(0, Nx))\n",
    "#             less_zmin =  np.sum(less_zmin_arr)\n",
    "\n",
    "#             x3, x4 = zbins[-1], z\n",
    "#             Nx2 = 5 + 5 * int(abs(x4 - x3) * 100)\n",
    "#             dx2 =(x4 - x3 ) / Nx2\n",
    "#             larger_zmax_arr = Parallel(n_jobs=-1)(delayed(lambda i: dx2 / (100 * np.sqrt(Omh2 * (1 + x1 + dx * i)**3 \n",
    "#                                                                                       + x * (1+ x1 + dx * i) + Ok * h2 * (1 + x1 + dx * i)**3 + ORhh * (1+ x1 + dx * i) ** 4)))(i) for i in range(0, Nx2))\n",
    "#             larger_zmax = np.sum(larger_zmax_arr)\n",
    "            \n",
    "#             return cmag * less_zmin +  cmag * np.sum( dz / hubble_rad(zbins, alphas, eigenvectors, Omh2, Om, Ok, ORhh)) + cmag * larger_zmax\n",
    "            \n",
    "        "
   ]
  },
  {
   "cell_type": "code",
   "execution_count": 56,
   "id": "fe1e96a0-6a1b-4d35-930e-0d6f5a710c61",
   "metadata": {},
   "outputs": [],
   "source": [
    "# ## Test\n",
    "# start_time = time.time()\n",
    "# x = comov_dist_rad(0.5, testbins, testalp, testvecs, 0.24*0.73**2, 0.24, 0, ORhh)\n",
    "# end_time = time.time()\n",
    "# print(\"comp time:\", end_time - start_time)\n",
    "# x\n"
   ]
  },
  {
   "cell_type": "markdown",
   "id": "a7c54e37-17d6-4817-95ee-4388b958b795",
   "metadata": {},
   "source": [
    "- Faster version to compute comoving distance taking into account radiation. "
   ]
  },
  {
   "cell_type": "code",
   "execution_count": 57,
   "id": "15f861ab-a2e6-4da7-9973-26669e4e0eaf",
   "metadata": {},
   "outputs": [],
   "source": [
    "## This function return the comoving distance to redshift z. \n",
    "## I will try different integration methods to speed things up \n",
    "\n",
    "#################################################################\n",
    "##### Comoving distance using the scipy integrate function #####\n",
    "###############################################################\n",
    "\n",
    "def comov_dist_rad_fast(z, zbins, alphas, eigenvectors, Omh2, Om, Ok, ORhh):\n",
    "    \n",
    "    h2 = Omh2 / Om\n",
    "    x = h2 - Omh2 - Ok * h2 - ORhh\n",
    "    dz = zbins[1] - zbins[0]\n",
    "    \n",
    "    if x < 0:\n",
    "        return print('Comoving dist rad fast: Bad Input, Om, Ok', Om, Ok)\n",
    "    else:\n",
    "        def f(x1,x, Ok, h2, ORhh):\n",
    "            return 1 / (100 * np.sqrt(Omh2 * (1 + x1)**3 + x * (1+ x1) + Ok * h2 * (1 + x1 )**3 + ORhh * (1+ x1 ) ** 4))\n",
    "    \n",
    "        if z < zbins[0]:\n",
    "            return cmag * integrate.quad(f,0, z, args=(x, Ok, h2, ORhh))[0]\n",
    "                \n",
    "        if z <= zbins[-1] and z >= zbins[0]:\n",
    "            z_less = integrate.quad(f,0,zbins[0], args=(x, Ok, h2, ORhh))\n",
    "            # Use boolean mask to only sum up to z and not the rest of the bins. \n",
    "            z_mask = zbins <= z \n",
    "            \n",
    "            # Discard the z bins that exceed z\n",
    "            zbins = zbins[z_mask]\n",
    "            \n",
    "            # Discard the eigenvector bins that exceed z.\n",
    "            eigenvectors = eigenvectors[:,:len(zbins)]\n",
    "            \n",
    "            return cmag * z_less[0] +  cmag * np.sum( dz / hubble_rad(zbins, alphas, eigenvectors, Omh2, Om, Ok, ORhh))\n",
    "        if z > zbins[-1]:\n",
    "            z_less = integrate.quad(f,0,zbins[0],args=(x, Ok, h2, ORhh))\n",
    "            z_more = integrate.quad(f, zbins[-1], z, args=(x, Ok, h2, ORhh))\n",
    "            \n",
    "            return cmag * z_less[0] +  cmag * np.sum( dz / hubble_rad(zbins, alphas, eigenvectors, Omh2, Om, Ok, ORhh)) + cmag * z_more[0]\n",
    "            \n",
    "        "
   ]
  },
  {
   "cell_type": "code",
   "execution_count": 58,
   "id": "436bd35d-dfc2-4619-af01-997a3737c3e4",
   "metadata": {},
   "outputs": [
    {
     "name": "stdout",
     "output_type": "stream",
     "text": [
      "compt time: 0.0002803802490234375\n"
     ]
    },
    {
     "data": {
      "text/plain": [
       "2110.7899927073213"
      ]
     },
     "execution_count": 58,
     "metadata": {},
     "output_type": "execute_result"
    }
   ],
   "source": [
    "## Testing\n",
    "start_time = time.time()\n",
    "x = comov_dist_rad_fast(0.5, testbins, testalp, testvecs, 0.24*0.73**2, 0.24, 0, ORhh)\n",
    "end_time = time.time()\n",
    "print(\"compt time:\", end_time - start_time)\n",
    "x"
   ]
  },
  {
   "cell_type": "markdown",
   "id": "1a4d2011-5204-45b4-89f3-8cb37e4e9898",
   "metadata": {},
   "source": [
    "- The $D_a$ function below works correctly only for redshift values z that are larger than the range covered by the SN measurements i.e. larger than $z_{max}$ in $z_{bins}$. However, since I only care about the $z_{rec}$ distance, this is not a problem."
   ]
  },
  {
   "cell_type": "code",
   "execution_count": 59,
   "id": "6ffbac25-c7b6-4cb5-8c47-751a7dc6ab5d",
   "metadata": {},
   "outputs": [],
   "source": [
    "## This function returns the angular distance for redshift z. \n",
    "## NOTE: This works for z > zbins interval, but since I am interested in zrec that is okay.\n",
    "def angular_dist(z, zbins, alphas, eigenvectors, Omh2, Om, Ok, ORhh):\n",
    "\n",
    "    h2 = Omh2 / Om\n",
    "    comov_dist = comov_dist_rad_fast(z,zbins, alphas, eigenvectors, Omh2, Om, Ok, ORhh)\n",
    "    \n",
    "    if Ok > 0 :\n",
    "        return  cmag / ((1 + z ) * 100 * h2 * np.sqrt(np.abs(Ok))) * np.sinh( (1/cmag) * np.sqrt(Ok) * 100 * h2 * comov_dist )   \n",
    "    \n",
    "    elif Ok < 0 :\n",
    "        return cmag / ((1 + z ) * 100 * h2 * np.sqrt(np.abs(Ok))) * np.sin((1/cmag) * np.sqrt(-Ok) * 100 * h2 * comov_dist )\n",
    "        \n",
    "    elif Ok == 0:\n",
    "        return comov_dist / ( 1 + z)\n",
    "        "
   ]
  },
  {
   "cell_type": "code",
   "execution_count": 60,
   "id": "385a157f-40ab-49f4-b4f7-3a12371fc1e9",
   "metadata": {},
   "outputs": [
    {
     "name": "stdout",
     "output_type": "stream",
     "text": [
      "compt time: 0.0012593269348144531\n"
     ]
    },
    {
     "data": {
      "text/plain": [
       "13.878619434499338"
      ]
     },
     "execution_count": 60,
     "metadata": {},
     "output_type": "execute_result"
    }
   ],
   "source": [
    "## Testing\n",
    "start_time = time.time()\n",
    "x = angular_dist(1090, testbins, testalp, testvecs, 0.24 * 0.73 **2, 0.24, 0, ORhh)\n",
    "end_time = time.time()\n",
    "print(\"compt time:\", end_time - start_time)\n",
    "x"
   ]
  },
  {
   "cell_type": "code",
   "execution_count": 61,
   "id": "e8a3cb3b-e8ae-4278-91f6-0b835d9d4ee1",
   "metadata": {},
   "outputs": [],
   "source": [
    "def ln_angular_dist(z,zbins, alphas, eigenvectors, Omh2, Om, Ok, ORhh):\n",
    "    return np.log( angular_dist(z,zbins, alphas, eigenvectors, Omh2, Om, Ok, ORhh) )"
   ]
  },
  {
   "cell_type": "code",
   "execution_count": 62,
   "id": "acfaa2d1-5a5d-42ae-8f5d-037f23675b11",
   "metadata": {},
   "outputs": [
    {
     "name": "stdout",
     "output_type": "stream",
     "text": [
      "compt time: 0.0006644725799560547\n"
     ]
    },
    {
     "data": {
      "text/plain": [
       "2.630349485758503"
      ]
     },
     "execution_count": 62,
     "metadata": {},
     "output_type": "execute_result"
    }
   ],
   "source": [
    "## Testing\n",
    "start_time = time.time()\n",
    "x = ln_angular_dist(1090, testbins, testalp, testvecs, 0.24 * 0.73 **2, 0.24, 0, ORhh)\n",
    "end_time = time.time()\n",
    "print(\"compt time:\", end_time - start_time)\n",
    "x"
   ]
  },
  {
   "cell_type": "markdown",
   "id": "ce9f0971-4cfa-4607-ad35-a5e9fdb15c99",
   "metadata": {},
   "source": [
    "# CMB $\\chi^2$ definition"
   ]
  },
  {
   "cell_type": "code",
   "execution_count": 63,
   "id": "5fa64f20-7eab-4b1e-b888-71935804ceca",
   "metadata": {
    "scrolled": true
   },
   "outputs": [],
   "source": [
    "## Fiducial model angluar distance to z_rec\n",
    "alphas_fid = np.array([0] * len(eigenvectors))\n",
    "lnd_angular_rec_fid = ln_angular_dist(zrec, zbins, alphas_fid, eigenvectors, 0.24 * 0.73**2, 0.24, 0.0, ORhh)"
   ]
  },
  {
   "cell_type": "code",
   "execution_count": 64,
   "id": "8a3ded34-25a1-4758-8521-057d320bb035",
   "metadata": {},
   "outputs": [],
   "source": [
    "# CMB contribution to χ^2\n",
    "\n",
    "def chi_squared_cmb(alphas, eigenvectors, invCMBCov, lnd_ang_rec_fid, Omh2, Om, Ok, ORhh):\n",
    "    zrec = 1090\n",
    "    Omh2_fid = 0.24 * 0.73 ** 2\n",
    "    diff1 = ln_angular_dist(zrec, zbins, alphas, eigenvectors, Omh2, Om, Ok, ORhh) - lnd_ang_rec_fid \n",
    "    diff2 = Omh2 - Omh2_fid\n",
    "    \n",
    "\n",
    "    vec = np.array([diff1, diff2])\n",
    "    return np.matmul( np.matmul(vec,invCMBCov), vec)   \n"
   ]
  },
  {
   "cell_type": "markdown",
   "id": "cd4a0352-7681-4faf-9e36-f934919762a3",
   "metadata": {},
   "source": [
    "# Priors"
   ]
  },
  {
   "cell_type": "markdown",
   "id": "3f110fa6-190d-4b7c-9654-d427c722325a",
   "metadata": {},
   "source": [
    "- Refer to equation (A8) from Mortonson et al 0810.1744"
   ]
  },
  {
   "cell_type": "code",
   "execution_count": 65,
   "id": "73683105-ea00-4f62-ad24-415f22fd47ea",
   "metadata": {},
   "outputs": [],
   "source": [
    "# Angular distance to z=0.35 in the fiducial model\n",
    "ln_angular_0p35_fid = ln_angular_dist(0.35, zbins, alphas_fid, eigenvectors, 0.24 * 0.73 ** 2, 0.24, 0.0, ORhh)\n"
   ]
  },
  {
   "cell_type": "markdown",
   "id": "7adf6dfe-c363-4bf2-81ff-fbcfbce7764e",
   "metadata": {},
   "source": [
    "For the theory prior below, I can rewrite equation (A10) as:\n",
    "\n",
    "$ \\alpha_i^{\\pm} = \\frac{1}{2N_{z,PC}} \\left[ \\left( w_{min} + w_{max} - 2 w_{fid} \\right) \\sum_{j=1}^{N_{z,PC}} e_i (z_j) \\pm \\left( w_{max} - w_{min} \\right) \\sum_{j=1}^{N_{z,PC}} \\lvert e_i (z_j) \\rvert \\right]$.\n",
    "\n",
    "Taking advangate of that, I first calculate the two sums, then weigh the arrays appropriately and sum/take the difference."
   ]
  },
  {
   "cell_type": "code",
   "execution_count": 66,
   "id": "e764962d-ec6f-417a-a53f-5998b6489ea0",
   "metadata": {},
   "outputs": [],
   "source": [
    "## In order to define the correct prior for the PC amplitudes, I need to define the allowed min and max values for each alpha_i.\n",
    "## I can do that outside of the function that I will write below since these things do not change with each random step that the MCMC makes\n",
    "\n",
    "# Theoretical limits on DE\n",
    "wfid = -1\n",
    "# Quintessence\n",
    "wmin, wmax = -1, 1\n",
    "# Smooth DE\n",
    "# wmin, wmax = -5, 3\n",
    "weight1 = wmin + wmax - 2 * wfid\n",
    "weight2 = wmax - wmin \n",
    "\n",
    "# First I need to calculate each of the two relevant sums in the eq (A10)\n",
    "first_sum = np.sum(eigenvectors, axis=1)\n",
    "second_sum = np.sum(np.abs(eigenvectors), axis=1)\n",
    "\n",
    "## Nz is the number of z bins I used \n",
    "Nz = 500\n",
    "\n",
    "# alpha_max and alpha_min are two arrays that are storing the max and min value of the amplitudes alpha_i \n",
    "alpha_max = ( 1 / (2*Nz)) * ( weight1 * first_sum + weight2 * second_sum)\n",
    "alpha_min = ( 1 / (2*Nz)) * ( weight1 * first_sum - weight2 * second_sum)"
   ]
  },
  {
   "cell_type": "code",
   "execution_count": 67,
   "id": "8b3f2e45-5349-4a65-9a26-d3cf59d466d5",
   "metadata": {},
   "outputs": [],
   "source": [
    "# h prior \n",
    "\n",
    "def chi_squared_prior(Nz, eigenvectors, eigenvectorsNc, alphas, alpha_max, alpha_min, zbins, Omh2, Om, Ok, ORhh, ln_angular_0p35_fid):\n",
    "\n",
    "    # Amplitudes prior \n",
    "    # Theoretical limits on DE\n",
    "    # wfid = -1\n",
    "    # # Quintessense \n",
    "    # wmin, wmax = -1, 1\n",
    "    # # Smooth DE\n",
    "    # # wmin, wmax = -5, 3\n",
    "\n",
    "    # weight1 = wmin + wmax - 2 * wfid\n",
    "    # weight2 = wmax - wmin \n",
    "\n",
    "    # # First I need to calculate each of the two relevant sums in the eq (A10)\n",
    "    # first_sum = np.sum(eigenvectors, axis=1)\n",
    "    # second_sum = np.sum(np.abs(eigenvectors), axis=1)\n",
    "    \n",
    "    # # alpha_max and alpha_min are two arrays that are storing the max and min value of the amplitudes alpha_i \n",
    "    # alpha_max = ( 1 / (2*Nz)) * ( weight1 * first_sum + weight2 * second_sum)\n",
    "    # alpha_min = ( 1 / (2*Nz)) * ( weight1 * first_sum - weight2 * second_sum)\n",
    "\n",
    "    # Top hat prior on the amplitudes.\n",
    "    # Here I have assumed that I am only intrested in the first 15 alphas i.e. I only want to keep the first 15 eigenfunctions. \n",
    "    # ## NOTE: Be very careful with the definition of the if not statement! \n",
    "    # if  not (np.all(alphas < alpha_max[:2]) and not np.all(alphas > alpha_min[:2])):\n",
    "    #     return - np.inf\n",
    "    if np.any(alphas < alpha_min[:5]) or np.any(alphas > alpha_max[:5]):\n",
    "        return -np.inf\n",
    "    \n",
    "    # h prior\n",
    "    sigma_h = 0.08\n",
    "    h_prior = -0.5 * ( np.sqrt(Omh2 / Om) - 0.73) ** 2 / sigma_h ** 2\n",
    "    \n",
    "    # BAO prior\n",
    "    sigma_bao = 0.037\n",
    "    bao_prior = -0.5 * ( ln_angular_dist(0.35, zbins, alphas, eigenvectorsNc, Omh2, Om, Ok, ORhh) - ln_angular_0p35_fid ) ** 2 / sigma_bao ** 2\n",
    "    \n",
    "    # WMAP prior on DE\n",
    "    sigma_de = 0.025\n",
    "    de_prior = - 0.5 * ( (1 - Om - Ok) - (1 - 0.24)) ** 2 / sigma_de ** 2\n",
    "    \n",
    "    # out = h_prior + bao_prior + de_prior\n",
    "    # if (out < 0  and out > -0.05) or out > 10**5:\n",
    "    #     print(h_prior, bao_prior, de_prior)\n",
    "    \n",
    "    return h_prior + bao_prior + de_prior   \n",
    "    \n"
   ]
  },
  {
   "cell_type": "code",
   "execution_count": 68,
   "id": "9b698ede-b0a9-4055-8131-6a99642f2baa",
   "metadata": {},
   "outputs": [
    {
     "name": "stdout",
     "output_type": "stream",
     "text": [
      "compt time: 0.0003705024719238281\n"
     ]
    },
    {
     "data": {
      "text/plain": [
       "-inf"
      ]
     },
     "execution_count": 68,
     "metadata": {},
     "output_type": "execute_result"
    }
   ],
   "source": [
    "## Testing\n",
    "start_time = time.time()\n",
    "x = chi_squared_prior(5, testvecs, testvecs, testalp, alpha_max, alpha_min, testbins, 0.24*0.73*0.73, 0.24, 0, ORhh, ln_angular_0p35_fid)\n",
    "end_time = time.time()\n",
    "print(\"compt time:\", end_time - start_time)\n",
    "x"
   ]
  },
  {
   "cell_type": "markdown",
   "id": "75aafa83-0f2a-4ad5-896b-5a5ef72ab079",
   "metadata": {
    "tags": []
   },
   "source": [
    "# Function to Sample "
   ]
  },
  {
   "cell_type": "markdown",
   "id": "223a4c6e-e1a8-43fc-95c4-35f94b9a5d9a",
   "metadata": {},
   "source": [
    "- In order to calculate the $\\chi^2$ for SN I interpolate the eigenfunctions based on the finer z binning (N=850) and then I truncate it between the redshift values that I am interested in i.e. $z \\in [0.03,1.7]$. On the other hand, when I calculate the $\\chi^2$ for CMB I use all the available bins (no interpolation) plus the extra parts for $z < z_{bin}^{min}$ and $ z > z_{bin}^{max}$, since I am interested in the specific distance from recombination i.e. $z_{rec} \\simeq 1090$. Based on this, I think I can sum the two $\\chi^2$ and be correct."
   ]
  },
  {
   "cell_type": "markdown",
   "id": "bf9a126b-a7f8-4be0-84aa-d95641e4dd3a",
   "metadata": {},
   "source": [
    "- The parameters that are relevant and will sample from are (eq4 in ref): $\\theta_{base} = \\{ \\alpha_1, ..., \\alpha_{N_c}, \\Omega_m, \\Omega_m h^2 \\}$ with $N_c =15$."
   ]
  },
  {
   "cell_type": "code",
   "execution_count": 69,
   "id": "20ff8d89-bcdd-4683-b31b-f5d992d5ef63",
   "metadata": {},
   "outputs": [],
   "source": [
    "# In this function I need to define all the parameters I dont want to sample and leave inside \"theta\" the parameters I want to sample with my MCMC\n",
    "\n",
    "def lnprob(theta, Ok, zBinsFisher, eigenvectors, eigenvectorsNc, sigma_values, invCMBCov, lnd_ang_rec_fid,  ln_angular_0p35_fid, Nz):\n",
    "    alphaNc = theta[:2]  # Take first 15 variables in theta as alphaNc\n",
    "    Om, Omh2 = theta[2], theta[3]  # Remaining parameters\n",
    "    NNU = 3.04\n",
    "    TCMB = 2.725\n",
    "    OGhh = 4.4856e-7 * TCMB ** 4\n",
    "    ONhh = 1.0187e-7 * NNU * TCMB ** 4\n",
    "    ORhh = ONhh + OGhh\n",
    "    \n",
    "    if Om < 0 or Om > 0.4 or Omh2 < (ORhh * Om) / (1 - Om) :\n",
    "        return -np.inf\n",
    "    \n",
    "    H0 = np.sqrt( Omh2 / Om )\n",
    "    \n",
    "    # # out = chi_squared_prior(Nz, eigenvectors, eigenvectorsNc,  alphaNc, zBinsFisher, Omh2, Om, Ok, ORhh, ln_angular_0p35_fid) \n",
    "    # # if out < -10**5:\n",
    "    # #     print(out)    \n",
    "    \n",
    "    return chi_squared_prior(Nz, eigenvectors, eigenvectorsNc,  alphaNc, zBinsFisher, Omh2, Om, Ok, ORhh, ln_angular_0p35_fid) \n",
    "\n",
    "    # return - 0.5 * ( chi_squared_sn(alphaNc, Om, Omh2, Ok, zBinsFisher, eigenvectorsNc, sigma2_values) +  \n",
    "    #                 chi_squared_cmb(alphaNc, eigenvectorsNc, invCMBCov, lnd_ang_rec_fid, Omh2, Om, Ok, ORhh)) \n",
    "\n",
    "    # return - 0.5 * ( chi_squared_sn(alphaNc, Om, Omh2, Ok, zBinsFisher, eigenvectorsNc, sigma2_values) +  \n",
    "    #                 chi_squared_cmb(alphaNc, eigenvectorsNc, invCMBCov, lnd_ang_rec_fid, Omh2, Om, Ok, ORhh)) + chi_squared_prior(Nz, eigenvectors, eigenvectorsNc,  alphaNc, zBinsFisher, Omh2, Om, Ok, ORhh, ln_angular_0p35_fid) \n"
   ]
  },
  {
   "cell_type": "markdown",
   "id": "0781127b-8f0d-49e0-a207-b3cb9c929f64",
   "metadata": {
    "tags": []
   },
   "source": [
    "# MCMC set up "
   ]
  },
  {
   "cell_type": "code",
   "execution_count": 70,
   "id": "32c7e87f-0675-47f7-b075-0874c55668bd",
   "metadata": {},
   "outputs": [],
   "source": [
    "# nwalkers = 64\n",
    "# ndim = 17\n",
    "# # fiducial model = [{amp}, Om, Omh2]\n",
    "# amps_fid = np.array([0]*15)\n",
    "# fiducial = np.concatenate([amps_fid, [0.24, 0.24*0.73**2]])\n",
    "# p0 = [fiducial + 1e-3 * np.random.randn(ndim) for i in range(nwalkers)]\n",
    "# #p0 = [fiducial + np.concatenate((1e-1 * np.random.randn(2), 1e-3 * np.random.randn(2))) for i in range(nwalkers)]"
   ]
  },
  {
   "cell_type": "code",
   "execution_count": 71,
   "id": "5ee968ed-83fc-42ca-8e46-02036b77e3a8",
   "metadata": {},
   "outputs": [],
   "source": [
    "nwalkers = 15\n",
    "ndim = 4\n",
    "# fiducial model = [{amp}, Om, Omh2]\n",
    "amps_fid = np.array([0]*2)\n",
    "fiducial = np.concatenate([amps_fid, [0.24, 0.24*0.73**2]])\n",
    "\n",
    "# Generate the initial guesses in a ball around the fiducial model\n",
    "# Add noise using random numbers from  0.1 * (-1,1)\n",
    "p0 = [ fiducial + np.concatenate(((alpha_min[:2] * 1e-2 * np.abs(2*np.random.rand(2) - 1)), 0.1*(2*np.random.rand(2) - 1))) for i in range(nwalkers)]\n",
    "\n"
   ]
  },
  {
   "cell_type": "code",
   "execution_count": 72,
   "id": "f3a20003-7561-44df-9538-54f0daeb94af",
   "metadata": {},
   "outputs": [
    {
     "data": {
      "text/plain": [
       "array([-3.94843788e-04, -2.62609795e-04,  2.87890955e-01,  2.24914605e-01])"
      ]
     },
     "execution_count": 72,
     "metadata": {},
     "output_type": "execute_result"
    }
   ],
   "source": [
    "p0[0]"
   ]
  },
  {
   "cell_type": "code",
   "execution_count": 73,
   "id": "491d86b7-a523-4180-8251-9165d95aa14d",
   "metadata": {},
   "outputs": [
    {
     "ename": "NameError",
     "evalue": "name 'eigenvectors15' is not defined",
     "output_type": "error",
     "traceback": [
      "\u001b[0;31m---------------------------------------------------------------------------\u001b[0m",
      "\u001b[0;31mNameError\u001b[0m                                 Traceback (most recent call last)",
      "Cell \u001b[0;32mIn[73], line 1\u001b[0m\n\u001b[0;32m----> 1\u001b[0m lnprob(p0[\u001b[38;5;241m0\u001b[39m], \u001b[38;5;241m0.0\u001b[39m, zBinsFisher, eigenvectors, \u001b[43meigenvectors15\u001b[49m, sigma2_values, invCMBCov, lnd_angular_rec_fid , ln_angular_0p35_fid, \u001b[38;5;241m500\u001b[39m)\n",
      "\u001b[0;31mNameError\u001b[0m: name 'eigenvectors15' is not defined"
     ]
    }
   ],
   "source": [
    "lnprob(p0[0], 0.0, zBinsFisher, eigenvectors, eigenvectors15, sigma2_values, invCMBCov, lnd_angular_rec_fid , ln_angular_0p35_fid, 500)"
   ]
  },
  {
   "cell_type": "markdown",
   "id": "539285e6-88da-4474-8281-a9fdb2b276cc",
   "metadata": {},
   "source": [
    "- Set up the backend so that I can save the chains\n",
    "- Don't forget to clear the file in case it already exists"
   ]
  },
  {
   "cell_type": "code",
   "execution_count": 74,
   "id": "a4ea87c6-45ff-40a0-9411-2d140f3216a9",
   "metadata": {},
   "outputs": [],
   "source": [
    "#filename = \"2troubleshooting_MCMC.h5\"\n",
    "filename = \"OptimizingMCMC_trial.h5\"\n",
    "backend = emcee.backends.HDFBackend(filename)\n",
    "backend.reset(nwalkers, ndim)\n"
   ]
  },
  {
   "cell_type": "code",
   "execution_count": 75,
   "id": "863e8eb3-d883-447b-a804-a814b4b5b873",
   "metadata": {},
   "outputs": [],
   "source": [
    "## I will only use the 15 first eigenvectors\n",
    "\n",
    "eigenvectors15 = eigenvectors[:2, ::]"
   ]
  },
  {
   "cell_type": "code",
   "execution_count": 86,
   "id": "ff5d234b-5c22-4568-a295-b11dc9b44325",
   "metadata": {},
   "outputs": [],
   "source": [
    "# Initialize the sampler\n",
    "sampler = emcee.EnsembleSampler(nwalkers, ndim, lnprob, args=[0.0, zBinsFisher, eigenvectors, eigenvectors15, sigma2_values, \n",
    "                                                              invCMBCov, lnd_angular_rec_fid , ln_angular_0p35_fid, 500], backend=backend)\n"
   ]
  },
  {
   "cell_type": "code",
   "execution_count": 87,
   "id": "2e2e3de8-069e-4cc2-8e2e-c6351c344fe2",
   "metadata": {
    "scrolled": true,
    "tags": []
   },
   "outputs": [
    {
     "name": "stdout",
     "output_type": "stream",
     "text": [
      "emcee: Exception while calling your likelihood function:\n",
      "  params: [-1.24587615e-04 -4.31222334e-04  2.65044845e-01  2.23178266e-01]\n",
      "  args: [0.0, array([0.0334    , 0.03673988, 0.04007976, 0.04341964, 0.04675952,\n",
      "       0.0500994 , 0.05343928, 0.05677916, 0.06011904, 0.06345892,\n",
      "       0.0667988 , 0.07013868, 0.07347856, 0.07681844, 0.08015832,\n",
      "       0.0834982 , 0.08683808, 0.09017796, 0.09351784, 0.09685772,\n",
      "       0.1001976 , 0.10353747, 0.10687735, 0.11021723, 0.11355711,\n",
      "       0.11689699, 0.12023687, 0.12357675, 0.12691663, 0.13025651,\n",
      "       0.13359639, 0.13693627, 0.14027615, 0.14361603, 0.14695591,\n",
      "       0.15029579, 0.15363567, 0.15697555, 0.16031543, 0.16365531,\n",
      "       0.16699519, 0.17033507, 0.17367495, 0.17701483, 0.18035471,\n",
      "       0.18369459, 0.18703447, 0.19037435, 0.19371423, 0.19705411,\n",
      "       0.20039399, 0.20373387, 0.20707375, 0.21041363, 0.21375351,\n",
      "       0.21709339, 0.22043327, 0.22377315, 0.22711303, 0.23045291,\n",
      "       0.23379279, 0.23713267, 0.24047255, 0.24381242, 0.2471523 ,\n",
      "       0.25049218, 0.25383206, 0.25717194, 0.26051182, 0.2638517 ,\n",
      "       0.26719158, 0.27053146, 0.27387134, 0.27721122, 0.2805511 ,\n",
      "       0.28389098, 0.28723086, 0.29057074, 0.29391062, 0.2972505 ,\n",
      "       0.30059038, 0.30393026, 0.30727014, 0.31061002, 0.3139499 ,\n",
      "       0.31728978, 0.32062966, 0.32396954, 0.32730942, 0.3306493 ,\n",
      "       0.33398918, 0.33732906, 0.34066894, 0.34400882, 0.3473487 ,\n",
      "       0.35068858, 0.35402846, 0.35736834, 0.36070822, 0.3640481 ,\n",
      "       0.36738798, 0.37072786, 0.37406774, 0.37740762, 0.38074749,\n",
      "       0.38408737, 0.38742725, 0.39076713, 0.39410701, 0.39744689,\n",
      "       0.40078677, 0.40412665, 0.40746653, 0.41080641, 0.41414629,\n",
      "       0.41748617, 0.42082605, 0.42416593, 0.42750581, 0.43084569,\n",
      "       0.43418557, 0.43752545, 0.44086533, 0.44420521, 0.44754509,\n",
      "       0.45088497, 0.45422485, 0.45756473, 0.46090461, 0.46424449,\n",
      "       0.46758437, 0.47092425, 0.47426413, 0.47760401, 0.48094389,\n",
      "       0.48428377, 0.48762365, 0.49096353, 0.49430341, 0.49764329,\n",
      "       0.50098317, 0.50432305, 0.50766293, 0.51100281, 0.51434269,\n",
      "       0.51768257, 0.52102244, 0.52436232, 0.5277022 , 0.53104208,\n",
      "       0.53438196, 0.53772184, 0.54106172, 0.5444016 , 0.54774148,\n",
      "       0.55108136, 0.55442124, 0.55776112, 0.561101  , 0.56444088,\n",
      "       0.56778076, 0.57112064, 0.57446052, 0.5778004 , 0.58114028,\n",
      "       0.58448016, 0.58782004, 0.59115992, 0.5944998 , 0.59783968,\n",
      "       0.60117956, 0.60451944, 0.60785932, 0.6111992 , 0.61453908,\n",
      "       0.61787896, 0.62121884, 0.62455872, 0.6278986 , 0.63123848,\n",
      "       0.63457836, 0.63791824, 0.64125812, 0.644598  , 0.64793788,\n",
      "       0.65127776, 0.65461764, 0.65795752, 0.66129739, 0.66463727,\n",
      "       0.66797715, 0.67131703, 0.67465691, 0.67799679, 0.68133667,\n",
      "       0.68467655, 0.68801643, 0.69135631, 0.69469619, 0.69803607,\n",
      "       0.70137595, 0.70471583, 0.70805571, 0.71139559, 0.71473547,\n",
      "       0.71807535, 0.72141523, 0.72475511, 0.72809499, 0.73143487,\n",
      "       0.73477475, 0.73811463, 0.74145451, 0.74479439, 0.74813427,\n",
      "       0.75147415, 0.75481403, 0.75815391, 0.76149379, 0.76483367,\n",
      "       0.76817355, 0.77151343, 0.77485331, 0.77819319, 0.78153307,\n",
      "       0.78487295, 0.78821283, 0.79155271, 0.79489259, 0.79823246,\n",
      "       0.80157234, 0.80491222, 0.8082521 , 0.81159198, 0.81493186,\n",
      "       0.81827174, 0.82161162, 0.8249515 , 0.82829138, 0.83163126,\n",
      "       0.83497114, 0.83831102, 0.8416509 , 0.84499078, 0.84833066,\n",
      "       0.85167054, 0.85501042, 0.8583503 , 0.86169018, 0.86503006,\n",
      "       0.86836994, 0.87170982, 0.8750497 , 0.87838958, 0.88172946,\n",
      "       0.88506934, 0.88840922, 0.8917491 , 0.89508898, 0.89842886,\n",
      "       0.90176874, 0.90510862, 0.9084485 , 0.91178838, 0.91512826,\n",
      "       0.91846814, 0.92180802, 0.9251479 , 0.92848778, 0.93182766,\n",
      "       0.93516754, 0.93850741, 0.94184729, 0.94518717, 0.94852705,\n",
      "       0.95186693, 0.95520681, 0.95854669, 0.96188657, 0.96522645,\n",
      "       0.96856633, 0.97190621, 0.97524609, 0.97858597, 0.98192585,\n",
      "       0.98526573, 0.98860561, 0.99194549, 0.99528537, 0.99862525,\n",
      "       1.00196513, 1.00530501, 1.00864489, 1.01198477, 1.01532465,\n",
      "       1.01866453, 1.02200441, 1.02534429, 1.02868417, 1.03202405,\n",
      "       1.03536393, 1.03870381, 1.04204369, 1.04538357, 1.04872345,\n",
      "       1.05206333, 1.05540321, 1.05874309, 1.06208297, 1.06542285,\n",
      "       1.06876273, 1.07210261, 1.07544248, 1.07878236, 1.08212224,\n",
      "       1.08546212, 1.088802  , 1.09214188, 1.09548176, 1.09882164,\n",
      "       1.10216152, 1.1055014 , 1.10884128, 1.11218116, 1.11552104,\n",
      "       1.11886092, 1.1222008 , 1.12554068, 1.12888056, 1.13222044,\n",
      "       1.13556032, 1.1389002 , 1.14224008, 1.14557996, 1.14891984,\n",
      "       1.15225972, 1.1555996 , 1.15893948, 1.16227936, 1.16561924,\n",
      "       1.16895912, 1.172299  , 1.17563888, 1.17897876, 1.18231864,\n",
      "       1.18565852, 1.1889984 , 1.19233828, 1.19567816, 1.19901804,\n",
      "       1.20235792, 1.2056978 , 1.20903768, 1.21237756, 1.21571743,\n",
      "       1.21905731, 1.22239719, 1.22573707, 1.22907695, 1.23241683,\n",
      "       1.23575671, 1.23909659, 1.24243647, 1.24577635, 1.24911623,\n",
      "       1.25245611, 1.25579599, 1.25913587, 1.26247575, 1.26581563,\n",
      "       1.26915551, 1.27249539, 1.27583527, 1.27917515, 1.28251503,\n",
      "       1.28585491, 1.28919479, 1.29253467, 1.29587455, 1.29921443,\n",
      "       1.30255431, 1.30589419, 1.30923407, 1.31257395, 1.31591383,\n",
      "       1.31925371, 1.32259359, 1.32593347, 1.32927335, 1.33261323,\n",
      "       1.33595311, 1.33929299, 1.34263287, 1.34597275, 1.34931263,\n",
      "       1.35265251, 1.35599238, 1.35933226, 1.36267214, 1.36601202,\n",
      "       1.3693519 , 1.37269178, 1.37603166, 1.37937154, 1.38271142,\n",
      "       1.3860513 , 1.38939118, 1.39273106, 1.39607094, 1.39941082,\n",
      "       1.4027507 , 1.40609058, 1.40943046, 1.41277034, 1.41611022,\n",
      "       1.4194501 , 1.42278998, 1.42612986, 1.42946974, 1.43280962,\n",
      "       1.4361495 , 1.43948938, 1.44282926, 1.44616914, 1.44950902,\n",
      "       1.4528489 , 1.45618878, 1.45952866, 1.46286854, 1.46620842,\n",
      "       1.4695483 , 1.47288818, 1.47622806, 1.47956794, 1.48290782,\n",
      "       1.4862477 , 1.48958758, 1.49292745, 1.49626733, 1.49960721,\n",
      "       1.50294709, 1.50628697, 1.50962685, 1.51296673, 1.51630661,\n",
      "       1.51964649, 1.52298637, 1.52632625, 1.52966613, 1.53300601,\n",
      "       1.53634589, 1.53968577, 1.54302565, 1.54636553, 1.54970541,\n",
      "       1.55304529, 1.55638517, 1.55972505, 1.56306493, 1.56640481,\n",
      "       1.56974469, 1.57308457, 1.57642445, 1.57976433, 1.58310421,\n",
      "       1.58644409, 1.58978397, 1.59312385, 1.59646373, 1.59980361,\n",
      "       1.60314349, 1.60648337, 1.60982325, 1.61316313, 1.61650301,\n",
      "       1.61984289, 1.62318277, 1.62652265, 1.62986253, 1.6332024 ,\n",
      "       1.63654228, 1.63988216, 1.64322204, 1.64656192, 1.6499018 ,\n",
      "       1.65324168, 1.65658156, 1.65992144, 1.66326132, 1.6666012 ,\n",
      "       1.66994108, 1.67328096, 1.67662084, 1.67996072, 1.6833006 ,\n",
      "       1.68664048, 1.68998036, 1.69332024, 1.69666012, 1.7       ]), array([[-8.43081869e-02, -1.66618618e-01, -1.64035564e-01, ...,\n",
      "        -4.48082141e-04, -4.45781647e-04, -2.22028648e-04],\n",
      "       [ 1.59897720e-01,  3.02612600e-01,  2.79953942e-01, ...,\n",
      "        -1.93849223e-03, -1.92853984e-03, -9.60539975e-04],\n",
      "       [ 1.43652425e-01,  2.62543170e-01,  2.29481625e-01, ...,\n",
      "         4.02312800e-03,  4.00247290e-03,  1.99349536e-03],\n",
      "       ...,\n",
      "       [-1.43306493e-03, -5.70002824e-04,  4.32720640e-03, ...,\n",
      "         1.61023083e-01,  2.22590693e-03,  2.06559446e-01],\n",
      "       [-1.43266399e-03, -9.48732351e-05,  2.92471202e-03, ...,\n",
      "         3.49240011e-02, -3.16584888e-03,  0.00000000e+00],\n",
      "       [-1.55863607e-04, -5.67216787e-05,  4.55102625e-04, ...,\n",
      "         1.51489824e-02,  1.24844003e-03,  9.29151426e-01]]), array([[-8.43081869e-02, -1.66618618e-01, -1.64035564e-01,\n",
      "        -1.61485148e-01, -1.58891704e-01, -1.56357216e-01,\n",
      "        -1.53882263e-01, -1.51419662e-01, -1.48969270e-01,\n",
      "        -1.46613464e-01, -1.44326881e-01, -1.42055537e-01,\n",
      "        -1.39871572e-01, -1.37773836e-01, -1.35711962e-01,\n",
      "        -1.33699498e-01, -1.31773940e-01, -1.29906025e-01,\n",
      "        -1.28063908e-01, -1.26297654e-01, -1.24591258e-01,\n",
      "        -1.22914003e-01, -1.21286375e-01, -1.19718366e-01,\n",
      "        -1.18184692e-01, -1.16661868e-01, -1.15181074e-01,\n",
      "        -1.13730322e-01, -1.12286088e-01, -1.10867831e-01,\n",
      "        -1.09483201e-01, -1.08109588e-01, -1.06746383e-01,\n",
      "        -1.05414116e-01, -1.04099987e-01, -1.02788694e-01,\n",
      "        -1.01498297e-01, -1.00230981e-01, -9.89669282e-02,\n",
      "        -9.77125489e-02, -9.64818984e-02, -9.52601753e-02,\n",
      "        -9.40434996e-02, -9.28448203e-02, -9.16630693e-02,\n",
      "        -9.04853790e-02, -8.93188664e-02, -8.81732824e-02,\n",
      "        -8.70338732e-02, -8.59032529e-02, -8.47893591e-02,\n",
      "        -8.36884197e-02, -8.25942031e-02, -8.15112120e-02,\n",
      "        -8.04464384e-02, -7.93873677e-02, -7.83385936e-02,\n",
      "        -7.73056629e-02, -7.62820612e-02, -7.52681302e-02,\n",
      "        -7.42649311e-02, -7.32768375e-02, -7.22956011e-02,\n",
      "        -7.13248436e-02, -7.03684765e-02, -6.94198627e-02,\n",
      "        -6.84824801e-02, -6.75551962e-02, -6.66399220e-02,\n",
      "        -6.57337090e-02, -6.48370208e-02, -6.39531683e-02,\n",
      "        -6.30770175e-02, -6.22121856e-02, -6.13568812e-02,\n",
      "        -6.05115747e-02, -5.96766535e-02, -5.88504954e-02,\n",
      "        -5.80353799e-02, -5.72286921e-02, -5.64326426e-02,\n",
      "        -5.56456018e-02, -5.48673172e-02, -5.40998943e-02,\n",
      "        -5.33408079e-02, -5.25907099e-02, -5.18501266e-02,\n",
      "        -5.11193767e-02, -5.03965661e-02, -4.96822297e-02,\n",
      "        -4.89785416e-02, -4.82827370e-02, -4.75944425e-02,\n",
      "        -4.69161836e-02, -4.62473159e-02, -4.55846357e-02,\n",
      "        -4.49310176e-02, -4.42874184e-02, -4.36509308e-02,\n",
      "        -4.30211618e-02, -4.24014122e-02, -4.17908325e-02,\n",
      "        -4.11846023e-02, -4.05880194e-02, -4.00011108e-02,\n",
      "        -3.94196287e-02, -3.88450332e-02, -3.82802336e-02,\n",
      "        -3.77237591e-02, -3.71705631e-02, -3.66272903e-02,\n",
      "        -3.60934362e-02, -3.55628857e-02, -3.50401428e-02,\n",
      "        -3.45266918e-02, -3.40200509e-02, -3.35167231e-02,\n",
      "        -3.30230702e-02, -3.25382796e-02, -3.20553992e-02,\n",
      "        -3.15808036e-02, -3.11151669e-02, -3.06544980e-02,\n",
      "        -3.01977198e-02, -2.97502145e-02, -2.93105472e-02,\n",
      "        -2.88721360e-02, -2.84420498e-02, -2.80207985e-02,\n",
      "        -2.76026047e-02, -2.71888526e-02, -2.67843580e-02,\n",
      "        -2.63858897e-02, -2.59887386e-02, -2.55999967e-02,\n",
      "        -2.52191978e-02, -2.48403085e-02, -2.44662360e-02,\n",
      "        -2.41014630e-02, -2.37405573e-02, -2.33814863e-02,\n",
      "        -2.30310727e-02, -2.26868703e-02, -2.23443203e-02,\n",
      "        -2.20069758e-02, -2.16781611e-02, -2.13518732e-02,\n",
      "        -2.10278076e-02, -2.07127229e-02, -2.04016567e-02,\n",
      "        -2.00925730e-02, -1.97891753e-02, -1.94927652e-02,\n",
      "        -1.91983585e-02, -1.89066272e-02, -1.86234476e-02,\n",
      "        -1.83427088e-02, -1.80643593e-02, -1.77922070e-02,\n",
      "        -1.75249048e-02, -1.72598251e-02, -1.69979093e-02,\n",
      "        -1.67432637e-02, -1.64903965e-02, -1.62403032e-02,\n",
      "        -1.59962111e-02, -1.57553864e-02, -1.55171130e-02,\n",
      "        -1.52824170e-02, -1.50533375e-02, -1.48259716e-02,\n",
      "        -1.46017142e-02, -1.43827024e-02, -1.41660954e-02,\n",
      "        -1.39522252e-02, -1.37421761e-02, -1.35361374e-02,\n",
      "        -1.33319283e-02, -1.31313766e-02, -1.29347611e-02,\n",
      "        -1.27401398e-02, -1.25486800e-02, -1.23606426e-02,\n",
      "        -1.21754675e-02, -1.19924041e-02, -1.18133711e-02,\n",
      "        -1.16367129e-02, -1.14621137e-02, -1.12912524e-02,\n",
      "        -1.11226692e-02, -1.09564635e-02, -1.07928470e-02,\n",
      "        -1.06328033e-02, -1.04741887e-02, -1.03178113e-02,\n",
      "        -1.01655177e-02, -1.00141972e-02, -9.86517532e-03,\n",
      "        -9.71928434e-03, -9.57596894e-03, -9.43366488e-03,\n",
      "        -9.29393476e-03, -9.15804305e-03, -9.02219372e-03,\n",
      "        -8.88875889e-03, -8.75892748e-03, -8.63034957e-03,\n",
      "        -8.50279960e-03, -8.37831466e-03, -8.25677785e-03,\n",
      "        -8.13491435e-03, -8.01577884e-03, -7.90006133e-03,\n",
      "        -7.78468058e-03, -7.67055686e-03, -7.55983045e-03,\n",
      "        -7.45094156e-03, -7.34177938e-03, -7.23561518e-03,\n",
      "        -7.13230119e-03, -7.02883884e-03, -6.92688312e-03,\n",
      "        -6.82829244e-03, -6.73069023e-03, -6.63288531e-03,\n",
      "        -6.53846549e-03, -6.44602040e-03, -6.35318341e-03,\n",
      "        -6.26227075e-03, -6.17433182e-03, -6.08670783e-03,\n",
      "        -5.99922382e-03, -5.91521022e-03, -5.83229546e-03,\n",
      "        -5.74900266e-03, -5.66815890e-03, -5.58942525e-03,\n",
      "        -5.51075245e-03, -5.43270335e-03, -5.35772494e-03,\n",
      "        -5.28328012e-03, -5.20870117e-03, -5.13672411e-03,\n",
      "        -5.06611240e-03, -4.99549973e-03, -4.92599356e-03,\n",
      "        -4.85889253e-03, -4.79202689e-03, -4.72538089e-03,\n",
      "        -4.66116287e-03, -4.59774108e-03, -4.53443861e-03,\n",
      "        -4.47254566e-03, -4.41233353e-03, -4.35225921e-03,\n",
      "        -4.29285604e-03, -4.23535575e-03, -4.17832079e-03,\n",
      "        -4.12174163e-03, -4.06644014e-03, -4.01232929e-03,\n",
      "        -3.95845103e-03, -3.90546440e-03, -3.85384530e-03,\n",
      "        -3.80257611e-03, -3.75207413e-03, -3.70251927e-03,\n",
      "        -3.65385313e-03, -3.60562043e-03, -3.55822411e-03,\n",
      "        -3.51185186e-03, -3.46576357e-03, -3.42071977e-03,\n",
      "        -3.37622034e-03, -3.33239469e-03, -3.28931434e-03,\n",
      "        -3.24682161e-03, -3.20506933e-03, -3.16373901e-03,\n",
      "        -3.12348016e-03, -3.08343144e-03, -3.04396343e-03,\n",
      "        -3.00556643e-03, -2.96731860e-03, -2.92967396e-03,\n",
      "        -2.89272029e-03, -2.85659448e-03, -2.82048547e-03,\n",
      "        -2.78503223e-03, -2.75069938e-03, -2.71620637e-03,\n",
      "        -2.68226028e-03, -2.64927149e-03, -2.61674169e-03,\n",
      "        -2.58412621e-03, -2.55236094e-03, -2.52155515e-03,\n",
      "        -2.49038826e-03, -2.45983310e-03, -2.43031919e-03,\n",
      "        -2.40096002e-03, -2.37147601e-03, -2.34308694e-03,\n",
      "        -2.31533654e-03, -2.28711364e-03, -2.25969837e-03,\n",
      "        -2.23318700e-03, -2.20663786e-03, -2.18004091e-03,\n",
      "        -2.15460967e-03, -2.12955894e-03, -2.10398019e-03,\n",
      "        -2.07943856e-03, -2.05553296e-03, -2.03148984e-03,\n",
      "        -2.00755245e-03, -1.98468916e-03, -1.96204701e-03,\n",
      "        -1.93888374e-03, -1.91688909e-03, -1.89529819e-03,\n",
      "        -1.87347669e-03, -1.85199193e-03, -1.83137116e-03,\n",
      "        -1.81086011e-03, -1.78993254e-03, -1.77016380e-03,\n",
      "        -1.75062421e-03, -1.73082652e-03, -1.71155255e-03,\n",
      "        -1.69290062e-03, -1.67427743e-03, -1.65543275e-03,\n",
      "        -1.63759427e-03, -1.61987346e-03, -1.60196395e-03,\n",
      "        -1.58461157e-03, -1.56771304e-03, -1.55080371e-03,\n",
      "        -1.53384911e-03, -1.51770200e-03, -1.50159870e-03,\n",
      "        -1.48544753e-03, -1.46976518e-03, -1.45442626e-03,\n",
      "        -1.43910661e-03, -1.42381739e-03, -1.40917406e-03,\n",
      "        -1.39452453e-03, -1.37998872e-03, -1.36576602e-03,\n",
      "        -1.35181377e-03, -1.33798017e-03, -1.32413895e-03,\n",
      "        -1.31083390e-03, -1.29754327e-03, -1.28441614e-03,\n",
      "        -1.27150105e-03, -1.25879137e-03, -1.24633120e-03,\n",
      "        -1.23375347e-03, -1.22164299e-03, -1.20962185e-03,\n",
      "        -1.19771735e-03, -1.18597438e-03, -1.17441691e-03,\n",
      "        -1.16316163e-03, -1.15172009e-03, -1.14067413e-03,\n",
      "        -1.12983257e-03, -1.11899737e-03, -1.10829904e-03,\n",
      "        -1.09781868e-03, -1.08761586e-03, -1.07719418e-03,\n",
      "        -1.06712416e-03, -1.05733530e-03, -1.04745576e-03,\n",
      "        -1.03768533e-03, -1.02821816e-03, -1.01893068e-03,\n",
      "        -1.00941621e-03, -1.00026616e-03, -9.91395330e-04,\n",
      "        -9.82373344e-04, -9.73451850e-04, -9.64897237e-04,\n",
      "        -9.56421023e-04, -9.47716840e-04, -9.39434806e-04,\n",
      "        -9.31359729e-04, -9.23104505e-04, -9.14981793e-04,\n",
      "        -9.07221928e-04, -8.99477032e-04, -8.91510670e-04,\n",
      "        -8.84016681e-04, -8.76645573e-04, -8.69074543e-04,\n",
      "        -8.61705427e-04, -8.54635754e-04, -8.47547024e-04,\n",
      "        -8.40269223e-04, -8.33465787e-04, -8.26727958e-04,\n",
      "        -8.19776760e-04, -8.13100280e-04, -8.06637240e-04,\n",
      "        -8.00133541e-04, -7.93507568e-04, -7.87302781e-04,\n",
      "        -7.81136121e-04, -7.74761205e-04, -7.68692862e-04,\n",
      "        -7.62777546e-04, -7.56801773e-04, -7.50778770e-04,\n",
      "        -7.45099938e-04, -7.39444543e-04, -7.33611417e-04,\n",
      "        -7.28075309e-04, -7.22654940e-04, -7.17165346e-04,\n",
      "        -7.11677787e-04, -7.06473983e-04, -7.01274000e-04,\n",
      "        -6.95950540e-04, -6.90881391e-04, -6.85902140e-04,\n",
      "        -6.80869462e-04, -6.75853673e-04, -6.71075812e-04,\n",
      "        -6.66296879e-04, -6.61428556e-04, -6.56777291e-04,\n",
      "        -6.52191776e-04, -6.47593213e-04, -6.42987548e-04,\n",
      "        -6.38593093e-04, -6.34207814e-04, -6.29739159e-04,\n",
      "        -6.25465435e-04, -6.21243349e-04, -6.17032290e-04,\n",
      "        -6.12795521e-04, -6.08743182e-04, -6.04730744e-04,\n",
      "        -6.00611349e-04, -5.96678388e-04, -5.92793437e-04,\n",
      "        -5.88925089e-04, -5.85021911e-04, -5.81282663e-04,\n",
      "        -5.77607789e-04, -5.73800630e-04, -5.70172306e-04,\n",
      "        -5.66606767e-04, -5.63037400e-04, -5.59435866e-04,\n",
      "        -5.55988072e-04, -5.52610300e-04, -5.49086142e-04,\n",
      "        -5.45736270e-04, -5.42460851e-04, -5.39157995e-04,\n",
      "        -5.35829426e-04, -5.32652330e-04, -5.29536500e-04,\n",
      "        -5.26270106e-04, -5.23176092e-04, -5.20158022e-04,\n",
      "        -5.17098021e-04, -5.14015096e-04, -5.11088322e-04,\n",
      "        -5.08205995e-04, -5.05171402e-04, -5.02314796e-04,\n",
      "        -4.99525929e-04, -4.96684742e-04, -4.93828935e-04,\n",
      "        -4.91125612e-04, -4.88453141e-04, -4.85627421e-04,\n",
      "        -4.82990022e-04, -4.80399720e-04, -4.77752539e-04,\n",
      "        -4.75100847e-04, -4.72586326e-04, -4.70094560e-04,\n",
      "        -4.67450991e-04, -4.64994748e-04, -4.62571518e-04,\n",
      "        -4.60087117e-04, -4.57607278e-04, -4.55246710e-04,\n",
      "        -4.52902220e-04, -4.50403043e-04, -4.48082141e-04,\n",
      "        -4.45781647e-04, -2.22028648e-04],\n",
      "       [ 1.59897720e-01,  3.02612600e-01,  2.79953942e-01,\n",
      "         2.57619478e-01,  2.35574016e-01,  2.13644688e-01,\n",
      "         1.92138454e-01,  1.71323834e-01,  1.51288438e-01,\n",
      "         1.32217381e-01,  1.14557262e-01,  9.83389698e-02,\n",
      "         8.33092259e-02,  6.96392648e-02,  5.72692828e-02,\n",
      "         4.60760982e-02,  3.59854579e-02,  2.69753683e-02,\n",
      "         1.90849541e-02,  1.20956438e-02,  5.86597860e-03,\n",
      "         5.88074941e-04, -3.91314517e-03, -7.83899180e-03,\n",
      "        -1.11743865e-02, -1.41255725e-02, -1.68804139e-02,\n",
      "        -1.94159136e-02, -2.16541086e-02, -2.37399667e-02,\n",
      "        -2.56937771e-02, -2.74555528e-02, -2.90766519e-02,\n",
      "        -3.06342608e-02, -3.20862404e-02, -3.34343393e-02,\n",
      "        -3.47390778e-02, -3.60059699e-02, -3.72109745e-02,\n",
      "        -3.83779236e-02, -3.95470590e-02, -4.06704335e-02,\n",
      "        -4.17584580e-02, -4.28317527e-02, -4.38814810e-02,\n",
      "        -4.48930032e-02, -4.58700929e-02, -4.68431957e-02,\n",
      "        -4.77706343e-02, -4.86697427e-02, -4.95529476e-02,\n",
      "        -5.04024754e-02, -5.12267891e-02, -5.20169063e-02,\n",
      "        -5.27929947e-02, -5.35342373e-02, -5.42476806e-02,\n",
      "        -5.49423217e-02, -5.56021911e-02, -5.62459353e-02,\n",
      "        -5.68539887e-02, -5.74421271e-02, -5.80078473e-02,\n",
      "        -5.85430205e-02, -5.90577105e-02, -5.95433749e-02,\n",
      "        -6.00144811e-02, -6.04523741e-02, -6.08664777e-02,\n",
      "        -6.12675206e-02, -6.16387677e-02, -6.19854096e-02,\n",
      "        -6.23121378e-02, -6.26249839e-02, -6.29045478e-02,\n",
      "        -6.31614197e-02, -6.34126328e-02, -6.36336504e-02,\n",
      "        -6.38265000e-02, -6.40114326e-02, -6.41813824e-02,\n",
      "        -6.43144981e-02, -6.44346897e-02, -6.45510591e-02,\n",
      "        -6.46353776e-02, -6.46941649e-02, -6.47535773e-02,\n",
      "        -6.47958902e-02, -6.48002845e-02, -6.48024935e-02,\n",
      "        -6.48003184e-02, -6.47629206e-02, -6.47091326e-02,\n",
      "        -6.46590291e-02, -6.45895099e-02, -6.44846379e-02,\n",
      "        -6.43866710e-02, -6.42820885e-02, -6.41405841e-02,\n",
      "        -6.39938067e-02, -6.38507282e-02, -6.36844709e-02,\n",
      "        -6.34914529e-02, -6.33097087e-02, -6.31180481e-02,\n",
      "        -6.28920456e-02, -6.26700469e-02, -6.24491384e-02,\n",
      "        -6.22039318e-02, -6.19419250e-02, -6.16913770e-02,\n",
      "        -6.14283918e-02, -6.11368612e-02, -6.08547135e-02,\n",
      "        -6.05709905e-02, -6.02644930e-02, -5.99489929e-02,\n",
      "        -5.96441305e-02, -5.93251423e-02, -5.89844560e-02,\n",
      "        -5.86561224e-02, -5.83235429e-02, -5.79708334e-02,\n",
      "        -5.76160782e-02, -5.72696786e-02, -5.69089566e-02,\n",
      "        -5.65334024e-02, -5.61712955e-02, -5.58015833e-02,\n",
      "        -5.54173122e-02, -5.50354134e-02, -5.46583009e-02,\n",
      "        -5.42690055e-02, -5.38709241e-02, -5.34849200e-02,\n",
      "        -5.30904494e-02, -5.26868791e-02, -5.22877024e-02,\n",
      "        -5.18899717e-02, -5.14840078e-02, -5.10733785e-02,\n",
      "        -5.06722977e-02, -5.02639381e-02, -4.98509555e-02,\n",
      "        -4.94423123e-02, -4.90337841e-02, -4.86207995e-02,\n",
      "        -4.82054132e-02, -4.77971437e-02, -4.73837286e-02,\n",
      "        -4.69693010e-02, -4.65578746e-02, -4.61467037e-02,\n",
      "        -4.57344206e-02, -4.53202003e-02, -4.49120069e-02,\n",
      "        -4.45008686e-02, -4.40909190e-02, -4.36824784e-02,\n",
      "        -4.32751866e-02, -4.28696496e-02, -4.24614922e-02,\n",
      "        -4.20593863e-02, -4.16562711e-02, -4.12552455e-02,\n",
      "        -4.08551653e-02, -4.04568466e-02, -4.00625919e-02,\n",
      "        -3.96647700e-02, -3.92732007e-02, -3.88826342e-02,\n",
      "        -3.84941055e-02, -3.81062991e-02, -3.77211628e-02,\n",
      "        -3.73413090e-02, -3.69574316e-02, -3.65795894e-02,\n",
      "        -3.62049452e-02, -3.58315079e-02, -3.54588344e-02,\n",
      "        -3.50900874e-02, -3.47267347e-02, -3.43593207e-02,\n",
      "        -3.39980160e-02, -3.36412389e-02, -3.32849704e-02,\n",
      "        -3.29294211e-02, -3.25791995e-02, -3.22338843e-02,\n",
      "        -3.18845802e-02, -3.15417813e-02, -3.12041116e-02,\n",
      "        -3.08663984e-02, -3.05294817e-02, -3.01989754e-02,\n",
      "        -2.98728129e-02, -2.95425113e-02, -2.92194813e-02,\n",
      "        -2.89016915e-02, -2.85831372e-02, -2.82659556e-02,\n",
      "        -2.79556958e-02, -2.76492055e-02, -2.73383822e-02,\n",
      "        -2.70357191e-02, -2.67381304e-02, -2.64388529e-02,\n",
      "        -2.61419337e-02, -2.58521037e-02, -2.55651173e-02,\n",
      "        -2.52741714e-02, -2.49919295e-02, -2.47143583e-02,\n",
      "        -2.44341926e-02, -2.41576582e-02, -2.38880506e-02,\n",
      "        -2.36200892e-02, -2.33491064e-02, -2.30869726e-02,\n",
      "        -2.28287880e-02, -2.25676102e-02, -2.23111082e-02,\n",
      "        -2.20610765e-02, -2.18115628e-02, -2.15601726e-02,\n",
      "        -2.13176015e-02, -2.10779050e-02, -2.08353378e-02,\n",
      "        -2.05982388e-02, -2.03668717e-02, -2.01350866e-02,\n",
      "        -1.99027498e-02, -1.96788505e-02, -1.94566277e-02,\n",
      "        -1.92321160e-02, -1.90137117e-02, -1.87997536e-02,\n",
      "        -1.85851232e-02, -1.83711219e-02, -1.81646988e-02,\n",
      "        -1.79590024e-02, -1.77519720e-02, -1.75511154e-02,\n",
      "        -1.73534572e-02, -1.71553264e-02, -1.69587450e-02,\n",
      "        -1.67685308e-02, -1.65785786e-02, -1.63882349e-02,\n",
      "        -1.62036902e-02, -1.60212436e-02, -1.58389163e-02,\n",
      "        -1.56586367e-02, -1.54833800e-02, -1.53083873e-02,\n",
      "        -1.51338797e-02, -1.49642885e-02, -1.47960667e-02,\n",
      "        -1.46288710e-02, -1.44635038e-02, -1.43021001e-02,\n",
      "        -1.41414048e-02, -1.39815477e-02, -1.38256653e-02,\n",
      "        -1.36709260e-02, -1.35179223e-02, -1.33662000e-02,\n",
      "        -1.32176694e-02, -1.30705308e-02, -1.29240278e-02,\n",
      "        -1.27808349e-02, -1.26387779e-02, -1.24989543e-02,\n",
      "        -1.23597257e-02, -1.22231686e-02, -1.20887859e-02,\n",
      "        -1.19544889e-02, -1.18229024e-02, -1.16928950e-02,\n",
      "        -1.15650674e-02, -1.14372431e-02, -1.13119023e-02,\n",
      "        -1.11894286e-02, -1.10661373e-02, -1.09452566e-02,\n",
      "        -1.08266359e-02, -1.07095887e-02, -1.05921892e-02,\n",
      "        -1.04774982e-02, -1.03657281e-02, -1.02524792e-02,\n",
      "        -1.01415849e-02, -1.00335381e-02, -9.92621230e-03,\n",
      "        -9.81834799e-03, -9.71369889e-03, -9.61153336e-03,\n",
      "        -9.50744243e-03, -9.40596323e-03, -9.30745846e-03,\n",
      "        -9.20895276e-03, -9.10991423e-03, -9.01464871e-03,\n",
      "        -8.92108257e-03, -8.82532388e-03, -8.73275938e-03,\n",
      "        -8.64275692e-03, -8.55227056e-03, -8.46157159e-03,\n",
      "        -8.37474420e-03, -8.28897682e-03, -8.20090754e-03,\n",
      "        -8.11666371e-03, -8.03425572e-03, -7.95109209e-03,\n",
      "        -7.86824098e-03, -7.78893783e-03, -7.71028071e-03,\n",
      "        -7.62941251e-03, -7.55270227e-03, -7.47720230e-03,\n",
      "        -7.40069464e-03, -7.32520689e-03, -7.25264175e-03,\n",
      "        -7.18041877e-03, -7.10634539e-03, -7.03637232e-03,\n",
      "        -6.96712411e-03, -6.89682133e-03, -6.82808408e-03,\n",
      "        -6.76157706e-03, -6.69517904e-03, -6.62753282e-03,\n",
      "        -6.56354368e-03, -6.49995020e-03, -6.43553500e-03,\n",
      "        -6.37279517e-03, -6.31178684e-03, -6.25078569e-03,\n",
      "        -6.18906135e-03, -6.13043245e-03, -6.07196514e-03,\n",
      "        -6.01311264e-03, -5.95569885e-03, -5.89966873e-03,\n",
      "        -5.84374341e-03, -5.78736176e-03, -5.73357206e-03,\n",
      "        -5.67979833e-03, -5.62612457e-03, -5.57346318e-03,\n",
      "        -5.52193752e-03, -5.47081965e-03, -5.41917793e-03,\n",
      "        -5.36976464e-03, -5.32044258e-03, -5.27136684e-03,\n",
      "        -5.22303281e-03, -5.17561136e-03, -5.12899098e-03,\n",
      "        -5.08156624e-03, -5.03612082e-03, -4.99101013e-03,\n",
      "        -4.94599902e-03, -4.90160016e-03, -4.85803805e-03,\n",
      "        -4.81542760e-03, -4.77185143e-03, -4.72999899e-03,\n",
      "        -4.68884355e-03, -4.64745057e-03, -4.60661068e-03,\n",
      "        -4.56669953e-03, -4.52764853e-03, -4.48757508e-03,\n",
      "        -4.44906037e-03, -4.41148299e-03, -4.37337206e-03,\n",
      "        -4.33574177e-03, -4.29929527e-03, -4.26339274e-03,\n",
      "        -4.22647863e-03, -4.19114279e-03, -4.15673355e-03,\n",
      "        -4.12160811e-03, -4.08694839e-03, -4.05366050e-03,\n",
      "        -4.02059008e-03, -3.98653619e-03, -3.95422433e-03,\n",
      "        -3.92260608e-03, -3.89018374e-03, -3.85834526e-03,\n",
      "        -3.82784873e-03, -3.79736300e-03, -3.76594295e-03,\n",
      "        -3.73640611e-03, -3.70729170e-03, -3.67731260e-03,\n",
      "        -3.64815648e-03, -3.62012046e-03, -3.59198164e-03,\n",
      "        -3.56304112e-03, -3.53596950e-03, -3.50913381e-03,\n",
      "        -3.48139369e-03, -3.45472471e-03, -3.42888185e-03,\n",
      "        -3.40286067e-03, -3.37628414e-03, -3.35138026e-03,\n",
      "        -3.32662242e-03, -3.30098139e-03, -3.27652502e-03,\n",
      "        -3.25268347e-03, -3.22859475e-03, -3.20422215e-03,\n",
      "        -3.18124817e-03, -3.15837071e-03, -3.13471844e-03,\n",
      "        -3.11222326e-03, -3.09020874e-03, -3.06791539e-03,\n",
      "        -3.04552257e-03, -3.02430933e-03, -3.00312666e-03,\n",
      "        -2.98135677e-03, -2.96060436e-03, -2.94023640e-03,\n",
      "        -2.91964196e-03, -2.89901423e-03, -2.87939663e-03,\n",
      "        -2.85979300e-03, -2.83972208e-03, -2.82054593e-03,\n",
      "        -2.80166371e-03, -2.78269170e-03, -2.76361896e-03,\n",
      "        -2.74545179e-03, -2.72733387e-03, -2.70877310e-03,\n",
      "        -2.69103427e-03, -2.67353363e-03, -2.65602489e-03,\n",
      "        -2.63836447e-03, -2.62150495e-03, -2.60480144e-03,\n",
      "        -2.58757674e-03, -2.57114706e-03, -2.55493665e-03,\n",
      "        -2.53873642e-03, -2.52236446e-03, -2.50671120e-03,\n",
      "        -2.49129924e-03, -2.47528125e-03, -2.46003342e-03,\n",
      "        -2.44505103e-03, -2.43000636e-03, -2.41480956e-03,\n",
      "        -2.40028585e-03, -2.38602340e-03, -2.37110851e-03,\n",
      "        -2.35694906e-03, -2.34309111e-03, -2.32908700e-03,\n",
      "        -2.31496250e-03, -2.30149428e-03, -2.28825637e-03,\n",
      "        -2.27435411e-03, -2.26120154e-03, -2.24835121e-03,\n",
      "        -2.23530264e-03, -2.22215170e-03, -2.20966548e-03,\n",
      "        -2.19734981e-03, -2.18436645e-03, -2.17215336e-03,\n",
      "        -2.16020917e-03, -2.14802912e-03, -2.13578352e-03,\n",
      "        -2.12418215e-03, -2.11270267e-03, -2.10055453e-03,\n",
      "        -2.08921397e-03, -2.07806476e-03, -2.06666277e-03,\n",
      "        -2.05523791e-03, -2.04439564e-03, -2.03364593e-03,\n",
      "        -2.02223518e-03, -2.01162858e-03, -2.00115915e-03,\n",
      "        -1.99042097e-03, -1.97969839e-03, -1.96948757e-03,\n",
      "        -1.95934485e-03, -1.94853291e-03, -1.93849223e-03,\n",
      "        -1.92853984e-03, -9.60539975e-04]]), array([0.01049565, 0.00591702, 0.00437584, 0.00360541, 0.00314513,\n",
      "       0.00284748, 0.00295435, 0.00307445, 0.00321062, 0.00336658,\n",
      "       0.00354726, 0.00375945, 0.00401261, 0.00432046, 0.0047036 ,\n",
      "       0.00519444, 0.00584717, 0.00675966, 0.00812858, 0.01041618,\n",
      "       0.02126834, 0.02076264, 0.02028406, 0.01983054, 0.0194002 ,\n",
      "       0.01899137, 0.01860252, 0.01823227, 0.01787935, 0.01754262,\n",
      "       0.01722103, 0.01691362, 0.01661951, 0.0163379 , 0.01606804,\n",
      "       0.01580923, 0.01556086, 0.01532233, 0.01509311, 0.01487268,\n",
      "       0.01466058, 0.01445638, 0.01425967, 0.01407007, 0.01388723,\n",
      "       0.01371083, 0.01354055, 0.0133761 , 0.01321721, 0.01306364,\n",
      "       0.01291493, 0.01276064, 0.01261161, 0.01246762, 0.01232843,\n",
      "       0.01219384, 0.01206363, 0.01193763, 0.01181565, 0.01169752,\n",
      "       0.01158308, 0.01147219, 0.01136471, 0.01126049, 0.01115941,\n",
      "       0.01106134, 0.01096619, 0.01087382, 0.01078415, 0.01069707,\n",
      "       0.01061249, 0.01053032, 0.01045048, 0.01037288, 0.01029745,\n",
      "       0.01022411, 0.0101528 , 0.01008345, 0.01001598, 0.00995035,\n",
      "       0.00988658, 0.00982932, 0.00977352, 0.00971914, 0.00966614,\n",
      "       0.00961449, 0.00956414, 0.00951505, 0.0094672 , 0.00942055,\n",
      "       0.00937507, 0.00933072, 0.00928748, 0.00924531, 0.0092042 ,\n",
      "       0.00916411, 0.00912501, 0.00908689, 0.00904972, 0.00901347,\n",
      "       0.00897812, 0.00894365, 0.00891005, 0.00887728, 0.00884533,\n",
      "       0.00881418, 0.00878381, 0.00875421, 0.00872535, 0.00869722,\n",
      "       0.00866988, 0.00864749, 0.00862565, 0.00860436, 0.00858361,\n",
      "       0.00856339, 0.00854368, 0.00852448, 0.00850577, 0.00848755,\n",
      "       0.00846981, 0.00845255, 0.00843574, 0.00841939, 0.00840349,\n",
      "       0.00838802, 0.00837298, 0.00835837, 0.00834418, 0.00833039,\n",
      "       0.008317  , 0.00830402, 0.00829142, 0.0082792 , 0.00826736,\n",
      "       0.00825589, 0.00824478, 0.00823404, 0.00822364, 0.0082136 ,\n",
      "       0.00820397, 0.00819955, 0.00819536, 0.00819139, 0.00818766,\n",
      "       0.00818414, 0.00818084, 0.00817776, 0.0081749 , 0.00817224,\n",
      "       0.0081698 , 0.00816756, 0.00816553, 0.0081637 , 0.00816208,\n",
      "       0.00816065, 0.00815942, 0.00815838, 0.00815753, 0.00815688,\n",
      "       0.00815641, 0.00815613, 0.00815604, 0.00815613, 0.00815639,\n",
      "       0.00815684, 0.00815747, 0.00815827, 0.00815924, 0.00816039,\n",
      "       0.0081618 , 0.00817016, 0.00817861, 0.00818713, 0.00819573,\n",
      "       0.00820442, 0.00821318, 0.00822201, 0.00823093, 0.00823992,\n",
      "       0.00824899, 0.00825814, 0.00826736, 0.00827666, 0.00828604,\n",
      "       0.00829549, 0.00830502, 0.00831462, 0.0083243 , 0.00833405,\n",
      "       0.00834388, 0.00835378, 0.00836376, 0.0083738 , 0.00838393,\n",
      "       0.00839412, 0.00840439, 0.00841473, 0.00842515, 0.00843563,\n",
      "       0.00844632, 0.00846768, 0.00848909, 0.00851053, 0.00853202,\n",
      "       0.00855354, 0.00857511, 0.00859672, 0.00861837, 0.00864005,\n",
      "       0.00866178, 0.00868355, 0.00870536, 0.00872721, 0.0087491 ,\n",
      "       0.00877104, 0.00879301, 0.00881502, 0.00883707, 0.00885917,\n",
      "       0.0088813 , 0.00890348, 0.0089257 , 0.00894795, 0.00897025,\n",
      "       0.00899259, 0.00901497, 0.00903739, 0.00905985, 0.00908235,\n",
      "       0.00910493, 0.00913103, 0.00915719, 0.00918341, 0.00920969,\n",
      "       0.00923602, 0.00926241, 0.00928887, 0.00931538, 0.00934195,\n",
      "       0.00936857, 0.00939526, 0.009422  , 0.00944881, 0.00947567,\n",
      "       0.00950259, 0.00952958, 0.00955662, 0.00958372, 0.00961088,\n",
      "       0.0096381 , 0.00966538, 0.00969273, 0.00972013, 0.00974759,\n",
      "       0.00977511, 0.0098027 , 0.00983034, 0.00985805, 0.00988581,\n",
      "       0.00991368, 0.00994627, 0.00997895, 0.01001175, 0.01004465,\n",
      "       0.01007766, 0.01011078, 0.01014401, 0.01017734, 0.01021079,\n",
      "       0.01024435, 0.01027802, 0.0103118 , 0.0103457 , 0.01037971,\n",
      "       0.01041383, 0.01044807, 0.01048242, 0.0105169 , 0.01055148,\n",
      "       0.01058619, 0.01062102, 0.01065596, 0.01069103, 0.01072622,\n",
      "       0.01076153, 0.01079696, 0.01083252, 0.0108682 , 0.01090401,\n",
      "       0.01093993, 0.0109741 , 0.01100838, 0.01104277, 0.01107726,\n",
      "       0.01111186, 0.01114657, 0.01118139, 0.01121631, 0.01125135,\n",
      "       0.01128649, 0.01132175, 0.01135711, 0.01139259, 0.01142818,\n",
      "       0.01146389, 0.01149971, 0.01153564, 0.01157169, 0.01160785,\n",
      "       0.01164413, 0.01168053, 0.01171705, 0.01175369, 0.01179044,\n",
      "       0.01182732, 0.01186431, 0.01190143, 0.01193868, 0.01197604,\n",
      "       0.01201352, 0.01205002, 0.01208662, 0.01212334, 0.01216017,\n",
      "       0.01219712, 0.01223418, 0.01227136, 0.01230865, 0.01234607,\n",
      "       0.0123836 , 0.01242125, 0.01245901, 0.0124969 , 0.01253491,\n",
      "       0.01257304, 0.0126113 , 0.01264967, 0.01268818, 0.0127268 ,\n",
      "       0.01276555, 0.01280443, 0.01284344, 0.01288257, 0.01292183,\n",
      "       0.01296122, 0.01300074, 0.0130404 , 0.01308018, 0.0131201 ,\n",
      "       0.01316015, 0.01319899, 0.01323796, 0.01327705, 0.01331626,\n",
      "       0.01335559, 0.01339505, 0.01343462, 0.01347433, 0.01351415,\n",
      "       0.01355411, 0.01359419, 0.0136344 , 0.01367473, 0.0137152 ,\n",
      "       0.01375579, 0.01379651, 0.01383737, 0.01387836, 0.01391948,\n",
      "       0.01396074, 0.01400213, 0.01404366, 0.01408532, 0.01412712,\n",
      "       0.01416906, 0.01421114, 0.01425336, 0.01429572, 0.01433822,\n",
      "       0.01438088, 0.01442527, 0.01446982, 0.01451454, 0.01455944,\n",
      "       0.0146045 , 0.01464973, 0.01469514, 0.01474072, 0.01478648,\n",
      "       0.01483241, 0.01487852, 0.01492481, 0.01497129, 0.01501794,\n",
      "       0.01506479, 0.01511181, 0.01515903, 0.01520643, 0.01525403,\n",
      "       0.01530182, 0.0153498 , 0.01539798, 0.01544636, 0.01549494,\n",
      "       0.01554372, 0.0155927 , 0.01564189, 0.01569129, 0.01574089,\n",
      "       0.01579071, 0.01584272, 0.01589497, 0.01594748, 0.01600023,\n",
      "       0.01605324, 0.01610651, 0.01616003, 0.01621382, 0.01626787,\n",
      "       0.01632219, 0.01637678, 0.01643164, 0.01648678, 0.0165422 ,\n",
      "       0.01659791, 0.0166539 , 0.01671018, 0.01676675, 0.01682362,\n",
      "       0.01688079, 0.01693826, 0.01699604, 0.01705413, 0.01711253,\n",
      "       0.01717125, 0.0172303 , 0.01728966, 0.01734936, 0.01740939,\n",
      "       0.01746977, 0.01753305, 0.01759673, 0.0176608 , 0.01772529,\n",
      "       0.01779019, 0.0178555 , 0.01792125, 0.01798742, 0.01805402,\n",
      "       0.01812107, 0.01818857, 0.01825653, 0.01832494, 0.01839383,\n",
      "       0.01846319, 0.01853303, 0.01860337, 0.0186742 , 0.01874554,\n",
      "       0.01881739, 0.01888976, 0.01896266, 0.0190361 , 0.01911008,\n",
      "       0.01918462, 0.01925972, 0.0193354 , 0.01941165, 0.0194885 ,\n",
      "       0.01956611, 0.01978644, 0.02001571, 0.02025459, 0.02050375,\n",
      "       0.02076397, 0.02103611, 0.02132109, 0.02161996, 0.02193387,\n",
      "       0.0222641 , 0.0226121 , 0.02297947, 0.02336802, 0.02377981,\n",
      "       0.02421716, 0.0246827 , 0.02517945, 0.02571087, 0.02628096,\n",
      "       0.02689436, 0.02755648, 0.02827366, 0.0290534 , 0.02990465,\n",
      "       0.03083811, 0.03186677, 0.03300649, 0.03427685, 0.03570235]), array([[15355329.94923852, 24873096.44670041],\n",
      "       [24873096.44670041, 41116751.26903537]]), 2.604684095646748, 7.026746873521614, 500]\n",
      "  kwargs: {}\n",
      "  exception:\n"
     ]
    },
    {
     "name": "stderr",
     "output_type": "stream",
     "text": [
      "Traceback (most recent call last):\n",
      "  File \"/home/venus/miniconda3/envs/ssi2023/lib/python3.11/site-packages/emcee/ensemble.py\", line 624, in __call__\n",
      "    return self.f(x, *self.args, **self.kwargs)\n",
      "           ^^^^^^^^^^^^^^^^^^^^^^^^^^^^^^^^^^^^\n",
      "  File \"/tmp/ipykernel_10451/3067836044.py\", line 21, in lnprob\n",
      "    return chi_squared_prior(Nz, eigenvectors, eigenvectorsNc,  alphaNc, zBinsFisher, Omh2, Om, Ok, ORhh, ln_angular_0p35_fid)\n",
      "          ^^^^^^^^^^^^^^^^^^^^^^^^^^^^^^^^^^^^^^^^^^^^^^^^^^^^^^^^^^^^^^^^^^^^^^^^^^^^^^^^^^^^^^^^^^^^^^^^^^^^^^^^^^^^^^^^^^^\n",
      "TypeError: chi_squared_prior() missing 2 required positional arguments: 'ORhh' and 'ln_angular_0p35_fid'\n"
     ]
    },
    {
     "ename": "TypeError",
     "evalue": "chi_squared_prior() missing 2 required positional arguments: 'ORhh' and 'ln_angular_0p35_fid'",
     "output_type": "error",
     "traceback": [
      "\u001b[0;31m---------------------------------------------------------------------------\u001b[0m",
      "\u001b[0;31mTypeError\u001b[0m                                 Traceback (most recent call last)",
      "Cell \u001b[0;32mIn[87], line 11\u001b[0m\n\u001b[1;32m      8\u001b[0m old_tau \u001b[38;5;241m=\u001b[39m np\u001b[38;5;241m.\u001b[39minf\n\u001b[1;32m     10\u001b[0m \u001b[38;5;66;03m# Now we'll sample for up to max_n steps\u001b[39;00m\n\u001b[0;32m---> 11\u001b[0m \u001b[38;5;28;01mfor\u001b[39;00m sample \u001b[38;5;129;01min\u001b[39;00m sampler\u001b[38;5;241m.\u001b[39msample(p0, iterations\u001b[38;5;241m=\u001b[39mmax_n, progress\u001b[38;5;241m=\u001b[39m\u001b[38;5;28;01mTrue\u001b[39;00m):\n\u001b[1;32m     12\u001b[0m     \u001b[38;5;66;03m# Only check convergence every 100 steps\u001b[39;00m\n\u001b[1;32m     13\u001b[0m     \u001b[38;5;28;01mif\u001b[39;00m sampler\u001b[38;5;241m.\u001b[39miteration \u001b[38;5;241m%\u001b[39m \u001b[38;5;241m100\u001b[39m:\n\u001b[1;32m     14\u001b[0m         \u001b[38;5;28;01mcontinue\u001b[39;00m\n",
      "File \u001b[0;32m~/miniconda3/envs/ssi2023/lib/python3.11/site-packages/emcee/ensemble.py:344\u001b[0m, in \u001b[0;36mEnsembleSampler.sample\u001b[0;34m(self, initial_state, log_prob0, rstate0, blobs0, iterations, tune, skip_initial_state_check, thin_by, thin, store, progress, progress_kwargs)\u001b[0m\n\u001b[1;32m    342\u001b[0m     state\u001b[38;5;241m.\u001b[39mblobs \u001b[38;5;241m=\u001b[39m blobs0\n\u001b[1;32m    343\u001b[0m \u001b[38;5;28;01mif\u001b[39;00m state\u001b[38;5;241m.\u001b[39mlog_prob \u001b[38;5;129;01mis\u001b[39;00m \u001b[38;5;28;01mNone\u001b[39;00m:\n\u001b[0;32m--> 344\u001b[0m     state\u001b[38;5;241m.\u001b[39mlog_prob, state\u001b[38;5;241m.\u001b[39mblobs \u001b[38;5;241m=\u001b[39m \u001b[38;5;28;43mself\u001b[39;49m\u001b[38;5;241;43m.\u001b[39;49m\u001b[43mcompute_log_prob\u001b[49m\u001b[43m(\u001b[49m\u001b[43mstate\u001b[49m\u001b[38;5;241;43m.\u001b[39;49m\u001b[43mcoords\u001b[49m\u001b[43m)\u001b[49m\n\u001b[1;32m    345\u001b[0m \u001b[38;5;28;01mif\u001b[39;00m np\u001b[38;5;241m.\u001b[39mshape(state\u001b[38;5;241m.\u001b[39mlog_prob) \u001b[38;5;241m!=\u001b[39m (\u001b[38;5;28mself\u001b[39m\u001b[38;5;241m.\u001b[39mnwalkers,):\n\u001b[1;32m    346\u001b[0m     \u001b[38;5;28;01mraise\u001b[39;00m \u001b[38;5;167;01mValueError\u001b[39;00m(\u001b[38;5;124m\"\u001b[39m\u001b[38;5;124mincompatible input dimensions\u001b[39m\u001b[38;5;124m\"\u001b[39m)\n",
      "File \u001b[0;32m~/miniconda3/envs/ssi2023/lib/python3.11/site-packages/emcee/ensemble.py:489\u001b[0m, in \u001b[0;36mEnsembleSampler.compute_log_prob\u001b[0;34m(self, coords)\u001b[0m\n\u001b[1;32m    487\u001b[0m     \u001b[38;5;28;01melse\u001b[39;00m:\n\u001b[1;32m    488\u001b[0m         map_func \u001b[38;5;241m=\u001b[39m \u001b[38;5;28mmap\u001b[39m\n\u001b[0;32m--> 489\u001b[0m     results \u001b[38;5;241m=\u001b[39m \u001b[38;5;28;43mlist\u001b[39;49m\u001b[43m(\u001b[49m\u001b[43mmap_func\u001b[49m\u001b[43m(\u001b[49m\u001b[38;5;28;43mself\u001b[39;49m\u001b[38;5;241;43m.\u001b[39;49m\u001b[43mlog_prob_fn\u001b[49m\u001b[43m,\u001b[49m\u001b[43m \u001b[49m\u001b[43mp\u001b[49m\u001b[43m)\u001b[49m\u001b[43m)\u001b[49m\n\u001b[1;32m    491\u001b[0m \u001b[38;5;28;01mtry\u001b[39;00m:\n\u001b[1;32m    492\u001b[0m     log_prob \u001b[38;5;241m=\u001b[39m np\u001b[38;5;241m.\u001b[39marray([\u001b[38;5;28mfloat\u001b[39m(l[\u001b[38;5;241m0\u001b[39m]) \u001b[38;5;28;01mfor\u001b[39;00m l \u001b[38;5;129;01min\u001b[39;00m results])\n",
      "File \u001b[0;32m~/miniconda3/envs/ssi2023/lib/python3.11/site-packages/emcee/ensemble.py:624\u001b[0m, in \u001b[0;36m_FunctionWrapper.__call__\u001b[0;34m(self, x)\u001b[0m\n\u001b[1;32m    622\u001b[0m \u001b[38;5;28;01mdef\u001b[39;00m \u001b[38;5;21m__call__\u001b[39m(\u001b[38;5;28mself\u001b[39m, x):\n\u001b[1;32m    623\u001b[0m     \u001b[38;5;28;01mtry\u001b[39;00m:\n\u001b[0;32m--> 624\u001b[0m         \u001b[38;5;28;01mreturn\u001b[39;00m \u001b[38;5;28;43mself\u001b[39;49m\u001b[38;5;241;43m.\u001b[39;49m\u001b[43mf\u001b[49m\u001b[43m(\u001b[49m\u001b[43mx\u001b[49m\u001b[43m,\u001b[49m\u001b[43m \u001b[49m\u001b[38;5;241;43m*\u001b[39;49m\u001b[38;5;28;43mself\u001b[39;49m\u001b[38;5;241;43m.\u001b[39;49m\u001b[43margs\u001b[49m\u001b[43m,\u001b[49m\u001b[43m \u001b[49m\u001b[38;5;241;43m*\u001b[39;49m\u001b[38;5;241;43m*\u001b[39;49m\u001b[38;5;28;43mself\u001b[39;49m\u001b[38;5;241;43m.\u001b[39;49m\u001b[43mkwargs\u001b[49m\u001b[43m)\u001b[49m\n\u001b[1;32m    625\u001b[0m     \u001b[38;5;28;01mexcept\u001b[39;00m:  \u001b[38;5;66;03m# pragma: no cover\u001b[39;00m\n\u001b[1;32m    626\u001b[0m         \u001b[38;5;28;01mimport\u001b[39;00m \u001b[38;5;21;01mtraceback\u001b[39;00m\n",
      "Cell \u001b[0;32mIn[79], line 21\u001b[0m, in \u001b[0;36mlnprob\u001b[0;34m(theta, Ok, zBinsFisher, eigenvectors, eigenvectorsNc, sigma_values, invCMBCov, lnd_ang_rec_fid, ln_angular_0p35_fid, Nz)\u001b[0m\n\u001b[1;32m     15\u001b[0m H0 \u001b[38;5;241m=\u001b[39m np\u001b[38;5;241m.\u001b[39msqrt( Omh2 \u001b[38;5;241m/\u001b[39m Om )\n\u001b[1;32m     17\u001b[0m \u001b[38;5;66;03m# # out = chi_squared_prior(Nz, eigenvectors, eigenvectorsNc,  alphaNc, zBinsFisher, Omh2, Om, Ok, ORhh, ln_angular_0p35_fid) \u001b[39;00m\n\u001b[1;32m     18\u001b[0m \u001b[38;5;66;03m# # if out < -10**5:\u001b[39;00m\n\u001b[1;32m     19\u001b[0m \u001b[38;5;66;03m# #     print(out)    \u001b[39;00m\n\u001b[0;32m---> 21\u001b[0m \u001b[38;5;28;01mreturn\u001b[39;00m \u001b[43mchi_squared_prior\u001b[49m\u001b[43m(\u001b[49m\u001b[43mNz\u001b[49m\u001b[43m,\u001b[49m\u001b[43m \u001b[49m\u001b[43meigenvectors\u001b[49m\u001b[43m,\u001b[49m\u001b[43m \u001b[49m\u001b[43meigenvectorsNc\u001b[49m\u001b[43m,\u001b[49m\u001b[43m  \u001b[49m\u001b[43malphaNc\u001b[49m\u001b[43m,\u001b[49m\u001b[43m \u001b[49m\u001b[43mzBinsFisher\u001b[49m\u001b[43m,\u001b[49m\u001b[43m \u001b[49m\u001b[43mOmh2\u001b[49m\u001b[43m,\u001b[49m\u001b[43m \u001b[49m\u001b[43mOm\u001b[49m\u001b[43m,\u001b[49m\u001b[43m \u001b[49m\u001b[43mOk\u001b[49m\u001b[43m,\u001b[49m\u001b[43m \u001b[49m\u001b[43mORhh\u001b[49m\u001b[43m,\u001b[49m\u001b[43m \u001b[49m\u001b[43mln_angular_0p35_fid\u001b[49m\u001b[43m)\u001b[49m\n",
      "\u001b[0;31mTypeError\u001b[0m: chi_squared_prior() missing 2 required positional arguments: 'ORhh' and 'ln_angular_0p35_fid'"
     ]
    }
   ],
   "source": [
    "max_n = 100000\n",
    "\n",
    "# We'll track how the average autocorrelation time estimate changes\n",
    "index = 0\n",
    "autocorr = np.empty(max_n)\n",
    "\n",
    "# This will be useful to testing convergence\n",
    "old_tau = np.inf\n",
    "\n",
    "# Now we'll sample for up to max_n steps\n",
    "for sample in sampler.sample(p0, iterations=max_n, progress=True):\n",
    "    # Only check convergence every 100 steps\n",
    "    if sampler.iteration % 100:\n",
    "        continue\n",
    "    # print(sample)\n",
    "    # Compute the autocorrelation time so far\n",
    "    # Using tol=0 means that we'll always get an estimate even\n",
    "    # if it isn't trustworthy\n",
    "    tau = sampler.get_autocorr_time(tol=0)\n",
    "    autocorr[index] = np.mean(tau)\n",
    "    index += 1\n",
    "\n",
    "    # Check convergence\n",
    "    # If the chain is longer than 100 times the estimated autocorrelation time and \n",
    "    # if this estimate changed by less than 1%, we’ll consider things converged.\n",
    "    converged = np.all(tau * 100 < sampler.iteration)\n",
    "    converged &= np.all(np.abs(old_tau - tau) / tau < 0.01)\n",
    "    if converged:\n",
    "        break\n",
    "    old_tau = tau"
   ]
  },
  {
   "cell_type": "markdown",
   "id": "175381a6-4464-4a8d-9bba-0ba731b18781",
   "metadata": {
    "tags": []
   },
   "source": [
    "# Read from file MCMC chain "
   ]
  },
  {
   "cell_type": "code",
   "execution_count": 76,
   "id": "5b190a2f-3a39-4ff1-9ca4-6a6833aad858",
   "metadata": {
    "tags": []
   },
   "outputs": [
    {
     "name": "stdout",
     "output_type": "stream",
     "text": [
      "burn-in: 180\n",
      "thin: 16\n",
      "flat chain shape: (8730, 4)\n"
     ]
    }
   ],
   "source": [
    "# Read the sampler results from the save file\n",
    "ndim = 4\n",
    "# filename = \"2troubleshooting_MCMC.h5\"\n",
    "filename = \"OptimizingMCMC_trial.h5\"\n",
    "reader = emcee.backends.HDFBackend(filename)\n",
    "\n",
    "tau = reader.get_autocorr_time()\n",
    "burnin = int(2 * np.max(tau))\n",
    "thin = int(0.5 * np.min(tau))\n",
    "samples = reader.get_chain(discard=burnin, flat=True, thin=thin)\n",
    "#log_prob_samples = reader.get_log_prob(discard=burnin, flat=True, thin=thin)\n",
    "#log_prior_samples = reader.get_blobs(discard=burnin, flat=True, thin=thin)\n",
    "\n",
    "print(\"burn-in: {0}\".format(burnin))\n",
    "print(\"thin: {0}\".format(thin))\n",
    "print(\"flat chain shape: {0}\".format(samples.shape))\n",
    "#print(\"flat log prob shape: {0}\".format(log_prob_samples.shape))\n",
    "#print(\"flat log prior shape: {0}\".format(log_prior_samples.shape))"
   ]
  },
  {
   "cell_type": "code",
   "execution_count": 77,
   "id": "a3315155-1ac3-428c-94a3-2f3727e0a0e9",
   "metadata": {
    "tags": []
   },
   "outputs": [
    {
     "name": "stdout",
     "output_type": "stream",
     "text": [
      "[90.17081472 88.00249273 53.79194656 32.71142262]\n"
     ]
    }
   ],
   "source": [
    "print(tau)"
   ]
  },
  {
   "cell_type": "code",
   "execution_count": 78,
   "id": "81727feb-adb5-4887-9807-360dde0a4f35",
   "metadata": {},
   "outputs": [
    {
     "data": {
      "text/plain": [
       "(9500, 15, 4)"
      ]
     },
     "execution_count": 78,
     "metadata": {},
     "output_type": "execute_result"
    }
   ],
   "source": [
    "reader.get_chain().shape"
   ]
  },
  {
   "cell_type": "code",
   "execution_count": 79,
   "id": "1a2556f9-e258-4844-bf31-5946838e1d7c",
   "metadata": {},
   "outputs": [
    {
     "name": "stderr",
     "output_type": "stream",
     "text": [
      "WARNING:root:Too few points to create valid contours\n"
     ]
    },
    {
     "data": {
      "image/png": "[encoded data removed]",
      "text/plain": [
       "<Figure size 970x970 with 16 Axes>"
      ]
     },
     "metadata": {},
     "output_type": "display_data"
    }
   ],
   "source": [
    "tau = reader.get_autocorr_time()\n",
    "# burnin = int(2 * np.max(tau))\n",
    "# thin = int(0.5 * np.min(tau))\n",
    "samples = reader.get_chain(flat=True)\n",
    "log_prob_samples = reader.get_log_prob(flat=True)\n",
    "log_prior_samples = reader.get_blobs(flat=True)\n",
    "\n",
    "# print(\"burn-in: {0}\".format(burnin))\n",
    "# print(\"thin: {0}\".format(thin))\n",
    "# print(\"flat chain shape: {0}\".format(samples.shape))\n",
    "# #print(\"flat log prob shape: {0}\".format(log_prob_samples.shape))\n",
    "# #print(\"flat log prior shape: {0}\".format(log_prior_samples.shape))\n",
    "\n",
    "# # all_samples = np.concatenate(\n",
    "# #     (samples, log_prob_samples[:, None], log_prior_samples[:, None]), axis=1\n",
    "# )\n",
    "\n",
    "labels = list(map(r\"$\\theta_{{{0}}}$\".format, range(1, ndim + 1)))\n",
    "#labels += [\"log prob\", \"log prior\"]\n",
    "\n",
    "corner.corner(samples, labels=labels);"
   ]
  },
  {
   "cell_type": "markdown",
   "id": "c6f6890b-fcc8-4e72-82d1-2a1e743b041c",
   "metadata": {},
   "source": [
    "# Use MCMC chain to evaluate $log(d_L)$ and save in file for training set."
   ]
  },
  {
   "cell_type": "markdown",
   "id": "1a3554f9-04ea-4dee-8e4e-337d6b8b7262",
   "metadata": {},
   "source": [
    "- I want to use these points now to evaluate the output of log luminosity distance for SN. I want to save the combinations of input params & logdL such that I can use this as my training set for the gaussian process. "
   ]
  },
  {
   "cell_type": "code",
   "execution_count": 51,
   "id": "8de42bd3-6d1e-42e4-b0be-9f52cd033543",
   "metadata": {},
   "outputs": [],
   "source": [
    "chain = reader.get_chain(discard=burnin, flat=True, thin=thin)"
   ]
  },
  {
   "cell_type": "code",
   "execution_count": 52,
   "id": "eee30517-e0fe-43ca-bd1f-7f86b2bba1d2",
   "metadata": {},
   "outputs": [
    {
     "data": {
      "text/plain": [
       "(4125, 4)"
      ]
     },
     "execution_count": 52,
     "metadata": {},
     "output_type": "execute_result"
    }
   ],
   "source": [
    "chain.shape"
   ]
  },
  {
   "cell_type": "code",
   "execution_count": 53,
   "id": "a87cfdb3-a4c6-4b9f-be39-cbc4a9f4b9da",
   "metadata": {},
   "outputs": [
    {
     "data": {
      "text/plain": [
       "array([-0.001158  , -0.00188346,  0.24470295,  0.16395789])"
      ]
     },
     "execution_count": 53,
     "metadata": {},
     "output_type": "execute_result"
    }
   ],
   "source": [
    "chain[0]"
   ]
  },
  {
   "cell_type": "code",
   "execution_count": 54,
   "id": "d4b48b3c-252d-42e7-b0bb-eae99a9fba65",
   "metadata": {
    "scrolled": true
   },
   "outputs": [
    {
     "name": "stderr",
     "output_type": "stream",
     "text": [
      "100%|███████████████████████████████████████████████████████████████████████████████| 4125/4125 [04:14<00:00, 16.21it/s]\n"
     ]
    }
   ],
   "source": [
    "# Assuming input_array contains your input data\n",
    "\n",
    "output_filename = 'LogdL_trial.h5'\n",
    "# Open HDF5 file for writing\n",
    "total_iterations = len(chain)\n",
    "\n",
    "# Check if the output file exists\n",
    "if os.path.exists(output_filename):\n",
    "    # Delete the file if it exists\n",
    "    os.remove(output_filename)\n",
    "\n",
    "with h5py.File(output_filename, 'w') as hf:\n",
    "    # Iterate over input subarrays\n",
    "    for i in tqdm(range(total_iterations)):\n",
    "        input_subarray = chain[i]\n",
    "        H0 = np.sqrt(input_subarray[3]/input_subarray[2]) * 100\n",
    "        Om = input_subarray[2]\n",
    "        Ok = 0\n",
    "        # Evaluate the function for the input subarray\n",
    "        output_subarray = log_h0dl(zBinsFisher,input_subarray[:2],eigenvectors15, H0, Om, Ok)\n",
    "        \n",
    "        # Save input and output data to HDF5 file\n",
    "        grp = hf.create_group(f'subarray_{i}')\n",
    "        grp.create_dataset('input_cosmo', data=input_subarray)\n",
    "        grp.create_dataset('LogdL', data=output_subarray)\n"
   ]
  },
  {
   "cell_type": "markdown",
   "id": "264869ce-7275-47e3-a406-0ef5332d93ee",
   "metadata": {},
   "source": [
    "# Use uniform sampling instead of the MCMC chain"
   ]
  },
  {
   "cell_type": "markdown",
   "id": "abca9c0c-27cc-4801-9e04-345cca002986",
   "metadata": {},
   "source": [
    "- I will start by sampling only the first PC, $\\Omega_m$ and $\\Omega_m h^2$. Then I will train the ReMLP on this data and compare the outputs. "
   ]
  },
  {
   "cell_type": "code",
   "execution_count": null,
   "id": "a8b8b0c1-83d7-43ec-b354-a350a130315f",
   "metadata": {},
   "outputs": [],
   "source": [
    "# Assuming input_array contains your input data\n",
    "\n",
    "output_filename = 'LogdL_uniform_1PC.h5'\n",
    "# Open HDF5 file for writing\n",
    "total_iterations = 50\n",
    "\n",
    "# Check if the output file exists and delete it if it already exists \n",
    "if os.path.exists(output_filename):\n",
    "    os.remove(output_filename)\n",
    "\n",
    "with h5py.File(output_filename, 'w') as hf:\n",
    "    \n",
    "    for i in tqdm(range(total_iterations)):\n",
    "        input_subarray = chain[i]\n",
    "        H0 = np.sqrt(input_subarray[3]/input_subarray[2]) * 100\n",
    "        Om = input_subarray[2]\n",
    "        Ok = 0\n",
    "        # Evaluate the function for the input subarray\n",
    "        output_subarray = log_h0dl(zBinsFisher,input_subarray[:2],eigenvectors15, H0, Om, Ok)\n",
    "        \n",
    "        # Save input and output data to HDF5 file\n",
    "        grp = hf.create_group(f'subarray_{i}')\n",
    "        grp.create_dataset('input_cosmo', data=input_subarray)\n",
    "        grp.create_dataset('LogdL', data=output_subarray)\n"
   ]
  }
 ],
 "metadata": {
  "kernelspec": {
   "display_name": "Python (ssi2023)",
   "language": "python",
   "name": "ssi_torchvision"
  },
  "language_info": {
   "codemirror_mode": {
    "name": "ipython",
    "version": 3
   },
   "file_extension": ".py",
   "mimetype": "text/x-python",
   "name": "python",
   "nbconvert_exporter": "python",
   "pygments_lexer": "ipython3",
   "version": "3.11.6"
  }
 },
 "nbformat": 4,
 "nbformat_minor": 5
}
